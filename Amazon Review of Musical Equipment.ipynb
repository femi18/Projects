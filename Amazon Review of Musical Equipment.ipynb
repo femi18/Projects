{
 "cells": [
  {
   "cell_type": "markdown",
   "metadata": {},
   "source": [
    "# Amazon Review of Musical Equipment\n",
    "\n",
    "   As a consumer in this day and age, I do most of my shopping online. This trend of doing my shopping online created a certain level of skepticism when I buy products due to a few bad experiences I have had with my purchases. Due to this fact, product reviews are extremely important me because they determine if I should purchase a product or not. Such product review data can create a huge impact on the sales of a product from a companies point of view. \n",
    "\n",
    "Data;\n",
    "\n",
    "The data was retrieved from http://jmcauley.ucsd.edu/data/amazon/ by accessing the website. The variables from the dataset that would be utilized are the reviews and the sentiment in the review (positive versus negative).\n",
    "\n",
    "Use of Specialization;\n",
    "\n",
    "Techniques intended to be used include use of several plotting techniques to understand the data, use NLP and NLTK (the use of text processing methods such as tokenizations, stop word removal, stemming and vectorizing text via term frequencies (TF) as well as the inverse document frequencies (TF-IDF)). The use of topic modelling would be done with Latent Dirichlet Allocation (LDA) and Sentiment Analysis.\n",
    "For evaluation, Recall and F1 score would be used in addition to  Receiver Operating Characteristic score and Confusion Matrix \n",
    "\n",
    "Product/Business Impact;\n",
    "\n",
    "This project is valuable because it provides actionable insight on customers reactions to a product. It can assist in better marketing of the product and directed improvement to increase customer satisfaction, which in turn may provide a more favorable view of the product and increase sales. In addition, the model created would assist in predicting whether future reviews are positive or negative towards the product.\n",
    "Project goals include;\n",
    "\n",
    "- Properly cleaning the data and using visualization to understand the dataset,  \n",
    "- Applying at least 2 models to determine process with highest accuracy.\n",
    "- Creating a Sentiment analysis and a predictive model.\n",
    "\n",
    "Being able to analyse that data to determine consumers' sentiments of the products, the flaws and even the most enjoyed feature can allow a company to improve on the product, and market it better based on the top feature mentioned.\n",
    "\n",
    "\n",
    "#### The Dataset\n",
    "\n",
    "The data contains the following columns:\n",
    "\n",
    "-asin – ID of the product\n",
    "\n",
    "-helpful – helpfulness rating of the review, e.g. 2/3\n",
    "\n",
    "-overall – rating of the product\n",
    "\n",
    "-reviewText – text of the review\n",
    "\n",
    "-reviewTime – time of the review (raw)\n",
    "\n",
    "-reviewerID – ID of the reviewer\n",
    "\n",
    "-reviewerName – name of the reviewer\n",
    "\n",
    "-summary – summary of the review\n",
    "\n",
    "-unixReviewTime – time of the review (unix time)\n"
   ]
  },
  {
   "cell_type": "code",
   "execution_count": 46,
   "metadata": {},
   "outputs": [
    {
     "data": {
      "text/html": [
       "        <script type=\"text/javascript\">\n",
       "        window.PlotlyConfig = {MathJaxConfig: 'local'};\n",
       "        if (window.MathJax) {MathJax.Hub.Config({SVG: {font: \"STIX-Web\"}});}\n",
       "        if (typeof require !== 'undefined') {\n",
       "        require.undef(\"plotly\");\n",
       "        requirejs.config({\n",
       "            paths: {\n",
       "                'plotly': ['https://cdn.plot.ly/plotly-latest.min']\n",
       "            }\n",
       "        });\n",
       "        require(['plotly'], function(Plotly) {\n",
       "            window._Plotly = Plotly;\n",
       "        });\n",
       "        }\n",
       "        </script>\n",
       "        "
      ]
     },
     "metadata": {},
     "output_type": "display_data"
    }
   ],
   "source": [
    "# Import Packages\n",
    "import numpy as np\n",
    "import pandas as pd\n",
    "import plotly.offline as py\n",
    "py.init_notebook_mode(connected=True)\n",
    "import plotly.graph_objs as go\n",
    "import plotly.tools as tls\n",
    "from sklearn.feature_extraction.text import TfidfVectorizer, CountVectorizer\n",
    "from sklearn.decomposition import NMF, LatentDirichletAllocation\n",
    "from matplotlib import pyplot as plt\n",
    "%matplotlib inline\n",
    "import scipy\n",
    "import seaborn as sns\n",
    "import re\n",
    "\n",
    "import warnings\n",
    "warnings.filterwarnings('ignore')"
   ]
  },
  {
   "cell_type": "markdown",
   "metadata": {},
   "source": [
    "## Exploring the data\n",
    "\n",
    "Lets import the data"
   ]
  },
  {
   "cell_type": "code",
   "execution_count": 47,
   "metadata": {},
   "outputs": [
    {
     "data": {
      "text/html": [
       "<div>\n",
       "<style scoped>\n",
       "    .dataframe tbody tr th:only-of-type {\n",
       "        vertical-align: middle;\n",
       "    }\n",
       "\n",
       "    .dataframe tbody tr th {\n",
       "        vertical-align: top;\n",
       "    }\n",
       "\n",
       "    .dataframe thead th {\n",
       "        text-align: right;\n",
       "    }\n",
       "</style>\n",
       "<table border=\"1\" class=\"dataframe\">\n",
       "  <thead>\n",
       "    <tr style=\"text-align: right;\">\n",
       "      <th></th>\n",
       "      <th>asin</th>\n",
       "      <th>helpful</th>\n",
       "      <th>overall</th>\n",
       "      <th>reviewText</th>\n",
       "      <th>reviewTime</th>\n",
       "      <th>reviewerID</th>\n",
       "      <th>reviewerName</th>\n",
       "      <th>summary</th>\n",
       "      <th>unixReviewTime</th>\n",
       "    </tr>\n",
       "  </thead>\n",
       "  <tbody>\n",
       "    <tr>\n",
       "      <th>0</th>\n",
       "      <td>1384719342</td>\n",
       "      <td>[0, 0]</td>\n",
       "      <td>5</td>\n",
       "      <td>Not much to write about here, but it does exac...</td>\n",
       "      <td>02 28, 2014</td>\n",
       "      <td>A2IBPI20UZIR0U</td>\n",
       "      <td>cassandra tu \"Yeah, well, that's just like, u...</td>\n",
       "      <td>good</td>\n",
       "      <td>1393545600</td>\n",
       "    </tr>\n",
       "    <tr>\n",
       "      <th>1</th>\n",
       "      <td>1384719342</td>\n",
       "      <td>[13, 14]</td>\n",
       "      <td>5</td>\n",
       "      <td>The product does exactly as it should and is q...</td>\n",
       "      <td>03 16, 2013</td>\n",
       "      <td>A14VAT5EAX3D9S</td>\n",
       "      <td>Jake</td>\n",
       "      <td>Jake</td>\n",
       "      <td>1363392000</td>\n",
       "    </tr>\n",
       "    <tr>\n",
       "      <th>2</th>\n",
       "      <td>1384719342</td>\n",
       "      <td>[1, 1]</td>\n",
       "      <td>5</td>\n",
       "      <td>The primary job of this device is to block the...</td>\n",
       "      <td>08 28, 2013</td>\n",
       "      <td>A195EZSQDW3E21</td>\n",
       "      <td>Rick Bennette \"Rick Bennette\"</td>\n",
       "      <td>It Does The Job Well</td>\n",
       "      <td>1377648000</td>\n",
       "    </tr>\n",
       "    <tr>\n",
       "      <th>3</th>\n",
       "      <td>1384719342</td>\n",
       "      <td>[0, 0]</td>\n",
       "      <td>5</td>\n",
       "      <td>Nice windscreen protects my MXL mic and preven...</td>\n",
       "      <td>02 14, 2014</td>\n",
       "      <td>A2C00NNG1ZQQG2</td>\n",
       "      <td>RustyBill \"Sunday Rocker\"</td>\n",
       "      <td>GOOD WINDSCREEN FOR THE MONEY</td>\n",
       "      <td>1392336000</td>\n",
       "    </tr>\n",
       "    <tr>\n",
       "      <th>4</th>\n",
       "      <td>1384719342</td>\n",
       "      <td>[0, 0]</td>\n",
       "      <td>5</td>\n",
       "      <td>This pop filter is great. It looks and perform...</td>\n",
       "      <td>02 21, 2014</td>\n",
       "      <td>A94QU4C90B1AX</td>\n",
       "      <td>SEAN MASLANKA</td>\n",
       "      <td>No more pops when I record my vocals.</td>\n",
       "      <td>1392940800</td>\n",
       "    </tr>\n",
       "  </tbody>\n",
       "</table>\n",
       "</div>"
      ],
      "text/plain": [
       "         asin   helpful  overall  \\\n",
       "0  1384719342    [0, 0]        5   \n",
       "1  1384719342  [13, 14]        5   \n",
       "2  1384719342    [1, 1]        5   \n",
       "3  1384719342    [0, 0]        5   \n",
       "4  1384719342    [0, 0]        5   \n",
       "\n",
       "                                          reviewText   reviewTime  \\\n",
       "0  Not much to write about here, but it does exac...  02 28, 2014   \n",
       "1  The product does exactly as it should and is q...  03 16, 2013   \n",
       "2  The primary job of this device is to block the...  08 28, 2013   \n",
       "3  Nice windscreen protects my MXL mic and preven...  02 14, 2014   \n",
       "4  This pop filter is great. It looks and perform...  02 21, 2014   \n",
       "\n",
       "       reviewerID                                      reviewerName  \\\n",
       "0  A2IBPI20UZIR0U  cassandra tu \"Yeah, well, that's just like, u...   \n",
       "1  A14VAT5EAX3D9S                                              Jake   \n",
       "2  A195EZSQDW3E21                     Rick Bennette \"Rick Bennette\"   \n",
       "3  A2C00NNG1ZQQG2                         RustyBill \"Sunday Rocker\"   \n",
       "4   A94QU4C90B1AX                                     SEAN MASLANKA   \n",
       "\n",
       "                                 summary  unixReviewTime  \n",
       "0                                   good      1393545600  \n",
       "1                                   Jake      1363392000  \n",
       "2                   It Does The Job Well      1377648000  \n",
       "3          GOOD WINDSCREEN FOR THE MONEY      1392336000  \n",
       "4  No more pops when I record my vocals.      1392940800  "
      ]
     },
     "execution_count": 47,
     "metadata": {},
     "output_type": "execute_result"
    }
   ],
   "source": [
    "df = pd.read_json('Musical_Instruments_5.json', lines=True)\n",
    "df.dropna()\n",
    "df.head()"
   ]
  },
  {
   "cell_type": "code",
   "execution_count": 48,
   "metadata": {},
   "outputs": [
    {
     "name": "stdout",
     "output_type": "stream",
     "text": [
      "Index(['asin', 'helpful', 'overall', 'reviewText', 'reviewTime', 'reviewerID',\n",
      "       'reviewerName', 'summary', 'unixReviewTime'],\n",
      "      dtype='object')\n"
     ]
    }
   ],
   "source": [
    "# Start exploring the dataset. Lets take a look at the columns\n",
    "print(df.columns)"
   ]
  },
  {
   "cell_type": "code",
   "execution_count": 49,
   "metadata": {},
   "outputs": [
    {
     "name": "stdout",
     "output_type": "stream",
     "text": [
      "There are 10261 observations and 9 features in this dataset. \n",
      "\n"
     ]
    },
    {
     "data": {
      "text/plain": [
       "asin              object\n",
       "helpful           object\n",
       "overall            int64\n",
       "reviewText        object\n",
       "reviewTime        object\n",
       "reviewerID        object\n",
       "reviewerName      object\n",
       "summary           object\n",
       "unixReviewTime     int64\n",
       "dtype: object"
      ]
     },
     "execution_count": 49,
     "metadata": {},
     "output_type": "execute_result"
    }
   ],
   "source": [
    "print(\"There are {} observations and {} features in this dataset. \\n\".format(df.shape[0],df.shape[1]))\n",
    "# Data types\n",
    "df.dtypes"
   ]
  },
  {
   "cell_type": "code",
   "execution_count": 50,
   "metadata": {},
   "outputs": [
    {
     "name": "stdout",
     "output_type": "stream",
     "text": [
      "<class 'pandas.core.frame.DataFrame'>\n",
      "RangeIndex: 10261 entries, 0 to 10260\n",
      "Data columns (total 9 columns):\n",
      "asin              10261 non-null object\n",
      "helpful           10261 non-null object\n",
      "overall           10261 non-null int64\n",
      "reviewText        10261 non-null object\n",
      "reviewTime        10261 non-null object\n",
      "reviewerID        10261 non-null object\n",
      "reviewerName      10234 non-null object\n",
      "summary           10261 non-null object\n",
      "unixReviewTime    10261 non-null int64\n",
      "dtypes: int64(2), object(7)\n",
      "memory usage: 721.6+ KB\n"
     ]
    }
   ],
   "source": [
    "# Checking for Null columns\n",
    "df.info()"
   ]
  },
  {
   "cell_type": "code",
   "execution_count": 51,
   "metadata": {},
   "outputs": [
    {
     "data": {
      "text/html": [
       "<div>\n",
       "<style scoped>\n",
       "    .dataframe tbody tr th:only-of-type {\n",
       "        vertical-align: middle;\n",
       "    }\n",
       "\n",
       "    .dataframe tbody tr th {\n",
       "        vertical-align: top;\n",
       "    }\n",
       "\n",
       "    .dataframe thead tr th {\n",
       "        text-align: left;\n",
       "    }\n",
       "\n",
       "    .dataframe thead tr:last-of-type th {\n",
       "        text-align: right;\n",
       "    }\n",
       "</style>\n",
       "<table border=\"1\" class=\"dataframe\">\n",
       "  <thead>\n",
       "    <tr>\n",
       "      <th></th>\n",
       "      <th colspan=\"8\" halign=\"left\">unixReviewTime</th>\n",
       "    </tr>\n",
       "    <tr>\n",
       "      <th></th>\n",
       "      <th>count</th>\n",
       "      <th>mean</th>\n",
       "      <th>std</th>\n",
       "      <th>min</th>\n",
       "      <th>25%</th>\n",
       "      <th>50%</th>\n",
       "      <th>75%</th>\n",
       "      <th>max</th>\n",
       "    </tr>\n",
       "    <tr>\n",
       "      <th>overall</th>\n",
       "      <th></th>\n",
       "      <th></th>\n",
       "      <th></th>\n",
       "      <th></th>\n",
       "      <th></th>\n",
       "      <th></th>\n",
       "      <th></th>\n",
       "      <th></th>\n",
       "    </tr>\n",
       "  </thead>\n",
       "  <tbody>\n",
       "    <tr>\n",
       "      <th>1</th>\n",
       "      <td>217.0</td>\n",
       "      <td>1.363610e+09</td>\n",
       "      <td>3.693997e+07</td>\n",
       "      <td>1.141344e+09</td>\n",
       "      <td>1.347926e+09</td>\n",
       "      <td>1.370995e+09</td>\n",
       "      <td>1.390349e+09</td>\n",
       "      <td>1.405210e+09</td>\n",
       "    </tr>\n",
       "    <tr>\n",
       "      <th>2</th>\n",
       "      <td>250.0</td>\n",
       "      <td>1.361242e+09</td>\n",
       "      <td>3.770940e+07</td>\n",
       "      <td>1.190678e+09</td>\n",
       "      <td>1.342116e+09</td>\n",
       "      <td>1.369872e+09</td>\n",
       "      <td>1.389506e+09</td>\n",
       "      <td>1.405210e+09</td>\n",
       "    </tr>\n",
       "    <tr>\n",
       "      <th>3</th>\n",
       "      <td>772.0</td>\n",
       "      <td>1.361718e+09</td>\n",
       "      <td>3.633831e+07</td>\n",
       "      <td>1.161389e+09</td>\n",
       "      <td>1.343282e+09</td>\n",
       "      <td>1.369008e+09</td>\n",
       "      <td>1.389053e+09</td>\n",
       "      <td>1.405901e+09</td>\n",
       "    </tr>\n",
       "    <tr>\n",
       "      <th>4</th>\n",
       "      <td>2084.0</td>\n",
       "      <td>1.359799e+09</td>\n",
       "      <td>3.914760e+07</td>\n",
       "      <td>1.095466e+09</td>\n",
       "      <td>1.342915e+09</td>\n",
       "      <td>1.369138e+09</td>\n",
       "      <td>1.388707e+09</td>\n",
       "      <td>1.405987e+09</td>\n",
       "    </tr>\n",
       "    <tr>\n",
       "      <th>5</th>\n",
       "      <td>6938.0</td>\n",
       "      <td>1.360608e+09</td>\n",
       "      <td>3.757515e+07</td>\n",
       "      <td>1.096416e+09</td>\n",
       "      <td>1.343606e+09</td>\n",
       "      <td>1.367971e+09</td>\n",
       "      <td>1.388945e+09</td>\n",
       "      <td>1.405901e+09</td>\n",
       "    </tr>\n",
       "  </tbody>\n",
       "</table>\n",
       "</div>"
      ],
      "text/plain": [
       "        unixReviewTime                                            \\\n",
       "                 count          mean           std           min   \n",
       "overall                                                            \n",
       "1                217.0  1.363610e+09  3.693997e+07  1.141344e+09   \n",
       "2                250.0  1.361242e+09  3.770940e+07  1.190678e+09   \n",
       "3                772.0  1.361718e+09  3.633831e+07  1.161389e+09   \n",
       "4               2084.0  1.359799e+09  3.914760e+07  1.095466e+09   \n",
       "5               6938.0  1.360608e+09  3.757515e+07  1.096416e+09   \n",
       "\n",
       "                                                                 \n",
       "                  25%           50%           75%           max  \n",
       "overall                                                          \n",
       "1        1.347926e+09  1.370995e+09  1.390349e+09  1.405210e+09  \n",
       "2        1.342116e+09  1.369872e+09  1.389506e+09  1.405210e+09  \n",
       "3        1.343282e+09  1.369008e+09  1.389053e+09  1.405901e+09  \n",
       "4        1.342915e+09  1.369138e+09  1.388707e+09  1.405987e+09  \n",
       "5        1.343606e+09  1.367971e+09  1.388945e+09  1.405901e+09  "
      ]
     },
     "execution_count": 51,
     "metadata": {},
     "output_type": "execute_result"
    }
   ],
   "source": [
    "# Groupby by rating\n",
    "reviewText_ = df.groupby(\"overall\")\n",
    "\n",
    "# Summary statistic of all sentimentS\n",
    "reviewText_.describe()"
   ]
  },
  {
   "cell_type": "code",
   "execution_count": 52,
   "metadata": {},
   "outputs": [
    {
     "data": {
      "image/png": "[encoded data removed]",
      "text/plain": [
       "<Figure size 720x576 with 1 Axes>"
      ]
     },
     "metadata": {
      "needs_background": "light"
     },
     "output_type": "display_data"
    }
   ],
   "source": [
    "# Visualization of the review distribution based on the rating\n",
    "df['overall'].value_counts().sort_values().plot(kind='bar', figsize=(10,8))\n",
    "plt.title('Overall Ratings of Reviews')\n",
    "plt.ylabel('# of Reviews')\n",
    "plt.xlabel('overall rating')\n",
    "plt.show()"
   ]
  },
  {
   "cell_type": "markdown",
   "metadata": {},
   "source": [
    "From the description and visualization of the dataset, its obvious we have far more '5' and '4' point rating than any other rating which can make the dataset quite imbalanced.\n",
    "\n",
    "This indicates the reviews are more positive than negative\n",
    "\n",
    "Lets remove any neutral rating. A rating of 3 would be considered a neutral rating.\n",
    "\n",
    "Ratings of 4 and 5 would be considered a positive rating\n",
    "\n",
    "Ratings of 1 and 2 would be considered a negative rating"
   ]
  },
  {
   "cell_type": "code",
   "execution_count": 53,
   "metadata": {},
   "outputs": [
    {
     "data": {
      "text/html": [
       "<div>\n",
       "<style scoped>\n",
       "    .dataframe tbody tr th:only-of-type {\n",
       "        vertical-align: middle;\n",
       "    }\n",
       "\n",
       "    .dataframe tbody tr th {\n",
       "        vertical-align: top;\n",
       "    }\n",
       "\n",
       "    .dataframe thead th {\n",
       "        text-align: right;\n",
       "    }\n",
       "</style>\n",
       "<table border=\"1\" class=\"dataframe\">\n",
       "  <thead>\n",
       "    <tr style=\"text-align: right;\">\n",
       "      <th></th>\n",
       "      <th>asin</th>\n",
       "      <th>helpful</th>\n",
       "      <th>overall</th>\n",
       "      <th>reviewText</th>\n",
       "      <th>reviewTime</th>\n",
       "      <th>reviewerID</th>\n",
       "      <th>reviewerName</th>\n",
       "      <th>summary</th>\n",
       "      <th>unixReviewTime</th>\n",
       "      <th>rating</th>\n",
       "    </tr>\n",
       "  </thead>\n",
       "  <tbody>\n",
       "    <tr>\n",
       "      <th>0</th>\n",
       "      <td>1384719342</td>\n",
       "      <td>[0, 0]</td>\n",
       "      <td>5</td>\n",
       "      <td>Not much to write about here, but it does exac...</td>\n",
       "      <td>02 28, 2014</td>\n",
       "      <td>A2IBPI20UZIR0U</td>\n",
       "      <td>cassandra tu \"Yeah, well, that's just like, u...</td>\n",
       "      <td>good</td>\n",
       "      <td>1393545600</td>\n",
       "      <td>1</td>\n",
       "    </tr>\n",
       "    <tr>\n",
       "      <th>1</th>\n",
       "      <td>1384719342</td>\n",
       "      <td>[13, 14]</td>\n",
       "      <td>5</td>\n",
       "      <td>The product does exactly as it should and is q...</td>\n",
       "      <td>03 16, 2013</td>\n",
       "      <td>A14VAT5EAX3D9S</td>\n",
       "      <td>Jake</td>\n",
       "      <td>Jake</td>\n",
       "      <td>1363392000</td>\n",
       "      <td>1</td>\n",
       "    </tr>\n",
       "    <tr>\n",
       "      <th>2</th>\n",
       "      <td>1384719342</td>\n",
       "      <td>[1, 1]</td>\n",
       "      <td>5</td>\n",
       "      <td>The primary job of this device is to block the...</td>\n",
       "      <td>08 28, 2013</td>\n",
       "      <td>A195EZSQDW3E21</td>\n",
       "      <td>Rick Bennette \"Rick Bennette\"</td>\n",
       "      <td>It Does The Job Well</td>\n",
       "      <td>1377648000</td>\n",
       "      <td>1</td>\n",
       "    </tr>\n",
       "    <tr>\n",
       "      <th>3</th>\n",
       "      <td>1384719342</td>\n",
       "      <td>[0, 0]</td>\n",
       "      <td>5</td>\n",
       "      <td>Nice windscreen protects my MXL mic and preven...</td>\n",
       "      <td>02 14, 2014</td>\n",
       "      <td>A2C00NNG1ZQQG2</td>\n",
       "      <td>RustyBill \"Sunday Rocker\"</td>\n",
       "      <td>GOOD WINDSCREEN FOR THE MONEY</td>\n",
       "      <td>1392336000</td>\n",
       "      <td>1</td>\n",
       "    </tr>\n",
       "    <tr>\n",
       "      <th>4</th>\n",
       "      <td>1384719342</td>\n",
       "      <td>[0, 0]</td>\n",
       "      <td>5</td>\n",
       "      <td>This pop filter is great. It looks and perform...</td>\n",
       "      <td>02 21, 2014</td>\n",
       "      <td>A94QU4C90B1AX</td>\n",
       "      <td>SEAN MASLANKA</td>\n",
       "      <td>No more pops when I record my vocals.</td>\n",
       "      <td>1392940800</td>\n",
       "      <td>1</td>\n",
       "    </tr>\n",
       "  </tbody>\n",
       "</table>\n",
       "</div>"
      ],
      "text/plain": [
       "         asin   helpful  overall  \\\n",
       "0  1384719342    [0, 0]        5   \n",
       "1  1384719342  [13, 14]        5   \n",
       "2  1384719342    [1, 1]        5   \n",
       "3  1384719342    [0, 0]        5   \n",
       "4  1384719342    [0, 0]        5   \n",
       "\n",
       "                                          reviewText   reviewTime  \\\n",
       "0  Not much to write about here, but it does exac...  02 28, 2014   \n",
       "1  The product does exactly as it should and is q...  03 16, 2013   \n",
       "2  The primary job of this device is to block the...  08 28, 2013   \n",
       "3  Nice windscreen protects my MXL mic and preven...  02 14, 2014   \n",
       "4  This pop filter is great. It looks and perform...  02 21, 2014   \n",
       "\n",
       "       reviewerID                                      reviewerName  \\\n",
       "0  A2IBPI20UZIR0U  cassandra tu \"Yeah, well, that's just like, u...   \n",
       "1  A14VAT5EAX3D9S                                              Jake   \n",
       "2  A195EZSQDW3E21                     Rick Bennette \"Rick Bennette\"   \n",
       "3  A2C00NNG1ZQQG2                         RustyBill \"Sunday Rocker\"   \n",
       "4   A94QU4C90B1AX                                     SEAN MASLANKA   \n",
       "\n",
       "                                 summary  unixReviewTime  rating  \n",
       "0                                   good      1393545600       1  \n",
       "1                                   Jake      1363392000       1  \n",
       "2                   It Does The Job Well      1377648000       1  \n",
       "3          GOOD WINDSCREEN FOR THE MONEY      1392336000       1  \n",
       "4  No more pops when I record my vocals.      1392940800       1  "
      ]
     },
     "execution_count": 53,
     "metadata": {},
     "output_type": "execute_result"
    }
   ],
   "source": [
    "# Drop missing values\n",
    "df.dropna(inplace=True)\n",
    "\n",
    "# Remove any 'neutral' ratings equal to 3\n",
    "df = df[df['overall'] != 3]\n",
    "\n",
    "# Encode 4s and 5s as 1 (rated positively)\n",
    "# Encode 1s and 2s as 0 (rated negatively)\n",
    "df['rating'] = np.where(df['overall'] > 3, 1, 0)\n",
    "df.head()"
   ]
  },
  {
   "cell_type": "code",
   "execution_count": 54,
   "metadata": {},
   "outputs": [
    {
     "name": "stdout",
     "output_type": "stream",
     "text": [
      "Negative Rating: 465\n",
      "Positive Rating: 8998\n",
      "Proportion: 0.05 : 1\n"
     ]
    },
    {
     "data": {
      "image/png": "[encoded data removed]",
      "text/plain": [
       "<Figure size 432x288 with 1 Axes>"
      ]
     },
     "metadata": {
      "needs_background": "light"
     },
     "output_type": "display_data"
    }
   ],
   "source": [
    "# Visualization of the positive versus negative reviews\n",
    "\n",
    "rating_count = df.rating.value_counts()\n",
    "print('Negative Rating:', rating_count[0])\n",
    "print('Positive Rating:', rating_count[1])\n",
    "print('Proportion:', round(rating_count[0] / rating_count[1], 2), ': 1')\n",
    "\n",
    "rating_count.plot(kind='bar', title='Count (rating)');"
   ]
  },
  {
   "cell_type": "markdown",
   "metadata": {},
   "source": [
    "We now have 8998 reviews that are positive and 465 reviews that are negative"
   ]
  },
  {
   "cell_type": "markdown",
   "metadata": {},
   "source": [
    "### Histogram of text length of Reviews\n",
    "\n",
    "Finding correlation between the length of the positive and negative reviews"
   ]
  },
  {
   "cell_type": "code",
   "execution_count": 55,
   "metadata": {},
   "outputs": [
    {
     "data": {
      "text/html": [
       "<div>\n",
       "<style scoped>\n",
       "    .dataframe tbody tr th:only-of-type {\n",
       "        vertical-align: middle;\n",
       "    }\n",
       "\n",
       "    .dataframe tbody tr th {\n",
       "        vertical-align: top;\n",
       "    }\n",
       "\n",
       "    .dataframe thead th {\n",
       "        text-align: right;\n",
       "    }\n",
       "</style>\n",
       "<table border=\"1\" class=\"dataframe\">\n",
       "  <thead>\n",
       "    <tr style=\"text-align: right;\">\n",
       "      <th></th>\n",
       "      <th>asin</th>\n",
       "      <th>helpful</th>\n",
       "      <th>overall</th>\n",
       "      <th>reviewText</th>\n",
       "      <th>reviewTime</th>\n",
       "      <th>reviewerID</th>\n",
       "      <th>reviewerName</th>\n",
       "      <th>summary</th>\n",
       "      <th>unixReviewTime</th>\n",
       "      <th>rating</th>\n",
       "      <th>length</th>\n",
       "    </tr>\n",
       "  </thead>\n",
       "  <tbody>\n",
       "    <tr>\n",
       "      <th>0</th>\n",
       "      <td>1384719342</td>\n",
       "      <td>[0, 0]</td>\n",
       "      <td>5</td>\n",
       "      <td>Not much to write about here, but it does exac...</td>\n",
       "      <td>02 28, 2014</td>\n",
       "      <td>A2IBPI20UZIR0U</td>\n",
       "      <td>cassandra tu \"Yeah, well, that's just like, u...</td>\n",
       "      <td>good</td>\n",
       "      <td>1393545600</td>\n",
       "      <td>1</td>\n",
       "      <td>268</td>\n",
       "    </tr>\n",
       "    <tr>\n",
       "      <th>1</th>\n",
       "      <td>1384719342</td>\n",
       "      <td>[13, 14]</td>\n",
       "      <td>5</td>\n",
       "      <td>The product does exactly as it should and is q...</td>\n",
       "      <td>03 16, 2013</td>\n",
       "      <td>A14VAT5EAX3D9S</td>\n",
       "      <td>Jake</td>\n",
       "      <td>Jake</td>\n",
       "      <td>1363392000</td>\n",
       "      <td>1</td>\n",
       "      <td>544</td>\n",
       "    </tr>\n",
       "    <tr>\n",
       "      <th>2</th>\n",
       "      <td>1384719342</td>\n",
       "      <td>[1, 1]</td>\n",
       "      <td>5</td>\n",
       "      <td>The primary job of this device is to block the...</td>\n",
       "      <td>08 28, 2013</td>\n",
       "      <td>A195EZSQDW3E21</td>\n",
       "      <td>Rick Bennette \"Rick Bennette\"</td>\n",
       "      <td>It Does The Job Well</td>\n",
       "      <td>1377648000</td>\n",
       "      <td>1</td>\n",
       "      <td>436</td>\n",
       "    </tr>\n",
       "    <tr>\n",
       "      <th>3</th>\n",
       "      <td>1384719342</td>\n",
       "      <td>[0, 0]</td>\n",
       "      <td>5</td>\n",
       "      <td>Nice windscreen protects my MXL mic and preven...</td>\n",
       "      <td>02 14, 2014</td>\n",
       "      <td>A2C00NNG1ZQQG2</td>\n",
       "      <td>RustyBill \"Sunday Rocker\"</td>\n",
       "      <td>GOOD WINDSCREEN FOR THE MONEY</td>\n",
       "      <td>1392336000</td>\n",
       "      <td>1</td>\n",
       "      <td>206</td>\n",
       "    </tr>\n",
       "    <tr>\n",
       "      <th>4</th>\n",
       "      <td>1384719342</td>\n",
       "      <td>[0, 0]</td>\n",
       "      <td>5</td>\n",
       "      <td>This pop filter is great. It looks and perform...</td>\n",
       "      <td>02 21, 2014</td>\n",
       "      <td>A94QU4C90B1AX</td>\n",
       "      <td>SEAN MASLANKA</td>\n",
       "      <td>No more pops when I record my vocals.</td>\n",
       "      <td>1392940800</td>\n",
       "      <td>1</td>\n",
       "      <td>159</td>\n",
       "    </tr>\n",
       "  </tbody>\n",
       "</table>\n",
       "</div>"
      ],
      "text/plain": [
       "         asin   helpful  overall  \\\n",
       "0  1384719342    [0, 0]        5   \n",
       "1  1384719342  [13, 14]        5   \n",
       "2  1384719342    [1, 1]        5   \n",
       "3  1384719342    [0, 0]        5   \n",
       "4  1384719342    [0, 0]        5   \n",
       "\n",
       "                                          reviewText   reviewTime  \\\n",
       "0  Not much to write about here, but it does exac...  02 28, 2014   \n",
       "1  The product does exactly as it should and is q...  03 16, 2013   \n",
       "2  The primary job of this device is to block the...  08 28, 2013   \n",
       "3  Nice windscreen protects my MXL mic and preven...  02 14, 2014   \n",
       "4  This pop filter is great. It looks and perform...  02 21, 2014   \n",
       "\n",
       "       reviewerID                                      reviewerName  \\\n",
       "0  A2IBPI20UZIR0U  cassandra tu \"Yeah, well, that's just like, u...   \n",
       "1  A14VAT5EAX3D9S                                              Jake   \n",
       "2  A195EZSQDW3E21                     Rick Bennette \"Rick Bennette\"   \n",
       "3  A2C00NNG1ZQQG2                         RustyBill \"Sunday Rocker\"   \n",
       "4   A94QU4C90B1AX                                     SEAN MASLANKA   \n",
       "\n",
       "                                 summary  unixReviewTime  rating  length  \n",
       "0                                   good      1393545600       1     268  \n",
       "1                                   Jake      1363392000       1     544  \n",
       "2                   It Does The Job Well      1377648000       1     436  \n",
       "3          GOOD WINDSCREEN FOR THE MONEY      1392336000       1     206  \n",
       "4  No more pops when I record my vocals.      1392940800       1     159  "
      ]
     },
     "execution_count": 55,
     "metadata": {},
     "output_type": "execute_result"
    }
   ],
   "source": [
    "def length(text):    \n",
    "    '''a function which returns the length of text'''\n",
    "    return len(text)\n",
    "\n",
    "# Apply the function to each review\n",
    "\n",
    "df['length'] = df['reviewText'].apply(length)\n",
    "df.head()"
   ]
  },
  {
   "cell_type": "code",
   "execution_count": 56,
   "metadata": {},
   "outputs": [],
   "source": [
    "# Lets create a dataset for the positive and negative reviews\n",
    "\n",
    "positive_review = df[df['rating'] == 1]\n",
    "negative_review = df[df['rating'] == 0]\n"
   ]
  },
  {
   "cell_type": "code",
   "execution_count": 57,
   "metadata": {},
   "outputs": [
    {
     "name": "stdout",
     "output_type": "stream",
     "text": [
      "Average length of the Postive reviews: 473.7883974216493\n",
      "Average length of the Negative reviews: 577.7763440860215\n"
     ]
    }
   ],
   "source": [
    "# Lets calculate the average length of the reviews\n",
    "\n",
    "positive_review_mean = np.mean(positive_review['length'])\n",
    "negative_review_mean = np.mean(negative_review['length'])\n",
    "print('Average length of the Postive reviews:', positive_review_mean)\n",
    "print('Average length of the Negative reviews:', negative_review_mean)"
   ]
  },
  {
   "cell_type": "markdown",
   "metadata": {},
   "source": [
    "As you can see the average length of a negative review is longer than a positive review.\n"
   ]
  },
  {
   "cell_type": "code",
   "execution_count": 58,
   "metadata": {},
   "outputs": [
    {
     "data": {
      "image/png": "[encoded data removed]",
      "text/plain": [
       "<Figure size 864x432 with 1 Axes>"
      ]
     },
     "metadata": {
      "needs_background": "light"
     },
     "output_type": "display_data"
    }
   ],
   "source": [
    "# Lets look at the distribution of the lengths of the positive versus negative reviews\n",
    "\n",
    "import matplotlib\n",
    "from matplotlib import pyplot as plt\n",
    "%matplotlib inline\n",
    "\n",
    "matplotlib.rcParams['figure.figsize'] = (12.0, 6.0)\n",
    "bins = 500\n",
    "plt.hist(positive_review['length'], alpha = 0.6, bins=bins, label='Positive')\n",
    "plt.hist(negative_review['length'], alpha = 0.8, bins=bins, label='Negative')\n",
    "plt.xlabel('length')\n",
    "plt.ylabel('# of reviews')\n",
    "plt.title('Length of Positive and Negative Reviews')\n",
    "plt.legend(loc='upper right')\n",
    "plt.xlim(0,300)\n",
    "plt.grid()\n",
    "plt.show()"
   ]
  },
  {
   "cell_type": "markdown",
   "metadata": {},
   "source": [
    "The negative review lengths were consistently increasing while the positive reviews peaked at about 125 words per review. The more words the review had the fewer the reviews."
   ]
  },
  {
   "cell_type": "markdown",
   "metadata": {},
   "source": [
    "# Topic modeling\n",
    "\n",
    "Topic Modeling is a process to automatically identify topics present in a text object and to derive hidden patterns exhibited by a text corpus. Topic Models are very useful for multiple purposes, including:\n",
    "\n",
    "Document clustering\n",
    "\n",
    "Organizing large blocks of textual data\n",
    "\n",
    "Information retrieval from unstructured text\n",
    "\n",
    "Feature selection\n",
    "\n",
    "The goal here is to extract a certain number of groups of important words from the reviews. These groups of words are basically the topics which would help in ascertaining what the consumers are actually talking about in the reviews.\n",
    "\n",
    "### Data Preprocessing\n",
    "\n",
    "Data preprocessing and cleaning is an important step before any text mining task, in this step, we will remove the punctuations, stopwords and normalize the reviews as much as possible. After every preprocessing step, it is a good practice to check the most frequent words in the data. Therefore, let’s define a function that would plot a bar graph of n most frequent words in the data."
   ]
  },
  {
   "cell_type": "code",
   "execution_count": 59,
   "metadata": {},
   "outputs": [],
   "source": [
    "import nltk\n",
    "from nltk import FreqDist\n",
    "\n",
    "import gensim\n",
    "from gensim import corpora\n",
    "\n",
    "import pyLDAvis\n",
    "import pyLDAvis.gensim"
   ]
  },
  {
   "cell_type": "code",
   "execution_count": 60,
   "metadata": {},
   "outputs": [],
   "source": [
    "# Lets create a function to plot most frequent terms\n",
    "def freq_words(x, terms = 30):\n",
    "  all_words = ' '.join([text for text in x])\n",
    "  all_words = all_words.split()\n",
    "\n",
    "  fdist = FreqDist(all_words)\n",
    "  words_df = pd.DataFrame({'word':list(fdist.keys()), 'count':list(fdist.values())})\n",
    "\n",
    "  # selecting top 20 most frequent words\n",
    "  d = words_df.nlargest(columns=\"count\", n = terms) \n",
    "  plt.figure(figsize=(20,5))\n",
    "  ax = sns.barplot(data=d, x= \"word\", y = \"count\")\n",
    "  ax.set(ylabel = 'Count')\n",
    "  plt.show()"
   ]
  },
  {
   "cell_type": "code",
   "execution_count": 61,
   "metadata": {},
   "outputs": [
    {
     "data": {
      "image/png": "[encoded data removed]",
      "text/plain": [
       "<Figure size 1440x360 with 1 Axes>"
      ]
     },
     "metadata": {
      "needs_background": "light"
     },
     "output_type": "display_data"
    }
   ],
   "source": [
    "freq_words(df['reviewText'])"
   ]
  },
  {
   "cell_type": "markdown",
   "metadata": {},
   "source": [
    "Most common words are ‘the’, ‘a’, ‘and’, so on and so forth. These words are not so important for our task and they do not tell any story. We’ have to get rid of these kinds of words. Before that let’s remove the punctuations and numbers from our text data."
   ]
  },
  {
   "cell_type": "code",
   "execution_count": 62,
   "metadata": {},
   "outputs": [],
   "source": [
    "# Lets remove unwanted characters, numbers and symbols\n",
    "df['reviewText'] = df['reviewText'].str.replace(\"[^a-zA-Z#]\", \" \")"
   ]
  },
  {
   "cell_type": "markdown",
   "metadata": {},
   "source": [
    "#### Remove Stopwords"
   ]
  },
  {
   "cell_type": "code",
   "execution_count": 63,
   "metadata": {},
   "outputs": [],
   "source": [
    "# Let’s try to remove the stopwords and short words (<2 letters) from the reviews.\n",
    "\n",
    "from nltk.corpus import stopwords\n",
    "stop_words = stopwords.words('english')\n",
    "\n",
    "# function to remove stopwords\n",
    "def remove_stopwords(rev):\n",
    "    rev_new = \" \".join([i for i in rev if i not in stop_words])\n",
    "    return rev_new\n",
    "\n",
    "# remove short words (length < 3)\n",
    "df['reviewText'] = df['reviewText'].apply(lambda x: ' '.join([w for w in x.split() if len(w)>2]))\n",
    "\n",
    "# remove stopwords from the text\n",
    "reviews = [remove_stopwords(r.split()) for r in df['reviewText']]\n",
    "\n",
    "# make entire text lowercase\n",
    "reviews = [r.lower() for r in reviews]"
   ]
  },
  {
   "cell_type": "code",
   "execution_count": 64,
   "metadata": {},
   "outputs": [
    {
     "data": {
      "image/png": "[encoded data removed]",
      "text/plain": [
       "<Figure size 1440x360 with 1 Axes>"
      ]
     },
     "metadata": {
      "needs_background": "light"
     },
     "output_type": "display_data"
    }
   ],
   "source": [
    "# Let’s again plot the most frequent words and see if the more significant words have come out.\n",
    "freq_words(reviews, 35)"
   ]
  },
  {
   "cell_type": "markdown",
   "metadata": {},
   "source": [
    "We can see some improvement here. Terms like ‘guitar’, ‘the’, ‘one’, ‘great’ have come up which are quite relevant for the Musical equipment category. However, we still have neutral terms like ‘the’, ‘use’, ‘get’, ‘also’ which are not that relevant.\n",
    "\n",
    "####  Lemmatization\n",
    "\n",
    "To further remove noise from the text we can use lemmatization from the spaCy library. It reduces any given word to its base form thereby reducing multiple forms of a word to a single word."
   ]
  },
  {
   "cell_type": "code",
   "execution_count": 65,
   "metadata": {},
   "outputs": [
    {
     "name": "stderr",
     "output_type": "stream",
     "text": [
      "C:\\Users\\femis\\Anaconda3\\lib\\site-packages\\thinc\\neural\\train.py:7: DeprecationWarning:\n",
      "\n",
      "Using or importing the ABCs from 'collections' instead of from 'collections.abc' is deprecated, and in 3.8 it will stop working\n",
      "\n",
      "C:\\Users\\femis\\Anaconda3\\lib\\site-packages\\thinc\\check.py:4: DeprecationWarning:\n",
      "\n",
      "Using or importing the ABCs from 'collections' instead of from 'collections.abc' is deprecated, and in 3.8 it will stop working\n",
      "\n"
     ]
    }
   ],
   "source": [
    "import spacy\n",
    "nlp = spacy.load('en', disable=['parser', 'ner'])\n",
    "\n",
    "def lemmatization(texts, tags=['NOUN', 'ADJ']): # filter noun and adjective\n",
    "       output = []\n",
    "       for sent in texts:\n",
    "             doc = nlp(\" \".join(sent)) \n",
    "             output.append([token.lemma_ for token in doc if token.pos_ in tags])\n",
    "       return output"
   ]
  },
  {
   "cell_type": "markdown",
   "metadata": {},
   "source": [
    "#### Tokenize\n",
    "\n",
    "Let’s tokenize the reviews and then lemmatize the tokenized reviews"
   ]
  },
  {
   "cell_type": "code",
   "execution_count": 66,
   "metadata": {},
   "outputs": [
    {
     "name": "stdout",
     "output_type": "stream",
     "text": [
      "['the', 'product', 'exactly', 'quite', 'affordable', 'realized', 'double', 'screened', 'arrived', 'even', 'better', 'expected', 'added', 'bonus', 'one', 'screens', 'carries', 'small', 'hint', 'smell', 'old', 'grape', 'candy', 'used', 'buy', 'reminiscent', 'sake', 'cannot', 'stop', 'putting', 'pop', 'filter', 'next', 'nose', 'smelling', 'recording', 'dif', 'needed', 'pop', 'filter', 'work', 'well', 'expensive', 'ones', 'may', 'even', 'come', 'pleasing', 'aroma', 'like', 'mine', 'buy', 'product']\n"
     ]
    }
   ],
   "source": [
    "tokenized_reviews = pd.Series(reviews).apply(lambda x: x.split())\n",
    "print(tokenized_reviews[1])"
   ]
  },
  {
   "cell_type": "code",
   "execution_count": 67,
   "metadata": {},
   "outputs": [
    {
     "name": "stdout",
     "output_type": "stream",
     "text": [
      "['product', 'affordable', 'double', 'screened', 'bonus', 'screen', 'small', 'hint', 'smell', 'old', 'grape', 'candy', 'reminiscent', 'sake', 'pop', 'filter', 'next', 'nose', 'recording', 'dif', 'pop', 'filter', 'work', 'expensive', 'one', 'aroma', 'product']\n"
     ]
    }
   ],
   "source": [
    "reviews_2 = lemmatization(tokenized_reviews)\n",
    "print(reviews_2[1]) # print lemmatized review"
   ]
  },
  {
   "cell_type": "markdown",
   "metadata": {},
   "source": [
    "As you can see, we have not just lemmatized the words but also filtered only nouns and adjectives. Let’s de-tokenize the lemmatized reviews and plot the most common words."
   ]
  },
  {
   "cell_type": "code",
   "execution_count": 68,
   "metadata": {},
   "outputs": [
    {
     "data": {
      "image/png": "[encoded data removed]",
      "text/plain": [
       "<Figure size 1440x360 with 1 Axes>"
      ]
     },
     "metadata": {
      "needs_background": "light"
     },
     "output_type": "display_data"
    }
   ],
   "source": [
    "reviews_3 = []\n",
    "for i in range(len(reviews_2)):\n",
    "    reviews_3.append(' '.join(reviews_2[i]))\n",
    "\n",
    "df['reviews'] = reviews_3\n",
    "\n",
    "freq_words(df['reviews'], 35)"
   ]
  },
  {
   "cell_type": "markdown",
   "metadata": {},
   "source": [
    "It seems that now most frequent terms in our data are relevant. We can now go ahead and start building our topic model.\n",
    "\n",
    "But first lets also represent the most frequent terms in a WordCloud.\n",
    "\n",
    "#### WordCloud"
   ]
  },
  {
   "cell_type": "code",
   "execution_count": 69,
   "metadata": {},
   "outputs": [
    {
     "data": {
      "text/plain": [
       "(-0.5, 399.5, 199.5, -0.5)"
      ]
     },
     "execution_count": 69,
     "metadata": {},
     "output_type": "execute_result"
    },
    {
     "data": {
      "image/png": "[encoded data removed]",
      "text/plain": [
       "<Figure size 720x504 with 1 Axes>"
      ]
     },
     "metadata": {
      "needs_background": "light"
     },
     "output_type": "display_data"
    }
   ],
   "source": [
    "# to create our wordclouds, I will import the python module \"wordcloud\"\n",
    "\n",
    "from wordcloud import WordCloud\n",
    "\n",
    "# The wordcloud of Reviews in the dataset\n",
    "plt.figure(figsize=(10,7))\n",
    "wordcloud = WordCloud(background_color=\"black\", max_words=10000, \n",
    "               max_font_size= 100)\n",
    "wordcloud.generate(\" \".join(df.reviews))\n",
    "plt.title(\"Keywords in Review\", fontsize=20)\n",
    "plt.imshow(wordcloud.recolor(random_state=17), alpha=0.98, interpolation='bilinear')\n",
    "plt.axis('off')"
   ]
  },
  {
   "cell_type": "markdown",
   "metadata": {},
   "source": [
    "## LDA Model\n",
    "\n",
    "Lets start by creating the term dictionary of our corpus, where every unique term is assigned an index"
   ]
  },
  {
   "cell_type": "code",
   "execution_count": 70,
   "metadata": {},
   "outputs": [],
   "source": [
    "dictionary = corpora.Dictionary(reviews_2)\n",
    "\n",
    "# convert the list of reviews (reviews_2) into a Document Term Matrix using the dictionary prepared above.\n",
    "doc_term_matrix = [dictionary.doc2bow(rev) for rev in reviews_2]"
   ]
  },
  {
   "cell_type": "code",
   "execution_count": 71,
   "metadata": {},
   "outputs": [],
   "source": [
    "# Creating the object for LDA model using gensim library\n",
    "LDA = gensim.models.ldamodel.LdaModel\n",
    "\n",
    "# Build LDA model with 7 topics\n",
    "lda_model = LDA(corpus=doc_term_matrix, id2word=dictionary, num_topics=7, random_state=100)\n",
    "         "
   ]
  },
  {
   "cell_type": "code",
   "execution_count": 72,
   "metadata": {},
   "outputs": [
    {
     "data": {
      "text/plain": [
       "[(0,\n",
       "  '0.053*\"pedal\" + 0.030*\"amp\" + 0.018*\"tone\" + 0.017*\"sound\" + 0.012*\"great\" + 0.011*\"good\" + 0.011*\"effect\" + 0.009*\"tube\" + 0.008*\"power\" + 0.008*\"distortion\"'),\n",
       " (1,\n",
       "  '0.029*\"pick\" + 0.022*\"string\" + 0.022*\"guitar\" + 0.013*\"good\" + 0.013*\"great\" + 0.013*\"capo\" + 0.010*\"little\" + 0.010*\"light\" + 0.009*\"time\" + 0.008*\"nice\"'),\n",
       " (2,\n",
       "  '0.022*\"good\" + 0.021*\"cable\" + 0.018*\"mic\" + 0.018*\"great\" + 0.016*\"quality\" + 0.015*\"sound\" + 0.014*\"price\" + 0.012*\"microphone\" + 0.010*\"guitar\" + 0.009*\"usb\"'),\n",
       " (3,\n",
       "  '0.010*\"little\" + 0.010*\"small\" + 0.009*\"good\" + 0.008*\"great\" + 0.008*\"work\" + 0.008*\"use\" + 0.007*\"mic\" + 0.007*\"unit\" + 0.006*\"time\" + 0.006*\"software\"'),\n",
       " (4,\n",
       "  '0.051*\"tuner\" + 0.037*\"guitar\" + 0.021*\"great\" + 0.019*\"tune\" + 0.016*\"easy\" + 0.015*\"use\" + 0.014*\"snark\" + 0.010*\"good\" + 0.009*\"stand\" + 0.008*\"instrument\"'),\n",
       " (5,\n",
       "  '0.051*\"strap\" + 0.033*\"guitar\" + 0.017*\"display\" + 0.014*\"button\" + 0.012*\"good\" + 0.011*\"lock\" + 0.010*\"great\" + 0.009*\"screw\" + 0.009*\"neck\" + 0.009*\"nice\"'),\n",
       " (6,\n",
       "  '0.052*\"string\" + 0.036*\"guitar\" + 0.025*\"good\" + 0.016*\"case\" + 0.014*\"time\" + 0.013*\"great\" + 0.011*\"sound\" + 0.009*\"price\" + 0.009*\"acoustic\" + 0.008*\"product\"')]"
      ]
     },
     "execution_count": 72,
     "metadata": {},
     "output_type": "execute_result"
    }
   ],
   "source": [
    "# Let’s print out the topics that our LDA model has learned.\n",
    "\n",
    "lda_model.print_topics()"
   ]
  },
  {
   "cell_type": "markdown",
   "metadata": {},
   "source": [
    "Based on topics 1 and 6 terms like guitar, strap and tuner inidcate the music instrument that is being reviewed is a guitar. Topics 3 and 5 seems to refer to the overall quality which terms like good and great.\n",
    "\n",
    "## Visualization\n",
    "\n",
    "To visualize our topics in a 2-dimensional space we will use the pyLDAvis library. This visualization is interactive in nature and displays topics along with the most relevant words."
   ]
  },
  {
   "cell_type": "code",
   "execution_count": 73,
   "metadata": {},
   "outputs": [
    {
     "data": {
      "text/html": [
       "\n",
       "<link rel=\"stylesheet\" type=\"text/css\" href=\"https://cdn.rawgit.com/bmabey/pyLDAvis/files/ldavis.v1.0.0.css\">\n",
       "\n",
       "\n",
       "<div id=\"ldavis_el1918022792319182729256764801\"></div>\n",
       "<script type=\"text/javascript\">\n",
       "\n",
       "var ldavis_el1918022792319182729256764801_data = {\"mdsDat\": {\"x\": [-0.16723176890285749, 0.0769309012298278, -0.0970751507445173, 0.07122441621517421, 0.04209304856475526, 0.1272923621579553, -0.05323380852033782], \"y\": [0.06457960290046383, 0.089524762851119, -0.046291098896216944, 0.07590949947607765, -0.013865464593658903, -0.08002327860266079, -0.08983402313512398], \"topics\": [1, 2, 3, 4, 5, 6, 7], \"cluster\": [1, 1, 1, 1, 1, 1, 1], \"Freq\": [23.097877502441406, 17.73775863647461, 15.984292030334473, 15.406082153320312, 11.8383150100708, 8.069998741149902, 7.865678310394287]}, \"tinfo\": {\"Category\": [\"Default\", \"Default\", \"Default\", \"Default\", \"Default\", \"Default\", \"Default\", \"Default\", \"Default\", \"Default\", \"Default\", \"Default\", \"Default\", \"Default\", \"Default\", \"Default\", \"Default\", \"Default\", \"Default\", \"Default\", \"Default\", \"Default\", \"Default\", \"Default\", \"Default\", \"Default\", \"Default\", \"Default\", \"Default\", \"Default\", \"Topic1\", \"Topic1\", \"Topic1\", \"Topic1\", \"Topic1\", \"Topic1\", \"Topic1\", \"Topic1\", \"Topic1\", \"Topic1\", \"Topic1\", \"Topic1\", \"Topic1\", \"Topic1\", \"Topic1\", \"Topic1\", \"Topic1\", \"Topic1\", \"Topic1\", \"Topic1\", \"Topic1\", \"Topic1\", \"Topic1\", \"Topic1\", \"Topic1\", \"Topic1\", \"Topic1\", \"Topic1\", \"Topic1\", \"Topic1\", \"Topic1\", \"Topic1\", \"Topic1\", \"Topic1\", \"Topic1\", \"Topic1\", \"Topic1\", \"Topic1\", \"Topic1\", \"Topic1\", \"Topic1\", \"Topic1\", \"Topic1\", \"Topic1\", \"Topic1\", \"Topic1\", \"Topic1\", \"Topic1\", \"Topic1\", \"Topic1\", \"Topic1\", \"Topic1\", \"Topic1\", \"Topic1\", \"Topic1\", \"Topic1\", \"Topic1\", \"Topic1\", \"Topic1\", \"Topic1\", \"Topic1\", \"Topic1\", \"Topic1\", \"Topic1\", \"Topic1\", \"Topic1\", \"Topic1\", \"Topic1\", \"Topic1\", \"Topic1\", \"Topic1\", \"Topic1\", \"Topic2\", \"Topic2\", \"Topic2\", \"Topic2\", \"Topic2\", \"Topic2\", \"Topic2\", \"Topic2\", \"Topic2\", \"Topic2\", \"Topic2\", \"Topic2\", \"Topic2\", \"Topic2\", \"Topic2\", \"Topic2\", \"Topic2\", \"Topic2\", \"Topic2\", \"Topic2\", \"Topic2\", \"Topic2\", \"Topic2\", \"Topic2\", \"Topic2\", \"Topic2\", \"Topic2\", \"Topic2\", \"Topic2\", \"Topic2\", \"Topic2\", \"Topic2\", \"Topic2\", \"Topic2\", \"Topic2\", \"Topic2\", \"Topic2\", \"Topic2\", \"Topic2\", \"Topic2\", \"Topic2\", \"Topic2\", \"Topic2\", \"Topic2\", \"Topic2\", \"Topic2\", \"Topic2\", \"Topic2\", \"Topic2\", \"Topic2\", \"Topic2\", \"Topic2\", \"Topic2\", \"Topic2\", \"Topic2\", \"Topic2\", \"Topic2\", \"Topic2\", \"Topic2\", \"Topic2\", \"Topic2\", \"Topic2\", \"Topic2\", \"Topic2\", \"Topic2\", \"Topic2\", \"Topic2\", \"Topic2\", \"Topic2\", \"Topic2\", \"Topic2\", \"Topic2\", \"Topic2\", \"Topic2\", \"Topic2\", \"Topic2\", \"Topic2\", \"Topic2\", \"Topic2\", \"Topic2\", \"Topic2\", \"Topic2\", \"Topic2\", \"Topic2\", \"Topic2\", \"Topic3\", \"Topic3\", \"Topic3\", \"Topic3\", \"Topic3\", \"Topic3\", \"Topic3\", \"Topic3\", \"Topic3\", \"Topic3\", \"Topic3\", \"Topic3\", \"Topic3\", \"Topic3\", \"Topic3\", \"Topic3\", \"Topic3\", \"Topic3\", \"Topic3\", \"Topic3\", \"Topic3\", \"Topic3\", \"Topic3\", \"Topic3\", \"Topic3\", \"Topic3\", \"Topic3\", \"Topic3\", \"Topic3\", \"Topic3\", \"Topic3\", \"Topic3\", \"Topic3\", \"Topic3\", \"Topic3\", \"Topic3\", \"Topic3\", \"Topic3\", \"Topic3\", \"Topic3\", \"Topic3\", \"Topic3\", \"Topic3\", \"Topic3\", \"Topic3\", \"Topic3\", \"Topic3\", \"Topic3\", \"Topic3\", \"Topic3\", \"Topic3\", \"Topic3\", \"Topic3\", \"Topic3\", \"Topic3\", \"Topic3\", \"Topic3\", \"Topic3\", \"Topic3\", \"Topic3\", \"Topic3\", \"Topic3\", \"Topic3\", \"Topic3\", \"Topic3\", \"Topic3\", \"Topic3\", \"Topic3\", \"Topic3\", \"Topic3\", \"Topic3\", \"Topic3\", \"Topic3\", \"Topic3\", \"Topic3\", \"Topic3\", \"Topic4\", \"Topic4\", \"Topic4\", \"Topic4\", \"Topic4\", \"Topic4\", \"Topic4\", \"Topic4\", \"Topic4\", \"Topic4\", \"Topic4\", \"Topic4\", \"Topic4\", \"Topic4\", \"Topic4\", \"Topic4\", \"Topic4\", \"Topic4\", \"Topic4\", \"Topic4\", \"Topic4\", \"Topic4\", \"Topic4\", \"Topic4\", \"Topic4\", \"Topic4\", \"Topic4\", \"Topic4\", \"Topic4\", \"Topic4\", \"Topic4\", \"Topic4\", \"Topic4\", \"Topic4\", \"Topic4\", \"Topic4\", \"Topic4\", \"Topic4\", \"Topic4\", \"Topic4\", \"Topic4\", \"Topic4\", \"Topic4\", \"Topic4\", \"Topic4\", \"Topic4\", \"Topic4\", \"Topic4\", \"Topic4\", \"Topic4\", \"Topic4\", \"Topic4\", \"Topic4\", \"Topic4\", \"Topic4\", \"Topic4\", \"Topic4\", \"Topic4\", \"Topic4\", \"Topic4\", \"Topic4\", \"Topic4\", \"Topic4\", \"Topic4\", \"Topic4\", \"Topic4\", \"Topic4\", \"Topic4\", \"Topic4\", \"Topic4\", \"Topic4\", \"Topic4\", \"Topic4\", \"Topic4\", \"Topic4\", \"Topic4\", \"Topic4\", \"Topic4\", \"Topic4\", \"Topic4\", \"Topic4\", \"Topic4\", \"Topic4\", \"Topic4\", \"Topic4\", \"Topic4\", \"Topic5\", \"Topic5\", \"Topic5\", \"Topic5\", \"Topic5\", \"Topic5\", \"Topic5\", \"Topic5\", \"Topic5\", \"Topic5\", \"Topic5\", \"Topic5\", \"Topic5\", \"Topic5\", \"Topic5\", \"Topic5\", \"Topic5\", \"Topic5\", \"Topic5\", \"Topic5\", \"Topic5\", \"Topic5\", \"Topic5\", \"Topic5\", \"Topic5\", \"Topic5\", \"Topic5\", \"Topic5\", \"Topic5\", \"Topic5\", \"Topic5\", \"Topic5\", \"Topic5\", \"Topic5\", \"Topic5\", \"Topic5\", \"Topic5\", \"Topic5\", \"Topic5\", \"Topic5\", \"Topic5\", \"Topic5\", \"Topic5\", \"Topic5\", \"Topic5\", \"Topic5\", \"Topic5\", \"Topic5\", \"Topic5\", \"Topic5\", \"Topic5\", \"Topic5\", \"Topic5\", \"Topic5\", \"Topic5\", \"Topic5\", \"Topic5\", \"Topic5\", \"Topic5\", \"Topic5\", \"Topic5\", \"Topic5\", \"Topic5\", \"Topic5\", \"Topic5\", \"Topic5\", \"Topic5\", \"Topic5\", \"Topic5\", \"Topic5\", \"Topic5\", \"Topic5\", \"Topic5\", \"Topic6\", \"Topic6\", \"Topic6\", \"Topic6\", \"Topic6\", \"Topic6\", \"Topic6\", \"Topic6\", \"Topic6\", \"Topic6\", \"Topic6\", \"Topic6\", \"Topic6\", \"Topic6\", \"Topic6\", \"Topic6\", \"Topic6\", \"Topic6\", \"Topic6\", \"Topic6\", \"Topic6\", \"Topic6\", \"Topic6\", \"Topic6\", \"Topic6\", \"Topic6\", \"Topic6\", \"Topic6\", \"Topic6\", \"Topic6\", \"Topic6\", \"Topic6\", \"Topic6\", \"Topic6\", \"Topic6\", \"Topic6\", \"Topic6\", \"Topic6\", \"Topic6\", \"Topic6\", \"Topic6\", \"Topic6\", \"Topic6\", \"Topic6\", \"Topic6\", \"Topic6\", \"Topic6\", \"Topic6\", \"Topic6\", \"Topic6\", \"Topic6\", \"Topic6\", \"Topic6\", \"Topic6\", \"Topic6\", \"Topic6\", \"Topic6\", \"Topic6\", \"Topic6\", \"Topic6\", \"Topic6\", \"Topic6\", \"Topic6\", \"Topic6\", \"Topic6\", \"Topic6\", \"Topic6\", \"Topic7\", \"Topic7\", \"Topic7\", \"Topic7\", \"Topic7\", \"Topic7\", \"Topic7\", \"Topic7\", \"Topic7\", \"Topic7\", \"Topic7\", \"Topic7\", \"Topic7\", \"Topic7\", \"Topic7\", \"Topic7\", \"Topic7\", \"Topic7\", \"Topic7\", \"Topic7\", \"Topic7\", \"Topic7\", \"Topic7\", \"Topic7\", \"Topic7\", \"Topic7\", \"Topic7\", \"Topic7\", \"Topic7\", \"Topic7\", \"Topic7\", \"Topic7\", \"Topic7\", \"Topic7\", \"Topic7\", \"Topic7\", \"Topic7\", \"Topic7\", \"Topic7\", \"Topic7\", \"Topic7\", \"Topic7\", \"Topic7\", \"Topic7\", \"Topic7\", \"Topic7\", \"Topic7\", \"Topic7\", \"Topic7\", \"Topic7\", \"Topic7\", \"Topic7\", \"Topic7\", \"Topic7\", \"Topic7\", \"Topic7\", \"Topic7\", \"Topic7\", \"Topic7\", \"Topic7\", \"Topic7\", \"Topic7\", \"Topic7\", \"Topic7\", \"Topic7\", \"Topic7\", \"Topic7\", \"Topic7\", \"Topic7\", \"Topic7\", \"Topic7\", \"Topic7\", \"Topic7\", \"Topic7\", \"Topic7\", \"Topic7\", \"Topic7\", \"Topic7\", \"Topic7\"], \"Freq\": [3349.0, 1952.0, 3611.0, 1181.0, 1989.0, 1230.0, 5193.0, 1208.0, 952.0, 1140.0, 347.0, 477.0, 600.0, 470.0, 609.0, 1067.0, 382.0, 817.0, 341.0, 1678.0, 505.0, 237.0, 554.0, 1681.0, 321.0, 663.0, 560.0, 565.0, 339.0, 363.0, 265.87603759765625, 145.54969787597656, 49.56134796142578, 41.60371398925781, 332.34344482421875, 38.81886672973633, 42.08133316040039, 31.586318969726562, 33.39039611816406, 71.79215240478516, 120.19173431396484, 156.8213653564453, 31.71573257446289, 58.04203796386719, 345.3667907714844, 23.412904739379883, 26.929744720458984, 350.9874572753906, 26.23008155822754, 24.858171463012695, 22.79547119140625, 19.849998474121094, 99.66580200195312, 24.099666595458984, 18.326383590698242, 38.091243743896484, 32.317283630371094, 23.963733673095703, 77.61598205566406, 20.13673973083496, 3171.10009765625, 98.02830505371094, 473.2578430175781, 147.03602600097656, 1803.2257080078125, 510.6781311035156, 123.53266906738281, 63.844356536865234, 283.53521728515625, 151.04107666015625, 113.92210388183594, 105.2862548828125, 231.4810028076172, 676.8491821289062, 302.9429016113281, 432.2618713378906, 121.30699920654297, 464.4892578125, 1092.7586669921875, 506.9502258300781, 235.05715942382812, 372.0096130371094, 164.778076171875, 245.7473907470703, 162.00283813476562, 360.14727783203125, 1025.0794677734375, 268.901611328125, 299.80902099609375, 253.25897216796875, 299.5051574707031, 742.3036499023438, 454.3013000488281, 317.3876953125, 680.0974731445312, 409.4901123046875, 376.95263671875, 315.8979187011719, 274.1015625, 274.7402648925781, 314.62103271484375, 271.753662109375, 197.52926635742188, 44.24639892578125, 48.78001022338867, 37.84303665161133, 41.07046890258789, 32.223289489746094, 23.727767944335938, 69.34032440185547, 22.340497970581055, 21.168258666992188, 52.19822692871094, 19.34004020690918, 18.42562484741211, 29.898515701293945, 17.859588623046875, 16.240711212158203, 18.491008758544922, 15.833024978637695, 15.071821212768555, 14.95622444152832, 22.000608444213867, 15.166815757751465, 18.26746940612793, 14.022314071655273, 17.431428909301758, 13.058579444885254, 13.108487129211426, 12.650075912475586, 12.248241424560547, 12.922029495239258, 50.85681915283203, 32.54795837402344, 21.536375045776367, 40.855384826660156, 119.25139617919922, 210.47000122070312, 48.29097366333008, 31.12908363342285, 25.236495971679688, 269.8710632324219, 2397.506103515625, 259.90423583984375, 54.6366081237793, 88.11616516113281, 80.57735443115234, 727.4349975585938, 48.734439849853516, 56.559749603271484, 89.8338623046875, 40.940250396728516, 79.07191467285156, 126.91812896728516, 53.004669189453125, 1671.5296630859375, 100.24162292480469, 126.8986587524414, 293.02740478515625, 1163.229248046875, 634.45361328125, 401.8454284667969, 210.03868103027344, 74.68732452392578, 359.5072937011719, 296.5094909667969, 252.43756103515625, 105.10761260986328, 128.3393096923828, 232.48550415039062, 520.9326782226562, 435.2292175292969, 583.3445434570312, 269.0321044921875, 345.2486267089844, 285.4530029296875, 321.4668273925781, 178.037841796875, 180.60195922851562, 167.63116455078125, 272.9006652832031, 286.6722717285156, 209.3788299560547, 202.87574768066406, 233.28070068359375, 214.28677368164062, 205.3583221435547, 55.71123123168945, 60.756046295166016, 41.00834274291992, 39.88022994995117, 28.921875, 30.40531349182129, 27.77585792541504, 24.82792854309082, 26.87671661376953, 20.026166915893555, 19.00952911376953, 16.910614013671875, 16.93659210205078, 16.3011474609375, 15.75380802154541, 15.201637268066406, 66.48141479492188, 17.59095001220703, 19.6192626953125, 13.809316635131836, 13.520140647888184, 17.98900032043457, 13.48106861114502, 12.760952949523926, 11.936614036560059, 358.5395202636719, 16.722509384155273, 21.84775161743164, 11.955493927001953, 15.582243919372559, 249.50376892089844, 38.78504943847656, 89.01461029052734, 23.386810302734375, 127.63583374023438, 101.66790008544922, 131.45501708984375, 483.43463134765625, 191.67015075683594, 217.8289031982422, 888.5037231445312, 64.08672332763672, 40.33684539794922, 45.63193893432617, 765.864501953125, 278.85968017578125, 94.88870239257812, 141.0811767578125, 200.3579559326172, 70.76451873779297, 186.61721801757812, 111.11447143554688, 179.7012176513672, 102.0765380859375, 194.1851043701172, 669.3267211914062, 210.91409301757812, 113.79087829589844, 188.2433319091797, 188.228759765625, 595.5635986328125, 924.0429077148438, 611.64453125, 737.43505859375, 216.0624237060547, 165.54176330566406, 260.157470703125, 352.3303527832031, 266.7088317871094, 254.0734100341797, 399.9546813964844, 266.29144287109375, 196.57728576660156, 210.19284057617188, 182.0811004638672, 186.72186279296875, 61.89358901977539, 33.274044036865234, 33.6513671875, 35.9661865234375, 31.401287078857422, 29.30491828918457, 24.302335739135742, 19.431318283081055, 19.111539840698242, 18.625720977783203, 18.20816421508789, 16.152708053588867, 16.526525497436523, 15.623052597045898, 15.197907447814941, 15.570839881896973, 14.778823852539062, 14.499970436096191, 14.322132110595703, 14.131658554077148, 13.576157569885254, 12.602383613586426, 12.434054374694824, 12.115730285644531, 17.87602424621582, 11.905434608459473, 11.868836402893066, 11.698485374450684, 11.45230484008789, 11.469789505004883, 1144.65771484375, 13.860507011413574, 515.36474609375, 189.15292358398438, 25.938125610351562, 124.99681091308594, 24.795452117919922, 23.293033599853516, 69.93622589111328, 76.46397399902344, 39.00617218017578, 110.38944244384766, 60.99388122558594, 40.831695556640625, 72.10845184326172, 46.12066650390625, 83.59654998779297, 210.92674255371094, 397.5887451171875, 71.4095458984375, 88.05061340332031, 204.3197784423828, 62.91114807128906, 196.57789611816406, 119.67256927490234, 172.53550720214844, 160.10983276367188, 880.594482421875, 168.138916015625, 863.7312622070312, 215.69186401367188, 132.2888946533203, 406.58148193359375, 101.90470123291016, 337.9822692871094, 369.2657165527344, 518.6343383789062, 536.2821655273438, 316.0841064453125, 146.0021514892578, 234.19091796875, 224.3577880859375, 183.20904541015625, 243.08126831054688, 139.33721923828125, 240.99940490722656, 197.7933349609375, 180.4984130859375, 193.1122589111328, 186.91665649414062, 225.04368591308594, 238.13661193847656, 220.00100708007812, 242.1031494140625, 190.15187072753906, 183.541259765625, 188.16650390625, 69.95282745361328, 35.811744689941406, 33.5792121887207, 32.44225311279297, 29.120302200317383, 25.370630264282227, 24.834821701049805, 23.35934066772461, 21.092958450317383, 21.2634334564209, 16.5169734954834, 14.817063331604004, 13.183070182800293, 13.790104866027832, 13.07655143737793, 23.846614837646484, 10.259655952453613, 11.347088813781738, 10.184762001037598, 11.343071937561035, 12.504172325134277, 12.522689819335938, 10.418606758117676, 50.64364242553711, 8.89228630065918, 9.271421432495117, 14.509683609008789, 12.681713104248047, 7.849033832550049, 426.60284423828125, 151.47061157226562, 1571.05322265625, 15.952953338623047, 15.788408279418945, 588.3636474609375, 44.95737075805664, 88.37046813964844, 80.31586456298828, 23.165611267089844, 208.70375061035156, 144.49578857421875, 62.552391052246094, 273.17132568359375, 28.96938705444336, 97.49816131591797, 103.58882904052734, 88.8230972290039, 497.29156494140625, 1140.3203125, 476.2984619140625, 199.7569122314453, 141.10748291015625, 656.8690795898438, 60.306156158447266, 196.7741241455078, 254.0319061279297, 167.8597869873047, 223.48814392089844, 150.03822326660156, 143.24623107910156, 181.19435119628906, 183.9521484375, 295.80206298828125, 225.28012084960938, 159.4358367919922, 146.29800415039062, 156.6900634765625, 140.74649047851562, 192.69326782226562, 148.4935760498047, 161.7243194580078, 144.0597686767578, 346.20574951171875, 149.093017578125, 89.42341613769531, 89.5170669555664, 45.904701232910156, 30.471529006958008, 25.565141677856445, 16.711057662963867, 14.821109771728516, 18.243099212646484, 17.457115173339844, 17.740638732910156, 13.090536117553711, 13.550898551940918, 37.962135314941406, 13.584593772888184, 12.885595321655273, 13.558683395385742, 79.9118423461914, 220.77333068847656, 17.518543243408203, 11.817780494689941, 23.74591064453125, 9.112838745117188, 38.071590423583984, 9.133463859558105, 16.63132095336914, 8.236964225769043, 8.777491569519043, 1076.1666259765625, 174.0738067626953, 14.613945007324219, 14.17922592163086, 40.20440673828125, 16.974924087524414, 45.870704650878906, 42.7071647644043, 286.41400146484375, 198.3903350830078, 175.86253356933594, 150.07614135742188, 25.23109245300293, 81.04529571533203, 112.476318359375, 37.47134780883789, 53.127647399902344, 87.28019714355469, 195.54600524902344, 685.4244995117188, 122.75042724609375, 141.89154052734375, 76.22114562988281, 114.89939880371094, 170.48306274414062, 181.58270263671875, 159.82366943359375, 248.44375610351562, 107.41449737548828, 211.29931640625, 156.34373474121094, 143.4835968017578, 85.24088287353516, 124.37535095214844, 99.43152618408203, 101.62857818603516, 96.42792510986328, 88.09674072265625, 54.14927673339844, 65.39131164550781, 33.062355041503906, 37.80060577392578, 26.60531234741211, 24.582223892211914, 21.035017013549805, 19.23163414001465, 23.435792922973633, 16.98975944519043, 12.691935539245605, 12.847375869750977, 11.606744766235352, 12.478487014770508, 10.612861633300781, 10.53503131866455, 9.444599151611328, 9.303783416748047, 9.291427612304688, 24.060087203979492, 8.416112899780273, 11.144063949584961, 26.07366943359375, 8.274861335754395, 8.359808921813965, 8.005587577819824, 8.450350761413574, 7.1970744132995605, 13.175116539001465, 7.376450538635254, 10.446017265319824, 22.874958038330078, 26.93503761291504, 17.128965377807617, 95.17387390136719, 27.850351333618164, 120.08723449707031, 42.16193389892578, 49.50731658935547, 61.15586471557617, 51.880653381347656, 47.10875701904297, 37.99943161010742, 64.75542449951172, 24.445920944213867, 80.64855194091797, 132.3161163330078, 68.32283020019531, 82.82466888427734, 47.46574020385742, 92.75526428222656, 108.00303649902344, 118.04390716552734, 55.24740219116211, 143.5622100830078, 114.03279113769531, 105.93431091308594, 196.43577575683594, 106.76705169677734, 53.48945236206055, 79.15806579589844, 197.5529327392578, 152.31277465820312, 159.25994873046875, 85.66425323486328, 94.34994506835938, 153.88473510742188, 83.1234359741211, 184.53439331054688, 132.33360290527344, 163.1871795654297, 102.26432037353516, 117.46985626220703, 103.84996032714844, 95.48595428466797, 117.4570541381836, 85.80730438232422, 93.29902648925781, 83.27933502197266], \"Term\": [\"pedal\", \"tuner\", \"string\", \"strap\", \"amp\", \"pick\", \"guitar\", \"cable\", \"tune\", \"mic\", \"display\", \"snark\", \"capo\", \"button\", \"microphone\", \"case\", \"usb\", \"effect\", \"uke\", \"tone\", \"distortion\", \"lock\", \"tube\", \"easy\", \"screw\", \"neck\", \"stand\", \"battery\", \"joyo\", \"overdrive\", \"reverb\", \"marshall\", \"ocd\", \"screamer\", \"joyo\", \"ditto\", \"carbon\", \"pod\", \"fulltone\", \"champ\", \"chorus\", \"drive\", \"modeling\", \"muff\", \"delay\", \"quieter\", \"breakup\", \"overdrive\", \"ehx\", \"bassman\", \"bugera\", \"clipping\", \"bypass\", \"headroom\", \"phaser\", \"rat\", \"footswitch\", \"requirement\", \"fuzz\", \"fizzy\", \"pedal\", \"compression\", \"distortion\", \"boost\", \"amp\", \"tube\", \"mxr\", \"mustang\", \"boss\", \"compressor\", \"crunch\", \"analog\", \"channel\", \"effect\", \"gain\", \"knob\", \"preset\", \"volume\", \"tone\", \"power\", \"setting\", \"board\", \"supply\", \"switch\", \"loop\", \"clean\", \"sound\", \"control\", \"metal\", \"speaker\", \"battery\", \"great\", \"thing\", \"fender\", \"good\", \"little\", \"use\", \"price\", \"lot\", \"high\", \"guitar\", \"way\", \"tascam\", \"waste\", \"twist\", \"podcast\", \"comparable\", \"label\", \"cobalt\", \"claim\", \"cordoba\", \"warning\", \"stud\", \"beast\", \"wiring\", \"drywall\", \"chunky\", \"guild\", \"fellow\", \"nickle\", \"supple\", \"shine\", \"newbie\", \"mile\", \"hardshell\", \"acoustical\", \"backing\", \"fingering\", \"utility\", \"instrumental\", \"prs\", \"blind\", \"water\", \"glass\", \"fuller\", \"seagull\", \"cloth\", \"addario\", \"fingerboard\", \"bottle\", \"interest\", \"planet\", \"string\", \"wave\", \"coated\", \"ernie\", \"hanger\", \"case\", \"anchor\", \"fretboard\", \"elixir\", \"phosphor\", \"nickel\", \"ball\", \"bronze\", \"guitar\", \"wood\", \"violin\", \"long\", \"good\", \"time\", \"acoustic\", \"last\", \"harp\", \"product\", \"new\", \"electric\", \"bridge\", \"week\", \"play\", \"sound\", \"price\", \"great\", \"year\", \"easy\", \"instrument\", \"nice\", \"bag\", \"fit\", \"day\", \"quality\", \"use\", \"lot\", \"tune\", \"tone\", \"thing\", \"little\", \"focusrite\", \"garageband\", \"mim\", \"memory\", \"alesis\", \"husband\", \"sample\", \"boogie\", \"converter\", \"sonar\", \"vox\", \"link\", \"mixing\", \"feed\", \"puppy\", \"dyna\", \"port\", \"receiver\", \"bed\", \"satisfaction\", \"cassette\", \"exchange\", \"articulate\", \"success\", \"funky\", \"usb\", \"spectrum\", \"slap\", \"positioning\", \"working\", \"interface\", \"mac\", \"phantom\", \"gls\", \"xlr\", \"condenser\", \"recorder\", \"microphone\", \"jam\", \"mixer\", \"cable\", \"midi\", \"daw\", \"capability\", \"mic\", \"input\", \"window\", \"vocal\", \"track\", \"program\", \"cord\", \"connector\", \"behringer\", \"patch\", \"record\", \"quality\", \"recording\", \"drum\", \"audio\", \"studio\", \"price\", \"good\", \"sound\", \"great\", \"noise\", \"band\", \"high\", \"use\", \"product\", \"nice\", \"guitar\", \"little\", \"problem\", \"thing\", \"low\", \"work\", \"echo\", \"pluck\", \"select\", \"configuration\", \"voltage\", \"controller\", \"mahalo\", \"fire\", \"jamming\", \"fade\", \"in\", \"appropriate\", \"lush\", \"station\", \"effortless\", \"platform\", \"assortment\", \"fond\", \"scream\", \"coat\", \"estate\", \"purist\", \"king\", \"code\", \"dava\", \"manage\", \"confusing\", \"share\", \"painful\", \"floyd\", \"pick\", \"unbeatable\", \"capo\", \"grip\", \"iii\", \"capos\", \"print\", \"habit\", \"kyser\", \"thickness\", \"yellow\", \"jazz\", \"strumming\", \"student\", \"thumb\", \"scale\", \"medium\", \"finger\", \"light\", \"intonation\", \"nylon\", \"accurate\", \"pressure\", \"ukulele\", \"action\", \"fret\", \"uke\", \"string\", \"hand\", \"guitar\", \"one\", \"tension\", \"little\", \"chord\", \"nice\", \"time\", \"great\", \"good\", \"easy\", \"player\", \"well\", \"year\", \"play\", \"work\", \"color\", \"thing\", \"cheap\", \"many\", \"bit\", \"new\", \"quality\", \"price\", \"tone\", \"sound\", \"instrument\", \"tuner\", \"ipad\", \"ukelele\", \"sensitivity\", \"fiddle\", \"practical\", \"dedicated\", \"socket\", \"smart\", \"reproduction\", \"piezo\", \"silent\", \"lemon\", \"national\", \"creative\", \"absolute\", \"pitchblack\", \"bracket\", \"fingerprint\", \"genius\", \"checking\", \"problematic\", \"gravity\", \"switchcraft\", \"promise\", \"samson\", \"adjustability\", \"fussy\", \"tracking\", \"tilt\", \"circular\", \"snark\", \"pitch\", \"tuner\", \"virtual\", \"assembly\", \"tune\", \"sheet\", \"angle\", \"metronome\", \"grand\", \"clip\", \"headstock\", \"korg\", \"stand\", \"defective\", \"bar\", \"tuning\", \"clamp\", \"easy\", \"guitar\", \"use\", \"battery\", \"head\", \"great\", \"book\", \"electric\", \"instrument\", \"right\", \"acoustic\", \"music\", \"bag\", \"small\", \"work\", \"good\", \"price\", \"way\", \"light\", \"well\", \"bass\", \"string\", \"mic\", \"time\", \"little\", \"display\", \"manual\", \"yeti\", \"soprano\", \"zipper\", \"hercule\", \"uku\", \"cumbersome\", \"worthless\", \"neotech\", \"cushion\", \"headset\", \"defect\", \"detract\", \"radius\", \"sandpaper\", \"ratchet\", \"nope\", \"shoulder\", \"lock\", \"colorful\", \"godin\", \"dvd\", \"fingerstyle\", \"tablet\", \"mood\", \"drilling\", \"experimentation\", \"template\", \"strap\", \"leather\", \"underside\", \"suede\", \"schaller\", \"skinny\", \"responsive\", \"washer\", \"button\", \"screw\", \"uke\", \"hole\", \"authentic\", \"arm\", \"comfortable\", \"release\", \"secure\", \"install\", \"neck\", \"guitar\", \"ukulele\", \"fit\", \"wide\", \"fine\", \"instrument\", \"nice\", \"work\", \"good\", \"size\", \"great\", \"price\", \"easy\", \"large\", \"little\", \"bit\", \"quality\", \"thing\", \"use\", \"apogee\", \"zoom\", \"curve\", \"iphone\", \"trade\", \"delicate\", \"monitoring\", \"view\", \"correction\", \"shift\", \"cute\", \"satin\", \"structure\", \"cheesy\", \"lid\", \"keyser\", \"pricing\", \"fabulous\", \"laser\", \"ipod\", \"considering\", \"unity\", \"error\", \"worthwhile\", \"detune\", \"remote\", \"intro\", \"hoping\", \"trial\", \"drag\", \"stem\", \"uca\", \"ambient\", \"readout\", \"vibration\", \"outer\", \"screen\", \"desktop\", \"layer\", \"filter\", \"desk\", \"shock\", \"app\", \"pop\", \"cup\", \"monitor\", \"software\", \"card\", \"mandolin\", \"foam\", \"mount\", \"headphone\", \"recording\", \"read\", \"unit\", \"accurate\", \"audio\", \"small\", \"device\", \"base\", \"computer\", \"little\", \"mic\", \"work\", \"record\", \"speaker\", \"use\", \"studio\", \"good\", \"time\", \"great\", \"way\", \"price\", \"instrument\", \"well\", \"guitar\", \"stand\", \"sound\", \"easy\"], \"Total\": [3349.0, 1952.0, 3611.0, 1181.0, 1989.0, 1230.0, 5193.0, 1208.0, 952.0, 1140.0, 347.0, 477.0, 600.0, 470.0, 609.0, 1067.0, 382.0, 817.0, 341.0, 1678.0, 505.0, 237.0, 554.0, 1681.0, 321.0, 663.0, 560.0, 565.0, 339.0, 363.0, 268.78118896484375, 147.56211853027344, 50.34662628173828, 42.38835525512695, 339.23944091796875, 39.70384979248047, 43.12724304199219, 32.37204360961914, 34.22633743286133, 73.66216278076172, 123.5975341796875, 161.342041015625, 32.639652252197266, 59.84158706665039, 356.13214111328125, 24.204145431518555, 27.84002685546875, 363.1283264160156, 27.197532653808594, 25.77998161315918, 23.653690338134766, 20.654130935668945, 103.75599670410156, 25.127578735351562, 19.12273597717285, 39.75132369995117, 33.76943588256836, 25.061132431030273, 81.22521209716797, 21.090158462524414, 3349.644775390625, 102.76885223388672, 505.3988037109375, 155.65814208984375, 1989.793212890625, 554.5106201171875, 131.13836669921875, 67.27208709716797, 311.0950012207031, 162.78436279296875, 121.9619369506836, 114.24949645996094, 260.0625305175781, 817.94384765625, 354.24859619140625, 529.2335205078125, 135.30059814453125, 583.9208374023438, 1678.9971923828125, 724.127685546875, 300.89324951171875, 567.3607788085938, 206.2421112060547, 348.015869140625, 201.96588134765625, 607.8912963867188, 2610.746337890625, 410.32745361328125, 532.05615234375, 426.14263916015625, 565.810302734375, 3613.0732421875, 1413.500244140625, 718.0934448242188, 4032.43212890625, 1753.7095947265625, 1895.76904296875, 2083.921142578125, 905.1945190429688, 961.8218383789062, 5193.0380859375, 970.752685546875, 198.32579040527344, 44.99760818481445, 49.698829650878906, 38.64625930786133, 41.947853088378906, 33.22738265991211, 24.47234344482422, 71.71976470947266, 23.129804611206055, 21.937767028808594, 54.169559478759766, 20.093772888183594, 19.178415298461914, 31.14581871032715, 18.610740661621094, 17.000465393066406, 19.385778427124023, 16.622333526611328, 15.832154273986816, 15.716259002685547, 23.125072479248047, 15.942730903625488, 19.20591163635254, 14.769885063171387, 18.36916160583496, 13.82021713256836, 13.878951072692871, 13.404123306274414, 12.99245834350586, 13.707497596740723, 54.007965087890625, 34.6453857421875, 22.87943458557129, 43.74361038208008, 131.72055053710938, 236.033447265625, 53.498046875, 34.09394073486328, 27.336463928222656, 342.989501953125, 3611.469482421875, 332.54339599609375, 62.4278564453125, 104.86528015136719, 95.64794921875, 1067.0838623046875, 56.47491455078125, 66.76396942138672, 113.60902404785156, 46.83888244628906, 101.67222595214844, 181.2730712890625, 64.9257583618164, 5193.0380859375, 150.0542755126953, 204.74351501464844, 636.3680419921875, 4032.43212890625, 1790.695068359375, 999.9364624023438, 476.4289855957031, 105.27841186523438, 1144.7235107421875, 869.0387573242188, 680.0390014648438, 179.3377227783203, 254.00155639648438, 678.1682739257812, 2610.746337890625, 2083.921142578125, 3613.0732421875, 1016.2221069335938, 1681.4925537109375, 1188.21728515625, 1503.37890625, 496.798828125, 527.1561279296875, 494.2061767578125, 1649.88037109375, 1895.76904296875, 905.1945190429688, 952.12353515625, 1678.9971923828125, 1413.500244140625, 1753.7095947265625, 56.52102279663086, 61.885738372802734, 41.78286361694336, 40.65819549560547, 29.729917526245117, 31.324970245361328, 28.63934898376465, 25.62438201904297, 27.782705307006836, 20.847841262817383, 19.830263137817383, 17.68204116821289, 17.723190307617188, 17.07124137878418, 16.53109359741211, 15.989664077758789, 70.15186309814453, 18.59568977355957, 20.751192092895508, 14.629018783569336, 14.331829071044922, 19.070274353027344, 14.29170036315918, 13.534367561340332, 12.709944725036621, 382.0310363769531, 17.825624465942383, 23.34830665588379, 12.784786224365234, 16.679737091064453, 270.64300537109375, 41.5709114074707, 96.31461334228516, 25.036365509033203, 143.15997314453125, 117.63409423828125, 154.5824432373047, 609.1358642578125, 233.9551544189453, 269.5880432128906, 1208.046142578125, 73.60742950439453, 45.11984634399414, 51.538360595703125, 1140.59716796875, 386.1616516113281, 117.39441680908203, 185.97537231445312, 277.7294616699219, 87.49691772460938, 299.6349182128906, 161.15777587890625, 295.7767639160156, 146.52870178222656, 336.63787841796875, 1649.88037109375, 384.9481506347656, 175.4894256591797, 354.45867919921875, 356.8353576660156, 2083.921142578125, 4032.43212890625, 2610.746337890625, 3613.0732421875, 503.1878662109375, 334.81512451171875, 961.8218383789062, 1895.76904296875, 1144.7235107421875, 1503.37890625, 5193.0380859375, 1753.7095947265625, 788.4056396484375, 1413.500244140625, 785.2651977539062, 1281.734619140625, 62.691864013671875, 34.0557975769043, 34.46255111694336, 36.87059020996094, 32.19129180908203, 30.088237762451172, 25.16214942932129, 20.21605682373047, 19.895334243774414, 19.406574249267578, 19.01285171508789, 16.9352970123291, 17.32829475402832, 16.410659790039062, 15.97504997253418, 16.379207611083984, 15.573062896728516, 15.28648567199707, 15.103105545043945, 14.91092586517334, 14.361149787902832, 13.391234397888184, 13.214620590209961, 12.896984100341797, 19.036231994628906, 12.690838813781738, 12.656098365783691, 12.478886604309082, 12.229780197143555, 12.249091148376465, 1230.9273681640625, 14.841432571411133, 600.6812744140625, 225.11900329589844, 28.498464584350586, 147.78245544433594, 27.394996643066406, 25.660152435302734, 85.3835678100586, 94.17192840576172, 45.76760482788086, 148.45005798339844, 76.3314437866211, 48.75700378417969, 94.0467300415039, 56.50779342651367, 117.00201416015625, 350.8858947753906, 774.197265625, 99.5442123413086, 131.9307098388672, 386.84527587890625, 89.60944366455078, 382.7459411621094, 213.54454040527344, 347.66546630859375, 341.02593994140625, 3611.469482421875, 373.2632751464844, 5193.0380859375, 631.6060180664062, 298.20904541015625, 1753.7095947265625, 201.12083435058594, 1503.37890625, 1790.695068359375, 3613.0732421875, 4032.43212890625, 1681.4925537109375, 402.9297790527344, 1046.1138916015625, 1016.2221069335938, 678.1682739257812, 1281.734619140625, 379.3799743652344, 1413.500244140625, 888.3377075195312, 727.4417724609375, 898.9417724609375, 869.0387573242188, 1649.88037109375, 2083.921142578125, 1678.9971923828125, 2610.746337890625, 1188.21728515625, 1952.350830078125, 189.0238494873047, 71.07452392578125, 36.618709564208984, 34.37523651123047, 33.24037551879883, 29.930540084838867, 26.167139053344727, 25.629657745361328, 24.163192749023438, 21.89106559753418, 22.256031036376953, 17.313278198242188, 15.611454010009766, 13.980606079101562, 14.638144493103027, 13.909027099609375, 25.566852569580078, 11.053653717041016, 12.247042655944824, 11.00230598449707, 12.2673921585083, 13.564765930175781, 13.604023933410645, 11.325761795043945, 55.092872619628906, 9.70893383026123, 10.137640953063965, 15.916072845458984, 13.941458702087402, 8.656262397766113, 477.45001220703125, 174.84002685546875, 1952.350830078125, 17.633543014526367, 17.777868270874023, 952.12353515625, 56.20866394042969, 125.21591186523438, 112.37372589111328, 27.572834014892578, 354.3840637207031, 235.4088592529297, 90.90999603271484, 560.0775146484375, 36.34587860107422, 165.4545135498047, 194.69882202148438, 166.23602294921875, 1681.4925537109375, 5193.0380859375, 1895.76904296875, 565.810302734375, 348.9978332519531, 3613.0732421875, 102.89643859863281, 680.0390014648438, 1188.21728515625, 609.1630249023438, 999.9364624023438, 537.0202026367188, 496.798828125, 1050.3917236328125, 1281.734619140625, 4032.43212890625, 2083.921142578125, 970.752685546875, 774.197265625, 1046.1138916015625, 769.914794921875, 3611.469482421875, 1140.59716796875, 1790.695068359375, 1753.7095947265625, 347.857421875, 150.0438690185547, 90.18682098388672, 90.65869140625, 46.664306640625, 31.23052215576172, 26.334388732910156, 17.474140167236328, 15.674905776977539, 19.31036949157715, 18.49825668334961, 18.803722381591797, 13.895294189453125, 14.39647102355957, 40.339569091796875, 14.47381591796875, 13.74854564666748, 14.546004295349121, 85.76191711425781, 237.9808349609375, 19.02370262145996, 12.844193458557129, 25.81066131591797, 9.908011436462402, 41.43761444091797, 9.971941947937012, 18.182540893554688, 9.018285751342773, 9.631208419799805, 1181.2655029296875, 192.42916870117188, 16.056224822998047, 15.58636474609375, 45.79903030395508, 18.891380310058594, 55.95941925048828, 53.31135177612305, 470.3201599121094, 321.7358703613281, 341.02593994140625, 296.5511474609375, 31.43382453918457, 142.72042846679688, 229.0230255126953, 53.270973205566406, 86.49456024169922, 177.45101928710938, 663.3277587890625, 5193.0380859375, 382.7459411621094, 527.1561279296875, 200.41795349121094, 518.8436279296875, 1188.21728515625, 1503.37890625, 1281.734619140625, 4032.43212890625, 536.1100463867188, 3613.0732421875, 2083.921142578125, 1681.4925537109375, 383.5834655761719, 1753.7095947265625, 898.9417724609375, 1649.88037109375, 1413.500244140625, 1895.76904296875, 54.95969772338867, 66.42692565917969, 33.85567855834961, 38.71728515625, 27.403369903564453, 25.379987716674805, 21.94332504272461, 20.103927612304688, 24.592893600463867, 17.87499237060547, 13.483433723449707, 13.665872573852539, 12.401933670043945, 13.342023849487305, 11.407413482666016, 11.336462020874023, 10.237366676330566, 10.097782135009766, 10.08508014678955, 26.241374969482422, 9.210225105285645, 12.199862480163574, 28.559478759765625, 9.068700790405273, 9.168814659118652, 8.79643726348877, 9.343367576599121, 7.99334192276001, 14.661094665527344, 8.223068237304688, 11.64871597290039, 26.783422470092773, 32.62298583984375, 20.094818115234375, 131.05169677734375, 34.32183837890625, 171.904296875, 54.572471618652344, 65.9463119506836, 84.11561584472656, 71.28233337402344, 64.38318634033203, 50.29759216308594, 97.02400207519531, 30.926219940185547, 132.7377471923828, 245.16778564453125, 109.57484436035156, 169.40216064453125, 80.18386840820312, 209.93125915527344, 311.5958251953125, 384.9481506347656, 113.0312271118164, 546.1109619140625, 386.84527587890625, 354.45867919921875, 1050.3917236328125, 362.406982421875, 108.64559936523438, 249.52061462402344, 1753.7095947265625, 1140.59716796875, 1281.734619140625, 336.63787841796875, 426.14263916015625, 1895.76904296875, 356.8353576660156, 4032.43212890625, 1790.695068359375, 3613.0732421875, 970.752685546875, 2083.921142578125, 1188.21728515625, 1046.1138916015625, 5193.0380859375, 560.0775146484375, 2610.746337890625, 1681.4925537109375], \"loglift\": [30.0, 29.0, 28.0, 27.0, 26.0, 25.0, 24.0, 23.0, 22.0, 21.0, 20.0, 19.0, 18.0, 17.0, 16.0, 15.0, 14.0, 13.0, 12.0, 11.0, 10.0, 9.0, 8.0, 7.0, 6.0, 5.0, 4.0, 3.0, 2.0, 1.0, 1.4545999765396118, 1.45169997215271, 1.4496999979019165, 1.4466999769210815, 1.4449000358581543, 1.4428999423980713, 1.4408999681472778, 1.4408999681472778, 1.4407000541687012, 1.4397000074386597, 1.4375, 1.437000036239624, 1.4366999864578247, 1.4349000453948975, 1.4347000122070312, 1.4321999549865723, 1.4321999549865723, 1.431399941444397, 1.4292000532150269, 1.4290000200271606, 1.4285000562667847, 1.4256999492645264, 1.4251999855041504, 1.423699975013733, 1.4228999614715576, 1.4227999448776245, 1.4214999675750732, 1.420699954032898, 1.4199999570846558, 1.4191999435424805, 1.4106999635696411, 1.4182000160217285, 1.3997000455856323, 1.408400058746338, 1.3669999837875366, 1.3831000328063965, 1.4056999683380127, 1.413100004196167, 1.3726999759674072, 1.3905999660491943, 1.3971999883651733, 1.3837000131607056, 1.3489999771118164, 1.2761000394821167, 1.309000015258789, 1.2630000114440918, 1.3562999963760376, 1.2366000413894653, 1.0358999967575073, 1.1088999509811401, 1.218500018119812, 1.0434000492095947, 1.2410000562667847, 1.1174999475479126, 1.2448999881744385, 0.9419000148773193, 0.5306000113487244, 1.042799949645996, 0.8917999863624573, 0.9451000094413757, 0.8292999863624573, -0.11710000038146973, 0.3303999900817871, 0.6489999890327454, -0.31450000405311584, 0.010900000110268593, -0.14980000257492065, -0.4212000072002411, 0.27079999446868896, 0.21240000426769257, -1.3382999897003174, 0.1923000067472458, 1.7254999876022339, 1.7125999927520752, 1.710800051689148, 1.7085000276565552, 1.708299994468689, 1.698799967765808, 1.6986000537872314, 1.6957000494003296, 1.6948000192642212, 1.6937999725341797, 1.6923999786376953, 1.6912000179290771, 1.6893999576568604, 1.688599944114685, 1.6883000135421753, 1.6837999820709229, 1.6821999549865723, 1.680799961090088, 1.680299997329712, 1.679900050163269, 1.6796000003814697, 1.6796000003814697, 1.6793999671936035, 1.6775000095367432, 1.6770999431610107, 1.6727999448776245, 1.6723999977111816, 1.6715999841690063, 1.6705000400543213, 1.6705000400543213, 1.6693999767303467, 1.6670000553131104, 1.6690000295639038, 1.6612000465393066, 1.6299999952316284, 1.614799976348877, 1.6270999908447266, 1.6384999752044678, 1.6495000123977661, 1.4896999597549438, 1.3198000192642212, 1.4830000400543213, 1.5961999893188477, 1.5555000305175781, 1.5579999685287476, 1.3463000059127808, 1.5821000337600708, 1.563599944114685, 1.4946999549865723, 1.5949000120162964, 1.4780999422073364, 1.3730000257492065, 1.5266000032424927, 0.5958999991416931, 1.3260999917984009, 1.251099944114685, 0.9539999961853027, 0.486299991607666, 0.6919000148773193, 0.8179000020027161, 0.9103999733924866, 1.386199951171875, 0.5713000297546387, 0.65420001745224, 0.7384999990463257, 1.195199966430664, 1.0468000173568726, 0.6589000225067139, 0.1177000030875206, 0.16329999268054962, -0.0940999984741211, 0.40049999952316284, 0.14630000293254852, 0.30329999327659607, 0.18690000474452972, 0.7032999992370605, 0.65829998254776, 0.6482999920845032, -0.06989999860525131, -0.15960000455379486, 0.265500009059906, 0.1834000051021576, -0.24420000612735748, -0.15700000524520874, -0.41530001163482666, 1.819100022315979, 1.8150999546051025, 1.8149000406265259, 1.8142000436782837, 1.805999994277954, 1.8037999868392944, 1.802899956703186, 1.8020000457763672, 1.8004000186920166, 1.7934000492095947, 1.7913000583648682, 1.7890000343322754, 1.7882000207901, 1.7874000072479248, 1.7854000329971313, 1.7829999923706055, 1.7798000574111938, 1.777999997138977, 1.777500033378601, 1.7759000062942505, 1.7753000259399414, 1.7752000093460083, 1.7752000093460083, 1.7747000455856323, 1.770799994468689, 1.7700999975204468, 1.769700050354004, 1.7670999765396118, 1.7664999961853027, 1.7654999494552612, 1.7522000074386597, 1.76419997215271, 1.754699945449829, 1.7654000520706177, 1.7187999486923218, 1.6877000331878662, 1.6714999675750732, 1.6023999452590942, 1.6341999769210815, 1.6203999519348145, 1.5262999534606934, 1.695099949836731, 1.721500039100647, 1.7117999792099, 1.4352999925613403, 1.5080000162124634, 1.6207000017166138, 1.5572999715805054, 1.5069999694824219, 1.6212999820709229, 1.3601000308990479, 1.4616999626159668, 1.3352999687194824, 1.472100019454956, 1.283400058746338, 0.9314000010490417, 1.2318999767303467, 1.4003000259399414, 1.200700044631958, 1.1938999891281128, 0.5810999870300293, 0.3601999878883362, 0.3822999894618988, 0.2443999946117401, 0.9882000088691711, 1.1291999816894531, 0.5260000228881836, 0.15080000460147858, 0.376800000667572, 0.05570000037550926, -0.7301999926567078, -0.05130000039935112, 0.444599986076355, -0.0722000002861023, 0.3720000088214874, -0.09279999881982803, 1.8575999736785889, 1.8472000360488892, 1.84660005569458, 1.8456000089645386, 1.8456000089645386, 1.843999981880188, 1.8356000185012817, 1.8308000564575195, 1.830199956893921, 1.829300045967102, 1.8272000551223755, 1.823099970817566, 1.8229999542236328, 1.8212000131607056, 1.8205000162124634, 1.8198000192642212, 1.8180999755859375, 1.8176000118255615, 1.8172999620437622, 1.8166999816894531, 1.8142000436782837, 1.8097000122070312, 1.809499979019165, 1.8078999519348145, 1.8075000047683716, 1.80649995803833, 1.8062000274658203, 1.805799961090088, 1.8047000169754028, 1.8047000169754028, 1.797700047492981, 1.8020000457763672, 1.7172000408172607, 1.6963000297546387, 1.7762999534606934, 1.7029999494552612, 1.7706999778747559, 1.7735999822616577, 1.670799970626831, 1.6620999574661255, 1.7106000185012817, 1.5742000341415405, 1.6461000442504883, 1.6929999589920044, 1.6047999858856201, 1.6672999858856201, 1.5341999530792236, 1.3615000247955322, 1.2039999961853027, 1.5382000207901, 1.465999960899353, 1.232100009918213, 1.516700029373169, 1.2041000127792358, 1.2913000583648682, 1.169800043106079, 1.114300012588501, 0.45910000801086426, 1.0729000568389893, 0.07660000026226044, 0.7960000038146973, 1.0576000213623047, 0.40869998931884766, 1.190500020980835, 0.37790000438690186, 0.29159998893737793, -0.07069999724626541, -0.14710000157356262, 0.19900000095367432, 0.8553000092506409, 0.37369999289512634, 0.3598000109195709, 0.5616000294685364, 0.2078000009059906, 0.8687999844551086, 0.10140000283718109, 0.3682999908924103, 0.4765999913215637, 0.33250001072883606, 0.3337000012397766, -0.121799997985363, -0.298799991607666, -0.16189999878406525, -0.5076000094413757, 0.03799999877810478, -0.49390000104904175, 2.129300117492676, 2.1178998947143555, 2.1115000247955322, 2.1103999614715576, 2.109499931335449, 2.1064000129699707, 2.1029000282287598, 2.102299928665161, 2.0999999046325684, 2.0966999530792236, 2.088200092315674, 2.086699962615967, 2.0815999507904053, 2.0750999450683594, 2.0741000175476074, 2.0720999240875244, 2.064199924468994, 2.059299945831299, 2.057499885559082, 2.0566000938415527, 2.055500030517578, 2.0524001121520996, 2.0510001182556152, 2.050299882888794, 2.0495998859405518, 2.0460000038146973, 2.0445001125335693, 2.041300058364868, 2.039099931716919, 2.035900115966797, 2.021199941635132, 1.9903000593185425, 1.9164999723434448, 2.0336999893188477, 2.015199899673462, 1.652500033378601, 1.9105000495910645, 1.7853000164031982, 1.7979999780654907, 1.9596999883651733, 1.6044000387191772, 1.645799994468689, 1.7599999904632568, 1.4158999919891357, 1.906999945640564, 1.6050000190734863, 1.5027999877929688, 1.507099986076355, 0.9156000018119812, 0.6177999973297119, 0.7524999976158142, 1.0927000045776367, 1.2282999753952026, 0.42899999022483826, 1.5994999408721924, 0.8937000036239624, 0.5910999774932861, 0.8449000120162964, 0.6355000138282776, 0.8586999773979187, 0.8902000188827515, 0.3765000104904175, 0.19249999523162842, -0.47859999537467957, -0.09080000221729279, 0.32739999890327454, 0.4675999879837036, 0.2353000044822693, 0.4345000088214874, -0.7968999743461609, 0.09510000050067902, -0.27059999108314514, -0.3653999865055084, 2.5123000144958496, 2.510699987411499, 2.508500099182129, 2.504300117492676, 2.5006000995635986, 2.4923999309539795, 2.4874000549316406, 2.472399950027466, 2.4609999656677246, 2.460200071334839, 2.4591000080108643, 2.4588000774383545, 2.45740008354187, 2.4565000534057617, 2.4563000202178955, 2.4535999298095703, 2.452199935913086, 2.446700096130371, 2.4463999271392822, 2.441999912261963, 2.4346001148223877, 2.4337000846862793, 2.4335999488830566, 2.4333999156951904, 2.432300090789795, 2.4291999340057373, 2.427799940109253, 2.4263999462127686, 2.4242000579833984, 2.423799991607666, 2.416800022125244, 2.4228999614715576, 2.4223999977111816, 2.386699914932251, 2.4100000858306885, 2.31820011138916, 2.2952001094818115, 2.0209999084472656, 2.0334999561309814, 1.8547999858856201, 1.8358999490737915, 2.2971999645233154, 1.9510999917984009, 1.805899977684021, 2.1651999950408936, 2.029599905014038, 1.8073999881744385, 1.2955000400543213, 0.492000013589859, 1.3797999620437622, 1.2045999765396118, 1.5503000020980835, 1.0095000267028809, 0.5753999948501587, 0.4032999873161316, 0.4350999891757965, -0.26989999413490295, 0.9093999862670898, -0.32199999690055847, -0.07289999723434448, 0.055799998342990875, 1.0128999948501587, -0.12919999659061432, 0.31529998779296875, -0.2700999975204468, -0.1679999977350235, -0.5519000291824341, 2.5278000831604004, 2.526900053024292, 2.5190000534057617, 2.518699884414673, 2.5130999088287354, 2.510699987411499, 2.5004000663757324, 2.498300075531006, 2.494499921798706, 2.4918999671936035, 2.4821999073028564, 2.4809000492095947, 2.4763998985290527, 2.4756999015808105, 2.4704999923706055, 2.4693000316619873, 2.462100028991699, 2.4607999324798584, 2.460700035095215, 2.455899953842163, 2.452500104904175, 2.4521000385284424, 2.4516000747680664, 2.4511001110076904, 2.4502999782562256, 2.448499917984009, 2.442199945449829, 2.437700033187866, 2.435800075531006, 2.434000015258789, 2.4337000846862793, 2.3849000930786133, 2.351099967956543, 2.382999897003174, 2.2228000164031982, 2.333699941635132, 2.1839001178741455, 2.284600019454956, 2.2558999061584473, 2.223900079727173, 2.2249999046325684, 2.230299949645996, 2.2623000144958496, 2.1382999420166016, 2.307499885559082, 2.0443999767303467, 1.9258999824523926, 2.0703001022338867, 1.8271000385284424, 2.0183000564575195, 1.7258000373840332, 1.4831000566482544, 1.3605999946594238, 1.826799988746643, 1.2065999507904053, 1.3210999965667725, 1.3349000215530396, 0.866100013256073, 1.3205000162124634, 1.8341000080108643, 1.3946000337600708, 0.35920000076293945, 0.5292999744415283, 0.45719999074935913, 1.1741000413894653, 1.0348999500274658, 0.03150000050663948, 1.0857000350952148, -0.5415999889373779, -0.06239999830722809, -0.5547999739646912, 0.2921999990940094, -0.33320000767707825, 0.10540000349283218, 0.14880000054836273, -1.2462999820709229, 0.666700005531311, -0.7889000177383423, -0.4625999927520752], \"logprob\": [30.0, 29.0, 28.0, 27.0, 26.0, 25.0, 24.0, 23.0, 22.0, 21.0, 20.0, 19.0, 18.0, 17.0, 16.0, 15.0, 14.0, 13.0, 12.0, 11.0, 10.0, 9.0, 8.0, 7.0, 6.0, 5.0, 4.0, 3.0, 2.0, 1.0, -5.4197998046875, -6.02239990234375, -7.099699974060059, -7.274700164794922, -5.196700096130371, -7.343999862670898, -7.263299942016602, -7.550099849700928, -7.49459981918335, -6.729100227355957, -6.213799953460693, -5.947800159454346, -7.54610013961792, -6.941699981689453, -5.158299922943115, -7.849599838256836, -7.70959997177124, -5.142099857330322, -7.736000061035156, -7.789700031280518, -7.876299858093262, -8.014699935913086, -6.401000022888184, -7.820700168609619, -8.094499588012695, -7.3628997802734375, -7.527299880981445, -7.826300144195557, -6.651100158691406, -8.000300407409668, -2.940999984741211, -6.417600154876709, -4.843200206756592, -6.012199878692627, -3.505500078201294, -4.767099857330322, -6.186399936676025, -6.846399784088135, -5.355500221252441, -5.985300064086914, -6.267399787902832, -6.346199989318848, -5.5584001541137695, -4.485400199890137, -5.289299964904785, -4.933800220489502, -6.204500198364258, -4.8618998527526855, -4.006400108337402, -4.774499893188477, -5.543000221252441, -5.084000110626221, -5.8983001708984375, -5.498600006103516, -5.915299892425537, -5.116399765014648, -4.070300102233887, -5.4085001945495605, -5.299699783325195, -5.468500137329102, -5.3007001876831055, -4.393099784851074, -4.884099960327148, -5.242700099945068, -4.480599880218506, -4.98799991607666, -5.070799827575684, -5.247499942779541, -5.389400005340576, -5.38700008392334, -5.251500129699707, -5.3979997634887695, -5.452899932861328, -6.949100017547607, -6.851500034332275, -7.105400085449219, -7.023499965667725, -7.26609992980957, -7.572199821472168, -6.499800205230713, -7.632400035858154, -7.686299800872803, -6.78380012512207, -7.776599884033203, -7.825099945068359, -7.341000080108643, -7.856299877166748, -7.951300144195557, -7.821499824523926, -7.9766998291015625, -8.026000022888184, -8.033699989318848, -7.647799968719482, -8.019700050354004, -7.833700180053711, -8.098199844360352, -7.8805999755859375, -8.169400215148926, -8.165599822998047, -8.201199531555176, -8.233400344848633, -8.179900169372559, -6.809800148010254, -7.256100177764893, -7.669099807739258, -7.028800010681152, -5.957600116729736, -5.389500141143799, -6.861599922180176, -7.3007001876831055, -7.510499954223633, -5.140900135040283, -2.9565999507904053, -5.178500175476074, -6.738100051879883, -6.260200023651123, -6.349599838256836, -4.1493000984191895, -6.852399826049805, -6.703499794006348, -6.240900039672852, -7.026700019836426, -6.368500232696533, -5.895299911499023, -6.768400192260742, -3.3173000812530518, -6.131199836730957, -5.895400047302246, -5.058599948883057, -3.6798999309539795, -4.286099910736084, -4.742800235748291, -5.391499996185303, -6.42549991607666, -4.854100227355957, -5.0467000007629395, -5.207699775695801, -6.083799839019775, -5.884099960327148, -5.289999961853027, -4.4832000732421875, -4.663000106811523, -4.369999885559082, -5.144000053405762, -4.894599914550781, -5.084700107574463, -4.96589994430542, -5.55679988861084, -5.542500019073486, -5.617099761962891, -5.129700183868408, -5.08050012588501, -5.394700050354004, -5.426199913024902, -5.286600112915039, -5.371500015258789, -5.414100170135498, -6.61460018157959, -6.527900218963623, -6.921000003814697, -6.94890022277832, -7.270100116729736, -7.220099925994873, -7.3105998039245605, -7.422800064086914, -7.343500137329102, -7.637700080871582, -7.689799785614014, -7.80679988861084, -7.805300235748291, -7.843500137329102, -7.877699851989746, -7.913300037384033, -6.43779993057251, -7.767399787902832, -7.658199787139893, -8.009400367736816, -8.030599594116211, -7.744999885559082, -8.03339958190918, -8.088299751281738, -8.155099868774414, -4.752699851989746, -7.817999839782715, -7.550600051879883, -8.153499603271484, -7.888599872589111, -5.115300178527832, -6.9766998291015625, -6.145899772644043, -7.482600212097168, -5.785600185394287, -6.013000011444092, -5.756100177764893, -4.453800201416016, -5.379000186920166, -5.250999927520752, -3.8452000617980957, -6.4745001792907715, -6.9375, -6.8140997886657715, -3.9937000274658203, -5.004000186920166, -6.081999778747559, -5.685400009155273, -5.33459997177124, -6.375400066375732, -5.405700206756592, -5.924200057983398, -5.443399906158447, -6.008999824523926, -5.365900039672852, -4.128499984741211, -5.283299922943115, -5.900400161743164, -5.396999835968018, -5.39709997177124, -4.245200157165527, -3.805999994277954, -4.218599796295166, -4.031599998474121, -5.259200096130371, -5.5254998207092285, -5.073400020599365, -4.770199775695801, -5.048600196838379, -5.097099781036377, -4.643400192260742, -5.050099849700928, -5.353700160980225, -5.2866997718811035, -5.430300235748291, -5.405099868774414, -6.472499847412109, -7.093100070953369, -7.0817999839782715, -7.0152997970581055, -7.151000022888184, -7.220099925994873, -7.407299995422363, -7.63100004196167, -7.647600173950195, -7.673299789428711, -7.696000099182129, -7.815800189971924, -7.792900085449219, -7.849100112915039, -7.876699924468994, -7.852499961853027, -7.904699802398682, -7.923699855804443, -7.936100006103516, -7.94950008392334, -7.98960018157959, -8.064000129699707, -8.077500343322754, -8.103400230407715, -7.714399814605713, -8.12090015411377, -8.12399959564209, -8.138400077819824, -8.159700393676758, -8.15820026397705, -3.555000066757202, -7.968800067901611, -4.353000164031982, -5.355299949645996, -7.342199802398682, -5.769599914550781, -7.387199878692627, -7.449699878692627, -6.350299835205078, -6.261099815368652, -6.934199810028076, -5.893899917602539, -6.487100124359131, -6.888400077819824, -6.319699764251709, -6.766600131988525, -6.171899795532227, -5.246399879455566, -4.612500190734863, -6.329500198364258, -6.119999885559082, -5.278200149536133, -6.456200122833252, -5.316800117492676, -5.8130998611450195, -5.447299957275391, -5.521999835968018, -3.8173000812530518, -5.473100185394287, -3.8366000652313232, -5.223999977111816, -5.712900161743164, -4.590099811553955, -5.973899841308594, -4.774899959564209, -4.686399936676025, -4.346700191497803, -4.313199996948242, -4.841899871826172, -5.614299774169922, -5.1417999267578125, -5.184599876403809, -5.38730001449585, -5.104499816894531, -5.660999774932861, -5.113100051879883, -5.310699939727783, -5.402200222015381, -5.33459997177124, -5.367199897766113, -5.181600093841553, -5.125, -5.2042999267578125, -5.108500003814697, -5.350100040435791, -5.385499954223633, -5.097099781036377, -6.086599826812744, -6.756199836730957, -6.8206000328063965, -6.855000019073486, -6.9629998207092285, -7.100900173187256, -7.122200012207031, -7.183499813079834, -7.2855000495910645, -7.277500152587891, -7.530099868774414, -7.638700008392334, -7.755499839782715, -7.7104997634887695, -7.763700008392334, -7.162799835205078, -8.00629997253418, -7.9054999351501465, -8.01360034942627, -7.905900001525879, -7.8084001541137695, -7.8069000244140625, -7.990900039672852, -6.4096999168396, -8.149299621582031, -8.107500076293945, -7.6596999168396, -7.794300079345703, -8.274100303649902, -4.278600215911865, -5.3140997886657715, -2.9749999046325684, -7.564799785614014, -7.575200080871582, -3.9570999145507812, -6.528800010681152, -5.85290002822876, -5.948500156402588, -7.191800117492676, -4.993599891662598, -5.361199855804443, -6.198500156402588, -4.724400043487549, -6.968200206756592, -5.7546000480651855, -5.693999767303467, -5.847799777984619, -4.12529993057251, -3.2953999042510986, -4.168399810791016, -5.037399768829346, -5.384900093078613, -3.8469998836517334, -6.235000133514404, -5.0524001121521, -4.796999931335449, -5.211299896240234, -4.925099849700928, -5.323599815368652, -5.369900226593018, -5.134900093078613, -5.119800090789795, -4.644800186157227, -4.917099952697754, -5.262800216674805, -5.348800182342529, -5.280200004577637, -5.387499809265137, -5.073400020599365, -5.333899974822998, -5.248600006103516, -5.364200115203857, -4.1041998863220215, -4.946700096130371, -5.457900047302246, -5.456900119781494, -6.12470006942749, -6.5345001220703125, -6.710100173950195, -7.135200023651123, -7.255199909210205, -7.047500133514404, -7.0914998054504395, -7.075399875640869, -7.37939977645874, -7.344799995422363, -6.314700126647949, -7.342299938201904, -7.395199775695801, -7.344299793243408, -5.570400238037109, -4.554100036621094, -7.0879998207092285, -7.4816999435424805, -6.783899784088135, -7.741600036621094, -6.311800003051758, -7.739299774169922, -7.139999866485596, -7.842700004577637, -7.779099941253662, -2.970099925994873, -4.791800022125244, -7.2692999839782715, -7.299499988555908, -6.257299900054932, -7.119500160217285, -6.125500202178955, -6.196899890899658, -4.293799877166748, -4.660999774932861, -4.781599998474121, -4.940100193023682, -6.723199844360352, -5.556300163269043, -5.228499889373779, -6.327700138092041, -5.978600025177002, -5.4822001457214355, -4.67549991607666, -3.4212000370025635, -5.14109992980957, -4.996200084686279, -5.617599964141846, -5.207200050354004, -4.812600135803223, -4.749599933624268, -4.877200126647949, -4.436100006103516, -5.274600028991699, -4.5980000495910645, -4.899199962615967, -4.985099792480469, -5.505799770355225, -5.127999782562256, -5.351799964904785, -5.329999923706055, -5.382500171661377, -5.472799777984619, -5.933899879455566, -5.745200157165527, -6.427199840545654, -6.293300151824951, -6.644499778747559, -6.723599910736084, -6.87939977645874, -6.969099998474121, -6.771399974822998, -7.0929999351501465, -7.384699821472168, -7.372499942779541, -7.474100112915039, -7.401599884033203, -7.563600063323975, -7.570899963378906, -7.680200099945068, -7.695199966430664, -7.696499824523926, -6.745100021362305, -7.795499801635742, -7.514699935913086, -6.664700031280518, -7.812399864196777, -7.802199840545654, -7.8454999923706055, -7.791399955749512, -7.952000141143799, -7.347300052642822, -7.927299976348877, -7.579400062561035, -6.795599937438965, -6.632199764251709, -7.08489990234375, -5.369900226593018, -6.598800182342529, -5.137400150299072, -6.184100151062012, -6.023499965667725, -5.81220006942749, -5.9766998291015625, -6.073200225830078, -6.288099765777588, -5.755000114440918, -6.7291998863220215, -5.5355000495910645, -5.04040002822876, -5.701399803161621, -5.508900165557861, -6.0655999183654785, -5.395699977874756, -5.243500232696533, -5.154600143432617, -5.91379976272583, -4.958899974822998, -5.189199924468994, -5.262800216674805, -4.645299911499023, -5.255000114440918, -5.946199893951416, -5.554200172424316, -4.639599800109863, -4.899700164794922, -4.855100154876709, -5.475200176239014, -5.378600120544434, -4.889400005340576, -5.505300045013428, -4.707799911499023, -5.040299892425537, -4.830699920654297, -5.298099994659424, -5.1595001220703125, -5.282700061798096, -5.366700172424316, -5.159599781036377, -5.473499774932861, -5.389800071716309, -5.503399848937988]}, \"token.table\": {\"Topic\": [5, 1, 2, 4, 5, 6, 7, 1, 2, 3, 4, 5, 6, 7, 2, 1, 2, 3, 4, 5, 6, 7, 2, 3, 4, 5, 6, 5, 3, 1, 7, 1, 2, 3, 4, 5, 6, 7, 1, 2, 3, 6, 7, 2, 3, 5, 7, 1, 2, 3, 4, 5, 6, 7, 7, 1, 3, 4, 7, 4, 1, 2, 3, 4, 5, 6, 7, 3, 4, 5, 4, 1, 2, 3, 4, 5, 6, 7, 1, 2, 4, 5, 6, 2, 1, 2, 3, 4, 5, 6, 7, 2, 3, 4, 5, 6, 7, 1, 2, 3, 4, 5, 6, 7, 1, 2, 3, 4, 5, 6, 7, 1, 2, 3, 4, 5, 6, 7, 1, 2, 3, 4, 5, 6, 7, 1, 1, 2, 3, 4, 5, 6, 7, 2, 3, 1, 2, 3, 4, 5, 6, 7, 1, 2, 3, 4, 5, 6, 7, 2, 1, 2, 3, 4, 5, 6, 7, 3, 1, 2, 3, 4, 5, 6, 7, 1, 2, 3, 5, 7, 1, 2, 3, 4, 5, 6, 7, 2, 3, 2, 5, 1, 1, 2, 3, 4, 5, 6, 7, 2, 4, 5, 6, 1, 1, 2, 3, 4, 5, 6, 7, 1, 3, 7, 1, 2, 3, 4, 5, 6, 7, 2, 3, 5, 1, 2, 3, 4, 5, 7, 2, 3, 4, 5, 7, 1, 1, 3, 5, 6, 7, 1, 2, 3, 4, 5, 6, 7, 3, 1, 1, 2, 3, 4, 6, 7, 1, 2, 3, 4, 5, 6, 7, 5, 7, 1, 2, 3, 4, 5, 7, 1, 2, 3, 2, 5, 2, 4, 1, 2, 3, 4, 5, 6, 7, 1, 2, 3, 4, 5, 6, 7, 1, 2, 3, 4, 5, 6, 7, 1, 2, 3, 4, 5, 6, 7, 4, 2, 3, 4, 5, 6, 2, 4, 1, 2, 3, 4, 5, 6, 7, 3, 6, 1, 2, 3, 4, 5, 6, 7, 2, 1, 2, 3, 7, 1, 2, 3, 4, 7, 1, 2, 3, 4, 5, 6, 7, 2, 3, 4, 5, 6, 7, 4, 4, 1, 2, 3, 4, 5, 6, 7, 7, 1, 2, 3, 4, 5, 6, 7, 4, 3, 1, 2, 3, 4, 5, 6, 7, 2, 7, 5, 1, 2, 3, 5, 6, 3, 4, 5, 6, 7, 7, 6, 7, 4, 1, 3, 1, 2, 3, 4, 5, 6, 7, 5, 6, 2, 5, 1, 2, 3, 4, 6, 7, 7, 1, 2, 3, 5, 6, 7, 3, 5, 6, 7, 6, 7, 1, 2, 3, 4, 5, 6, 7, 5, 6, 1, 2, 3, 4, 5, 6, 7, 1, 7, 1, 6, 1, 3, 4, 6, 7, 1, 2, 3, 4, 5, 6, 7, 2, 3, 6, 3, 1, 2, 3, 4, 5, 6, 7, 4, 1, 2, 3, 4, 5, 6, 7, 4, 1, 1, 2, 3, 4, 5, 6, 7, 2, 3, 4, 5, 6, 7, 2, 4, 5, 6, 7, 1, 2, 7, 4, 3, 6, 7, 4, 3, 2, 1, 2, 3, 4, 5, 6, 7, 5, 1, 2, 3, 4, 5, 6, 7, 1, 2, 3, 4, 5, 6, 7, 1, 2, 3, 4, 5, 6, 7, 2, 4, 7, 2, 5, 6, 4, 1, 2, 3, 4, 5, 6, 7, 1, 4, 1, 2, 3, 4, 5, 6, 7, 3, 4, 1, 4, 1, 2, 3, 4, 5, 6, 7, 1, 2, 4, 5, 6, 7, 2, 3, 1, 3, 5, 1, 3, 1, 2, 3, 4, 5, 6, 7, 3, 5, 2, 5, 3, 5, 6, 1, 2, 3, 4, 5, 6, 7, 2, 4, 5, 5, 1, 2, 3, 4, 5, 6, 7, 1, 2, 3, 4, 5, 6, 7, 2, 1, 2, 3, 4, 5, 6, 7, 4, 5, 1, 2, 3, 4, 5, 6, 7, 2, 3, 6, 7, 2, 1, 2, 3, 4, 6, 1, 2, 3, 4, 5, 6, 7, 1, 2, 3, 4, 7, 1, 6, 1, 2, 3, 4, 5, 6, 7, 6, 1, 2, 3, 4, 5, 6, 7, 1, 2, 3, 4, 5, 6, 7, 7, 3, 4, 6, 4, 1, 2, 3, 4, 5, 7, 1, 2, 3, 4, 5, 6, 7, 1, 2, 3, 4, 5, 6, 7, 2, 2, 3, 1, 2, 3, 5, 6, 7, 2, 3, 4, 6, 7, 7, 5, 7, 4, 7, 1, 2, 3, 4, 5, 7, 4, 1, 2, 3, 4, 5, 6, 7, 1, 3, 7, 7, 4, 1, 2, 3, 4, 5, 6, 7, 1, 2, 4, 5, 6, 7, 2, 3, 4, 5, 7, 2, 1, 2, 3, 4, 5, 6, 7, 7, 1, 2, 3, 4, 5, 6, 7, 1, 2, 3, 5, 6, 7, 1, 2, 4, 5, 6, 5, 7, 1, 2, 3, 4, 5, 6, 7, 3, 1, 2, 3, 4, 5, 6, 7, 1, 2, 3, 4, 5, 6, 7, 1, 2, 3, 4, 5, 6, 7, 1, 2, 3, 4, 5, 6, 7, 1, 2, 3, 4, 5, 6, 7, 1, 2, 3, 4, 5, 6, 7, 4, 3, 4, 4, 4, 1, 2, 3, 4, 5, 6, 7, 6, 1, 2, 3, 4, 5, 6, 7, 1, 5, 1, 2, 4, 5, 6, 7, 3, 1, 2, 3, 4, 5, 6, 7, 1, 3, 5, 6, 1, 2, 3, 4, 5, 6, 7, 1, 2, 3, 4, 5, 6, 7, 1, 3, 4, 5, 2, 3, 1, 2, 3, 4, 5, 6, 7, 3, 1, 1, 2, 3, 5, 6, 7, 7, 6, 1, 2, 3, 4, 5, 6, 7, 1, 1, 2, 3, 4, 5, 6, 7, 1, 2, 3, 1, 3, 5, 5, 1, 2, 3, 4, 5, 6, 7, 6, 1, 2, 3, 4, 5, 6, 7, 2, 1, 2, 3, 4, 5, 6, 7, 1, 2, 4, 5, 6, 2, 1, 2, 3, 4, 5, 6, 7, 6, 1, 2, 3, 4, 6, 7, 1, 1, 2, 3, 4, 5, 6, 7, 1, 2, 4, 7, 1, 3, 5, 7, 4, 1, 2, 3, 4, 5, 7, 1, 2, 3, 4, 5, 6, 7, 1, 3, 7, 1, 2, 4, 6, 1, 2, 3, 4, 5, 6, 7, 5, 2, 4, 5, 6, 7, 5, 1, 2, 3, 4, 5, 6, 7, 4, 1, 2, 3, 4, 5, 6, 7, 1, 2, 3, 4, 5, 6, 7, 4, 1, 2, 1, 2, 3, 4, 5, 6, 7, 1, 3, 3, 1, 2, 3, 4, 5, 6, 7, 5, 1, 3, 7, 1, 2, 3, 4, 5, 1, 2, 3, 4, 5, 6, 7, 7, 4, 5, 1, 2, 3, 4, 5, 6, 7, 5, 1, 2, 3, 4, 5, 6, 7, 2, 3, 4, 5, 6, 5, 2, 3, 4, 1, 2, 3, 4, 5, 6, 7, 1, 4, 6, 1, 5, 6, 1, 4, 5, 7, 1, 6, 7, 3, 1, 2, 3, 4, 5, 6, 7, 2, 3, 5, 7, 1, 2, 3, 4, 5, 6, 7, 1, 2, 3, 4, 6, 7, 5, 1, 3, 5, 6, 1, 3, 7, 1, 2, 3, 4, 5, 6, 7, 3, 3, 5, 6, 6, 7, 3, 2, 3, 4, 3, 4, 6, 4, 1, 1, 2, 3, 4, 5, 6, 7, 1, 2, 3, 4, 5, 6, 7, 2, 5, 6, 1, 2, 3, 4, 5, 6, 7, 4, 5, 1, 2, 3, 4, 5, 6, 7, 4, 2, 3, 4, 5, 7, 2, 2, 3, 4, 5, 6, 7, 2, 3, 4, 5, 6, 5, 1, 2, 3, 4, 5, 6, 7, 2, 6, 3, 4, 1, 2, 3, 4, 5, 6, 7, 5, 4, 5, 5, 1, 3, 7, 3, 6, 1, 2, 3, 4, 5, 6, 7, 1, 2, 3, 5, 7, 3, 1, 2, 3, 4, 5, 6, 7, 4, 7, 1, 2, 3, 4, 5, 6, 7, 1, 2, 3, 4, 5, 6, 7, 7, 1, 2, 3, 4, 5, 6, 7, 2, 7, 2, 4, 1, 2, 3, 4, 5, 6, 7, 3, 5, 6, 2, 1, 2, 3, 4, 5, 7, 1, 2, 3, 4, 5, 6, 7, 5, 1, 3, 6, 2, 6, 1, 2, 3, 4, 5, 6, 7, 1, 2, 3, 4, 5, 6, 7, 1, 2, 3, 4, 5, 6, 7, 1, 2, 3, 4, 7, 1, 5, 1, 2, 3, 4, 5, 6, 7, 1, 2, 3, 4, 5, 6, 7, 1, 2, 3, 4, 5, 7, 5, 7, 7, 1, 7, 1, 2, 3, 4, 5, 6, 7, 1, 2, 3, 4, 5, 6, 7, 1, 2, 3, 4, 5, 6, 7, 2, 3, 4, 5, 6, 7, 2, 3, 7, 3, 4, 6, 7, 5, 6, 1, 2, 3, 4, 5, 6, 7, 4, 3, 6, 1, 2, 3, 4, 5, 6, 7, 7, 2, 3, 4, 5, 6, 7, 1, 2, 3, 4, 5, 6, 7, 2, 2, 4, 5, 7, 7, 1, 2, 4, 6, 3, 5, 1, 2, 3, 4, 5, 6, 7, 4, 1, 2, 3, 4, 5, 6, 7, 3, 2, 2, 3, 4, 5, 6, 2, 2, 3, 4, 6, 1, 2, 3, 4, 5, 6, 7, 1, 2, 3, 4, 5, 6, 7, 1, 2, 3, 4, 5, 6, 7, 1, 2, 3, 4, 5, 6, 7, 1, 2, 3, 4, 5, 6, 7, 1, 3, 5, 7, 2, 1, 2, 3, 4, 5, 6, 7, 1, 2, 3, 4, 5, 6, 7, 3, 6, 7, 1, 2, 3, 4, 7, 1, 2, 3, 4, 5, 6, 7, 1, 2, 4, 5, 6, 6, 6, 7], \"Freq\": [0.9564053416252136, 0.06721033155918121, 0.06721033155918121, 0.5273426175117493, 0.03360516577959061, 0.010340051725506783, 0.2946914732456207, 0.0680043175816536, 0.4020255506038666, 0.05600355938076973, 0.17401105165481567, 0.22301417589187622, 0.061003874987363815, 0.016001015901565552, 0.9478746652603149, 0.028097182512283325, 0.2669232487678528, 0.037462908774614334, 0.5619436502456665, 0.04682863876223564, 0.02341431938111782, 0.037462908774614334, 0.8897044062614441, 0.004236687906086445, 0.08897044509649277, 0.004236687906086445, 0.00847337581217289, 0.9269812703132629, 0.9754483699798584, 0.15326616168022156, 0.8276373147964478, 0.9061242938041687, 0.003015388734638691, 0.04573339596390724, 0.002512824023142457, 0.023620545864105225, 0.0010051295394077897, 0.018092332407832146, 0.9190412759780884, 0.008752773515880108, 0.043763868510723114, 0.008752773515880108, 0.017505547031760216, 0.8676418662071228, 0.0885348841547966, 0.01770697720348835, 0.01770697720348835, 0.039931029081344604, 0.023958615958690643, 0.10382067412137985, 0.023958615958690643, 0.7027860879898071, 0.015972411260008812, 0.08784826099872589, 0.9825381636619568, 0.1789350062608719, 0.01988166756927967, 0.01988166756927967, 0.7555033564567566, 0.9447723031044006, 0.02102011628448963, 0.014013410545885563, 0.06306035071611404, 0.04204023256897926, 0.16816093027591705, 0.5675431489944458, 0.1261207014322281, 0.9096188545227051, 0.0562497153878212, 0.8999954462051392, 0.963201642036438, 0.08745729923248291, 0.03949684649705887, 0.530386209487915, 0.0028212033212184906, 0.03949684649705887, 0.0028212033212184906, 0.2990475594997406, 0.06362573057413101, 0.031812865287065506, 0.06362573057413101, 0.031812865287065506, 0.7953215837478638, 0.9254640936851501, 0.008051549084484577, 0.35829392075538635, 0.014090210199356079, 0.15096653997898102, 0.28784286975860596, 0.12077323347330093, 0.05837372690439224, 0.7006005048751831, 0.011033078655600548, 0.022066157311201096, 0.18756233155727386, 0.05516539141535759, 0.016549617052078247, 0.24789799749851227, 0.01792033761739731, 0.49579599499702454, 0.03882739692926407, 0.06869462877511978, 0.05077429115772247, 0.08362824469804764, 0.07252748310565948, 0.10879123210906982, 0.01813187077641487, 0.0604395717382431, 0.5862638354301453, 0.07857144623994827, 0.07252748310565948, 0.09204238653182983, 0.11965510249137878, 0.009204238653182983, 0.009204238653182983, 0.04602119326591492, 0.23010596632957458, 0.4878246486186981, 0.214309424161911, 0.04805726557970047, 0.21950480341911316, 0.20911404490470886, 0.18313714861869812, 0.08832146227359772, 0.036367662250995636, 0.9697446823120117, 0.5302130579948425, 0.005302130244672298, 0.012371637858450413, 0.0035347535740584135, 0.3534753620624542, 0.005302130244672298, 0.09013621509075165, 0.9455665946006775, 0.9638000726699829, 0.26709333062171936, 0.003380928188562393, 0.6085670590400696, 0.016904640942811966, 0.016904640942811966, 0.003380928188562393, 0.08452320843935013, 0.1968981772661209, 0.20468512177467346, 0.13237787783145905, 0.21469688415527344, 0.07230724394321442, 0.11012949049472809, 0.06785756349563599, 0.9483860731124878, 0.6556674838066101, 0.07578951865434647, 0.11809064447879791, 0.028200751170516014, 0.038776032626628876, 0.0017625469481572509, 0.07931461185216904, 0.9756332635879517, 0.019437018781900406, 0.08746658265590668, 0.06802956759929657, 0.2040887027978897, 0.5831105709075928, 0.009718509390950203, 0.019437018781900406, 0.9443771839141846, 0.006424334831535816, 0.032121673226356506, 0.006424334831535816, 0.006424334831535816, 0.9129044413566589, 0.012857808731496334, 0.012857808731496334, 0.016072260215878487, 0.03214452043175697, 0.0032144521828740835, 0.012857808731496334, 0.9092524647712708, 0.05866144970059395, 0.03911314532160759, 0.9387154579162598, 0.9698266386985779, 0.044608574360609055, 0.5854875445365906, 0.022304287180304527, 0.10594536364078522, 0.033456429839134216, 0.050184644758701324, 0.1617060750722885, 0.8163170218467712, 0.12321765720844269, 0.015402207151055336, 0.04620662331581116, 0.9723641276359558, 0.15733963251113892, 0.010631056502461433, 0.1445823609828949, 0.036145590245723724, 0.03827180340886116, 0.6080964207649231, 0.004252422600984573, 0.9637997150421143, 0.01927599497139454, 0.00963799748569727, 0.0687059834599495, 0.050494760274887085, 0.735899031162262, 0.06705041974782944, 0.07036154717206955, 0.0016555659240111709, 0.0057944804430007935, 0.03880604729056358, 0.8925390839576721, 0.058209069073200226, 0.0016647763550281525, 0.024971645325422287, 0.018312539905309677, 0.8573598265647888, 0.056602396070957184, 0.03995463252067566, 0.10826724767684937, 0.006766702979803085, 0.8458378911018372, 0.006766702979803085, 0.03383351489901543, 0.9738624095916748, 0.1733974665403366, 0.018252365291118622, 0.027378546074032784, 0.1551450937986374, 0.6205803751945496, 0.07778207957744598, 0.6812960505485535, 0.06559934467077255, 0.02998827025294304, 0.03935960680246353, 0.05622800812125206, 0.048730939626693726, 0.9768466949462891, 0.9774353504180908, 0.8882479071617126, 0.011535687372088432, 0.05383320525288582, 0.003845229046419263, 0.003845229046419263, 0.03845228999853134, 0.2127569317817688, 0.12945526838302612, 0.18911726772785187, 0.22288820147514343, 0.09230723977088928, 0.08217595517635345, 0.07204467058181763, 0.9089003801345825, 0.8994137644767761, 0.16408047080039978, 0.2187739461660385, 0.034804947674274445, 0.5071578025817871, 0.024860676378011703, 0.04972135275602341, 0.970893144607544, 0.008090776391327381, 0.016181552782654762, 0.9671834111213684, 0.9241864085197449, 0.9620779156684875, 0.027886316180229187, 0.012031086720526218, 0.024062173441052437, 0.018046630546450615, 0.07218652218580246, 0.5353833436965942, 0.0842176079750061, 0.25866836309432983, 0.592211127281189, 0.19082358479499817, 0.12502235174179077, 0.029610557481646538, 0.016450310125947, 0.016450310125947, 0.03125558793544769, 0.011287189088761806, 0.019752580672502518, 0.06772313266992569, 0.07618852704763412, 0.589755654335022, 0.05925774201750755, 0.17777323722839355, 0.9683293104171753, 0.9034277200698853, 0.03795914724469185, 0.02277548983693123, 0.007591829635202885, 0.01518365927040577, 0.007591829635202885, 0.9389088153839111, 0.8810169696807861, 0.016018489375710487, 0.08009245246648788, 0.016018489375710487, 0.016018489375710487, 0.9806988835334778, 0.9304500818252563, 0.0817122757434845, 0.17133218050003052, 0.11861459165811539, 0.366387277841568, 0.14497338235378265, 0.10807107388973236, 0.007907639257609844, 0.05256600305438042, 0.9461880326271057, 0.008732746355235577, 0.20521953701972961, 0.004366373177617788, 0.17465493083000183, 0.03929735720157623, 0.4890337884426117, 0.07422834634780884, 0.977403998374939, 0.9535963535308838, 0.009730574674904346, 0.009730574674904346, 0.019461149349808693, 0.927607536315918, 0.0061430963687598705, 0.055287864059209824, 0.0061430963687598705, 0.0061430963687598705, 0.10820749402046204, 0.01603073999285698, 0.468899130821228, 0.004007684998214245, 0.0801536962389946, 0.00801536999642849, 0.31660711765289307, 0.008500936441123486, 0.8670955300331116, 0.01700187288224697, 0.01700187288224697, 0.04250468313694, 0.04250468313694, 0.9763879776000977, 0.9481595158576965, 0.12410198897123337, 0.012410198338329792, 0.6887660026550293, 0.018615297973155975, 0.11789688467979431, 0.018615297973155975, 0.012410198338329792, 0.8685998320579529, 0.6555739641189575, 0.009748311713337898, 0.21446286141872406, 0.07311233878135681, 0.014622467570006847, 0.009748311713337898, 0.02437078021466732, 0.9638317823410034, 0.9718276262283325, 0.14017057418823242, 0.016686974093317986, 0.6240928173065186, 0.09678445011377335, 0.07342268526554108, 0.006674789357930422, 0.04338613152503967, 0.9511537551879883, 0.9352295398712158, 0.9298595190048218, 0.9347178339958191, 0.008199279196560383, 0.04099639877676964, 0.008199279196560383, 0.9728661775588989, 0.09700506925582886, 0.06467004120349884, 0.03233502060174942, 0.03233502060174942, 0.7760405540466309, 0.9747257232666016, 0.9190055131912231, 0.964146077632904, 0.9455652832984924, 0.08865278214216232, 0.8865278363227844, 0.18008677661418915, 0.33993908762931824, 0.09307856112718582, 0.22662606835365295, 0.058679964393377304, 0.02832825854420662, 0.07486753910779953, 0.9689100384712219, 0.9355685114860535, 0.19259405136108398, 0.7978896498680115, 0.9687415361404419, 0.0028079464100301266, 0.005615892820060253, 0.005615892820060253, 0.0028079464100301266, 0.011231785640120506, 0.9850280284881592, 0.0420861653983593, 0.014028721489012241, 0.07014361023902893, 0.11222977191209793, 0.0420861653983593, 0.7294934988021851, 0.07329703122377396, 0.12826980650424957, 0.01832425780594349, 0.769618809223175, 0.9724605679512024, 0.8725228309631348, 0.14348509907722473, 0.024833958595991135, 0.33111944794654846, 0.09105785191059113, 0.08002053201198578, 0.03587127476930618, 0.2952481806278229, 0.0028747410979121923, 0.9946603775024414, 0.9358945488929749, 0.003957271110266447, 0.04550861567258835, 0.0019786355551332235, 0.005935906432569027, 0.0019786355551332235, 0.003957271110266447, 0.9822725057601929, 0.8512637615203857, 0.05499781295657158, 0.934962809085846, 0.9730879664421082, 0.006198012735694647, 0.012396025471389294, 0.006198012735694647, 0.006198012735694647, 0.0341900959610939, 0.0056983488611876965, 0.64961177110672, 0.05698348954319954, 0.15385542809963226, 0.011396697722375393, 0.09117358177900314, 0.963211178779602, 0.038743678480386734, 0.929848313331604, 0.9381060004234314, 0.07552813738584518, 0.20517486333847046, 0.10050594806671143, 0.18792827427387238, 0.2955707311630249, 0.08504348993301392, 0.049360908567905426, 0.9889640808105469, 0.8276851773262024, 0.017116090282797813, 0.09291591495275497, 0.012225777842104435, 0.017116090282797813, 0.0012225777609273791, 0.031787022948265076, 0.9389641880989075, 0.9559690952301025, 0.07646620273590088, 0.3705669939517975, 0.026469070464372635, 0.1588144153356552, 0.2896892726421356, 0.055879149585962296, 0.022057559341192245, 0.7921906113624573, 0.00880211777985096, 0.13203176856040955, 0.01760423555970192, 0.02640635333955288, 0.01760423555970192, 0.8391719460487366, 0.009536044672131538, 0.11443253606557846, 0.028608134016394615, 0.009536044672131538, 0.035014644265174866, 0.035014644265174866, 0.9103807806968689, 0.9748523235321045, 0.9438773393630981, 0.8870865702629089, 0.8912848234176636, 0.9790496826171875, 0.9372487664222717, 0.9285157322883606, 0.4414467215538025, 0.19913843274116516, 0.020888647064566612, 0.15736113488674164, 0.09608777612447739, 0.07937685400247574, 0.0055703055113554, 0.9890841245651245, 0.13077238202095032, 0.011888398788869381, 0.03566519543528557, 0.023776797577738762, 0.011888398788869381, 0.05944199487566948, 0.7251923084259033, 0.10985969007015228, 0.19273629784584045, 0.15997113287448883, 0.12527859210968018, 0.12527859210968018, 0.2216467410326004, 0.06553034484386444, 0.011399717070162296, 0.3077923655509949, 0.017099576070904732, 0.6013351082801819, 0.042748939245939255, 0.002849929267540574, 0.014249647036194801, 0.897229015827179, 0.018692271783947945, 0.056076813489198685, 0.9406509399414062, 0.904678225517273, 0.9083558320999146, 0.9398469924926758, 0.07018793374300003, 0.3433517813682556, 0.05880610644817352, 0.10243644565343857, 0.13089101016521454, 0.269369900226593, 0.026557596400380135, 0.948309600353241, 0.8980258107185364, 0.012471336871385574, 0.03741401061415672, 0.12471336126327515, 0.012471336871385574, 0.11224202811717987, 0.11224202811717987, 0.5861527919769287, 0.9907817840576172, 0.9158416390419006, 0.9476024508476257, 0.029612576588988304, 0.0028763283044099808, 0.40843862295150757, 0.048897579312324524, 0.4976047873497009, 0.020134298130869865, 0.014381641522049904, 0.011505313217639923, 0.014978138729929924, 0.853753924369812, 0.10484696924686432, 0.014978138729929924, 0.014978138729929924, 0.014978138729929924, 0.9615622162818909, 0.04370737448334694, 0.9641698002815247, 0.9441425800323486, 0.887780487537384, 0.9602929949760437, 0.024622896686196327, 0.855331540107727, 0.0028228764422237873, 0.1100921779870987, 0.005645752884447575, 0.005645752884447575, 0.0028228764422237873, 0.0197601355612278, 0.9856874942779541, 0.8981760144233704, 0.9525077939033508, 0.028863873332738876, 0.9186636805534363, 0.039941899478435516, 0.9342743158340454, 0.16863271594047546, 0.28841155767440796, 0.22914211452007294, 0.13292226195335388, 0.07340483367443085, 0.06150134652853012, 0.04587801918387413, 0.10880274325609207, 0.03626758232712746, 0.8341543674468994, 0.9583652019500732, 0.20536532998085022, 0.16135847568511963, 0.20398147404193878, 0.1436450332403183, 0.18183965981006622, 0.05839903652667999, 0.0451139472424984, 0.004442094825208187, 0.08439980447292328, 0.004442094825208187, 0.8395559787750244, 0.004442094825208187, 0.0355367586016655, 0.026652570813894272, 0.9411507248878479, 0.060658134520053864, 0.32196950912475586, 0.07702620327472687, 0.16637659072875977, 0.21952468156814575, 0.1319073736667633, 0.022530164569616318, 0.8963313698768616, 0.07794185727834702, 0.048223335295915604, 0.18753519654273987, 0.08037222176790237, 0.4500844478607178, 0.06697685271501541, 0.05358148366212845, 0.11252111196517944, 0.8468555808067322, 0.12546008825302124, 0.010455007664859295, 0.02091001532971859, 0.9372114539146423, 0.028495870530605316, 0.7123967409133911, 0.08548761159181595, 0.009498623199760914, 0.16147659718990326, 0.09455645829439163, 0.10028715431690216, 0.040114860981702805, 0.11174854636192322, 0.4040139615535736, 0.0974218100309372, 0.15186341106891632, 0.516694962978363, 0.003209285670891404, 0.12516213953495026, 0.006418571341782808, 0.3466028571128845, 0.9551258683204651, 0.9572572708129883, 0.012743785046041012, 0.09770235419273376, 0.004247928503900766, 0.09770235419273376, 0.6117017269134521, 0.11894199997186661, 0.055223070085048676, 0.9605987071990967, 0.285915732383728, 0.1621921956539154, 0.270320326089859, 0.09253273159265518, 0.05614345520734787, 0.050944987684488297, 0.08317548781633377, 0.09104669094085693, 0.14837238192558289, 0.03709309548139572, 0.053953591734170914, 0.14500027894973755, 0.5058149099349976, 0.01686049811542034, 0.8757288455963135, 0.9577023983001709, 0.9123298525810242, 0.035089608281850815, 0.9467280507087708, 0.10099397599697113, 0.005179177969694138, 0.7224953770637512, 0.012947945855557919, 0.04661260545253754, 0.11394192278385162, 0.028176790103316307, 0.2028728872537613, 0.14088395237922668, 0.028176790103316307, 0.08453036844730377, 0.49027612805366516, 0.028176790103316307, 0.01009916327893734, 0.23985512554645538, 0.14475466310977936, 0.1599034070968628, 0.21376562118530273, 0.1430714726448059, 0.08752607554197311, 0.9698508381843567, 0.9145293831825256, 0.03658117726445198, 0.04433885216712952, 0.0036949042696505785, 0.9237260818481445, 0.014779617078602314, 0.0036949042696505785, 0.014779617078602314, 0.23105311393737793, 0.010045787319540977, 0.7132509350776672, 0.010045787319540977, 0.020091574639081955, 0.8562223315238953, 0.9945834875106812, 0.9814738035202026, 0.07621552050113678, 0.9145862460136414, 0.06411485373973846, 0.012822970747947693, 0.8206701278686523, 0.06411485373973846, 0.03419458866119385, 0.008548647165298462, 0.9549977779388428, 0.12798917293548584, 0.0269450880587101, 0.0269450880587101, 0.7409899234771729, 0.01347254402935505, 0.03368136286735535, 0.02020881697535515, 0.9786598086357117, 0.017686622217297554, 0.0029477705247700214, 0.9703203439712524, 0.9080851078033447, 0.8162748217582703, 0.007558100391179323, 0.05290670320391655, 0.011337150819599628, 0.0736914798617363, 0.0207847747951746, 0.01700572483241558, 0.0879991203546524, 0.01099989004433155, 0.0989990159869194, 0.6929931044578552, 0.0329996719956398, 0.076999232172966, 0.12883040308952332, 0.011711855418980122, 0.8198298811912537, 0.023423710837960243, 0.011711855418980122, 0.9630610942840576, 0.16424065828323364, 0.14077770709991455, 0.059960875660181046, 0.19552458822727203, 0.12252874672412872, 0.22159454226493835, 0.096458800137043, 0.8924073576927185, 0.15742115676403046, 0.4407792389392853, 0.027286333963274956, 0.18050958216190338, 0.09445269405841827, 0.056671615689992905, 0.041978973895311356, 0.06065540015697479, 0.07581925392150879, 0.030327700078487396, 0.045491550117731094, 0.030327700078487396, 0.7581925392150879, 0.010393435135483742, 0.06236060708761215, 0.015590151771903038, 0.010393435135483742, 0.9042288064956665, 0.9819053411483765, 0.9642851948738098, 0.07233298569917679, 0.10849948227405548, 0.0762079656124115, 0.5140808820724487, 0.1885824352502823, 0.016791585832834244, 0.02324988879263401, 0.9614274501800537, 0.2332199066877365, 0.11689506471157074, 0.15167847275733948, 0.23207947611808777, 0.082111656665802, 0.07070726156234741, 0.11290352791547775, 0.004202018957585096, 0.016808075830340385, 0.016808075830340385, 0.012606057338416576, 0.008404037915170193, 0.9286462068557739, 0.008404037915170193, 0.11314207315444946, 0.46042537689208984, 0.06914237886667252, 0.18228445947170258, 0.08957080543041229, 0.03457118943333626, 0.05028536543250084, 0.8021156787872314, 0.03465931862592697, 0.03961065039038658, 0.06436730921268463, 0.014853994362056255, 0.009902662597596645, 0.03465931862592697, 0.3026973605155945, 0.23088960349559784, 0.13919660449028015, 0.10384508222341537, 0.14692974090576172, 0.03756098821759224, 0.03866572305560112, 0.26487866044044495, 0.0764073058962822, 0.23176883161067963, 0.16300225257873535, 0.15536153316497803, 0.04075056314468384, 0.06749312579631805, 0.981054425239563, 0.938156008720398, 0.048110563308000565, 0.9538136124610901, 0.9455639719963074, 0.011806224472820759, 0.20070582628250122, 0.005903112236410379, 0.16528715193271637, 0.023612448945641518, 0.10625602304935455, 0.48995834589004517, 0.9930428862571716, 0.2928069531917572, 0.20207802951335907, 0.09072890877723694, 0.24744248390197754, 0.06873401999473572, 0.05498721823096275, 0.04398977383971214, 0.9894137978553772, 0.006776806898415089, 0.059828028082847595, 0.17948408424854279, 0.7179363369941711, 0.025640584528446198, 0.008546861819922924, 0.008546861819922924, 0.9838114976882935, 0.5638502836227417, 0.0808185338973999, 0.11089055240154266, 0.10713154822587967, 0.03195151314139366, 0.05638502538204193, 0.05074652284383774, 0.02669663168489933, 0.0444943867623806, 0.7119101881980896, 0.20467418432235718, 0.02893221192061901, 0.008767337538301945, 0.671578049659729, 0.007890603505074978, 0.12975658476352692, 0.019288141280412674, 0.13326352834701538, 0.001641669892705977, 0.004925009794533253, 0.792926549911499, 0.008208349347114563, 0.0886501744389534, 0.03119172714650631, 0.07059180736541748, 0.06792792677879333, 0.8694774508476257, 0.027171170338988304, 0.027171170338988304, 0.9408676624298096, 0.9812635183334351, 0.07789663225412369, 0.007418726570904255, 0.8086411952972412, 0.01112809032201767, 0.02596554346382618, 0.0037093632854521275, 0.06676854193210602, 0.9591952562332153, 0.9804025888442993, 0.12053843587636948, 0.015067304484546185, 0.24107687175273895, 0.007533652242273092, 0.007533652242273092, 0.6102257966995239, 0.9570108652114868, 0.9025323390960693, 0.004763463977724314, 0.042871177196502686, 0.12861353158950806, 0.009526927955448627, 0.1571943163871765, 0.21435588598251343, 0.4430021643638611, 0.9692256450653076, 0.06703658401966095, 0.08007147908210754, 0.2178688943386078, 0.2681463360786438, 0.2793191075325012, 0.014897018671035767, 0.07262296974658966, 0.9513604044914246, 0.014865006320178509, 0.029730012640357018, 0.9455661177635193, 0.045753199607133865, 0.007625533267855644, 0.9608330130577087, 0.012060402892529964, 0.27135905623435974, 0.016583053395152092, 0.23216275870800018, 0.07990016788244247, 0.2954798638820648, 0.09196057170629501, 0.9321416616439819, 0.17950868606567383, 0.3417569100856781, 0.06558971107006073, 0.21518027782440186, 0.06789110600948334, 0.0840008556842804, 0.047178562730550766, 0.9513483643531799, 0.18026061356067657, 0.21351902186870575, 0.16895274817943573, 0.2248268872499466, 0.07050783932209015, 0.12106063216924667, 0.02062021754682064, 0.039342112839221954, 0.7770066857337952, 0.13769738376140594, 0.009835528209805489, 0.039342112839221954, 0.9625604152679443, 0.3199600279331207, 0.0536578930914402, 0.4292631447315216, 0.0357719287276268, 0.015898633748292923, 0.011923976242542267, 0.1351383924484253, 0.9624636173248291, 0.007579736411571503, 0.08337710052728653, 0.007579736411571503, 0.6670168042182922, 0.21223261952400208, 0.015159472823143005, 0.9931151866912842, 0.1250779777765274, 0.13932736217975616, 0.08707959949970245, 0.3419853448867798, 0.12982776761054993, 0.13299429416656494, 0.04433143138885498, 0.11654387414455414, 0.029135968536138535, 0.029135968536138535, 0.8158071041107178, 0.9666004180908203, 0.022030780091881752, 0.005507695022970438, 0.005507695022970438, 0.8994438052177429, 0.11601822823286057, 0.04094760864973068, 0.6961093544960022, 0.102369025349617, 0.00682460144162178, 0.02729840576648712, 0.9466675519943237, 0.0017912347102537751, 0.029256833717226982, 0.0005970782367512584, 0.008657634258270264, 0.0005970782367512584, 0.01253864262253046, 0.010382640175521374, 0.9240549802780151, 0.06229584291577339, 0.9412878751754761, 0.8753411173820496, 0.08539913594722748, 0.02134978398680687, 0.01137353852391243, 0.030058637261390686, 0.006499164737761021, 0.9301930069923401, 0.005686769261956215, 0.005686769261956215, 0.010561143048107624, 0.9592954516410828, 0.005719514098018408, 0.09723173826932907, 0.8636466264724731, 0.005719514098018408, 0.02287805639207363, 0.9346448183059692, 0.014577705413103104, 0.7871960997581482, 0.026239870116114616, 0.06705744564533234, 0.026239870116114616, 0.07288853079080582, 0.005831082351505756, 0.9768482446670532, 0.1518797129392624, 0.3420979976654053, 0.10469377785921097, 0.26984453201293945, 0.07077889144420624, 0.022118404507637024, 0.036864008754491806, 0.17620936036109924, 0.16131843626499176, 0.0943092405796051, 0.36234602332115173, 0.1290547400712967, 0.017372753471136093, 0.06204555183649063, 0.9689980149269104, 0.9885072708129883, 0.9832775592803955, 0.041226912289857864, 0.020613456144928932, 0.1133740097284317, 0.06184036657214165, 0.020613456144928932, 0.06184036657214165, 0.6699373126029968, 0.042764365673065186, 0.9408160448074341, 0.938615620136261, 0.7001527547836304, 0.016571663320064545, 0.14362108707427979, 0.002761943731456995, 0.06766762584447861, 0.0013809718657284975, 0.06766762584447861, 0.962684690952301, 0.8943049907684326, 0.014781900681555271, 0.08130045235157013, 0.02231907658278942, 0.11159537732601166, 0.03347861394286156, 0.7030509114265442, 0.12275491654872894, 0.1516372114419937, 0.20874109864234924, 0.2859992980957031, 0.11420777440071106, 0.10796953737735748, 0.0748588815331459, 0.05614415928721428, 0.8791323304176331, 0.9125754237174988, 0.0730060338973999, 0.13952209055423737, 0.12176472693681717, 0.2498713731765747, 0.18137870728969574, 0.13191178441047668, 0.08498163521289825, 0.09005516767501831, 0.8966860771179199, 0.14239245653152466, 0.31448641419410706, 0.23324409127235413, 0.10482880473136902, 0.11007025092840195, 0.022712908685207367, 0.07250659167766571, 0.022857947275042534, 0.8114571571350098, 0.11428973823785782, 0.011428973637521267, 0.034286923706531525, 0.882942795753479, 0.9236127138137817, 0.9678730368614197, 0.9707843065261841, 0.14243456721305847, 0.1654665470123291, 0.4054839313030243, 0.13637351989746094, 0.04182121530175209, 0.061822663992643356, 0.04667004942893982, 0.9502504467964172, 0.049579109996557236, 0.9420031309127808, 0.9559429883956909, 0.025156395509839058, 0.9455545544624329, 0.20348359644412994, 0.04423556476831436, 0.25656625628471375, 0.4865911900997162, 0.04976407438516617, 0.04976407438516617, 0.8459892272949219, 0.9679662585258484, 0.07129322737455368, 0.05346991866827011, 0.5762869119644165, 0.011882204562425613, 0.02079385705292225, 0.011882204562425613, 0.25546738505363464, 0.006469039712101221, 0.8474442362785339, 0.006469039712101221, 0.13584983348846436, 0.08832358568906784, 0.0025977524928748608, 0.5481257438659668, 0.025977523997426033, 0.023379772901535034, 0.007793257478624582, 0.3065347969532013, 0.018771948292851448, 0.018771948292851448, 0.11263169348239899, 0.13140363991260529, 0.6945621371269226, 0.909459114074707, 0.9518609642982483, 0.9576582312583923, 0.03574018552899361, 0.14296074211597443, 0.8220242857933044, 0.9896525740623474, 0.0037204984109848738, 0.0037204984109848738, 0.1723676472902298, 0.15266849100589752, 0.13296933472156525, 0.14610210061073303, 0.27578824758529663, 0.0574558824300766, 0.06402227282524109, 0.9776758551597595, 0.05445350334048271, 0.92570960521698, 0.018151167780160904, 0.96726393699646, 0.9512748122215271, 0.9570019841194153, 0.12387672066688538, 0.05309002101421356, 0.8140469789505005, 0.04366904869675636, 0.04366904869675636, 0.8733809590339661, 0.9269616603851318, 0.9908381700515747, 0.005817190278321505, 0.005817190278321505, 0.08725785464048386, 0.052354712039232254, 0.11052661389112473, 0.04072033241391182, 0.6980628371238708, 0.04662209376692772, 0.20202907919883728, 0.02797325700521469, 0.05283837392926216, 0.0435139536857605, 0.615411639213562, 0.012432558462023735, 0.9372797608375549, 0.045720964670181274, 0.022860482335090637, 0.04624568298459053, 0.1387370526790619, 0.011561420746147633, 0.03468426316976547, 0.011561420746147633, 0.612755298614502, 0.1387370526790619, 0.9865781664848328, 0.9831039905548096, 0.7810078859329224, 0.013293751515448093, 0.12629063427448273, 0.006646875757724047, 0.019940627738833427, 0.006646875757724047, 0.043204691261053085, 0.961624264717102, 0.10674510896205902, 0.01779085211455822, 0.08895425498485565, 0.8005883097648621, 0.9510493278503418, 0.9544256329536438, 0.015532005578279495, 0.06212802231311798, 0.015532005578279495, 0.07766002416610718, 0.07766002416610718, 0.7300042510032654, 0.011660187505185604, 0.011660187505185604, 0.011660187505185604, 0.03498056158423424, 0.9328149557113647, 0.9435644745826721, 0.14922308921813965, 0.13430078327655792, 0.003730577416718006, 0.27979329228401184, 0.16974127292633057, 0.19958588480949402, 0.061554525047540665, 0.0529341958463192, 0.8998813033103943, 0.9422524571418762, 0.04282965883612633, 0.25895100831985474, 0.0837782695889473, 0.0685458555817604, 0.1523241251707077, 0.17231667041778564, 0.07711409032344818, 0.1865970492362976, 0.9754324555397034, 0.1047230064868927, 0.8943344354629517, 0.9553967714309692, 0.3222283124923706, 0.13868053257465363, 0.5384067893028259, 0.9593319296836853, 0.9927343726158142, 0.39260804653167725, 0.1995597928762436, 0.23441572487354279, 0.09269379824399948, 0.034855931997299194, 0.010341870598495007, 0.035621996968984604, 0.5936979055404663, 0.00469326414167881, 0.1572243571281433, 0.02346632070839405, 0.22058342397212982, 0.9536832571029663, 0.019640138372778893, 0.0321384072303772, 0.11784083396196365, 0.03570934385061264, 0.4874325394630432, 0.15176470577716827, 0.1535501778125763, 0.9749760627746582, 0.858463704586029, 0.0025396491400897503, 0.03809473663568497, 0.006772398017346859, 0.02370339259505272, 0.016930995509028435, 0.9108875393867493, 0.0008465497521683574, 0.003599642775952816, 0.663995623588562, 0.013844779692590237, 0.24394501745700836, 0.05344085022807121, 0.01467546634376049, 0.006922389846295118, 0.9675910472869873, 0.02620152197778225, 0.0524030439555645, 0.013100760988891125, 0.7991464138031006, 0.0786045640707016, 0.013100760988891125, 0.013100760988891125, 0.959948718547821, 0.018460553139448166, 0.14356911182403564, 0.8409048318862915, 0.09528204053640366, 0.014012064784765244, 0.526853621006012, 0.028024129569530487, 0.08687479794025421, 0.016814477741718292, 0.23260027170181274, 0.9605177044868469, 0.06415864080190659, 0.8982210159301758, 0.9474389553070068, 0.8000305891036987, 0.0048486702144145966, 0.08727606385946274, 0.019394680857658386, 0.06788138300180435, 0.01454601064324379, 0.7068642973899841, 0.014367161318659782, 0.028734322637319565, 0.03160775452852249, 0.07758267223834991, 0.005746864248067141, 0.13792474567890167, 0.9555996060371399, 0.048265326768159866, 0.024132663384079933, 0.9170411825180054, 0.9983572959899902, 0.9344621896743774, 0.00335335242561996, 0.38228216767311096, 0.00335335242561996, 0.4426425099372864, 0.046946931630373, 0.00670670485123992, 0.11401397734880447, 0.04247550293803215, 0.04247550293803215, 0.021237751469016075, 0.8070345520973206, 0.010618875734508038, 0.06371325254440308, 0.010618875734508038, 0.32118847966194153, 0.1513972133398056, 0.14856736361980438, 0.17049872875213623, 0.08277324587106705, 0.06791650503873825, 0.056597091257572174, 0.021266024559736252, 0.08506409823894501, 0.010633012279868126, 0.7655768394470215, 0.10633011907339096, 0.07172850519418716, 0.9324705600738525, 0.1463118940591812, 0.35405245423316956, 0.09884429723024368, 0.20606523752212524, 0.0904676616191864, 0.030155887827277184, 0.07371439039707184, 0.6509838104248047, 0.13877330720424652, 0.0440739281475544, 0.1310305893421173, 0.019654588773846626, 0.004764748737215996, 0.011316278949379921, 0.15122629702091217, 0.00360062625259161, 0.7201252579689026, 0.02160375751554966, 0.01080187875777483, 0.09001565724611282, 0.9424435496330261, 0.06282956898212433, 0.9852802753448486, 0.06820773333311081, 0.8867005109786987, 0.9215332865715027, 0.007213567849248648, 0.030657663941383362, 0.001803391962312162, 0.019837312400341034, 0.001803391962312162, 0.018033919855952263, 0.00945255532860756, 0.21320763230323792, 0.01260340679436922, 0.12183292955160141, 0.6175669431686401, 0.003150851698592305, 0.021005677059292793, 0.025610150769352913, 0.0373908206820488, 0.006658639293164015, 0.09424535930156708, 0.8046709299087524, 0.009219654835760593, 0.02202473022043705, 0.30303213000297546, 0.010272275656461716, 0.1335395872592926, 0.5341583490371704, 0.015408413484692574, 0.005136137828230858, 0.9859387278556824, 0.11200958490371704, 0.8587401509284973, 0.002932328265160322, 0.46917250752449036, 0.5160897970199585, 0.00879698432981968, 0.9848816990852356, 0.9873021841049194, 0.002612699056044221, 0.07054287940263748, 0.002612699056044221, 0.5147017240524292, 0.06270477920770645, 0.3213619887828827, 0.023514293134212494, 0.9433051943778992, 0.06228113919496536, 0.934217095375061, 0.459613561630249, 0.012817908078432083, 0.1776195764541626, 0.007324518635869026, 0.06958293169736862, 0.00915564876049757, 0.26368266344070435, 0.901649534702301, 0.0026175882667303085, 0.939714252948761, 0.0026175882667303085, 0.0026175882667303085, 0.013087942264974117, 0.041881412267684937, 0.1988638937473297, 0.15138974785804749, 0.18567661941051483, 0.08545345067977905, 0.25108543038368225, 0.04641915485262871, 0.08123352378606796, 0.936670184135437, 0.061044611036777496, 0.03815288096666336, 0.16787268221378326, 0.7249047756195068, 0.9450889825820923, 0.019536638632416725, 0.6202882528305054, 0.17582973837852478, 0.18071390688419342, 0.056710101664066315, 0.907361626625061, 0.010754112154245377, 0.021508224308490753, 0.7581648826599121, 0.010754112154245377, 0.048393502831459045, 0.010754112154245377, 0.14518050849437714, 0.962993323802948, 0.7946282625198364, 0.017125608399510384, 0.10104109346866608, 0.029113534837961197, 0.023975852876901627, 0.006850243546068668, 0.027400974184274673, 0.9581314921379089, 0.9572532773017883, 0.037515461444854736, 0.07503092288970947, 0.037515461444854736, 0.037515461444854736, 0.8065824508666992, 0.9778297543525696, 0.9443051815032959, 0.01851578801870346, 0.01851578801870346, 0.01851578801870346, 0.02104988507926464, 0.7818528413772583, 0.027064137160778046, 0.0661567822098732, 0.027064137160778046, 0.07217103242874146, 0.006014252547174692, 0.2801949381828308, 0.14215773344039917, 0.11434426158666611, 0.15039876103401184, 0.16379043459892273, 0.04326539486646652, 0.10507310926914215, 0.13385744392871857, 0.5039339065551758, 0.09055062383413315, 0.12204649299383163, 0.12204649299383163, 0.007873967289924622, 0.019684918224811554, 0.23228828608989716, 0.1271372139453888, 0.12235761433839798, 0.22368501126766205, 0.15007926523685455, 0.0535314567387104, 0.09081228822469711, 0.15966632962226868, 0.1446976214647293, 0.07983316481113434, 0.08981231600046158, 0.11974974721670151, 0.3792075514793396, 0.024947864934802055, 0.03407317027449608, 0.8092377781867981, 0.00851829256862402, 0.13629268109798431, 0.938555121421814, 0.03332127630710602, 0.6664255261421204, 0.03332127630710602, 0.0799710601568222, 0.06664255261421204, 0.07330680638551712, 0.0399855300784111, 0.17788393795490265, 0.09440331906080246, 0.1458960324525833, 0.1895868331193924, 0.14355546236038208, 0.12483083456754684, 0.12405063956975937, 0.9592477083206177, 0.9569435715675354, 0.8821550011634827, 0.05588154122233391, 0.020955577492713928, 0.8941046595573425, 0.013970385305583477, 0.020955577492713928, 0.17417451739311218, 0.26470592617988586, 0.09249946475028992, 0.22042424976825714, 0.10726001858711243, 0.06593047082424164, 0.07478679716587067, 0.08739805966615677, 0.021849514916539192, 0.8521311283111572, 0.021849514916539192, 0.021849514916539192, 0.9868404269218445, 0.9857641458511353, 0.9785188436508179], \"Term\": [\"absolute\", \"accurate\", \"accurate\", \"accurate\", \"accurate\", \"accurate\", \"accurate\", \"acoustic\", \"acoustic\", \"acoustic\", \"acoustic\", \"acoustic\", \"acoustic\", \"acoustic\", \"acoustical\", \"action\", \"action\", \"action\", \"action\", \"action\", \"action\", \"action\", \"addario\", \"addario\", \"addario\", \"addario\", \"addario\", \"adjustability\", \"alesis\", \"ambient\", \"ambient\", \"amp\", \"amp\", \"amp\", \"amp\", \"amp\", \"amp\", \"amp\", \"analog\", \"analog\", \"analog\", \"analog\", \"analog\", \"anchor\", \"anchor\", \"anchor\", \"anchor\", \"angle\", \"angle\", \"angle\", \"angle\", \"angle\", \"angle\", \"angle\", \"apogee\", \"app\", \"app\", \"app\", \"app\", \"appropriate\", \"arm\", \"arm\", \"arm\", \"arm\", \"arm\", \"arm\", \"arm\", \"articulate\", \"assembly\", \"assembly\", \"assortment\", \"audio\", \"audio\", \"audio\", \"audio\", \"audio\", \"audio\", \"audio\", \"authentic\", \"authentic\", \"authentic\", \"authentic\", \"authentic\", \"backing\", \"bag\", \"bag\", \"bag\", \"bag\", \"bag\", \"bag\", \"bag\", \"ball\", \"ball\", \"ball\", \"ball\", \"ball\", \"ball\", \"band\", \"band\", \"band\", \"band\", \"band\", \"band\", \"band\", \"bar\", \"bar\", \"bar\", \"bar\", \"bar\", \"bar\", \"bar\", \"base\", \"base\", \"base\", \"base\", \"base\", \"base\", \"base\", \"bass\", \"bass\", \"bass\", \"bass\", \"bass\", \"bass\", \"bass\", \"bassman\", \"battery\", \"battery\", \"battery\", \"battery\", \"battery\", \"battery\", \"battery\", \"beast\", \"bed\", \"behringer\", \"behringer\", \"behringer\", \"behringer\", \"behringer\", \"behringer\", \"behringer\", \"bit\", \"bit\", \"bit\", \"bit\", \"bit\", \"bit\", \"bit\", \"blind\", \"board\", \"board\", \"board\", \"board\", \"board\", \"board\", \"board\", \"boogie\", \"book\", \"book\", \"book\", \"book\", \"book\", \"book\", \"book\", \"boost\", \"boost\", \"boost\", \"boost\", \"boost\", \"boss\", \"boss\", \"boss\", \"boss\", \"boss\", \"boss\", \"boss\", \"bottle\", \"bottle\", \"bracket\", \"bracket\", \"breakup\", \"bridge\", \"bridge\", \"bridge\", \"bridge\", \"bridge\", \"bridge\", \"bridge\", \"bronze\", \"bronze\", \"bronze\", \"bronze\", \"bugera\", \"button\", \"button\", \"button\", \"button\", \"button\", \"button\", \"button\", \"bypass\", \"bypass\", \"bypass\", \"cable\", \"cable\", \"cable\", \"cable\", \"cable\", \"cable\", \"cable\", \"capability\", \"capability\", \"capability\", \"capo\", \"capo\", \"capo\", \"capo\", \"capo\", \"capo\", \"capos\", \"capos\", \"capos\", \"capos\", \"capos\", \"carbon\", \"card\", \"card\", \"card\", \"card\", \"card\", \"case\", \"case\", \"case\", \"case\", \"case\", \"case\", \"case\", \"cassette\", \"champ\", \"channel\", \"channel\", \"channel\", \"channel\", \"channel\", \"channel\", \"cheap\", \"cheap\", \"cheap\", \"cheap\", \"cheap\", \"cheap\", \"cheap\", \"checking\", \"cheesy\", \"chord\", \"chord\", \"chord\", \"chord\", \"chord\", \"chord\", \"chorus\", \"chorus\", \"chorus\", \"chunky\", \"circular\", \"claim\", \"claim\", \"clamp\", \"clamp\", \"clamp\", \"clamp\", \"clamp\", \"clamp\", \"clamp\", \"clean\", \"clean\", \"clean\", \"clean\", \"clean\", \"clean\", \"clean\", \"clip\", \"clip\", \"clip\", \"clip\", \"clip\", \"clip\", \"clip\", \"clipping\", \"cloth\", \"cloth\", \"cloth\", \"cloth\", \"cloth\", \"cloth\", \"coat\", \"coated\", \"coated\", \"coated\", \"coated\", \"coated\", \"cobalt\", \"code\", \"color\", \"color\", \"color\", \"color\", \"color\", \"color\", \"color\", \"colorful\", \"colorful\", \"comfortable\", \"comfortable\", \"comfortable\", \"comfortable\", \"comfortable\", \"comfortable\", \"comfortable\", \"comparable\", \"compression\", \"compression\", \"compression\", \"compression\", \"compressor\", \"compressor\", \"compressor\", \"compressor\", \"compressor\", \"computer\", \"computer\", \"computer\", \"computer\", \"computer\", \"computer\", \"computer\", \"condenser\", \"condenser\", \"condenser\", \"condenser\", \"condenser\", \"condenser\", \"configuration\", \"confusing\", \"connector\", \"connector\", \"connector\", \"connector\", \"connector\", \"connector\", \"connector\", \"considering\", \"control\", \"control\", \"control\", \"control\", \"control\", \"control\", \"control\", \"controller\", \"converter\", \"cord\", \"cord\", \"cord\", \"cord\", \"cord\", \"cord\", \"cord\", \"cordoba\", \"correction\", \"creative\", \"crunch\", \"crunch\", \"crunch\", \"crunch\", \"cumbersome\", \"cup\", \"cup\", \"cup\", \"cup\", \"cup\", \"curve\", \"cushion\", \"cute\", \"dava\", \"daw\", \"daw\", \"day\", \"day\", \"day\", \"day\", \"day\", \"day\", \"day\", \"dedicated\", \"defect\", \"defective\", \"defective\", \"delay\", \"delay\", \"delay\", \"delay\", \"delay\", \"delay\", \"delicate\", \"desk\", \"desk\", \"desk\", \"desk\", \"desk\", \"desk\", \"desktop\", \"desktop\", \"desktop\", \"desktop\", \"detract\", \"detune\", \"device\", \"device\", \"device\", \"device\", \"device\", \"device\", \"device\", \"display\", \"display\", \"distortion\", \"distortion\", \"distortion\", \"distortion\", \"distortion\", \"distortion\", \"distortion\", \"ditto\", \"drag\", \"drilling\", \"drilling\", \"drive\", \"drive\", \"drive\", \"drive\", \"drive\", \"drum\", \"drum\", \"drum\", \"drum\", \"drum\", \"drum\", \"drum\", \"drywall\", \"dvd\", \"dvd\", \"dyna\", \"easy\", \"easy\", \"easy\", \"easy\", \"easy\", \"easy\", \"easy\", \"echo\", \"effect\", \"effect\", \"effect\", \"effect\", \"effect\", \"effect\", \"effect\", \"effortless\", \"ehx\", \"electric\", \"electric\", \"electric\", \"electric\", \"electric\", \"electric\", \"electric\", \"elixir\", \"elixir\", \"elixir\", \"elixir\", \"elixir\", \"elixir\", \"ernie\", \"ernie\", \"ernie\", \"ernie\", \"ernie\", \"error\", \"error\", \"error\", \"estate\", \"exchange\", \"experimentation\", \"fabulous\", \"fade\", \"feed\", \"fellow\", \"fender\", \"fender\", \"fender\", \"fender\", \"fender\", \"fender\", \"fender\", \"fiddle\", \"filter\", \"filter\", \"filter\", \"filter\", \"filter\", \"filter\", \"filter\", \"fine\", \"fine\", \"fine\", \"fine\", \"fine\", \"fine\", \"fine\", \"finger\", \"finger\", \"finger\", \"finger\", \"finger\", \"finger\", \"finger\", \"fingerboard\", \"fingerboard\", \"fingerboard\", \"fingering\", \"fingerprint\", \"fingerstyle\", \"fire\", \"fit\", \"fit\", \"fit\", \"fit\", \"fit\", \"fit\", \"fit\", \"fizzy\", \"floyd\", \"foam\", \"foam\", \"foam\", \"foam\", \"foam\", \"foam\", \"foam\", \"focusrite\", \"fond\", \"footswitch\", \"footswitch\", \"fret\", \"fret\", \"fret\", \"fret\", \"fret\", \"fret\", \"fret\", \"fretboard\", \"fretboard\", \"fretboard\", \"fretboard\", \"fretboard\", \"fretboard\", \"fuller\", \"fuller\", \"fulltone\", \"funky\", \"fussy\", \"fuzz\", \"fuzz\", \"gain\", \"gain\", \"gain\", \"gain\", \"gain\", \"gain\", \"gain\", \"garageband\", \"genius\", \"glass\", \"glass\", \"gls\", \"gls\", \"godin\", \"good\", \"good\", \"good\", \"good\", \"good\", \"good\", \"good\", \"grand\", \"grand\", \"grand\", \"gravity\", \"great\", \"great\", \"great\", \"great\", \"great\", \"great\", \"great\", \"grip\", \"grip\", \"grip\", \"grip\", \"grip\", \"grip\", \"grip\", \"guild\", \"guitar\", \"guitar\", \"guitar\", \"guitar\", \"guitar\", \"guitar\", \"guitar\", \"habit\", \"habit\", \"hand\", \"hand\", \"hand\", \"hand\", \"hand\", \"hand\", \"hand\", \"hanger\", \"hanger\", \"hanger\", \"hanger\", \"hardshell\", \"harp\", \"harp\", \"harp\", \"harp\", \"harp\", \"head\", \"head\", \"head\", \"head\", \"head\", \"head\", \"head\", \"headphone\", \"headphone\", \"headphone\", \"headphone\", \"headphone\", \"headroom\", \"headset\", \"headstock\", \"headstock\", \"headstock\", \"headstock\", \"headstock\", \"headstock\", \"headstock\", \"hercule\", \"high\", \"high\", \"high\", \"high\", \"high\", \"high\", \"high\", \"hole\", \"hole\", \"hole\", \"hole\", \"hole\", \"hole\", \"hole\", \"hoping\", \"husband\", \"iii\", \"iii\", \"in\", \"input\", \"input\", \"input\", \"input\", \"input\", \"input\", \"install\", \"install\", \"install\", \"install\", \"install\", \"install\", \"install\", \"instrument\", \"instrument\", \"instrument\", \"instrument\", \"instrument\", \"instrument\", \"instrument\", \"instrumental\", \"interest\", \"interest\", \"interface\", \"interface\", \"interface\", \"interface\", \"interface\", \"interface\", \"intonation\", \"intonation\", \"intonation\", \"intonation\", \"intonation\", \"intro\", \"ipad\", \"iphone\", \"ipod\", \"ipod\", \"jam\", \"jam\", \"jam\", \"jam\", \"jam\", \"jam\", \"jamming\", \"jazz\", \"jazz\", \"jazz\", \"jazz\", \"jazz\", \"jazz\", \"jazz\", \"joyo\", \"joyo\", \"joyo\", \"keyser\", \"king\", \"knob\", \"knob\", \"knob\", \"knob\", \"knob\", \"knob\", \"knob\", \"korg\", \"korg\", \"korg\", \"korg\", \"korg\", \"korg\", \"kyser\", \"kyser\", \"kyser\", \"kyser\", \"kyser\", \"label\", \"large\", \"large\", \"large\", \"large\", \"large\", \"large\", \"large\", \"laser\", \"last\", \"last\", \"last\", \"last\", \"last\", \"last\", \"last\", \"layer\", \"layer\", \"layer\", \"layer\", \"layer\", \"layer\", \"leather\", \"leather\", \"leather\", \"leather\", \"leather\", \"lemon\", \"lid\", \"light\", \"light\", \"light\", \"light\", \"light\", \"light\", \"light\", \"link\", \"little\", \"little\", \"little\", \"little\", \"little\", \"little\", \"little\", \"lock\", \"lock\", \"lock\", \"lock\", \"lock\", \"lock\", \"lock\", \"long\", \"long\", \"long\", \"long\", \"long\", \"long\", \"long\", \"loop\", \"loop\", \"loop\", \"loop\", \"loop\", \"loop\", \"loop\", \"lot\", \"lot\", \"lot\", \"lot\", \"lot\", \"lot\", \"lot\", \"low\", \"low\", \"low\", \"low\", \"low\", \"low\", \"low\", \"lush\", \"mac\", \"mac\", \"mahalo\", \"manage\", \"mandolin\", \"mandolin\", \"mandolin\", \"mandolin\", \"mandolin\", \"mandolin\", \"mandolin\", \"manual\", \"many\", \"many\", \"many\", \"many\", \"many\", \"many\", \"many\", \"marshall\", \"marshall\", \"medium\", \"medium\", \"medium\", \"medium\", \"medium\", \"medium\", \"memory\", \"metal\", \"metal\", \"metal\", \"metal\", \"metal\", \"metal\", \"metal\", \"metronome\", \"metronome\", \"metronome\", \"metronome\", \"mic\", \"mic\", \"mic\", \"mic\", \"mic\", \"mic\", \"mic\", \"microphone\", \"microphone\", \"microphone\", \"microphone\", \"microphone\", \"microphone\", \"microphone\", \"midi\", \"midi\", \"midi\", \"midi\", \"mile\", \"mim\", \"mixer\", \"mixer\", \"mixer\", \"mixer\", \"mixer\", \"mixer\", \"mixer\", \"mixing\", \"modeling\", \"monitor\", \"monitor\", \"monitor\", \"monitor\", \"monitor\", \"monitor\", \"monitoring\", \"mood\", \"mount\", \"mount\", \"mount\", \"mount\", \"mount\", \"mount\", \"mount\", \"muff\", \"music\", \"music\", \"music\", \"music\", \"music\", \"music\", \"music\", \"mustang\", \"mustang\", \"mustang\", \"mxr\", \"mxr\", \"mxr\", \"national\", \"neck\", \"neck\", \"neck\", \"neck\", \"neck\", \"neck\", \"neck\", \"neotech\", \"new\", \"new\", \"new\", \"new\", \"new\", \"new\", \"new\", \"newbie\", \"nice\", \"nice\", \"nice\", \"nice\", \"nice\", \"nice\", \"nice\", \"nickel\", \"nickel\", \"nickel\", \"nickel\", \"nickel\", \"nickle\", \"noise\", \"noise\", \"noise\", \"noise\", \"noise\", \"noise\", \"noise\", \"nope\", \"nylon\", \"nylon\", \"nylon\", \"nylon\", \"nylon\", \"nylon\", \"ocd\", \"one\", \"one\", \"one\", \"one\", \"one\", \"one\", \"one\", \"outer\", \"outer\", \"outer\", \"outer\", \"overdrive\", \"overdrive\", \"overdrive\", \"overdrive\", \"painful\", \"patch\", \"patch\", \"patch\", \"patch\", \"patch\", \"patch\", \"pedal\", \"pedal\", \"pedal\", \"pedal\", \"pedal\", \"pedal\", \"pedal\", \"phantom\", \"phantom\", \"phantom\", \"phaser\", \"phosphor\", \"phosphor\", \"phosphor\", \"pick\", \"pick\", \"pick\", \"pick\", \"pick\", \"pick\", \"pick\", \"piezo\", \"pitch\", \"pitch\", \"pitch\", \"pitch\", \"pitch\", \"pitchblack\", \"planet\", \"planet\", \"planet\", \"planet\", \"planet\", \"planet\", \"planet\", \"platform\", \"play\", \"play\", \"play\", \"play\", \"play\", \"play\", \"play\", \"player\", \"player\", \"player\", \"player\", \"player\", \"player\", \"player\", \"pluck\", \"pod\", \"podcast\", \"pop\", \"pop\", \"pop\", \"pop\", \"pop\", \"pop\", \"pop\", \"port\", \"port\", \"positioning\", \"power\", \"power\", \"power\", \"power\", \"power\", \"power\", \"power\", \"practical\", \"preset\", \"preset\", \"preset\", \"pressure\", \"pressure\", \"pressure\", \"pressure\", \"pressure\", \"price\", \"price\", \"price\", \"price\", \"price\", \"price\", \"price\", \"pricing\", \"print\", \"print\", \"problem\", \"problem\", \"problem\", \"problem\", \"problem\", \"problem\", \"problem\", \"problematic\", \"product\", \"product\", \"product\", \"product\", \"product\", \"product\", \"product\", \"program\", \"program\", \"program\", \"program\", \"program\", \"promise\", \"prs\", \"puppy\", \"purist\", \"quality\", \"quality\", \"quality\", \"quality\", \"quality\", \"quality\", \"quality\", \"quieter\", \"radius\", \"radius\", \"rat\", \"rat\", \"ratchet\", \"read\", \"read\", \"read\", \"read\", \"readout\", \"readout\", \"readout\", \"receiver\", \"record\", \"record\", \"record\", \"record\", \"record\", \"record\", \"record\", \"recorder\", \"recorder\", \"recorder\", \"recorder\", \"recording\", \"recording\", \"recording\", \"recording\", \"recording\", \"recording\", \"recording\", \"release\", \"release\", \"release\", \"release\", \"release\", \"remote\", \"reproduction\", \"requirement\", \"responsive\", \"responsive\", \"responsive\", \"reverb\", \"reverb\", \"reverb\", \"right\", \"right\", \"right\", \"right\", \"right\", \"right\", \"right\", \"sample\", \"samson\", \"samson\", \"samson\", \"sandpaper\", \"satin\", \"satisfaction\", \"scale\", \"scale\", \"scale\", \"schaller\", \"schaller\", \"schaller\", \"scream\", \"screamer\", \"screen\", \"screen\", \"screen\", \"screen\", \"screen\", \"screen\", \"screen\", \"screw\", \"screw\", \"screw\", \"screw\", \"screw\", \"screw\", \"screw\", \"seagull\", \"seagull\", \"seagull\", \"secure\", \"secure\", \"secure\", \"secure\", \"secure\", \"secure\", \"secure\", \"select\", \"sensitivity\", \"setting\", \"setting\", \"setting\", \"setting\", \"setting\", \"setting\", \"setting\", \"share\", \"sheet\", \"sheet\", \"sheet\", \"sheet\", \"shift\", \"shine\", \"shock\", \"shock\", \"shock\", \"shock\", \"shock\", \"shock\", \"shoulder\", \"shoulder\", \"shoulder\", \"shoulder\", \"shoulder\", \"silent\", \"size\", \"size\", \"size\", \"size\", \"size\", \"size\", \"size\", \"skinny\", \"skinny\", \"slap\", \"slap\", \"small\", \"small\", \"small\", \"small\", \"small\", \"small\", \"small\", \"smart\", \"snark\", \"snark\", \"socket\", \"software\", \"software\", \"software\", \"sonar\", \"soprano\", \"sound\", \"sound\", \"sound\", \"sound\", \"sound\", \"sound\", \"sound\", \"speaker\", \"speaker\", \"speaker\", \"speaker\", \"speaker\", \"spectrum\", \"stand\", \"stand\", \"stand\", \"stand\", \"stand\", \"stand\", \"stand\", \"station\", \"stem\", \"strap\", \"strap\", \"strap\", \"strap\", \"strap\", \"strap\", \"strap\", \"string\", \"string\", \"string\", \"string\", \"string\", \"string\", \"string\", \"structure\", \"strumming\", \"strumming\", \"strumming\", \"strumming\", \"strumming\", \"strumming\", \"strumming\", \"stud\", \"stud\", \"student\", \"student\", \"studio\", \"studio\", \"studio\", \"studio\", \"studio\", \"studio\", \"studio\", \"success\", \"suede\", \"suede\", \"supple\", \"supply\", \"supply\", \"supply\", \"supply\", \"supply\", \"supply\", \"switch\", \"switch\", \"switch\", \"switch\", \"switch\", \"switch\", \"switch\", \"switchcraft\", \"tablet\", \"tablet\", \"tablet\", \"tascam\", \"template\", \"tension\", \"tension\", \"tension\", \"tension\", \"tension\", \"tension\", \"tension\", \"thickness\", \"thickness\", \"thickness\", \"thickness\", \"thickness\", \"thickness\", \"thickness\", \"thing\", \"thing\", \"thing\", \"thing\", \"thing\", \"thing\", \"thing\", \"thumb\", \"thumb\", \"thumb\", \"thumb\", \"thumb\", \"tilt\", \"tilt\", \"time\", \"time\", \"time\", \"time\", \"time\", \"time\", \"time\", \"tone\", \"tone\", \"tone\", \"tone\", \"tone\", \"tone\", \"tone\", \"track\", \"track\", \"track\", \"track\", \"track\", \"track\", \"tracking\", \"tracking\", \"trade\", \"trial\", \"trial\", \"tube\", \"tube\", \"tube\", \"tube\", \"tube\", \"tube\", \"tube\", \"tune\", \"tune\", \"tune\", \"tune\", \"tune\", \"tune\", \"tune\", \"tuner\", \"tuner\", \"tuner\", \"tuner\", \"tuner\", \"tuner\", \"tuner\", \"tuning\", \"tuning\", \"tuning\", \"tuning\", \"tuning\", \"tuning\", \"twist\", \"uca\", \"uca\", \"uke\", \"uke\", \"uke\", \"uke\", \"ukelele\", \"uku\", \"ukulele\", \"ukulele\", \"ukulele\", \"ukulele\", \"ukulele\", \"ukulele\", \"ukulele\", \"unbeatable\", \"underside\", \"underside\", \"unit\", \"unit\", \"unit\", \"unit\", \"unit\", \"unit\", \"unit\", \"unity\", \"usb\", \"usb\", \"usb\", \"usb\", \"usb\", \"usb\", \"use\", \"use\", \"use\", \"use\", \"use\", \"use\", \"use\", \"utility\", \"vibration\", \"vibration\", \"vibration\", \"vibration\", \"view\", \"violin\", \"violin\", \"violin\", \"violin\", \"virtual\", \"virtual\", \"vocal\", \"vocal\", \"vocal\", \"vocal\", \"vocal\", \"vocal\", \"vocal\", \"voltage\", \"volume\", \"volume\", \"volume\", \"volume\", \"volume\", \"volume\", \"volume\", \"vox\", \"warning\", \"washer\", \"washer\", \"washer\", \"washer\", \"washer\", \"waste\", \"water\", \"water\", \"water\", \"water\", \"wave\", \"wave\", \"wave\", \"wave\", \"wave\", \"wave\", \"wave\", \"way\", \"way\", \"way\", \"way\", \"way\", \"way\", \"way\", \"week\", \"week\", \"week\", \"week\", \"week\", \"week\", \"week\", \"well\", \"well\", \"well\", \"well\", \"well\", \"well\", \"well\", \"wide\", \"wide\", \"wide\", \"wide\", \"wide\", \"wide\", \"wide\", \"window\", \"window\", \"window\", \"window\", \"wiring\", \"wood\", \"wood\", \"wood\", \"wood\", \"wood\", \"wood\", \"wood\", \"work\", \"work\", \"work\", \"work\", \"work\", \"work\", \"work\", \"working\", \"worthless\", \"worthwhile\", \"xlr\", \"xlr\", \"xlr\", \"xlr\", \"xlr\", \"year\", \"year\", \"year\", \"year\", \"year\", \"year\", \"year\", \"yellow\", \"yellow\", \"yellow\", \"yellow\", \"yellow\", \"yeti\", \"zipper\", \"zoom\"]}, \"R\": 30, \"lambda.step\": 0.01, \"plot.opts\": {\"xlab\": \"PC1\", \"ylab\": \"PC2\"}, \"topic.order\": [1, 7, 3, 2, 5, 6, 4]};\n",
       "\n",
       "function LDAvis_load_lib(url, callback){\n",
       "  var s = document.createElement('script');\n",
       "  s.src = url;\n",
       "  s.async = true;\n",
       "  s.onreadystatechange = s.onload = callback;\n",
       "  s.onerror = function(){console.warn(\"failed to load library \" + url);};\n",
       "  document.getElementsByTagName(\"head\")[0].appendChild(s);\n",
       "}\n",
       "\n",
       "if(typeof(LDAvis) !== \"undefined\"){\n",
       "   // already loaded: just create the visualization\n",
       "   !function(LDAvis){\n",
       "       new LDAvis(\"#\" + \"ldavis_el1918022792319182729256764801\", ldavis_el1918022792319182729256764801_data);\n",
       "   }(LDAvis);\n",
       "}else if(typeof define === \"function\" && define.amd){\n",
       "   // require.js is available: use it to load d3/LDAvis\n",
       "   require.config({paths: {d3: \"https://cdnjs.cloudflare.com/ajax/libs/d3/3.5.5/d3.min\"}});\n",
       "   require([\"d3\"], function(d3){\n",
       "      window.d3 = d3;\n",
       "      LDAvis_load_lib(\"https://cdn.rawgit.com/bmabey/pyLDAvis/files/ldavis.v1.0.0.js\", function(){\n",
       "        new LDAvis(\"#\" + \"ldavis_el1918022792319182729256764801\", ldavis_el1918022792319182729256764801_data);\n",
       "      });\n",
       "    });\n",
       "}else{\n",
       "    // require.js not available: dynamically load d3 & LDAvis\n",
       "    LDAvis_load_lib(\"https://cdnjs.cloudflare.com/ajax/libs/d3/3.5.5/d3.min.js\", function(){\n",
       "         LDAvis_load_lib(\"https://cdn.rawgit.com/bmabey/pyLDAvis/files/ldavis.v1.0.0.js\", function(){\n",
       "                 new LDAvis(\"#\" + \"ldavis_el1918022792319182729256764801\", ldavis_el1918022792319182729256764801_data);\n",
       "            })\n",
       "         });\n",
       "}\n",
       "</script>"
      ],
      "text/plain": [
       "PreparedData(topic_coordinates=              x         y  topics  cluster       Freq\n",
       "topic                                                \n",
       "0     -0.167232  0.064580       1        1  23.097878\n",
       "6      0.076931  0.089525       2        1  17.737759\n",
       "2     -0.097075 -0.046291       3        1  15.984292\n",
       "1      0.071224  0.075909       4        1  15.406082\n",
       "4      0.042093 -0.013865       5        1  11.838315\n",
       "5      0.127292 -0.080023       6        1   8.069999\n",
       "3     -0.053234 -0.089834       7        1   7.865678, topic_info=     Category         Freq        Term        Total  loglift  logprob\n",
       "term                                                                 \n",
       "158   Default  3349.000000       pedal  3349.000000  30.0000  30.0000\n",
       "1668  Default  1952.000000       tuner  1952.000000  29.0000  29.0000\n",
       "519   Default  3611.000000      string  3611.000000  28.0000  28.0000\n",
       "1642  Default  1181.000000       strap  1181.000000  27.0000  27.0000\n",
       "108   Default  1989.000000         amp  1989.000000  26.0000  26.0000\n",
       "972   Default  1230.000000        pick  1230.000000  25.0000  25.0000\n",
       "101   Default  5193.000000      guitar  5193.000000  24.0000  24.0000\n",
       "82    Default  1208.000000       cable  1208.000000  23.0000  23.0000\n",
       "950   Default   952.000000        tune   952.000000  22.0000  22.0000\n",
       "59    Default  1140.000000         mic  1140.000000  21.0000  21.0000\n",
       "1004  Default   347.000000     display   347.000000  20.0000  20.0000\n",
       "2507  Default   477.000000       snark   477.000000  19.0000  19.0000\n",
       "1469  Default   600.000000        capo   600.000000  18.0000  18.0000\n",
       "1280  Default   470.000000      button   470.000000  17.0000  17.0000\n",
       "341   Default   609.000000  microphone   609.000000  16.0000  16.0000\n",
       "559   Default  1067.000000        case  1067.000000  15.0000  15.0000\n",
       "2783  Default   382.000000         usb   382.000000  14.0000  14.0000\n",
       "383   Default   817.000000      effect   817.000000  13.0000  13.0000\n",
       "1490  Default   341.000000         uke   341.000000  12.0000  12.0000\n",
       "722   Default  1678.000000        tone  1678.000000  11.0000  11.0000\n",
       "749   Default   505.000000  distortion   505.000000  10.0000  10.0000\n",
       "1289  Default   237.000000        lock   237.000000   9.0000   9.0000\n",
       "351   Default   554.000000        tube   554.000000   8.0000   8.0000\n",
       "914   Default  1681.000000        easy  1681.000000   7.0000   7.0000\n",
       "239   Default   321.000000       screw   321.000000   6.0000   6.0000\n",
       "45    Default   663.000000        neck   663.000000   5.0000   5.0000\n",
       "306   Default   560.000000       stand   560.000000   4.0000   4.0000\n",
       "2035  Default   565.000000     battery   565.000000   3.0000   3.0000\n",
       "2200  Default   339.000000        joyo   339.000000   2.0000   2.0000\n",
       "2111  Default   363.000000   overdrive   363.000000   1.0000   1.0000\n",
       "...       ...          ...         ...          ...      ...      ...\n",
       "1105   Topic7    47.465740        foam    80.183868   2.0183  -6.0656\n",
       "44     Topic7    92.755264       mount   209.931259   1.7258  -5.3957\n",
       "578    Topic7   108.003036   headphone   311.595825   1.4831  -5.2435\n",
       "6      Topic7   118.043907   recording   384.948151   1.3606  -5.1546\n",
       "2219   Topic7    55.247402        read   113.031227   1.8268  -5.9138\n",
       "604    Topic7   143.562210        unit   546.110962   1.2066  -4.9589\n",
       "3032   Topic7   114.032791    accurate   386.845276   1.3211  -5.1892\n",
       "148    Topic7   105.934311       audio   354.458679   1.3349  -5.2628\n",
       "28     Topic7   196.435776       small  1050.391724   0.8661  -4.6453\n",
       "37     Topic7   106.767052      device   362.406982   1.3205  -5.2550\n",
       "1566   Topic7    53.489452        base   108.645599   1.8341  -5.9462\n",
       "322    Topic7    79.158066    computer   249.520615   1.3946  -5.5542\n",
       "41     Topic7   197.552933      little  1753.709595   0.3592  -4.6396\n",
       "59     Topic7   152.312775         mic  1140.597168   0.5293  -4.8997\n",
       "8      Topic7   159.259949        work  1281.734619   0.4572  -4.8551\n",
       "539    Topic7    85.664253      record   336.637878   1.1741  -5.4752\n",
       "218    Topic7    94.349945     speaker   426.142639   1.0349  -5.3786\n",
       "136    Topic7   153.884735         use  1895.769043   0.0315  -4.8894\n",
       "68     Topic7    83.123436      studio   356.835358   1.0857  -5.5053\n",
       "74     Topic7   184.534393        good  4032.432129  -0.5416  -4.7078\n",
       "105    Topic7   132.333603        time  1790.695068  -0.0624  -5.0403\n",
       "66     Topic7   163.187180       great  3613.073242  -0.5548  -4.8307\n",
       "178    Topic7   102.264320         way   970.752686   0.2922  -5.2981\n",
       "4      Topic7   117.469856       price  2083.921143  -0.3332  -5.1595\n",
       "117    Topic7   103.849960  instrument  1188.217285   0.1054  -5.2827\n",
       "164    Topic7    95.485954        well  1046.113892   0.1488  -5.3667\n",
       "101    Topic7   117.457054      guitar  5193.038086  -1.2463  -5.1596\n",
       "306    Topic7    85.807304       stand   560.077515   0.6667  -5.4735\n",
       "7      Topic7    93.299026       sound  2610.746338  -0.7889  -5.3898\n",
       "914    Topic7    83.279335        easy  1681.492554  -0.4626  -5.5034\n",
       "\n",
       "[568 rows x 6 columns], token_table=      Topic      Freq           Term\n",
       "term                                \n",
       "4158      5  0.956405       absolute\n",
       "3032      1  0.067210       accurate\n",
       "3032      2  0.067210       accurate\n",
       "3032      4  0.527343       accurate\n",
       "3032      5  0.033605       accurate\n",
       "3032      6  0.010340       accurate\n",
       "3032      7  0.294691       accurate\n",
       "146       1  0.068004       acoustic\n",
       "146       2  0.402026       acoustic\n",
       "146       3  0.056004       acoustic\n",
       "146       4  0.174011       acoustic\n",
       "146       5  0.223014       acoustic\n",
       "146       6  0.061004       acoustic\n",
       "146       7  0.016001       acoustic\n",
       "4039      2  0.947875     acoustical\n",
       "147       1  0.028097         action\n",
       "147       2  0.266923         action\n",
       "147       3  0.037463         action\n",
       "147       4  0.561944         action\n",
       "147       5  0.046829         action\n",
       "147       6  0.023414         action\n",
       "147       7  0.037463         action\n",
       "1931      2  0.889704        addario\n",
       "1931      3  0.004237        addario\n",
       "1931      4  0.088970        addario\n",
       "1931      5  0.004237        addario\n",
       "1931      6  0.008473        addario\n",
       "3436      5  0.926981  adjustability\n",
       "3561      3  0.975448         alesis\n",
       "5113      1  0.153266        ambient\n",
       "...     ...       ...            ...\n",
       "8         1  0.177884           work\n",
       "8         2  0.094403           work\n",
       "8         3  0.145896           work\n",
       "8         4  0.189587           work\n",
       "8         5  0.143555           work\n",
       "8         6  0.124831           work\n",
       "8         7  0.124051           work\n",
       "472       3  0.959248        working\n",
       "4513      6  0.956944      worthless\n",
       "4326      7  0.882155     worthwhile\n",
       "286       1  0.055882            xlr\n",
       "286       2  0.020956            xlr\n",
       "286       3  0.894105            xlr\n",
       "286       4  0.013970            xlr\n",
       "286       7  0.020956            xlr\n",
       "92        1  0.174175           year\n",
       "92        2  0.264706           year\n",
       "92        3  0.092499           year\n",
       "92        4  0.220424           year\n",
       "92        5  0.107260           year\n",
       "92        6  0.065930           year\n",
       "92        7  0.074787           year\n",
       "2331      1  0.087398         yellow\n",
       "2331      2  0.021850         yellow\n",
       "2331      4  0.852131         yellow\n",
       "2331      5  0.021850         yellow\n",
       "2331      6  0.021850         yellow\n",
       "2784      6  0.986840           yeti\n",
       "2907      6  0.985764         zipper\n",
       "627       7  0.978519           zoom\n",
       "\n",
       "[1583 rows x 3 columns], R=30, lambda_step=0.01, plot_opts={'xlab': 'PC1', 'ylab': 'PC2'}, topic_order=[1, 7, 3, 2, 5, 6, 4])"
      ]
     },
     "execution_count": 73,
     "metadata": {},
     "output_type": "execute_result"
    }
   ],
   "source": [
    "# Visualize the topics\n",
    "pyLDAvis.enable_notebook()\n",
    "vis = pyLDAvis.gensim.prepare(lda_model, doc_term_matrix, dictionary)\n",
    "vis\n"
   ]
  },
  {
   "cell_type": "markdown",
   "metadata": {},
   "source": [
    "Topic modeling is one of the most popular NLP techniques with several real-world applications such as dimensionality reduction, text summarization, recommendation engine, etc"
   ]
  },
  {
   "cell_type": "markdown",
   "metadata": {},
   "source": [
    "## Sentiment Analysis\n",
    "\n",
    "Sentiment analysis is part of the Natural Language Processing (NLP) techniques that consists in extracting emotions related to some raw texts.\n",
    "This is usually used on customer reviews in order to automatically understand if some users are positive or negative and why. The goal of this project is to show how sentiment analysis can be performed using python. Here are some of the main libraries we will use:\n"
   ]
  },
  {
   "cell_type": "code",
   "execution_count": 74,
   "metadata": {},
   "outputs": [],
   "source": [
    "\n",
    "# add sentiment anaylsis columns\n",
    "from nltk.sentiment.vader import SentimentIntensityAnalyzer\n",
    "\n",
    "sid = SentimentIntensityAnalyzer()\n",
    "df['sentiments'] = df['reviewText'].apply(lambda x: sid.polarity_scores(x))\n",
    "df = pd.concat([df.drop(['sentiments'], axis=1), df['sentiments'].apply(pd.Series)], axis=1)\n"
   ]
  },
  {
   "cell_type": "code",
   "execution_count": 75,
   "metadata": {},
   "outputs": [],
   "source": [
    "# add number of characters column\n",
    "df['nb_chars'] = df['reviewText'].apply(lambda x: len(x))\n",
    "\n",
    "# add number of words column\n",
    "df['nb_words'] = df['reviewText'].apply(lambda x: len(x.split(\" \")))"
   ]
  },
  {
   "cell_type": "markdown",
   "metadata": {},
   "source": [
    "#### Create doc2vec vector columns"
   ]
  },
  {
   "cell_type": "code",
   "execution_count": 76,
   "metadata": {},
   "outputs": [],
   "source": [
    "from gensim.test.utils import common_texts\n",
    "from gensim.models.doc2vec import Doc2Vec, TaggedDocument\n",
    "\n",
    "documents = [TaggedDocument(doc, [i]) for i, doc in enumerate(df['reviews'].apply(lambda x: x.split(\" \")))]\n",
    "\n",
    "# Lets train a Doc2Vec model with our text data\n",
    "model = Doc2Vec(documents, vector_size=5, window=2, min_count=1, workers=4)\n",
    "\n",
    "# transform each document into a vector data\n",
    "doc2vec_df = df['reviews'].apply(lambda x: model.infer_vector(x.split(\" \"))).apply(pd.Series)\n",
    "doc2vec_df.columns = ['doc2vec_vector_' + str(x) for x in doc2vec_df.columns]\n",
    "df = pd.concat([df, doc2vec_df], axis=1)\n"
   ]
  },
  {
   "cell_type": "code",
   "execution_count": 77,
   "metadata": {},
   "outputs": [],
   "source": [
    "# add tf-idfs columns\n",
    "from sklearn.feature_extraction.text import TfidfVectorizer\n",
    "tfidf = TfidfVectorizer(min_df = 10)\n",
    "tfidf_result = tfidf.fit_transform(df['reviews']).toarray()\n",
    "tfidf_df = pd.DataFrame(tfidf_result, columns = tfidf.get_feature_names())\n",
    "tfidf_df.columns = ['word_' + str(x) for x in tfidf_df.columns]\n",
    "tfidf_df.index = df.index\n",
    "df = pd.concat([df, tfidf_df], axis=1)"
   ]
  },
  {
   "cell_type": "code",
   "execution_count": 78,
   "metadata": {},
   "outputs": [
    {
     "data": {
      "text/plain": [
       "1    0.950861\n",
       "0    0.049139\n",
       "Name: rating, dtype: float64"
      ]
     },
     "execution_count": 78,
     "metadata": {},
     "output_type": "execute_result"
    }
   ],
   "source": [
    "# Show Ratings distribution\n",
    "df['rating'].value_counts(normalize = True)"
   ]
  },
  {
   "cell_type": "markdown",
   "metadata": {},
   "source": [
    "As we already know, Our dataset is highly imbalanced because less than 5% of our reviews are considered as negative ones. This information will be very useful for the modelling part."
   ]
  },
  {
   "cell_type": "code",
   "execution_count": 79,
   "metadata": {},
   "outputs": [
    {
     "data": {
      "text/html": [
       "<div>\n",
       "<style scoped>\n",
       "    .dataframe tbody tr th:only-of-type {\n",
       "        vertical-align: middle;\n",
       "    }\n",
       "\n",
       "    .dataframe tbody tr th {\n",
       "        vertical-align: top;\n",
       "    }\n",
       "\n",
       "    .dataframe thead th {\n",
       "        text-align: right;\n",
       "    }\n",
       "</style>\n",
       "<table border=\"1\" class=\"dataframe\">\n",
       "  <thead>\n",
       "    <tr style=\"text-align: right;\">\n",
       "      <th></th>\n",
       "      <th>reviews</th>\n",
       "      <th>pos</th>\n",
       "    </tr>\n",
       "  </thead>\n",
       "  <tbody>\n",
       "    <tr>\n",
       "      <th>5945</th>\n",
       "      <td>nice good fine great fantastic love nice good ...</td>\n",
       "      <td>0.956</td>\n",
       "    </tr>\n",
       "    <tr>\n",
       "      <th>7509</th>\n",
       "      <td>nice awesome cool ido love</td>\n",
       "      <td>0.755</td>\n",
       "    </tr>\n",
       "    <tr>\n",
       "      <th>1481</th>\n",
       "      <td>great great great great great great great grea...</td>\n",
       "      <td>0.746</td>\n",
       "    </tr>\n",
       "    <tr>\n",
       "      <th>7605</th>\n",
       "      <td>great strap nice comfort nice pricefit nice fe...</td>\n",
       "      <td>0.717</td>\n",
       "    </tr>\n",
       "    <tr>\n",
       "      <th>666</th>\n",
       "      <td>love thing action great sound good easy play r...</td>\n",
       "      <td>0.716</td>\n",
       "    </tr>\n",
       "    <tr>\n",
       "      <th>7934</th>\n",
       "      <td>great microphone good rice</td>\n",
       "      <td>0.709</td>\n",
       "    </tr>\n",
       "    <tr>\n",
       "      <th>2519</th>\n",
       "      <td>excellent product strong work excellent condit...</td>\n",
       "      <td>0.703</td>\n",
       "    </tr>\n",
       "    <tr>\n",
       "      <th>2854</th>\n",
       "      <td>excellent string beautiful solid tone buzzing</td>\n",
       "      <td>0.697</td>\n",
       "    </tr>\n",
       "    <tr>\n",
       "      <th>10256</th>\n",
       "      <td>great thank</td>\n",
       "      <td>0.688</td>\n",
       "    </tr>\n",
       "    <tr>\n",
       "      <th>1192</th>\n",
       "      <td>easy pack easy instrument light weight sturdy ...</td>\n",
       "      <td>0.683</td>\n",
       "    </tr>\n",
       "  </tbody>\n",
       "</table>\n",
       "</div>"
      ],
      "text/plain": [
       "                                                 reviews    pos\n",
       "5945   nice good fine great fantastic love nice good ...  0.956\n",
       "7509                          nice awesome cool ido love  0.755\n",
       "1481   great great great great great great great grea...  0.746\n",
       "7605   great strap nice comfort nice pricefit nice fe...  0.717\n",
       "666    love thing action great sound good easy play r...  0.716\n",
       "7934                          great microphone good rice  0.709\n",
       "2519   excellent product strong work excellent condit...  0.703\n",
       "2854       excellent string beautiful solid tone buzzing  0.697\n",
       "10256                                        great thank  0.688\n",
       "1192   easy pack easy instrument light weight sturdy ...  0.683"
      ]
     },
     "execution_count": 79,
     "metadata": {},
     "output_type": "execute_result"
    }
   ],
   "source": [
    "# highest positive sentiment reviews (with more than 5 words)\n",
    "df[df['nb_words'] >= 5].sort_values('pos', ascending = False)[['reviews', 'pos']].head(10)\n"
   ]
  },
  {
   "cell_type": "markdown",
   "metadata": {},
   "source": [
    "The most positive reviews indeed correspond to some good feedbacks.\n",
    "\n"
   ]
  },
  {
   "cell_type": "code",
   "execution_count": 80,
   "metadata": {},
   "outputs": [
    {
     "data": {
      "text/html": [
       "<div>\n",
       "<style scoped>\n",
       "    .dataframe tbody tr th:only-of-type {\n",
       "        vertical-align: middle;\n",
       "    }\n",
       "\n",
       "    .dataframe tbody tr th {\n",
       "        vertical-align: top;\n",
       "    }\n",
       "\n",
       "    .dataframe thead th {\n",
       "        text-align: right;\n",
       "    }\n",
       "</style>\n",
       "<table border=\"1\" class=\"dataframe\">\n",
       "  <thead>\n",
       "    <tr style=\"text-align: right;\">\n",
       "      <th></th>\n",
       "      <th>reviews</th>\n",
       "      <th>neg</th>\n",
       "    </tr>\n",
       "  </thead>\n",
       "  <tbody>\n",
       "    <tr>\n",
       "      <th>2424</th>\n",
       "      <td>cable less month disappointed quality</td>\n",
       "      <td>0.466</td>\n",
       "    </tr>\n",
       "    <tr>\n",
       "      <th>1781</th>\n",
       "      <td>problem able use abuse</td>\n",
       "      <td>0.433</td>\n",
       "    </tr>\n",
       "    <tr>\n",
       "      <th>8802</th>\n",
       "      <td>tank couple week time trouble shoot sure compo...</td>\n",
       "      <td>0.433</td>\n",
       "    </tr>\n",
       "    <tr>\n",
       "      <th>8553</th>\n",
       "      <td>dull inept version tubescreamer flat</td>\n",
       "      <td>0.397</td>\n",
       "    </tr>\n",
       "    <tr>\n",
       "      <th>7165</th>\n",
       "      <td>gig frustrating guess pay</td>\n",
       "      <td>0.387</td>\n",
       "    </tr>\n",
       "    <tr>\n",
       "      <th>3697</th>\n",
       "      <td>good nothing special couple review bad smell b...</td>\n",
       "      <td>0.365</td>\n",
       "    </tr>\n",
       "    <tr>\n",
       "      <th>9101</th>\n",
       "      <td>cool large inconvenient blue yeti</td>\n",
       "      <td>0.364</td>\n",
       "    </tr>\n",
       "    <tr>\n",
       "      <th>5441</th>\n",
       "      <td>good ideal big problem tube amp twin reverb fe...</td>\n",
       "      <td>0.362</td>\n",
       "    </tr>\n",
       "    <tr>\n",
       "      <th>9697</th>\n",
       "      <td>dull uninspiring pedal don waste time boss dig...</td>\n",
       "      <td>0.362</td>\n",
       "    </tr>\n",
       "    <tr>\n",
       "      <th>3664</th>\n",
       "      <td>bad brother guitar year</td>\n",
       "      <td>0.355</td>\n",
       "    </tr>\n",
       "  </tbody>\n",
       "</table>\n",
       "</div>"
      ],
      "text/plain": [
       "                                                reviews    neg\n",
       "2424              cable less month disappointed quality  0.466\n",
       "1781                             problem able use abuse  0.433\n",
       "8802  tank couple week time trouble shoot sure compo...  0.433\n",
       "8553               dull inept version tubescreamer flat  0.397\n",
       "7165                          gig frustrating guess pay  0.387\n",
       "3697  good nothing special couple review bad smell b...  0.365\n",
       "9101                  cool large inconvenient blue yeti  0.364\n",
       "5441  good ideal big problem tube amp twin reverb fe...  0.362\n",
       "9697  dull uninspiring pedal don waste time boss dig...  0.362\n",
       "3664                            bad brother guitar year  0.355"
      ]
     },
     "execution_count": 80,
     "metadata": {},
     "output_type": "execute_result"
    }
   ],
   "source": [
    "# lowest negative sentiment reviews (with more than 5 words)\n",
    "df[df['nb_words'] >= 5].sort_values('neg', ascending = False)[['reviews', 'neg']].head(10)\n"
   ]
  },
  {
   "cell_type": "markdown",
   "metadata": {},
   "source": [
    "#### Lets plot sentiment distribution for positive and negative reviews"
   ]
  },
  {
   "cell_type": "code",
   "execution_count": 81,
   "metadata": {},
   "outputs": [
    {
     "data": {
      "image/png": "[encoded data removed]",
      "text/plain": [
       "<Figure size 864x432 with 1 Axes>"
      ]
     },
     "metadata": {
      "needs_background": "light"
     },
     "output_type": "display_data"
    }
   ],
   "source": [
    "import seaborn as sns\n",
    "\n",
    "for x in [0, 1]:\n",
    "    subset = df[df['rating'] == x]\n",
    "    \n",
    "    # Draw the density plot\n",
    "    if x == 1:\n",
    "        label = 'Positive reviews'\n",
    "    else:\n",
    "        label = 'Negative reviews'\n",
    "    sns.distplot(subset['compound'], hist = False, label = label)"
   ]
  },
  {
   "cell_type": "markdown",
   "metadata": {},
   "source": [
    "The above graph shows the distribution of the reviews sentiments among good reviews and bad ones. We can see that good reviews are for most of them considered as very positive by Vader."
   ]
  },
  {
   "cell_type": "markdown",
   "metadata": {},
   "source": [
    "## Oversampling to eliminate bias\n",
    "\n",
    "Despite the advantage of balancing classes, these techniques also have their weaknesses (there is no free lunch). The simplest implementation of over-sampling is to duplicate random records from the minority class, which can cause overfitting.\n",
    "\n",
    "In this case, we would over-sample because under-sampling can cause loss of information because we have so few reviews with negative rating."
   ]
  },
  {
   "cell_type": "code",
   "execution_count": 82,
   "metadata": {},
   "outputs": [],
   "source": [
    "# Determine the max size of the larger rating group\n",
    "max_size = df['rating'].value_counts().max()"
   ]
  },
  {
   "cell_type": "code",
   "execution_count": 83,
   "metadata": {},
   "outputs": [
    {
     "name": "stdout",
     "output_type": "stream",
     "text": [
      "Max size of the rating: 8998\n"
     ]
    }
   ],
   "source": [
    "max_size\n",
    "print('Max size of the rating:', max_size)"
   ]
  },
  {
   "cell_type": "code",
   "execution_count": 84,
   "metadata": {},
   "outputs": [
    {
     "data": {
      "text/html": [
       "<div>\n",
       "<style scoped>\n",
       "    .dataframe tbody tr th:only-of-type {\n",
       "        vertical-align: middle;\n",
       "    }\n",
       "\n",
       "    .dataframe tbody tr th {\n",
       "        vertical-align: top;\n",
       "    }\n",
       "\n",
       "    .dataframe thead th {\n",
       "        text-align: right;\n",
       "    }\n",
       "</style>\n",
       "<table border=\"1\" class=\"dataframe\">\n",
       "  <thead>\n",
       "    <tr style=\"text-align: right;\">\n",
       "      <th></th>\n",
       "      <th>asin</th>\n",
       "      <th>helpful</th>\n",
       "      <th>overall</th>\n",
       "      <th>reviewText</th>\n",
       "      <th>reviewTime</th>\n",
       "      <th>reviewerID</th>\n",
       "      <th>reviewerName</th>\n",
       "      <th>summary</th>\n",
       "      <th>unixReviewTime</th>\n",
       "      <th>rating</th>\n",
       "      <th>...</th>\n",
       "      <th>word_yamaha</th>\n",
       "      <th>word_year</th>\n",
       "      <th>word_yellow</th>\n",
       "      <th>word_yesterday</th>\n",
       "      <th>word_yeti</th>\n",
       "      <th>word_young</th>\n",
       "      <th>word_youtube</th>\n",
       "      <th>word_zipper</th>\n",
       "      <th>word_zone</th>\n",
       "      <th>word_zoom</th>\n",
       "    </tr>\n",
       "  </thead>\n",
       "  <tbody>\n",
       "    <tr>\n",
       "      <th>0</th>\n",
       "      <td>1384719342</td>\n",
       "      <td>[0, 0]</td>\n",
       "      <td>5</td>\n",
       "      <td>Not much write about here but does exactly wha...</td>\n",
       "      <td>02 28, 2014</td>\n",
       "      <td>A2IBPI20UZIR0U</td>\n",
       "      <td>cassandra tu \"Yeah, well, that's just like, u...</td>\n",
       "      <td>good</td>\n",
       "      <td>1393545600</td>\n",
       "      <td>1</td>\n",
       "      <td>...</td>\n",
       "      <td>0.0</td>\n",
       "      <td>0.0</td>\n",
       "      <td>0.0</td>\n",
       "      <td>0.0</td>\n",
       "      <td>0.0</td>\n",
       "      <td>0.0</td>\n",
       "      <td>0.0</td>\n",
       "      <td>0.0</td>\n",
       "      <td>0.0</td>\n",
       "      <td>0.0</td>\n",
       "    </tr>\n",
       "    <tr>\n",
       "      <th>1</th>\n",
       "      <td>1384719342</td>\n",
       "      <td>[13, 14]</td>\n",
       "      <td>5</td>\n",
       "      <td>The product does exactly should and quite affo...</td>\n",
       "      <td>03 16, 2013</td>\n",
       "      <td>A14VAT5EAX3D9S</td>\n",
       "      <td>Jake</td>\n",
       "      <td>Jake</td>\n",
       "      <td>1363392000</td>\n",
       "      <td>1</td>\n",
       "      <td>...</td>\n",
       "      <td>0.0</td>\n",
       "      <td>0.0</td>\n",
       "      <td>0.0</td>\n",
       "      <td>0.0</td>\n",
       "      <td>0.0</td>\n",
       "      <td>0.0</td>\n",
       "      <td>0.0</td>\n",
       "      <td>0.0</td>\n",
       "      <td>0.0</td>\n",
       "      <td>0.0</td>\n",
       "    </tr>\n",
       "    <tr>\n",
       "      <th>2</th>\n",
       "      <td>1384719342</td>\n",
       "      <td>[1, 1]</td>\n",
       "      <td>5</td>\n",
       "      <td>The primary job this device block the breath t...</td>\n",
       "      <td>08 28, 2013</td>\n",
       "      <td>A195EZSQDW3E21</td>\n",
       "      <td>Rick Bennette \"Rick Bennette\"</td>\n",
       "      <td>It Does The Job Well</td>\n",
       "      <td>1377648000</td>\n",
       "      <td>1</td>\n",
       "      <td>...</td>\n",
       "      <td>0.0</td>\n",
       "      <td>0.0</td>\n",
       "      <td>0.0</td>\n",
       "      <td>0.0</td>\n",
       "      <td>0.0</td>\n",
       "      <td>0.0</td>\n",
       "      <td>0.0</td>\n",
       "      <td>0.0</td>\n",
       "      <td>0.0</td>\n",
       "      <td>0.0</td>\n",
       "    </tr>\n",
       "    <tr>\n",
       "      <th>3</th>\n",
       "      <td>1384719342</td>\n",
       "      <td>[0, 0]</td>\n",
       "      <td>5</td>\n",
       "      <td>Nice windscreen protects MXL mic and prevents ...</td>\n",
       "      <td>02 14, 2014</td>\n",
       "      <td>A2C00NNG1ZQQG2</td>\n",
       "      <td>RustyBill \"Sunday Rocker\"</td>\n",
       "      <td>GOOD WINDSCREEN FOR THE MONEY</td>\n",
       "      <td>1392336000</td>\n",
       "      <td>1</td>\n",
       "      <td>...</td>\n",
       "      <td>0.0</td>\n",
       "      <td>0.0</td>\n",
       "      <td>0.0</td>\n",
       "      <td>0.0</td>\n",
       "      <td>0.0</td>\n",
       "      <td>0.0</td>\n",
       "      <td>0.0</td>\n",
       "      <td>0.0</td>\n",
       "      <td>0.0</td>\n",
       "      <td>0.0</td>\n",
       "    </tr>\n",
       "    <tr>\n",
       "      <th>4</th>\n",
       "      <td>1384719342</td>\n",
       "      <td>[0, 0]</td>\n",
       "      <td>5</td>\n",
       "      <td>This pop filter great looks and performs like ...</td>\n",
       "      <td>02 21, 2014</td>\n",
       "      <td>A94QU4C90B1AX</td>\n",
       "      <td>SEAN MASLANKA</td>\n",
       "      <td>No more pops when I record my vocals.</td>\n",
       "      <td>1392940800</td>\n",
       "      <td>1</td>\n",
       "      <td>...</td>\n",
       "      <td>0.0</td>\n",
       "      <td>0.0</td>\n",
       "      <td>0.0</td>\n",
       "      <td>0.0</td>\n",
       "      <td>0.0</td>\n",
       "      <td>0.0</td>\n",
       "      <td>0.0</td>\n",
       "      <td>0.0</td>\n",
       "      <td>0.0</td>\n",
       "      <td>0.0</td>\n",
       "    </tr>\n",
       "  </tbody>\n",
       "</table>\n",
       "<p>5 rows × 2275 columns</p>\n",
       "</div>"
      ],
      "text/plain": [
       "         asin   helpful  overall  \\\n",
       "0  1384719342    [0, 0]        5   \n",
       "1  1384719342  [13, 14]        5   \n",
       "2  1384719342    [1, 1]        5   \n",
       "3  1384719342    [0, 0]        5   \n",
       "4  1384719342    [0, 0]        5   \n",
       "\n",
       "                                          reviewText   reviewTime  \\\n",
       "0  Not much write about here but does exactly wha...  02 28, 2014   \n",
       "1  The product does exactly should and quite affo...  03 16, 2013   \n",
       "2  The primary job this device block the breath t...  08 28, 2013   \n",
       "3  Nice windscreen protects MXL mic and prevents ...  02 14, 2014   \n",
       "4  This pop filter great looks and performs like ...  02 21, 2014   \n",
       "\n",
       "       reviewerID                                      reviewerName  \\\n",
       "0  A2IBPI20UZIR0U  cassandra tu \"Yeah, well, that's just like, u...   \n",
       "1  A14VAT5EAX3D9S                                              Jake   \n",
       "2  A195EZSQDW3E21                     Rick Bennette \"Rick Bennette\"   \n",
       "3  A2C00NNG1ZQQG2                         RustyBill \"Sunday Rocker\"   \n",
       "4   A94QU4C90B1AX                                     SEAN MASLANKA   \n",
       "\n",
       "                                 summary  unixReviewTime  rating    ...      \\\n",
       "0                                   good      1393545600       1    ...       \n",
       "1                                   Jake      1363392000       1    ...       \n",
       "2                   It Does The Job Well      1377648000       1    ...       \n",
       "3          GOOD WINDSCREEN FOR THE MONEY      1392336000       1    ...       \n",
       "4  No more pops when I record my vocals.      1392940800       1    ...       \n",
       "\n",
       "   word_yamaha word_year  word_yellow  word_yesterday  word_yeti  word_young  \\\n",
       "0          0.0       0.0          0.0             0.0        0.0         0.0   \n",
       "1          0.0       0.0          0.0             0.0        0.0         0.0   \n",
       "2          0.0       0.0          0.0             0.0        0.0         0.0   \n",
       "3          0.0       0.0          0.0             0.0        0.0         0.0   \n",
       "4          0.0       0.0          0.0             0.0        0.0         0.0   \n",
       "\n",
       "   word_youtube  word_zipper  word_zone  word_zoom  \n",
       "0           0.0          0.0        0.0        0.0  \n",
       "1           0.0          0.0        0.0        0.0  \n",
       "2           0.0          0.0        0.0        0.0  \n",
       "3           0.0          0.0        0.0        0.0  \n",
       "4           0.0          0.0        0.0        0.0  \n",
       "\n",
       "[5 rows x 2275 columns]"
      ]
     },
     "execution_count": 84,
     "metadata": {},
     "output_type": "execute_result"
    }
   ],
   "source": [
    "# Lets do some oversampling to take care of the clas imbalance and create a subset.\n",
    "lst = [df]\n",
    "for class_index, group in df.groupby('rating'):\n",
    "    lst.append(group.sample(max_size-len(group), replace=True))\n",
    "df_subset = pd.concat(lst)\n",
    "df_subset.head()"
   ]
  },
  {
   "cell_type": "code",
   "execution_count": 85,
   "metadata": {},
   "outputs": [
    {
     "data": {
      "text/plain": [
       "1    8998\n",
       "0    8998\n",
       "Name: rating, dtype: int64"
      ]
     },
     "execution_count": 85,
     "metadata": {},
     "output_type": "execute_result"
    }
   ],
   "source": [
    "# Number of positive and neative reviews after the oversampling\n",
    "df_subset['rating'].value_counts()"
   ]
  },
  {
   "cell_type": "code",
   "execution_count": 86,
   "metadata": {},
   "outputs": [
    {
     "name": "stdout",
     "output_type": "stream",
     "text": [
      "Negative Rating: 8998\n",
      "Positive Rating: 8998\n",
      "Proportion: 1.0 : 1\n"
     ]
    },
    {
     "data": {
      "image/png": "[encoded data removed]",
      "text/plain": [
       "<Figure size 864x432 with 1 Axes>"
      ]
     },
     "metadata": {
      "needs_background": "light"
     },
     "output_type": "display_data"
    }
   ],
   "source": [
    "# Lets plot the ratings after the oversampling\n",
    "\n",
    "rating_count = df_subset.rating.value_counts()\n",
    "\n",
    "print('Negative Rating:', rating_count[0])\n",
    "print('Positive Rating:', rating_count[1])\n",
    "print('Proportion:', round(rating_count[0] / rating_count[1], 2), ': 1')\n",
    "\n",
    "rating_count.plot(kind='bar', title='Count (rating)');"
   ]
  },
  {
   "cell_type": "code",
   "execution_count": 87,
   "metadata": {},
   "outputs": [
    {
     "data": {
      "text/html": [
       "<div>\n",
       "<style scoped>\n",
       "    .dataframe tbody tr th:only-of-type {\n",
       "        vertical-align: middle;\n",
       "    }\n",
       "\n",
       "    .dataframe tbody tr th {\n",
       "        vertical-align: top;\n",
       "    }\n",
       "\n",
       "    .dataframe thead th {\n",
       "        text-align: right;\n",
       "    }\n",
       "</style>\n",
       "<table border=\"1\" class=\"dataframe\">\n",
       "  <thead>\n",
       "    <tr style=\"text-align: right;\">\n",
       "      <th></th>\n",
       "      <th>reviewText</th>\n",
       "      <th>rating</th>\n",
       "    </tr>\n",
       "  </thead>\n",
       "  <tbody>\n",
       "    <tr>\n",
       "      <th>0</th>\n",
       "      <td>Not much write about here but does exactly wha...</td>\n",
       "      <td>1</td>\n",
       "    </tr>\n",
       "    <tr>\n",
       "      <th>1</th>\n",
       "      <td>The product does exactly should and quite affo...</td>\n",
       "      <td>1</td>\n",
       "    </tr>\n",
       "    <tr>\n",
       "      <th>2</th>\n",
       "      <td>The primary job this device block the breath t...</td>\n",
       "      <td>1</td>\n",
       "    </tr>\n",
       "    <tr>\n",
       "      <th>3</th>\n",
       "      <td>Nice windscreen protects MXL mic and prevents ...</td>\n",
       "      <td>1</td>\n",
       "    </tr>\n",
       "    <tr>\n",
       "      <th>4</th>\n",
       "      <td>This pop filter great looks and performs like ...</td>\n",
       "      <td>1</td>\n",
       "    </tr>\n",
       "  </tbody>\n",
       "</table>\n",
       "</div>"
      ],
      "text/plain": [
       "                                          reviewText  rating\n",
       "0  Not much write about here but does exactly wha...       1\n",
       "1  The product does exactly should and quite affo...       1\n",
       "2  The primary job this device block the breath t...       1\n",
       "3  Nice windscreen protects MXL mic and prevents ...       1\n",
       "4  This pop filter great looks and performs like ...       1"
      ]
     },
     "execution_count": 87,
     "metadata": {},
     "output_type": "execute_result"
    }
   ],
   "source": [
    "# Lets trim down the subset to the values we would focus on. The review and ratings\n",
    "df_subset = df_subset[['reviewText','rating']]\n",
    "df_subset.head()"
   ]
  },
  {
   "cell_type": "markdown",
   "metadata": {},
   "source": [
    "## Modeling \n",
    "\n",
    "Several modeling techniques would be used to determine which model produces the best results\n",
    "\n",
    "#### Multinomial Naive Bayes \n",
    "\n",
    "In this model we will create a feature using CountVectorizer"
   ]
  },
  {
   "cell_type": "code",
   "execution_count": 88,
   "metadata": {},
   "outputs": [],
   "source": [
    "# generate document term matrix by using scikit-learn's CountVectorizer\n",
    "\n",
    "from sklearn.feature_extraction.text import CountVectorizer\n",
    "from nltk.tokenize import RegexpTokenizer\n",
    "\n",
    "#tokenizer to remove unwanted elements from out data like symbols and numbers\n",
    "token = RegexpTokenizer(r'[a-zA-Z0-9]+')\n",
    "vect = CountVectorizer(lowercase=True,stop_words='english',ngram_range = (1,1),tokenizer = token.tokenize)\n",
    "text_counts= vect.fit_transform(df_subset['reviewText'])"
   ]
  },
  {
   "cell_type": "code",
   "execution_count": 89,
   "metadata": {},
   "outputs": [],
   "source": [
    "from sklearn.model_selection import train_test_split\n",
    "# Split data into training and test sets\n",
    "\n",
    "X_train, X_test, y_train, y_test = train_test_split(text_counts,\n",
    "                                                    df_subset['rating'], test_size=0.3, random_state=1)"
   ]
  },
  {
   "cell_type": "code",
   "execution_count": 90,
   "metadata": {},
   "outputs": [
    {
     "name": "stdout",
     "output_type": "stream",
     "text": [
      "MultinomialNB Accuracy: 0.9503611779959251\n",
      "ROC_AUC:  0.9503920745229782\n"
     ]
    }
   ],
   "source": [
    "# fit your model on a train set using fit() and perform prediction on the test set using predict().\n",
    "\n",
    "from sklearn.naive_bayes import MultinomialNB\n",
    "\n",
    "#Import scikit-learn metrics module for accuracy calculation\n",
    "from sklearn import metrics\n",
    "\n",
    "# Model Generation Using Multinomial Naive Bayes\n",
    "clf = MultinomialNB().fit(X_train, y_train)\n",
    "predictions= clf.predict(X_test)\n",
    "print(\"MultinomialNB Accuracy:\",metrics.accuracy_score(y_test, predictions))\n",
    "print('ROC_AUC: ', roc_auc_score(y_test, predictions))"
   ]
  },
  {
   "cell_type": "markdown",
   "metadata": {},
   "source": [
    "We got a classification rate of 95% using CountVector(or BoW), which is considered as pretty good accuracy."
   ]
  },
  {
   "cell_type": "markdown",
   "metadata": {},
   "source": [
    "#### Multinomial Naive Bayes\n",
    "\n",
    "In this model we will create a feature using TF-IDF"
   ]
  },
  {
   "cell_type": "code",
   "execution_count": 91,
   "metadata": {},
   "outputs": [],
   "source": [
    "from sklearn.feature_extraction.text import TfidfVectorizer\n",
    "tf=TfidfVectorizer()\n",
    "text_tf= tf.fit_transform(df_subset['reviewText'])"
   ]
  },
  {
   "cell_type": "code",
   "execution_count": 92,
   "metadata": {},
   "outputs": [],
   "source": [
    "# Split data into training and test sets\n",
    "\n",
    "X_train, X_test, y_train, y_test = train_test_split(text_tf,\n",
    "                                                    df_subset['rating'], test_size=0.3, random_state=1)"
   ]
  },
  {
   "cell_type": "code",
   "execution_count": 93,
   "metadata": {},
   "outputs": [
    {
     "name": "stdout",
     "output_type": "stream",
     "text": [
      "MultinomialNB Accuracy: 0.9536951287275421\n",
      "ROC_AUC:  0.9539625326614408\n"
     ]
    }
   ],
   "source": [
    "# Model Building and Evaluation (TF-IDF)\n",
    "clf = MultinomialNB().fit(X_train, y_train)\n",
    "predictions= clf.predict(X_test)\n",
    "print(\"MultinomialNB Accuracy:\",metrics.accuracy_score(y_test, predictions))\n",
    "print('ROC_AUC: ', roc_auc_score(y_test, predictions))"
   ]
  },
  {
   "cell_type": "markdown",
   "metadata": {},
   "source": [
    "We got a classification rate of 95% usingTF-IDF, which is considered as pretty good accuracy."
   ]
  },
  {
   "cell_type": "markdown",
   "metadata": {},
   "source": [
    "#### Conducting a Logistic Regression\n",
    "\n",
    "We are going to train test and split the newly created over-sampled dataset"
   ]
  },
  {
   "cell_type": "code",
   "execution_count": 94,
   "metadata": {},
   "outputs": [],
   "source": [
    "from sklearn.model_selection import train_test_split\n",
    "\n",
    "X_train, X_test, y_train, y_test = train_test_split(df_subset['reviewText'],\n",
    "                                                    df_subset['rating'], test_size=0.3, random_state=1)\n"
   ]
  },
  {
   "cell_type": "code",
   "execution_count": 95,
   "metadata": {},
   "outputs": [
    {
     "data": {
      "text/plain": [
       "38817"
      ]
     },
     "execution_count": 95,
     "metadata": {},
     "output_type": "execute_result"
    }
   ],
   "source": [
    "vect = CountVectorizer(min_df=5, ngram_range=(1,2)).fit(X_train)\n",
    "\n",
    "X_train_vectorized = vect.transform(X_train)\n",
    "\n",
    "len(vect.get_feature_names())"
   ]
  },
  {
   "cell_type": "code",
   "execution_count": 96,
   "metadata": {},
   "outputs": [
    {
     "name": "stdout",
     "output_type": "stream",
     "text": [
      "Accuracy: 0.9961103908131136\n",
      "ROC_AUC:  0.9961397058823529\n"
     ]
    }
   ],
   "source": [
    "from sklearn.linear_model import LogisticRegression\n",
    "from sklearn.metrics import roc_auc_score\n",
    "\n",
    "model = LogisticRegression()\n",
    "model.fit(X_train_vectorized, y_train)\n",
    "\n",
    "predictions = model.predict(vect.transform(X_test))\n",
    "print(\"Accuracy:\",metrics.accuracy_score(y_test, predictions))\n",
    "print('ROC_AUC: ', roc_auc_score(y_test, predictions))"
   ]
  },
  {
   "cell_type": "markdown",
   "metadata": {},
   "source": [
    "We have a receiver operating characteristic score of 99.6%"
   ]
  },
  {
   "cell_type": "code",
   "execution_count": 97,
   "metadata": {},
   "outputs": [
    {
     "name": "stdout",
     "output_type": "stream",
     "text": [
      "Sensitivity/Recall for Logistic Regression Model 1 : 0.99\n",
      "F1 Score for Logistic Regression Model 1 : 1.0\n"
     ]
    }
   ],
   "source": [
    "# Lets get the F1 score and the recall score\n",
    "from sklearn.metrics import f1_score, recall_score\n",
    "f1_score = round(f1_score(y_test, predictions), 2)\n",
    "recall_score = round(recall_score(y_test, predictions), 2)\n",
    "print(\"Sensitivity/Recall for Logistic Regression Model 1 : {recall_score}\".format(recall_score = recall_score))\n",
    "print(\"F1 Score for Logistic Regression Model 1 : {f1_score}\".format(f1_score = f1_score))"
   ]
  },
  {
   "cell_type": "markdown",
   "metadata": {},
   "source": [
    "## Confusion matrix\n",
    "\n",
    "An interesting way to evaluate the results is by means of a confusion matrix, which shows the correct and incorrect predictions for each class. In the first row, the first column indicates how many classes 0 were predicted correctly, and the second column, how many classes 0 were predicted as 1. In the second row, we note that all class 1 entries were erroneously predicted as class 0.\n",
    "\n",
    "Therefore, the higher the diagonal values of the confusion matrix the better, indicating many correct predictions"
   ]
  },
  {
   "cell_type": "code",
   "execution_count": 98,
   "metadata": {},
   "outputs": [
    {
     "name": "stdout",
     "output_type": "stream",
     "text": [
      "Confusion matrix:\n",
      " [[2679    0]\n",
      " [  21 2699]]\n"
     ]
    },
    {
     "data": {
      "image/png": "[encoded data removed]",
      "text/plain": [
       "<Figure size 864x432 with 2 Axes>"
      ]
     },
     "metadata": {
      "needs_background": "light"
     },
     "output_type": "display_data"
    }
   ],
   "source": [
    "from sklearn.metrics import confusion_matrix\n",
    "from matplotlib import pyplot as plt\n",
    "\n",
    "conf_mat = confusion_matrix(y_true=y_test, y_pred=predictions)\n",
    "print('Confusion matrix:\\n', conf_mat)\n",
    "\n",
    "labels = ['Rating 0', 'Rating 1']\n",
    "fig = plt.figure()\n",
    "ax = fig.add_subplot(111)\n",
    "cax = ax.matshow(conf_mat, cmap=plt.cm.Blues)\n",
    "fig.colorbar(cax)\n",
    "ax.set_xticklabels([''] + labels)\n",
    "ax.set_yticklabels([''] + labels)\n",
    "plt.xlabel('Predicted')\n",
    "plt.ylabel('Expected')\n",
    "plt.show()"
   ]
  },
  {
   "cell_type": "markdown",
   "metadata": {},
   "source": [
    "There are 5378 reviews that are accurately classified and 21 reviews that are shown as False Negatives "
   ]
  },
  {
   "cell_type": "markdown",
   "metadata": {},
   "source": [
    "## Using Undersampling for comparison"
   ]
  },
  {
   "cell_type": "code",
   "execution_count": 99,
   "metadata": {},
   "outputs": [
    {
     "data": {
      "text/html": [
       "<div>\n",
       "<style scoped>\n",
       "    .dataframe tbody tr th:only-of-type {\n",
       "        vertical-align: middle;\n",
       "    }\n",
       "\n",
       "    .dataframe tbody tr th {\n",
       "        vertical-align: top;\n",
       "    }\n",
       "\n",
       "    .dataframe thead th {\n",
       "        text-align: right;\n",
       "    }\n",
       "</style>\n",
       "<table border=\"1\" class=\"dataframe\">\n",
       "  <thead>\n",
       "    <tr style=\"text-align: right;\">\n",
       "      <th></th>\n",
       "      <th>asin</th>\n",
       "      <th>helpful</th>\n",
       "      <th>overall</th>\n",
       "      <th>reviewText</th>\n",
       "      <th>reviewTime</th>\n",
       "      <th>reviewerID</th>\n",
       "      <th>reviewerName</th>\n",
       "      <th>summary</th>\n",
       "      <th>unixReviewTime</th>\n",
       "      <th>rating</th>\n",
       "      <th>...</th>\n",
       "      <th>word_yamaha</th>\n",
       "      <th>word_year</th>\n",
       "      <th>word_yellow</th>\n",
       "      <th>word_yesterday</th>\n",
       "      <th>word_yeti</th>\n",
       "      <th>word_young</th>\n",
       "      <th>word_youtube</th>\n",
       "      <th>word_zipper</th>\n",
       "      <th>word_zone</th>\n",
       "      <th>word_zoom</th>\n",
       "    </tr>\n",
       "  </thead>\n",
       "  <tbody>\n",
       "    <tr>\n",
       "      <th>15</th>\n",
       "      <td>B00005ML71</td>\n",
       "      <td>[0, 0]</td>\n",
       "      <td>2</td>\n",
       "      <td>bought this use with keyboard wasn really awar...</td>\n",
       "      <td>08 17, 2013</td>\n",
       "      <td>A2PD27UKAD3Q00</td>\n",
       "      <td>Wilhelmina Zeitgeist \"coolartsybabe\"</td>\n",
       "      <td>Definitely Not For The Seasoned Piano Player</td>\n",
       "      <td>1376697600</td>\n",
       "      <td>0</td>\n",
       "      <td>...</td>\n",
       "      <td>0.155828</td>\n",
       "      <td>0.0</td>\n",
       "      <td>0.0</td>\n",
       "      <td>0.0</td>\n",
       "      <td>0.0</td>\n",
       "      <td>0.0</td>\n",
       "      <td>0.0</td>\n",
       "      <td>0.0</td>\n",
       "      <td>0.0</td>\n",
       "      <td>0.0</td>\n",
       "    </tr>\n",
       "    <tr>\n",
       "      <th>50</th>\n",
       "      <td>B000068NW5</td>\n",
       "      <td>[2, 2]</td>\n",
       "      <td>2</td>\n",
       "      <td>didn expect this cable thin easily the thickne...</td>\n",
       "      <td>07 6, 2011</td>\n",
       "      <td>A12ABV9NU02O29</td>\n",
       "      <td>C. Longo</td>\n",
       "      <td>Cannot recommend</td>\n",
       "      <td>1309910400</td>\n",
       "      <td>0</td>\n",
       "      <td>...</td>\n",
       "      <td>0.000000</td>\n",
       "      <td>0.0</td>\n",
       "      <td>0.0</td>\n",
       "      <td>0.0</td>\n",
       "      <td>0.0</td>\n",
       "      <td>0.0</td>\n",
       "      <td>0.0</td>\n",
       "      <td>0.0</td>\n",
       "      <td>0.0</td>\n",
       "      <td>0.0</td>\n",
       "    </tr>\n",
       "    <tr>\n",
       "      <th>52</th>\n",
       "      <td>B000068NW5</td>\n",
       "      <td>[0, 0]</td>\n",
       "      <td>1</td>\n",
       "      <td>hums crackles and think having problems with e...</td>\n",
       "      <td>02 9, 2014</td>\n",
       "      <td>A1L7M2JXN4EZCR</td>\n",
       "      <td>David G</td>\n",
       "      <td>I have bought many cables and this one is the ...</td>\n",
       "      <td>1391904000</td>\n",
       "      <td>0</td>\n",
       "      <td>...</td>\n",
       "      <td>0.000000</td>\n",
       "      <td>0.0</td>\n",
       "      <td>0.0</td>\n",
       "      <td>0.0</td>\n",
       "      <td>0.0</td>\n",
       "      <td>0.0</td>\n",
       "      <td>0.0</td>\n",
       "      <td>0.0</td>\n",
       "      <td>0.0</td>\n",
       "      <td>0.0</td>\n",
       "    </tr>\n",
       "    <tr>\n",
       "      <th>89</th>\n",
       "      <td>B000068NW5</td>\n",
       "      <td>[0, 0]</td>\n",
       "      <td>1</td>\n",
       "      <td>pro cheapo and hated this thing They noisy and...</td>\n",
       "      <td>03 14, 2014</td>\n",
       "      <td>A3UD50M7M72150</td>\n",
       "      <td>synthezatory</td>\n",
       "      <td>Crap</td>\n",
       "      <td>1394755200</td>\n",
       "      <td>0</td>\n",
       "      <td>...</td>\n",
       "      <td>0.000000</td>\n",
       "      <td>0.0</td>\n",
       "      <td>0.0</td>\n",
       "      <td>0.0</td>\n",
       "      <td>0.0</td>\n",
       "      <td>0.0</td>\n",
       "      <td>0.0</td>\n",
       "      <td>0.0</td>\n",
       "      <td>0.0</td>\n",
       "      <td>0.0</td>\n",
       "    </tr>\n",
       "    <tr>\n",
       "      <th>98</th>\n",
       "      <td>B000068NZC</td>\n",
       "      <td>[0, 0]</td>\n",
       "      <td>2</td>\n",
       "      <td>bought this for Canon Vixia Video Camera and S...</td>\n",
       "      <td>09 16, 2013</td>\n",
       "      <td>A1W3CEEQBJ4GTN</td>\n",
       "      <td>S. Marchuk</td>\n",
       "      <td>Measure your damned wires before sending them...</td>\n",
       "      <td>1379289600</td>\n",
       "      <td>0</td>\n",
       "      <td>...</td>\n",
       "      <td>0.000000</td>\n",
       "      <td>0.0</td>\n",
       "      <td>0.0</td>\n",
       "      <td>0.0</td>\n",
       "      <td>0.0</td>\n",
       "      <td>0.0</td>\n",
       "      <td>0.0</td>\n",
       "      <td>0.0</td>\n",
       "      <td>0.0</td>\n",
       "      <td>0.0</td>\n",
       "    </tr>\n",
       "  </tbody>\n",
       "</table>\n",
       "<p>5 rows × 2275 columns</p>\n",
       "</div>"
      ],
      "text/plain": [
       "          asin helpful  overall  \\\n",
       "15  B00005ML71  [0, 0]        2   \n",
       "50  B000068NW5  [2, 2]        2   \n",
       "52  B000068NW5  [0, 0]        1   \n",
       "89  B000068NW5  [0, 0]        1   \n",
       "98  B000068NZC  [0, 0]        2   \n",
       "\n",
       "                                           reviewText   reviewTime  \\\n",
       "15  bought this use with keyboard wasn really awar...  08 17, 2013   \n",
       "50  didn expect this cable thin easily the thickne...   07 6, 2011   \n",
       "52  hums crackles and think having problems with e...   02 9, 2014   \n",
       "89  pro cheapo and hated this thing They noisy and...  03 14, 2014   \n",
       "98  bought this for Canon Vixia Video Camera and S...  09 16, 2013   \n",
       "\n",
       "        reviewerID                          reviewerName  \\\n",
       "15  A2PD27UKAD3Q00  Wilhelmina Zeitgeist \"coolartsybabe\"   \n",
       "50  A12ABV9NU02O29                              C. Longo   \n",
       "52  A1L7M2JXN4EZCR                               David G   \n",
       "89  A3UD50M7M72150                          synthezatory   \n",
       "98  A1W3CEEQBJ4GTN                            S. Marchuk   \n",
       "\n",
       "                                              summary  unixReviewTime  rating  \\\n",
       "15       Definitely Not For The Seasoned Piano Player      1376697600       0   \n",
       "50                                   Cannot recommend      1309910400       0   \n",
       "52  I have bought many cables and this one is the ...      1391904000       0   \n",
       "89                                               Crap      1394755200       0   \n",
       "98   Measure your damned wires before sending them...      1379289600       0   \n",
       "\n",
       "      ...      word_yamaha word_year  word_yellow  word_yesterday  word_yeti  \\\n",
       "15    ...         0.155828       0.0          0.0             0.0        0.0   \n",
       "50    ...         0.000000       0.0          0.0             0.0        0.0   \n",
       "52    ...         0.000000       0.0          0.0             0.0        0.0   \n",
       "89    ...         0.000000       0.0          0.0             0.0        0.0   \n",
       "98    ...         0.000000       0.0          0.0             0.0        0.0   \n",
       "\n",
       "    word_young  word_youtube  word_zipper  word_zone  word_zoom  \n",
       "15         0.0           0.0          0.0        0.0        0.0  \n",
       "50         0.0           0.0          0.0        0.0        0.0  \n",
       "52         0.0           0.0          0.0        0.0        0.0  \n",
       "89         0.0           0.0          0.0        0.0        0.0  \n",
       "98         0.0           0.0          0.0        0.0        0.0  \n",
       "\n",
       "[5 rows x 2275 columns]"
      ]
     },
     "execution_count": 99,
     "metadata": {},
     "output_type": "execute_result"
    }
   ],
   "source": [
    "# Find Number of samples which are negative reviews\n",
    "p_rating = len(df[df['rating'] == 0])\n",
    "# Get indices of positive reviews\n",
    "p_rating_indices = df[df.rating == 1].index\n",
    "# Random sample positive reviews indices\n",
    "random_indices = np.random.choice(p_rating_indices,p_rating, replace=False)\n",
    "#Find the indices of negative reviews samples\n",
    "n_rating_indices = df[df.rating == 0].index\n",
    "# Concat negative review indices with sample positive review ones\n",
    "under_sample_indices = np.concatenate([n_rating_indices,random_indices])\n",
    "#Get Balance Dataframe\n",
    "under_sample = df.loc[under_sample_indices]\n",
    "under_sample.head()"
   ]
  },
  {
   "cell_type": "code",
   "execution_count": 100,
   "metadata": {},
   "outputs": [
    {
     "name": "stdout",
     "output_type": "stream",
     "text": [
      "Negative Rating : 465\n",
      "Positive Rating : 465\n",
      "Proportion: 1.0 : 1\n"
     ]
    },
    {
     "data": {
      "image/png": "[encoded data removed]",
      "text/plain": [
       "<Figure size 864x432 with 1 Axes>"
      ]
     },
     "metadata": {
      "needs_background": "light"
     },
     "output_type": "display_data"
    }
   ],
   "source": [
    "rating_count_under = under_sample.rating.value_counts()\n",
    "\n",
    "print('Negative Rating :', rating_count_under[0])\n",
    "print('Positive Rating :', rating_count_under[1])\n",
    "print('Proportion:', round(rating_count_under[0] / rating_count_under[1], 2), ': 1')\n",
    "\n",
    "rating_count_under.plot(kind='bar', title='Count (rating)');"
   ]
  },
  {
   "cell_type": "code",
   "execution_count": 101,
   "metadata": {},
   "outputs": [],
   "source": [
    "from sklearn.model_selection import train_test_split\n",
    "\n",
    "X_train_under, X_test_under, y_train_under, y_test_under = train_test_split(under_sample['reviewText'],\n",
    "                                                    under_sample['rating'], test_size=0.3, random_state=1)\n"
   ]
  },
  {
   "cell_type": "code",
   "execution_count": 102,
   "metadata": {},
   "outputs": [
    {
     "data": {
      "text/plain": [
       "2091"
      ]
     },
     "execution_count": 102,
     "metadata": {},
     "output_type": "execute_result"
    }
   ],
   "source": [
    "vect = CountVectorizer(min_df=5, ngram_range=(1,2)).fit(X_train_under)\n",
    "\n",
    "X_train_vectorized_under= vect.transform(X_train_under)\n",
    "\n",
    "len(vect.get_feature_names())"
   ]
  },
  {
   "cell_type": "code",
   "execution_count": 103,
   "metadata": {},
   "outputs": [
    {
     "name": "stdout",
     "output_type": "stream",
     "text": [
      "Accuracy: 0.7634408602150538\n",
      "ROC_AUC:  0.7616824840107284\n"
     ]
    }
   ],
   "source": [
    "from sklearn.linear_model import LogisticRegression\n",
    "from sklearn.metrics import roc_auc_score\n",
    "from sklearn import metrics\n",
    "\n",
    "model_under = LogisticRegression()\n",
    "model_under.fit(X_train_vectorized_under, y_train_under)\n",
    "\n",
    "predictions_under = model_under.predict(vect.transform(X_test_under))\n",
    "print(\"Accuracy:\",metrics.accuracy_score(y_test_under, predictions_under))\n",
    "print('ROC_AUC: ', roc_auc_score(y_test_under, predictions_under))"
   ]
  },
  {
   "cell_type": "code",
   "execution_count": 104,
   "metadata": {},
   "outputs": [
    {
     "name": "stdout",
     "output_type": "stream",
     "text": [
      "Sensitivity/Recall for Logistic Regression Model 1 : 0.79\n",
      "F1 Score for Logistic Regression Model 1 : 0.78\n"
     ]
    }
   ],
   "source": [
    "from sklearn.metrics import f1_score, recall_score\n",
    "f1_score_under = round(f1_score(y_test_under, predictions_under), 2)\n",
    "recall_score_under = round(recall_score(y_test_under, predictions_under), 2)\n",
    "print(\"Sensitivity/Recall for Logistic Regression Model 1 : {recall_score_under}\".format(recall_score_under = recall_score_under))\n",
    "print(\"F1 Score for Logistic Regression Model 1 : {f1_score_under}\".format(f1_score_under = f1_score_under))"
   ]
  },
  {
   "cell_type": "markdown",
   "metadata": {},
   "source": [
    "As anticipated, under sampling causes loss of information because we have so few reviews with negative rating. This is reflected in the accuracy and ROC score of 74%, and a Recall and F1 score of 0.79 and 0.78 respectively. "
   ]
  },
  {
   "cell_type": "markdown",
   "metadata": {},
   "source": [
    "### Confusion Matrix for the Undersampled Dataset"
   ]
  },
  {
   "cell_type": "code",
   "execution_count": 105,
   "metadata": {},
   "outputs": [
    {
     "name": "stdout",
     "output_type": "stream",
     "text": [
      "Confusion matrix:\n",
      " [[ 96  35]\n",
      " [ 31 117]]\n"
     ]
    },
    {
     "data": {
      "image/png": "[encoded data removed]",
      "text/plain": [
       "<Figure size 864x432 with 2 Axes>"
      ]
     },
     "metadata": {
      "needs_background": "light"
     },
     "output_type": "display_data"
    }
   ],
   "source": [
    "from sklearn.metrics import confusion_matrix\n",
    "from matplotlib import pyplot as plt\n",
    "\n",
    "conf_mat = confusion_matrix(y_true=y_test_under, y_pred=predictions_under)\n",
    "print('Confusion matrix:\\n', conf_mat)\n",
    "\n",
    "labels = ['Rating 0', 'Rating 1']\n",
    "fig = plt.figure()\n",
    "ax = fig.add_subplot(111)\n",
    "cax = ax.matshow(conf_mat, cmap=plt.cm.Blues)\n",
    "fig.colorbar(cax)\n",
    "ax.set_xticklabels([''] + labels)\n",
    "ax.set_yticklabels([''] + labels)\n",
    "plt.xlabel('Predicted')\n",
    "plt.ylabel('Expected')\n",
    "plt.show()"
   ]
  },
  {
   "cell_type": "markdown",
   "metadata": {},
   "source": [
    "There are 213 reviews that are accurately classified and 66 reviews are improperly classified. About a third of the prediction is incorrect."
   ]
  },
  {
   "cell_type": "markdown",
   "metadata": {},
   "source": [
    "## Conclusion\n",
    "\n",
    "Online product reviews are a great source of information. From the business/sellers’ point of view. Online reviews can be used to gauge the consumers’ feedback on the products or services they are selling. However, since these online reviews are quite often overwhelming in terms of numbers and information, an intelligent system, capable of finding key insights (topics) from these reviews, will be of great help for both the consumers and the sellers.\n",
    "\n",
    "We explored the use of data visualization techniques common in data science, such as histograms and pyPlots, to gain a better understanding of the underlying distribution of data in our data set.\n",
    "\n",
    "As demonstrated above, the dataset had reviews of a musical euipment which included a guitar, microphone and possibly an amp. The sentiment of the the reviews were mostly possitive, and the positive reviews were longer in text than negative reviews.\n",
    "\n",
    "When modeling a dataset with highly unbalanced classes such as this, the classifier always \"predicts\" the most common class without performing any analysis of the features, which will have a high accuracy rate, which is obviously inaccurate. Oversampling and undersampling was done to determine which would produce a more reliable accuracy rate. As one would predict, oversampling produced the better scores using metrics suchs as precision, recall, and F1-scores, as well as confusion matrix."
   ]
  },
  {
   "cell_type": "code",
   "execution_count": null,
   "metadata": {},
   "outputs": [],
   "source": []
  }
 ],
 "metadata": {
  "kernelspec": {
   "display_name": "Python 3",
   "language": "python",
   "name": "python3"
  },
  "language_info": {
   "codemirror_mode": {
    "name": "ipython",
    "version": 3
   },
   "file_extension": ".py",
   "mimetype": "text/x-python",
   "name": "python",
   "nbconvert_exporter": "python",
   "pygments_lexer": "ipython3",
   "version": "3.7.1"
  }
 },
 "nbformat": 4,
 "nbformat_minor": 2
}

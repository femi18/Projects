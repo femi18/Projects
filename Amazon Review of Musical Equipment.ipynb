{
 "cells": [
  {
   "cell_type": "markdown",
   "metadata": {},
   "source": [
    "# Amazon Review of Musical Equipment\n",
    "\n",
    "   As a consumer in this day and age, I do most of my shopping online. This trend of doing my shopping online created a certain level of skepticism when I buy products due to a few bad experiences I have had with my purchases. Due to this fact, product reviews are extremely important me because they determine if I should purchase a product or not. Such product review data can create a huge impact on the sales of a product from a companies point of view. \n",
    "\n",
    "Data;\n",
    "\n",
    "The data was retrieved from http://jmcauley.ucsd.edu/data/amazon/ by accessing the website. The variables from the dataset that would be utilized are the reviews and the sentiment in the review (positive versus negative).\n",
    "\n",
    "Use of Specialization;\n",
    "\n",
    "Techniques intended to be used include use of several plotting techniques to understand the data, use NLP and NLTK (the use of text processing methods such as tokenizations, stop word removal, stemming and vectorizing text via term frequencies (TF) as well as the inverse document frequencies (TF-IDF)). The use of topic modelling would be done with Latent Dirichlet Allocation (LDA) and Sentiment Analysis.\n",
    "For evaluation, Recall and F1 score would be used in addition to  Receiver Operating Characteristic score and Confusion Matrix \n",
    "\n",
    "Product/Business Impact;\n",
    "\n",
    "This project is valuable because it provides actionable insight on customers reactions to a product. It can assist in better marketing of the product and directed improvement to increase customer satisfaction, which in turn may provide a more favorable view of the product and increase sales. In addition, the model created would assist in predicting whether future reviews are positive or negative towards the product.\n",
    "Project goals include;\n",
    "\n",
    "- Properly cleaning the data and using visualization to understand the dataset,  \n",
    "- Applying at least 2 models to determine process with highest accuracy.\n",
    "- Creating a Sentiment analysis and a predictive model.\n",
    "\n",
    "Being able to analyse that data to determine consumers' sentiments of the products, the flaws and even the most enjoyed feature can allow a company to improve on the product, and market it better based on the top feature mentioned.\n",
    "\n",
    "\n",
    "#### The Dataset\n",
    "\n",
    "The data contains the following columns:\n",
    "\n",
    "-asin – ID of the product\n",
    "\n",
    "-helpful – helpfulness rating of the review, e.g. 2/3\n",
    "\n",
    "-overall – rating of the product\n",
    "\n",
    "-reviewText – text of the review\n",
    "\n",
    "-reviewTime – time of the review (raw)\n",
    "\n",
    "-reviewerID – ID of the reviewer\n",
    "\n",
    "-reviewerName – name of the reviewer\n",
    "\n",
    "-summary – summary of the review\n",
    "\n",
    "-unixReviewTime – time of the review (unix time)\n"
   ]
  },
  {
   "cell_type": "code",
   "execution_count": 1,
   "metadata": {},
   "outputs": [
    {
     "data": {
      "text/html": [
       "        <script type=\"text/javascript\">\n",
       "        window.PlotlyConfig = {MathJaxConfig: 'local'};\n",
       "        if (window.MathJax) {MathJax.Hub.Config({SVG: {font: \"STIX-Web\"}});}\n",
       "        if (typeof require !== 'undefined') {\n",
       "        require.undef(\"plotly\");\n",
       "        requirejs.config({\n",
       "            paths: {\n",
       "                'plotly': ['https://cdn.plot.ly/plotly-latest.min']\n",
       "            }\n",
       "        });\n",
       "        require(['plotly'], function(Plotly) {\n",
       "            window._Plotly = Plotly;\n",
       "        });\n",
       "        }\n",
       "        </script>\n",
       "        "
      ]
     },
     "metadata": {},
     "output_type": "display_data"
    }
   ],
   "source": [
    "# Import Packages\n",
    "import numpy as np\n",
    "import pandas as pd\n",
    "import plotly.offline as py\n",
    "py.init_notebook_mode(connected=True)\n",
    "import plotly.graph_objs as go\n",
    "import plotly.tools as tls\n",
    "from sklearn.feature_extraction.text import TfidfVectorizer, CountVectorizer\n",
    "from sklearn.decomposition import NMF, LatentDirichletAllocation\n",
    "from matplotlib import pyplot as plt\n",
    "%matplotlib inline\n",
    "import scipy\n",
    "import seaborn as sns\n",
    "import re\n",
    "\n",
    "import warnings\n",
    "warnings.filterwarnings('ignore')"
   ]
  },
  {
   "cell_type": "markdown",
   "metadata": {},
   "source": [
    "## Exploring the data\n",
    "\n",
    "Lets import the data"
   ]
  },
  {
   "cell_type": "code",
   "execution_count": 2,
   "metadata": {},
   "outputs": [
    {
     "data": {
      "text/html": [
       "<div>\n",
       "<style scoped>\n",
       "    .dataframe tbody tr th:only-of-type {\n",
       "        vertical-align: middle;\n",
       "    }\n",
       "\n",
       "    .dataframe tbody tr th {\n",
       "        vertical-align: top;\n",
       "    }\n",
       "\n",
       "    .dataframe thead th {\n",
       "        text-align: right;\n",
       "    }\n",
       "</style>\n",
       "<table border=\"1\" class=\"dataframe\">\n",
       "  <thead>\n",
       "    <tr style=\"text-align: right;\">\n",
       "      <th></th>\n",
       "      <th>asin</th>\n",
       "      <th>helpful</th>\n",
       "      <th>overall</th>\n",
       "      <th>reviewText</th>\n",
       "      <th>reviewTime</th>\n",
       "      <th>reviewerID</th>\n",
       "      <th>reviewerName</th>\n",
       "      <th>summary</th>\n",
       "      <th>unixReviewTime</th>\n",
       "    </tr>\n",
       "  </thead>\n",
       "  <tbody>\n",
       "    <tr>\n",
       "      <th>0</th>\n",
       "      <td>1384719342</td>\n",
       "      <td>[0, 0]</td>\n",
       "      <td>5</td>\n",
       "      <td>Not much to write about here, but it does exac...</td>\n",
       "      <td>02 28, 2014</td>\n",
       "      <td>A2IBPI20UZIR0U</td>\n",
       "      <td>cassandra tu \"Yeah, well, that's just like, u...</td>\n",
       "      <td>good</td>\n",
       "      <td>1393545600</td>\n",
       "    </tr>\n",
       "    <tr>\n",
       "      <th>1</th>\n",
       "      <td>1384719342</td>\n",
       "      <td>[13, 14]</td>\n",
       "      <td>5</td>\n",
       "      <td>The product does exactly as it should and is q...</td>\n",
       "      <td>03 16, 2013</td>\n",
       "      <td>A14VAT5EAX3D9S</td>\n",
       "      <td>Jake</td>\n",
       "      <td>Jake</td>\n",
       "      <td>1363392000</td>\n",
       "    </tr>\n",
       "    <tr>\n",
       "      <th>2</th>\n",
       "      <td>1384719342</td>\n",
       "      <td>[1, 1]</td>\n",
       "      <td>5</td>\n",
       "      <td>The primary job of this device is to block the...</td>\n",
       "      <td>08 28, 2013</td>\n",
       "      <td>A195EZSQDW3E21</td>\n",
       "      <td>Rick Bennette \"Rick Bennette\"</td>\n",
       "      <td>It Does The Job Well</td>\n",
       "      <td>1377648000</td>\n",
       "    </tr>\n",
       "    <tr>\n",
       "      <th>3</th>\n",
       "      <td>1384719342</td>\n",
       "      <td>[0, 0]</td>\n",
       "      <td>5</td>\n",
       "      <td>Nice windscreen protects my MXL mic and preven...</td>\n",
       "      <td>02 14, 2014</td>\n",
       "      <td>A2C00NNG1ZQQG2</td>\n",
       "      <td>RustyBill \"Sunday Rocker\"</td>\n",
       "      <td>GOOD WINDSCREEN FOR THE MONEY</td>\n",
       "      <td>1392336000</td>\n",
       "    </tr>\n",
       "    <tr>\n",
       "      <th>4</th>\n",
       "      <td>1384719342</td>\n",
       "      <td>[0, 0]</td>\n",
       "      <td>5</td>\n",
       "      <td>This pop filter is great. It looks and perform...</td>\n",
       "      <td>02 21, 2014</td>\n",
       "      <td>A94QU4C90B1AX</td>\n",
       "      <td>SEAN MASLANKA</td>\n",
       "      <td>No more pops when I record my vocals.</td>\n",
       "      <td>1392940800</td>\n",
       "    </tr>\n",
       "  </tbody>\n",
       "</table>\n",
       "</div>"
      ],
      "text/plain": [
       "         asin   helpful  overall  \\\n",
       "0  1384719342    [0, 0]        5   \n",
       "1  1384719342  [13, 14]        5   \n",
       "2  1384719342    [1, 1]        5   \n",
       "3  1384719342    [0, 0]        5   \n",
       "4  1384719342    [0, 0]        5   \n",
       "\n",
       "                                          reviewText   reviewTime  \\\n",
       "0  Not much to write about here, but it does exac...  02 28, 2014   \n",
       "1  The product does exactly as it should and is q...  03 16, 2013   \n",
       "2  The primary job of this device is to block the...  08 28, 2013   \n",
       "3  Nice windscreen protects my MXL mic and preven...  02 14, 2014   \n",
       "4  This pop filter is great. It looks and perform...  02 21, 2014   \n",
       "\n",
       "       reviewerID                                      reviewerName  \\\n",
       "0  A2IBPI20UZIR0U  cassandra tu \"Yeah, well, that's just like, u...   \n",
       "1  A14VAT5EAX3D9S                                              Jake   \n",
       "2  A195EZSQDW3E21                     Rick Bennette \"Rick Bennette\"   \n",
       "3  A2C00NNG1ZQQG2                         RustyBill \"Sunday Rocker\"   \n",
       "4   A94QU4C90B1AX                                     SEAN MASLANKA   \n",
       "\n",
       "                                 summary  unixReviewTime  \n",
       "0                                   good      1393545600  \n",
       "1                                   Jake      1363392000  \n",
       "2                   It Does The Job Well      1377648000  \n",
       "3          GOOD WINDSCREEN FOR THE MONEY      1392336000  \n",
       "4  No more pops when I record my vocals.      1392940800  "
      ]
     },
     "execution_count": 2,
     "metadata": {},
     "output_type": "execute_result"
    }
   ],
   "source": [
    "df = pd.read_json('Musical_Instruments_5.json', lines=True)\n",
    "df.dropna()\n",
    "df.head()"
   ]
  },
  {
   "cell_type": "code",
   "execution_count": 3,
   "metadata": {},
   "outputs": [
    {
     "name": "stdout",
     "output_type": "stream",
     "text": [
      "Index(['asin', 'helpful', 'overall', 'reviewText', 'reviewTime', 'reviewerID',\n",
      "       'reviewerName', 'summary', 'unixReviewTime'],\n",
      "      dtype='object')\n"
     ]
    }
   ],
   "source": [
    "# Start exploring the dataset. Lets take a look at the columns\n",
    "print(df.columns)"
   ]
  },
  {
   "cell_type": "code",
   "execution_count": 4,
   "metadata": {},
   "outputs": [
    {
     "name": "stdout",
     "output_type": "stream",
     "text": [
      "There are 10261 observations and 9 features in this dataset. \n",
      "\n"
     ]
    },
    {
     "data": {
      "text/plain": [
       "asin              object\n",
       "helpful           object\n",
       "overall            int64\n",
       "reviewText        object\n",
       "reviewTime        object\n",
       "reviewerID        object\n",
       "reviewerName      object\n",
       "summary           object\n",
       "unixReviewTime     int64\n",
       "dtype: object"
      ]
     },
     "execution_count": 4,
     "metadata": {},
     "output_type": "execute_result"
    }
   ],
   "source": [
    "print(\"There are {} observations and {} features in this dataset. \\n\".format(df.shape[0],df.shape[1]))\n",
    "# Data types\n",
    "df.dtypes"
   ]
  },
  {
   "cell_type": "code",
   "execution_count": 5,
   "metadata": {},
   "outputs": [
    {
     "name": "stdout",
     "output_type": "stream",
     "text": [
      "<class 'pandas.core.frame.DataFrame'>\n",
      "RangeIndex: 10261 entries, 0 to 10260\n",
      "Data columns (total 9 columns):\n",
      "asin              10261 non-null object\n",
      "helpful           10261 non-null object\n",
      "overall           10261 non-null int64\n",
      "reviewText        10261 non-null object\n",
      "reviewTime        10261 non-null object\n",
      "reviewerID        10261 non-null object\n",
      "reviewerName      10234 non-null object\n",
      "summary           10261 non-null object\n",
      "unixReviewTime    10261 non-null int64\n",
      "dtypes: int64(2), object(7)\n",
      "memory usage: 721.6+ KB\n"
     ]
    }
   ],
   "source": [
    "# Checking for Null columns\n",
    "df.info()"
   ]
  },
  {
   "cell_type": "code",
   "execution_count": 6,
   "metadata": {},
   "outputs": [
    {
     "data": {
      "text/html": [
       "<div>\n",
       "<style scoped>\n",
       "    .dataframe tbody tr th:only-of-type {\n",
       "        vertical-align: middle;\n",
       "    }\n",
       "\n",
       "    .dataframe tbody tr th {\n",
       "        vertical-align: top;\n",
       "    }\n",
       "\n",
       "    .dataframe thead tr th {\n",
       "        text-align: left;\n",
       "    }\n",
       "\n",
       "    .dataframe thead tr:last-of-type th {\n",
       "        text-align: right;\n",
       "    }\n",
       "</style>\n",
       "<table border=\"1\" class=\"dataframe\">\n",
       "  <thead>\n",
       "    <tr>\n",
       "      <th></th>\n",
       "      <th colspan=\"8\" halign=\"left\">unixReviewTime</th>\n",
       "    </tr>\n",
       "    <tr>\n",
       "      <th></th>\n",
       "      <th>count</th>\n",
       "      <th>mean</th>\n",
       "      <th>std</th>\n",
       "      <th>min</th>\n",
       "      <th>25%</th>\n",
       "      <th>50%</th>\n",
       "      <th>75%</th>\n",
       "      <th>max</th>\n",
       "    </tr>\n",
       "    <tr>\n",
       "      <th>overall</th>\n",
       "      <th></th>\n",
       "      <th></th>\n",
       "      <th></th>\n",
       "      <th></th>\n",
       "      <th></th>\n",
       "      <th></th>\n",
       "      <th></th>\n",
       "      <th></th>\n",
       "    </tr>\n",
       "  </thead>\n",
       "  <tbody>\n",
       "    <tr>\n",
       "      <th>1</th>\n",
       "      <td>217.0</td>\n",
       "      <td>1.363610e+09</td>\n",
       "      <td>3.693997e+07</td>\n",
       "      <td>1.141344e+09</td>\n",
       "      <td>1.347926e+09</td>\n",
       "      <td>1.370995e+09</td>\n",
       "      <td>1.390349e+09</td>\n",
       "      <td>1.405210e+09</td>\n",
       "    </tr>\n",
       "    <tr>\n",
       "      <th>2</th>\n",
       "      <td>250.0</td>\n",
       "      <td>1.361242e+09</td>\n",
       "      <td>3.770940e+07</td>\n",
       "      <td>1.190678e+09</td>\n",
       "      <td>1.342116e+09</td>\n",
       "      <td>1.369872e+09</td>\n",
       "      <td>1.389506e+09</td>\n",
       "      <td>1.405210e+09</td>\n",
       "    </tr>\n",
       "    <tr>\n",
       "      <th>3</th>\n",
       "      <td>772.0</td>\n",
       "      <td>1.361718e+09</td>\n",
       "      <td>3.633831e+07</td>\n",
       "      <td>1.161389e+09</td>\n",
       "      <td>1.343282e+09</td>\n",
       "      <td>1.369008e+09</td>\n",
       "      <td>1.389053e+09</td>\n",
       "      <td>1.405901e+09</td>\n",
       "    </tr>\n",
       "    <tr>\n",
       "      <th>4</th>\n",
       "      <td>2084.0</td>\n",
       "      <td>1.359799e+09</td>\n",
       "      <td>3.914760e+07</td>\n",
       "      <td>1.095466e+09</td>\n",
       "      <td>1.342915e+09</td>\n",
       "      <td>1.369138e+09</td>\n",
       "      <td>1.388707e+09</td>\n",
       "      <td>1.405987e+09</td>\n",
       "    </tr>\n",
       "    <tr>\n",
       "      <th>5</th>\n",
       "      <td>6938.0</td>\n",
       "      <td>1.360608e+09</td>\n",
       "      <td>3.757515e+07</td>\n",
       "      <td>1.096416e+09</td>\n",
       "      <td>1.343606e+09</td>\n",
       "      <td>1.367971e+09</td>\n",
       "      <td>1.388945e+09</td>\n",
       "      <td>1.405901e+09</td>\n",
       "    </tr>\n",
       "  </tbody>\n",
       "</table>\n",
       "</div>"
      ],
      "text/plain": [
       "        unixReviewTime                                            \\\n",
       "                 count          mean           std           min   \n",
       "overall                                                            \n",
       "1                217.0  1.363610e+09  3.693997e+07  1.141344e+09   \n",
       "2                250.0  1.361242e+09  3.770940e+07  1.190678e+09   \n",
       "3                772.0  1.361718e+09  3.633831e+07  1.161389e+09   \n",
       "4               2084.0  1.359799e+09  3.914760e+07  1.095466e+09   \n",
       "5               6938.0  1.360608e+09  3.757515e+07  1.096416e+09   \n",
       "\n",
       "                                                                 \n",
       "                  25%           50%           75%           max  \n",
       "overall                                                          \n",
       "1        1.347926e+09  1.370995e+09  1.390349e+09  1.405210e+09  \n",
       "2        1.342116e+09  1.369872e+09  1.389506e+09  1.405210e+09  \n",
       "3        1.343282e+09  1.369008e+09  1.389053e+09  1.405901e+09  \n",
       "4        1.342915e+09  1.369138e+09  1.388707e+09  1.405987e+09  \n",
       "5        1.343606e+09  1.367971e+09  1.388945e+09  1.405901e+09  "
      ]
     },
     "execution_count": 6,
     "metadata": {},
     "output_type": "execute_result"
    }
   ],
   "source": [
    "# Groupby by rating\n",
    "reviewText_ = df.groupby(\"overall\")\n",
    "\n",
    "# Summary statistic of all sentimentS\n",
    "reviewText_.describe()"
   ]
  },
  {
   "cell_type": "code",
   "execution_count": 8,
   "metadata": {},
   "outputs": [
    {
     "data": {
      "image/png": "[encoded data removed]",
      "text/plain": [
       "<Figure size 720x576 with 1 Axes>"
      ]
     },
     "metadata": {
      "needs_background": "light"
     },
     "output_type": "display_data"
    }
   ],
   "source": [
    "# Visualization of the review distribution based on the rating\n",
    "df['overall'].value_counts().sort_values().plot(kind='bar', figsize=(10,8))\n",
    "plt.title('Overall Ratings of Reviews')\n",
    "plt.ylabel('# of Reviews')\n",
    "plt.xlabel('overall rating')\n",
    "plt.show()"
   ]
  },
  {
   "cell_type": "markdown",
   "metadata": {},
   "source": [
    "From the description and visualization of the dataset, its obvious we have far more '5' and '4' point rating than any other rating which can make the dataset quite imbalanced.\n",
    "\n",
    "This indicates the reviews are more positive than negative\n",
    "\n",
    "Lets remove any neutral rating. A rating of 3 would be considered a neutral rating.\n",
    "\n",
    "Ratings of 4 and 5 would be considered a positive rating\n",
    "\n",
    "Ratings of 1 and 2 would be considered a negative rating"
   ]
  },
  {
   "cell_type": "code",
   "execution_count": 9,
   "metadata": {},
   "outputs": [
    {
     "data": {
      "text/html": [
       "<div>\n",
       "<style scoped>\n",
       "    .dataframe tbody tr th:only-of-type {\n",
       "        vertical-align: middle;\n",
       "    }\n",
       "\n",
       "    .dataframe tbody tr th {\n",
       "        vertical-align: top;\n",
       "    }\n",
       "\n",
       "    .dataframe thead th {\n",
       "        text-align: right;\n",
       "    }\n",
       "</style>\n",
       "<table border=\"1\" class=\"dataframe\">\n",
       "  <thead>\n",
       "    <tr style=\"text-align: right;\">\n",
       "      <th></th>\n",
       "      <th>asin</th>\n",
       "      <th>helpful</th>\n",
       "      <th>overall</th>\n",
       "      <th>reviewText</th>\n",
       "      <th>reviewTime</th>\n",
       "      <th>reviewerID</th>\n",
       "      <th>reviewerName</th>\n",
       "      <th>summary</th>\n",
       "      <th>unixReviewTime</th>\n",
       "      <th>rating</th>\n",
       "    </tr>\n",
       "  </thead>\n",
       "  <tbody>\n",
       "    <tr>\n",
       "      <th>0</th>\n",
       "      <td>1384719342</td>\n",
       "      <td>[0, 0]</td>\n",
       "      <td>5</td>\n",
       "      <td>Not much to write about here, but it does exac...</td>\n",
       "      <td>02 28, 2014</td>\n",
       "      <td>A2IBPI20UZIR0U</td>\n",
       "      <td>cassandra tu \"Yeah, well, that's just like, u...</td>\n",
       "      <td>good</td>\n",
       "      <td>1393545600</td>\n",
       "      <td>1</td>\n",
       "    </tr>\n",
       "    <tr>\n",
       "      <th>1</th>\n",
       "      <td>1384719342</td>\n",
       "      <td>[13, 14]</td>\n",
       "      <td>5</td>\n",
       "      <td>The product does exactly as it should and is q...</td>\n",
       "      <td>03 16, 2013</td>\n",
       "      <td>A14VAT5EAX3D9S</td>\n",
       "      <td>Jake</td>\n",
       "      <td>Jake</td>\n",
       "      <td>1363392000</td>\n",
       "      <td>1</td>\n",
       "    </tr>\n",
       "    <tr>\n",
       "      <th>2</th>\n",
       "      <td>1384719342</td>\n",
       "      <td>[1, 1]</td>\n",
       "      <td>5</td>\n",
       "      <td>The primary job of this device is to block the...</td>\n",
       "      <td>08 28, 2013</td>\n",
       "      <td>A195EZSQDW3E21</td>\n",
       "      <td>Rick Bennette \"Rick Bennette\"</td>\n",
       "      <td>It Does The Job Well</td>\n",
       "      <td>1377648000</td>\n",
       "      <td>1</td>\n",
       "    </tr>\n",
       "    <tr>\n",
       "      <th>3</th>\n",
       "      <td>1384719342</td>\n",
       "      <td>[0, 0]</td>\n",
       "      <td>5</td>\n",
       "      <td>Nice windscreen protects my MXL mic and preven...</td>\n",
       "      <td>02 14, 2014</td>\n",
       "      <td>A2C00NNG1ZQQG2</td>\n",
       "      <td>RustyBill \"Sunday Rocker\"</td>\n",
       "      <td>GOOD WINDSCREEN FOR THE MONEY</td>\n",
       "      <td>1392336000</td>\n",
       "      <td>1</td>\n",
       "    </tr>\n",
       "    <tr>\n",
       "      <th>4</th>\n",
       "      <td>1384719342</td>\n",
       "      <td>[0, 0]</td>\n",
       "      <td>5</td>\n",
       "      <td>This pop filter is great. It looks and perform...</td>\n",
       "      <td>02 21, 2014</td>\n",
       "      <td>A94QU4C90B1AX</td>\n",
       "      <td>SEAN MASLANKA</td>\n",
       "      <td>No more pops when I record my vocals.</td>\n",
       "      <td>1392940800</td>\n",
       "      <td>1</td>\n",
       "    </tr>\n",
       "  </tbody>\n",
       "</table>\n",
       "</div>"
      ],
      "text/plain": [
       "         asin   helpful  overall  \\\n",
       "0  1384719342    [0, 0]        5   \n",
       "1  1384719342  [13, 14]        5   \n",
       "2  1384719342    [1, 1]        5   \n",
       "3  1384719342    [0, 0]        5   \n",
       "4  1384719342    [0, 0]        5   \n",
       "\n",
       "                                          reviewText   reviewTime  \\\n",
       "0  Not much to write about here, but it does exac...  02 28, 2014   \n",
       "1  The product does exactly as it should and is q...  03 16, 2013   \n",
       "2  The primary job of this device is to block the...  08 28, 2013   \n",
       "3  Nice windscreen protects my MXL mic and preven...  02 14, 2014   \n",
       "4  This pop filter is great. It looks and perform...  02 21, 2014   \n",
       "\n",
       "       reviewerID                                      reviewerName  \\\n",
       "0  A2IBPI20UZIR0U  cassandra tu \"Yeah, well, that's just like, u...   \n",
       "1  A14VAT5EAX3D9S                                              Jake   \n",
       "2  A195EZSQDW3E21                     Rick Bennette \"Rick Bennette\"   \n",
       "3  A2C00NNG1ZQQG2                         RustyBill \"Sunday Rocker\"   \n",
       "4   A94QU4C90B1AX                                     SEAN MASLANKA   \n",
       "\n",
       "                                 summary  unixReviewTime  rating  \n",
       "0                                   good      1393545600       1  \n",
       "1                                   Jake      1363392000       1  \n",
       "2                   It Does The Job Well      1377648000       1  \n",
       "3          GOOD WINDSCREEN FOR THE MONEY      1392336000       1  \n",
       "4  No more pops when I record my vocals.      1392940800       1  "
      ]
     },
     "execution_count": 9,
     "metadata": {},
     "output_type": "execute_result"
    }
   ],
   "source": [
    "# Drop missing values\n",
    "df.dropna(inplace=True)\n",
    "\n",
    "# Remove any 'neutral' ratings equal to 3\n",
    "df = df[df['overall'] != 3]\n",
    "\n",
    "# Encode 4s and 5s as 1 (rated positively)\n",
    "# Encode 1s and 2s as 0 (rated negatively)\n",
    "df['rating'] = np.where(df['overall'] > 3, 1, 0)\n",
    "df.head()"
   ]
  },
  {
   "cell_type": "code",
   "execution_count": 15,
   "metadata": {},
   "outputs": [
    {
     "name": "stdout",
     "output_type": "stream",
     "text": [
      "Negative Rating: 465\n",
      "Positive Rating: 8998\n",
      "Proportion: 0.05 : 1\n"
     ]
    },
    {
     "data": {
      "image/png": "[encoded data removed]",
      "text/plain": [
       "<Figure size 432x288 with 1 Axes>"
      ]
     },
     "metadata": {
      "needs_background": "light"
     },
     "output_type": "display_data"
    }
   ],
   "source": [
    "# Visualization of the positive versus negative reviews\n",
    "\n",
    "rating_count = df.rating.value_counts()\n",
    "print('Negative Rating:', rating_count[0])\n",
    "print('Positive Rating:', rating_count[1])\n",
    "print('Proportion:', round(rating_count[0] / rating_count[1], 2), ': 1')\n",
    "\n",
    "rating_count.plot(kind='bar', title='Count (rating)');"
   ]
  },
  {
   "cell_type": "markdown",
   "metadata": {},
   "source": [
    "We now have 8998 reviews that are positive and 465 reviews that are negative"
   ]
  },
  {
   "cell_type": "markdown",
   "metadata": {},
   "source": [
    "### Histogram of text length of Reviews\n",
    "\n",
    "Finding correlation between the length of the positive and negative reviews"
   ]
  },
  {
   "cell_type": "code",
   "execution_count": 16,
   "metadata": {},
   "outputs": [
    {
     "data": {
      "text/html": [
       "<div>\n",
       "<style scoped>\n",
       "    .dataframe tbody tr th:only-of-type {\n",
       "        vertical-align: middle;\n",
       "    }\n",
       "\n",
       "    .dataframe tbody tr th {\n",
       "        vertical-align: top;\n",
       "    }\n",
       "\n",
       "    .dataframe thead th {\n",
       "        text-align: right;\n",
       "    }\n",
       "</style>\n",
       "<table border=\"1\" class=\"dataframe\">\n",
       "  <thead>\n",
       "    <tr style=\"text-align: right;\">\n",
       "      <th></th>\n",
       "      <th>asin</th>\n",
       "      <th>helpful</th>\n",
       "      <th>overall</th>\n",
       "      <th>reviewText</th>\n",
       "      <th>reviewTime</th>\n",
       "      <th>reviewerID</th>\n",
       "      <th>reviewerName</th>\n",
       "      <th>summary</th>\n",
       "      <th>unixReviewTime</th>\n",
       "      <th>rating</th>\n",
       "      <th>length</th>\n",
       "    </tr>\n",
       "  </thead>\n",
       "  <tbody>\n",
       "    <tr>\n",
       "      <th>0</th>\n",
       "      <td>1384719342</td>\n",
       "      <td>[0, 0]</td>\n",
       "      <td>5</td>\n",
       "      <td>Not much to write about here, but it does exac...</td>\n",
       "      <td>02 28, 2014</td>\n",
       "      <td>A2IBPI20UZIR0U</td>\n",
       "      <td>cassandra tu \"Yeah, well, that's just like, u...</td>\n",
       "      <td>good</td>\n",
       "      <td>1393545600</td>\n",
       "      <td>1</td>\n",
       "      <td>268</td>\n",
       "    </tr>\n",
       "    <tr>\n",
       "      <th>1</th>\n",
       "      <td>1384719342</td>\n",
       "      <td>[13, 14]</td>\n",
       "      <td>5</td>\n",
       "      <td>The product does exactly as it should and is q...</td>\n",
       "      <td>03 16, 2013</td>\n",
       "      <td>A14VAT5EAX3D9S</td>\n",
       "      <td>Jake</td>\n",
       "      <td>Jake</td>\n",
       "      <td>1363392000</td>\n",
       "      <td>1</td>\n",
       "      <td>544</td>\n",
       "    </tr>\n",
       "    <tr>\n",
       "      <th>2</th>\n",
       "      <td>1384719342</td>\n",
       "      <td>[1, 1]</td>\n",
       "      <td>5</td>\n",
       "      <td>The primary job of this device is to block the...</td>\n",
       "      <td>08 28, 2013</td>\n",
       "      <td>A195EZSQDW3E21</td>\n",
       "      <td>Rick Bennette \"Rick Bennette\"</td>\n",
       "      <td>It Does The Job Well</td>\n",
       "      <td>1377648000</td>\n",
       "      <td>1</td>\n",
       "      <td>436</td>\n",
       "    </tr>\n",
       "    <tr>\n",
       "      <th>3</th>\n",
       "      <td>1384719342</td>\n",
       "      <td>[0, 0]</td>\n",
       "      <td>5</td>\n",
       "      <td>Nice windscreen protects my MXL mic and preven...</td>\n",
       "      <td>02 14, 2014</td>\n",
       "      <td>A2C00NNG1ZQQG2</td>\n",
       "      <td>RustyBill \"Sunday Rocker\"</td>\n",
       "      <td>GOOD WINDSCREEN FOR THE MONEY</td>\n",
       "      <td>1392336000</td>\n",
       "      <td>1</td>\n",
       "      <td>206</td>\n",
       "    </tr>\n",
       "    <tr>\n",
       "      <th>4</th>\n",
       "      <td>1384719342</td>\n",
       "      <td>[0, 0]</td>\n",
       "      <td>5</td>\n",
       "      <td>This pop filter is great. It looks and perform...</td>\n",
       "      <td>02 21, 2014</td>\n",
       "      <td>A94QU4C90B1AX</td>\n",
       "      <td>SEAN MASLANKA</td>\n",
       "      <td>No more pops when I record my vocals.</td>\n",
       "      <td>1392940800</td>\n",
       "      <td>1</td>\n",
       "      <td>159</td>\n",
       "    </tr>\n",
       "  </tbody>\n",
       "</table>\n",
       "</div>"
      ],
      "text/plain": [
       "         asin   helpful  overall  \\\n",
       "0  1384719342    [0, 0]        5   \n",
       "1  1384719342  [13, 14]        5   \n",
       "2  1384719342    [1, 1]        5   \n",
       "3  1384719342    [0, 0]        5   \n",
       "4  1384719342    [0, 0]        5   \n",
       "\n",
       "                                          reviewText   reviewTime  \\\n",
       "0  Not much to write about here, but it does exac...  02 28, 2014   \n",
       "1  The product does exactly as it should and is q...  03 16, 2013   \n",
       "2  The primary job of this device is to block the...  08 28, 2013   \n",
       "3  Nice windscreen protects my MXL mic and preven...  02 14, 2014   \n",
       "4  This pop filter is great. It looks and perform...  02 21, 2014   \n",
       "\n",
       "       reviewerID                                      reviewerName  \\\n",
       "0  A2IBPI20UZIR0U  cassandra tu \"Yeah, well, that's just like, u...   \n",
       "1  A14VAT5EAX3D9S                                              Jake   \n",
       "2  A195EZSQDW3E21                     Rick Bennette \"Rick Bennette\"   \n",
       "3  A2C00NNG1ZQQG2                         RustyBill \"Sunday Rocker\"   \n",
       "4   A94QU4C90B1AX                                     SEAN MASLANKA   \n",
       "\n",
       "                                 summary  unixReviewTime  rating  length  \n",
       "0                                   good      1393545600       1     268  \n",
       "1                                   Jake      1363392000       1     544  \n",
       "2                   It Does The Job Well      1377648000       1     436  \n",
       "3          GOOD WINDSCREEN FOR THE MONEY      1392336000       1     206  \n",
       "4  No more pops when I record my vocals.      1392940800       1     159  "
      ]
     },
     "execution_count": 16,
     "metadata": {},
     "output_type": "execute_result"
    }
   ],
   "source": [
    "def length(text):    \n",
    "    '''a function which returns the length of text'''\n",
    "    return len(text)\n",
    "\n",
    "# Apply the function to each review\n",
    "\n",
    "df['length'] = df['reviewText'].apply(length)\n",
    "df.head()"
   ]
  },
  {
   "cell_type": "code",
   "execution_count": 17,
   "metadata": {},
   "outputs": [],
   "source": [
    "# Creating features for positive and negative reviews\n",
    "\n",
    "positive_review = df[df['rating'] == 1]\n",
    "negative_review = df[df['rating'] == 0]\n"
   ]
  },
  {
   "cell_type": "code",
   "execution_count": 18,
   "metadata": {},
   "outputs": [
    {
     "data": {
      "image/png": "[encoded data removed]",
      "text/plain": [
       "<Figure size 864x432 with 1 Axes>"
      ]
     },
     "metadata": {
      "needs_background": "light"
     },
     "output_type": "display_data"
    }
   ],
   "source": [
    "import matplotlib\n",
    "from matplotlib import pyplot as plt\n",
    "%matplotlib inline\n",
    "\n",
    "matplotlib.rcParams['figure.figsize'] = (12.0, 6.0)\n",
    "bins = 500\n",
    "plt.hist(positive_review['length'], alpha = 0.6, bins=bins, label='Positive')\n",
    "plt.hist(negative_review['length'], alpha = 0.8, bins=bins, label='Negative')\n",
    "plt.xlabel('length')\n",
    "plt.ylabel('# of reviews')\n",
    "plt.title('Length of Positive and Negative Reviews')\n",
    "plt.legend(loc='upper right')\n",
    "plt.xlim(0,300)\n",
    "plt.grid()\n",
    "plt.show()"
   ]
  },
  {
   "cell_type": "markdown",
   "metadata": {},
   "source": [
    "From the histogram you can tell the positive reviews are much longer than the negative reviews."
   ]
  },
  {
   "cell_type": "markdown",
   "metadata": {},
   "source": [
    "# Topic modeling\n",
    "\n",
    "Topic Modeling is a process to automatically identify topics present in a text object and to derive hidden patterns exhibited by a text corpus. Topic Models are very useful for multiple purposes, including:\n",
    "\n",
    "Document clustering\n",
    "\n",
    "Organizing large blocks of textual data\n",
    "\n",
    "Information retrieval from unstructured text\n",
    "\n",
    "Feature selection\n",
    "\n",
    "The goal here is to extract a certain number of groups of important words from the reviews. These groups of words are basically the topics which would help in ascertaining what the consumers are actually talking about in the reviews.\n",
    "\n",
    "### Data Preprocessing\n",
    "\n",
    "Data preprocessing and cleaning is an important step before any text mining task, in this step, we will remove the punctuations, stopwords and normalize the reviews as much as possible. After every preprocessing step, it is a good practice to check the most frequent words in the data. Therefore, let’s define a function that would plot a bar graph of n most frequent words in the data."
   ]
  },
  {
   "cell_type": "code",
   "execution_count": 19,
   "metadata": {},
   "outputs": [],
   "source": [
    "import nltk\n",
    "from nltk import FreqDist\n",
    "\n",
    "import gensim\n",
    "from gensim import corpora\n",
    "\n",
    "import pyLDAvis\n",
    "import pyLDAvis.gensim"
   ]
  },
  {
   "cell_type": "code",
   "execution_count": 20,
   "metadata": {},
   "outputs": [],
   "source": [
    "# Lets create a function to plot most frequent terms\n",
    "def freq_words(x, terms = 30):\n",
    "  all_words = ' '.join([text for text in x])\n",
    "  all_words = all_words.split()\n",
    "\n",
    "  fdist = FreqDist(all_words)\n",
    "  words_df = pd.DataFrame({'word':list(fdist.keys()), 'count':list(fdist.values())})\n",
    "\n",
    "  # selecting top 20 most frequent words\n",
    "  d = words_df.nlargest(columns=\"count\", n = terms) \n",
    "  plt.figure(figsize=(20,5))\n",
    "  ax = sns.barplot(data=d, x= \"word\", y = \"count\")\n",
    "  ax.set(ylabel = 'Count')\n",
    "  plt.show()"
   ]
  },
  {
   "cell_type": "code",
   "execution_count": 21,
   "metadata": {},
   "outputs": [
    {
     "data": {
      "image/png": "[encoded data removed]",
      "text/plain": [
       "<Figure size 1440x360 with 1 Axes>"
      ]
     },
     "metadata": {
      "needs_background": "light"
     },
     "output_type": "display_data"
    }
   ],
   "source": [
    "freq_words(df['reviewText'])"
   ]
  },
  {
   "cell_type": "markdown",
   "metadata": {},
   "source": [
    "Most common words are ‘the’, ‘a’, ‘and’, so on and so forth. These words are not so important for our task and they do not tell any story. We’ have to get rid of these kinds of words. Before that let’s remove the punctuations and numbers from our text data."
   ]
  },
  {
   "cell_type": "code",
   "execution_count": 22,
   "metadata": {},
   "outputs": [],
   "source": [
    "# Lets remove unwanted characters, numbers and symbols\n",
    "df['reviewText'] = df['reviewText'].str.replace(\"[^a-zA-Z#]\", \" \")"
   ]
  },
  {
   "cell_type": "markdown",
   "metadata": {},
   "source": [
    "#### Remove Stopwords"
   ]
  },
  {
   "cell_type": "code",
   "execution_count": 23,
   "metadata": {},
   "outputs": [],
   "source": [
    "# Let’s try to remove the stopwords and short words (<2 letters) from the reviews.\n",
    "\n",
    "from nltk.corpus import stopwords\n",
    "stop_words = stopwords.words('english')\n",
    "\n",
    "# function to remove stopwords\n",
    "def remove_stopwords(rev):\n",
    "    rev_new = \" \".join([i for i in rev if i not in stop_words])\n",
    "    return rev_new\n",
    "\n",
    "# remove short words (length < 3)\n",
    "df['reviewText'] = df['reviewText'].apply(lambda x: ' '.join([w for w in x.split() if len(w)>2]))\n",
    "\n",
    "# remove stopwords from the text\n",
    "reviews = [remove_stopwords(r.split()) for r in df['reviewText']]\n",
    "\n",
    "# make entire text lowercase\n",
    "reviews = [r.lower() for r in reviews]"
   ]
  },
  {
   "cell_type": "code",
   "execution_count": 24,
   "metadata": {},
   "outputs": [
    {
     "data": {
      "image/png": "[encoded data removed]",
      "text/plain": [
       "<Figure size 1440x360 with 1 Axes>"
      ]
     },
     "metadata": {
      "needs_background": "light"
     },
     "output_type": "display_data"
    }
   ],
   "source": [
    "# Let’s again plot the most frequent words and see if the more significant words have come out.\n",
    "freq_words(reviews, 35)"
   ]
  },
  {
   "cell_type": "markdown",
   "metadata": {},
   "source": [
    "We can see some improvement here. Terms like ‘guitar’, ‘the’, ‘one’, ‘great’ have come up which are quite relevant for the Musical equipment category. However, we still have neutral terms like ‘the’, ‘use’, ‘get’, ‘also’ which are not that relevant.\n",
    "\n",
    "####  Lemmatization\n",
    "\n",
    "To further remove noise from the text we can use lemmatization from the spaCy library. It reduces any given word to its base form thereby reducing multiple forms of a word to a single word."
   ]
  },
  {
   "cell_type": "code",
   "execution_count": 26,
   "metadata": {},
   "outputs": [
    {
     "name": "stderr",
     "output_type": "stream",
     "text": [
      "C:\\Users\\femis\\Anaconda3\\lib\\site-packages\\thinc\\neural\\train.py:7: DeprecationWarning:\n",
      "\n",
      "Using or importing the ABCs from 'collections' instead of from 'collections.abc' is deprecated, and in 3.8 it will stop working\n",
      "\n",
      "C:\\Users\\femis\\Anaconda3\\lib\\site-packages\\thinc\\check.py:4: DeprecationWarning:\n",
      "\n",
      "Using or importing the ABCs from 'collections' instead of from 'collections.abc' is deprecated, and in 3.8 it will stop working\n",
      "\n"
     ]
    }
   ],
   "source": [
    "import spacy\n",
    "nlp = spacy.load('en', disable=['parser', 'ner'])\n",
    "\n",
    "def lemmatization(texts, tags=['NOUN', 'ADJ']): # filter noun and adjective\n",
    "       output = []\n",
    "       for sent in texts:\n",
    "             doc = nlp(\" \".join(sent)) \n",
    "             output.append([token.lemma_ for token in doc if token.pos_ in tags])\n",
    "       return output"
   ]
  },
  {
   "cell_type": "markdown",
   "metadata": {},
   "source": [
    "#### Tokenize\n",
    "\n",
    "Let’s tokenize the reviews and then lemmatize the tokenized reviews"
   ]
  },
  {
   "cell_type": "code",
   "execution_count": 27,
   "metadata": {},
   "outputs": [
    {
     "name": "stdout",
     "output_type": "stream",
     "text": [
      "['the', 'product', 'exactly', 'quite', 'affordable', 'realized', 'double', 'screened', 'arrived', 'even', 'better', 'expected', 'added', 'bonus', 'one', 'screens', 'carries', 'small', 'hint', 'smell', 'old', 'grape', 'candy', 'used', 'buy', 'reminiscent', 'sake', 'cannot', 'stop', 'putting', 'pop', 'filter', 'next', 'nose', 'smelling', 'recording', 'dif', 'needed', 'pop', 'filter', 'work', 'well', 'expensive', 'ones', 'may', 'even', 'come', 'pleasing', 'aroma', 'like', 'mine', 'buy', 'product']\n"
     ]
    }
   ],
   "source": [
    "tokenized_reviews = pd.Series(reviews).apply(lambda x: x.split())\n",
    "print(tokenized_reviews[1])"
   ]
  },
  {
   "cell_type": "code",
   "execution_count": 28,
   "metadata": {},
   "outputs": [
    {
     "name": "stdout",
     "output_type": "stream",
     "text": [
      "['product', 'affordable', 'double', 'screened', 'bonus', 'screen', 'small', 'hint', 'smell', 'old', 'grape', 'candy', 'reminiscent', 'sake', 'pop', 'filter', 'next', 'nose', 'recording', 'dif', 'pop', 'filter', 'work', 'expensive', 'one', 'aroma', 'product']\n"
     ]
    }
   ],
   "source": [
    "reviews_2 = lemmatization(tokenized_reviews)\n",
    "print(reviews_2[1]) # print lemmatized review"
   ]
  },
  {
   "cell_type": "markdown",
   "metadata": {},
   "source": [
    "As you can see, we have not just lemmatized the words but also filtered only nouns and adjectives. Let’s de-tokenize the lemmatized reviews and plot the most common words."
   ]
  },
  {
   "cell_type": "code",
   "execution_count": 29,
   "metadata": {},
   "outputs": [
    {
     "data": {
      "image/png": "[encoded data removed]",
      "text/plain": [
       "<Figure size 1440x360 with 1 Axes>"
      ]
     },
     "metadata": {
      "needs_background": "light"
     },
     "output_type": "display_data"
    }
   ],
   "source": [
    "reviews_3 = []\n",
    "for i in range(len(reviews_2)):\n",
    "    reviews_3.append(' '.join(reviews_2[i]))\n",
    "\n",
    "df['reviews'] = reviews_3\n",
    "\n",
    "freq_words(df['reviews'], 35)"
   ]
  },
  {
   "cell_type": "markdown",
   "metadata": {},
   "source": [
    "It seems that now most frequent terms in our data are relevant. We can now go ahead and start building our topic model.\n",
    "\n",
    "But first lets also represent the most frequent terms in a WordCloud.\n",
    "\n",
    "#### WordCloud"
   ]
  },
  {
   "cell_type": "code",
   "execution_count": 30,
   "metadata": {},
   "outputs": [
    {
     "data": {
      "text/plain": [
       "(-0.5, 399.5, 199.5, -0.5)"
      ]
     },
     "execution_count": 30,
     "metadata": {},
     "output_type": "execute_result"
    },
    {
     "data": {
      "image/png": "[encoded data removed]",
      "text/plain": [
       "<Figure size 720x504 with 1 Axes>"
      ]
     },
     "metadata": {
      "needs_background": "light"
     },
     "output_type": "display_data"
    }
   ],
   "source": [
    "# to create our wordclouds, I will import the python module \"wordcloud\"\n",
    "\n",
    "from wordcloud import WordCloud\n",
    "\n",
    "# The wordcloud of Reviews in the dataset\n",
    "plt.figure(figsize=(10,7))\n",
    "wordcloud = WordCloud(background_color=\"black\", max_words=10000, \n",
    "               max_font_size= 100)\n",
    "wordcloud.generate(\" \".join(df.reviews))\n",
    "plt.title(\"Keywords in Review\", fontsize=20)\n",
    "plt.imshow(wordcloud.recolor(random_state=17), alpha=0.98, interpolation='bilinear')\n",
    "plt.axis('off')"
   ]
  },
  {
   "cell_type": "markdown",
   "metadata": {},
   "source": [
    "## LDA Model\n",
    "\n",
    "Lets start by creating the term dictionary of our corpus, where every unique term is assigned an index"
   ]
  },
  {
   "cell_type": "code",
   "execution_count": 31,
   "metadata": {},
   "outputs": [],
   "source": [
    "dictionary = corpora.Dictionary(reviews_2)\n",
    "\n",
    "# convert the list of reviews (reviews_2) into a Document Term Matrix using the dictionary prepared above.\n",
    "doc_term_matrix = [dictionary.doc2bow(rev) for rev in reviews_2]"
   ]
  },
  {
   "cell_type": "code",
   "execution_count": 32,
   "metadata": {},
   "outputs": [],
   "source": [
    "# Creating the object for LDA model using gensim library\n",
    "LDA = gensim.models.ldamodel.LdaModel\n",
    "\n",
    "# Build LDA model with 7 topics\n",
    "lda_model = LDA(corpus=doc_term_matrix, id2word=dictionary, num_topics=7, random_state=100)\n",
    "         "
   ]
  },
  {
   "cell_type": "code",
   "execution_count": 33,
   "metadata": {},
   "outputs": [
    {
     "data": {
      "text/plain": [
       "[(0,\n",
       "  '0.059*\"pedal\" + 0.033*\"amp\" + 0.019*\"tone\" + 0.017*\"sound\" + 0.012*\"effect\" + 0.011*\"great\" + 0.011*\"power\" + 0.010*\"good\" + 0.010*\"tube\" + 0.009*\"distortion\"'),\n",
       " (1,\n",
       "  '0.027*\"pick\" + 0.025*\"guitar\" + 0.021*\"great\" + 0.019*\"good\" + 0.013*\"case\" + 0.010*\"sound\" + 0.010*\"string\" + 0.009*\"product\" + 0.008*\"price\" + 0.008*\"use\"'),\n",
       " (2,\n",
       "  '0.031*\"cable\" + 0.029*\"great\" + 0.025*\"good\" + 0.019*\"price\" + 0.019*\"quality\" + 0.011*\"sound\" + 0.010*\"guitar\" + 0.009*\"nice\" + 0.008*\"product\" + 0.008*\"use\"'),\n",
       " (3,\n",
       "  '0.042*\"guitar\" + 0.038*\"tuner\" + 0.015*\"easy\" + 0.014*\"strap\" + 0.013*\"tune\" + 0.011*\"capo\" + 0.011*\"use\" + 0.010*\"good\" + 0.010*\"little\" + 0.010*\"instrument\"'),\n",
       " (4,\n",
       "  '0.025*\"mic\" + 0.014*\"microphone\" + 0.012*\"good\" + 0.010*\"usb\" + 0.009*\"use\" + 0.009*\"great\" + 0.008*\"display\" + 0.008*\"recording\" + 0.008*\"sound\" + 0.008*\"guitar\"'),\n",
       " (5,\n",
       "  '0.024*\"time\" + 0.018*\"guitar\" + 0.015*\"little\" + 0.014*\"violin\" + 0.012*\"pick\" + 0.011*\"jam\" + 0.010*\"nice\" + 0.009*\"thing\" + 0.008*\"strap\" + 0.008*\"mandolin\"'),\n",
       " (6,\n",
       "  '0.070*\"string\" + 0.032*\"guitar\" + 0.020*\"good\" + 0.013*\"sound\" + 0.012*\"great\" + 0.011*\"time\" + 0.009*\"light\" + 0.008*\"tune\" + 0.008*\"instrument\" + 0.008*\"tone\"')]"
      ]
     },
     "execution_count": 33,
     "metadata": {},
     "output_type": "execute_result"
    }
   ],
   "source": [
    "# Let’s print out the topics that our LDA model has learned.\n",
    "\n",
    "lda_model.print_topics()"
   ]
  },
  {
   "cell_type": "markdown",
   "metadata": {},
   "source": [
    "Based on topics 1 and 6 terms like guitar, strap and tuner inidcate the music instrument that is being reviewed is a guitar. Topics 3 and 5 seems to refer to the overall quality which terms like good and great.\n",
    "\n",
    "## Visualization\n",
    "\n",
    "To visualize our topics in a 2-dimensional space we will use the pyLDAvis library. This visualization is interactive in nature and displays topics along with the most relevant words."
   ]
  },
  {
   "cell_type": "code",
   "execution_count": 34,
   "metadata": {},
   "outputs": [
    {
     "data": {
      "text/html": [
       "\n",
       "<link rel=\"stylesheet\" type=\"text/css\" href=\"https://cdn.rawgit.com/bmabey/pyLDAvis/files/ldavis.v1.0.0.css\">\n",
       "\n",
       "\n",
       "<div id=\"ldavis_el2332020546156407281033393815\"></div>\n",
       "<script type=\"text/javascript\">\n",
       "\n",
       "var ldavis_el2332020546156407281033393815_data = {\"mdsDat\": {\"x\": [0.20459086529051998, -0.07901460152902504, -0.06602489469916699, 0.031158372635170063, -0.024693122763203054, 0.04095728268924618, -0.10697390162354145], \"y\": [-0.07130634193113747, 0.04467000022523128, 0.02287515050981878, 0.046946174690461265, -0.03177222980966129, 0.10924234249410145, -0.12065509617881395], \"topics\": [1, 2, 3, 4, 5, 6, 7], \"cluster\": [1, 1, 1, 1, 1, 1, 1], \"Freq\": [21.239887237548828, 18.0468692779541, 14.542778968811035, 14.506901741027832, 14.222222328186035, 13.372315406799316, 4.069025993347168]}, \"tinfo\": {\"Category\": [\"Default\", \"Default\", \"Default\", \"Default\", \"Default\", \"Default\", \"Default\", \"Default\", \"Default\", \"Default\", \"Default\", \"Default\", \"Default\", \"Default\", \"Default\", \"Default\", \"Default\", \"Default\", \"Default\", \"Default\", \"Default\", \"Default\", \"Default\", \"Default\", \"Default\", \"Default\", \"Default\", \"Default\", \"Default\", \"Default\", \"Topic1\", \"Topic1\", \"Topic1\", \"Topic1\", \"Topic1\", \"Topic1\", \"Topic1\", \"Topic1\", \"Topic1\", \"Topic1\", \"Topic1\", \"Topic1\", \"Topic1\", \"Topic1\", \"Topic1\", \"Topic1\", \"Topic1\", \"Topic1\", \"Topic1\", \"Topic1\", \"Topic1\", \"Topic1\", \"Topic1\", \"Topic1\", \"Topic1\", \"Topic1\", \"Topic1\", \"Topic1\", \"Topic1\", \"Topic1\", \"Topic1\", \"Topic1\", \"Topic1\", \"Topic1\", \"Topic1\", \"Topic1\", \"Topic1\", \"Topic1\", \"Topic1\", \"Topic1\", \"Topic1\", \"Topic1\", \"Topic1\", \"Topic1\", \"Topic1\", \"Topic1\", \"Topic1\", \"Topic1\", \"Topic1\", \"Topic1\", \"Topic1\", \"Topic1\", \"Topic1\", \"Topic1\", \"Topic1\", \"Topic1\", \"Topic1\", \"Topic1\", \"Topic1\", \"Topic1\", \"Topic1\", \"Topic1\", \"Topic1\", \"Topic1\", \"Topic1\", \"Topic1\", \"Topic1\", \"Topic1\", \"Topic1\", \"Topic2\", \"Topic2\", \"Topic2\", \"Topic2\", \"Topic2\", \"Topic2\", \"Topic2\", \"Topic2\", \"Topic2\", \"Topic2\", \"Topic2\", \"Topic2\", \"Topic2\", \"Topic2\", \"Topic2\", \"Topic2\", \"Topic2\", \"Topic2\", \"Topic2\", \"Topic2\", \"Topic2\", \"Topic2\", \"Topic2\", \"Topic2\", \"Topic2\", \"Topic2\", \"Topic2\", \"Topic2\", \"Topic2\", \"Topic2\", \"Topic2\", \"Topic2\", \"Topic2\", \"Topic2\", \"Topic2\", \"Topic2\", \"Topic2\", \"Topic2\", \"Topic2\", \"Topic2\", \"Topic2\", \"Topic2\", \"Topic2\", \"Topic2\", \"Topic2\", \"Topic2\", \"Topic2\", \"Topic2\", \"Topic2\", \"Topic2\", \"Topic2\", \"Topic2\", \"Topic2\", \"Topic2\", \"Topic2\", \"Topic2\", \"Topic2\", \"Topic2\", \"Topic2\", \"Topic2\", \"Topic2\", \"Topic2\", \"Topic2\", \"Topic2\", \"Topic2\", \"Topic2\", \"Topic2\", \"Topic2\", \"Topic2\", \"Topic2\", \"Topic2\", \"Topic2\", \"Topic2\", \"Topic2\", \"Topic2\", \"Topic2\", \"Topic2\", \"Topic2\", \"Topic2\", \"Topic3\", \"Topic3\", \"Topic3\", \"Topic3\", \"Topic3\", \"Topic3\", \"Topic3\", \"Topic3\", \"Topic3\", \"Topic3\", \"Topic3\", \"Topic3\", \"Topic3\", \"Topic3\", \"Topic3\", \"Topic3\", \"Topic3\", \"Topic3\", \"Topic3\", \"Topic3\", \"Topic3\", \"Topic3\", \"Topic3\", \"Topic3\", \"Topic3\", \"Topic3\", \"Topic3\", \"Topic3\", \"Topic3\", \"Topic3\", \"Topic3\", \"Topic3\", \"Topic3\", \"Topic3\", \"Topic3\", \"Topic3\", \"Topic3\", \"Topic3\", \"Topic3\", \"Topic3\", \"Topic3\", \"Topic3\", \"Topic3\", \"Topic3\", \"Topic3\", \"Topic3\", \"Topic3\", \"Topic3\", \"Topic3\", \"Topic3\", \"Topic3\", \"Topic3\", \"Topic3\", \"Topic3\", \"Topic3\", \"Topic3\", \"Topic3\", \"Topic3\", \"Topic3\", \"Topic3\", \"Topic3\", \"Topic3\", \"Topic3\", \"Topic3\", \"Topic3\", \"Topic3\", \"Topic3\", \"Topic3\", \"Topic3\", \"Topic3\", \"Topic3\", \"Topic3\", \"Topic3\", \"Topic3\", \"Topic3\", \"Topic3\", \"Topic3\", \"Topic3\", \"Topic3\", \"Topic3\", \"Topic3\", \"Topic3\", \"Topic3\", \"Topic3\", \"Topic3\", \"Topic3\", \"Topic3\", \"Topic3\", \"Topic4\", \"Topic4\", \"Topic4\", \"Topic4\", \"Topic4\", \"Topic4\", \"Topic4\", \"Topic4\", \"Topic4\", \"Topic4\", \"Topic4\", \"Topic4\", \"Topic4\", \"Topic4\", \"Topic4\", \"Topic4\", \"Topic4\", \"Topic4\", \"Topic4\", \"Topic4\", \"Topic4\", \"Topic4\", \"Topic4\", \"Topic4\", \"Topic4\", \"Topic4\", \"Topic4\", \"Topic4\", \"Topic4\", \"Topic4\", \"Topic4\", \"Topic4\", \"Topic4\", \"Topic4\", \"Topic4\", \"Topic4\", \"Topic4\", \"Topic4\", \"Topic4\", \"Topic4\", \"Topic4\", \"Topic4\", \"Topic4\", \"Topic4\", \"Topic4\", \"Topic4\", \"Topic4\", \"Topic4\", \"Topic4\", \"Topic4\", \"Topic4\", \"Topic4\", \"Topic4\", \"Topic4\", \"Topic4\", \"Topic4\", \"Topic4\", \"Topic4\", \"Topic4\", \"Topic4\", \"Topic4\", \"Topic4\", \"Topic4\", \"Topic4\", \"Topic4\", \"Topic4\", \"Topic4\", \"Topic4\", \"Topic4\", \"Topic4\", \"Topic4\", \"Topic4\", \"Topic4\", \"Topic4\", \"Topic4\", \"Topic4\", \"Topic4\", \"Topic4\", \"Topic4\", \"Topic4\", \"Topic4\", \"Topic4\", \"Topic5\", \"Topic5\", \"Topic5\", \"Topic5\", \"Topic5\", \"Topic5\", \"Topic5\", \"Topic5\", \"Topic5\", \"Topic5\", \"Topic5\", \"Topic5\", \"Topic5\", \"Topic5\", \"Topic5\", \"Topic5\", \"Topic5\", \"Topic5\", \"Topic5\", \"Topic5\", \"Topic5\", \"Topic5\", \"Topic5\", \"Topic5\", \"Topic5\", \"Topic5\", \"Topic5\", \"Topic5\", \"Topic5\", \"Topic5\", \"Topic5\", \"Topic5\", \"Topic5\", \"Topic5\", \"Topic5\", \"Topic5\", \"Topic5\", \"Topic5\", \"Topic5\", \"Topic5\", \"Topic5\", \"Topic5\", \"Topic5\", \"Topic5\", \"Topic5\", \"Topic5\", \"Topic5\", \"Topic5\", \"Topic5\", \"Topic5\", \"Topic5\", \"Topic5\", \"Topic5\", \"Topic5\", \"Topic5\", \"Topic5\", \"Topic5\", \"Topic5\", \"Topic5\", \"Topic5\", \"Topic5\", \"Topic5\", \"Topic5\", \"Topic5\", \"Topic5\", \"Topic5\", \"Topic5\", \"Topic5\", \"Topic5\", \"Topic5\", \"Topic5\", \"Topic5\", \"Topic5\", \"Topic5\", \"Topic5\", \"Topic5\", \"Topic6\", \"Topic6\", \"Topic6\", \"Topic6\", \"Topic6\", \"Topic6\", \"Topic6\", \"Topic6\", \"Topic6\", \"Topic6\", \"Topic6\", \"Topic6\", \"Topic6\", \"Topic6\", \"Topic6\", \"Topic6\", \"Topic6\", \"Topic6\", \"Topic6\", \"Topic6\", \"Topic6\", \"Topic6\", \"Topic6\", \"Topic6\", \"Topic6\", \"Topic6\", \"Topic6\", \"Topic6\", \"Topic6\", \"Topic6\", \"Topic6\", \"Topic6\", \"Topic6\", \"Topic6\", \"Topic6\", \"Topic6\", \"Topic6\", \"Topic6\", \"Topic6\", \"Topic6\", \"Topic6\", \"Topic6\", \"Topic6\", \"Topic6\", \"Topic6\", \"Topic6\", \"Topic6\", \"Topic6\", \"Topic6\", \"Topic6\", \"Topic6\", \"Topic6\", \"Topic6\", \"Topic6\", \"Topic6\", \"Topic6\", \"Topic6\", \"Topic6\", \"Topic6\", \"Topic6\", \"Topic6\", \"Topic6\", \"Topic6\", \"Topic6\", \"Topic6\", \"Topic6\", \"Topic6\", \"Topic6\", \"Topic6\", \"Topic6\", \"Topic6\", \"Topic6\", \"Topic7\", \"Topic7\", \"Topic7\", \"Topic7\", \"Topic7\", \"Topic7\", \"Topic7\", \"Topic7\", \"Topic7\", \"Topic7\", \"Topic7\", \"Topic7\", \"Topic7\", \"Topic7\", \"Topic7\", \"Topic7\", \"Topic7\", \"Topic7\", \"Topic7\", \"Topic7\", \"Topic7\", \"Topic7\", \"Topic7\", \"Topic7\", \"Topic7\", \"Topic7\", \"Topic7\", \"Topic7\", \"Topic7\", \"Topic7\", \"Topic7\", \"Topic7\", \"Topic7\", \"Topic7\", \"Topic7\", \"Topic7\", \"Topic7\", \"Topic7\", \"Topic7\", \"Topic7\", \"Topic7\", \"Topic7\", \"Topic7\", \"Topic7\", \"Topic7\", \"Topic7\", \"Topic7\", \"Topic7\", \"Topic7\", \"Topic7\", \"Topic7\", \"Topic7\", \"Topic7\", \"Topic7\", \"Topic7\", \"Topic7\", \"Topic7\", \"Topic7\", \"Topic7\", \"Topic7\", \"Topic7\", \"Topic7\", \"Topic7\", \"Topic7\", \"Topic7\", \"Topic7\", \"Topic7\", \"Topic7\", \"Topic7\", \"Topic7\", \"Topic7\", \"Topic7\", \"Topic7\", \"Topic7\", \"Topic7\"], \"Freq\": [3415.0, 3557.0, 2029.0, 1199.0, 2176.0, 1241.0, 5128.0, 1109.0, 1754.0, 1042.0, 575.0, 1708.0, 601.0, 1754.0, 1043.0, 349.0, 565.0, 513.0, 3672.0, 834.0, 933.0, 292.0, 2059.0, 226.0, 530.0, 171.0, 734.0, 1634.0, 345.0, 369.0, 341.0048828125, 270.321533203125, 57.21291732788086, 50.477577209472656, 36.5019645690918, 39.540870666503906, 146.8116455078125, 34.127017974853516, 104.03627014160156, 360.20172119140625, 51.083126068115234, 122.44425964355469, 32.36962127685547, 33.959232330322266, 25.48027801513672, 90.76959228515625, 23.855161666870117, 42.57603454589844, 27.421815872192383, 351.15252685546875, 79.69989776611328, 23.297067642211914, 31.20620346069336, 111.50390625, 20.726547241210938, 24.641735076904297, 39.04118347167969, 20.161609649658203, 26.604419708251953, 157.73728942871094, 3243.267822265625, 118.4580307006836, 482.9956970214844, 150.2736358642578, 65.40975189208984, 528.99365234375, 1844.1964111328125, 126.09408569335938, 58.36528396606445, 98.96784973144531, 284.2888488769531, 317.7160339355469, 229.66094970703125, 148.31808471679688, 482.4457092285156, 125.15921020507812, 656.9730224609375, 581.2982177734375, 436.836181640625, 180.1038360595703, 217.60487365722656, 1028.3857421875, 239.96270751953125, 302.1344909667969, 286.75213623046875, 365.8294677734375, 356.08697509765625, 950.2159423828125, 336.3385314941406, 239.92529296875, 296.96124267578125, 294.3880615234375, 412.926025390625, 584.2125244140625, 549.4417114257812, 395.5028076171875, 346.9586181640625, 273.0076904296875, 282.5462646484375, 215.36610412597656, 49.96009826660156, 40.436588287353516, 38.89027786254883, 29.684219360351562, 23.835975646972656, 28.658037185668945, 18.917951583862305, 28.65096664428711, 17.257617950439453, 16.948516845703125, 36.41835021972656, 23.38241958618164, 28.203384399414062, 53.451698303222656, 14.181550025939941, 21.019678115844727, 12.344541549682617, 12.438642501831055, 11.901662826538086, 77.71785736083984, 11.887126922607422, 11.668160438537598, 18.371471405029297, 12.549097061157227, 11.362195014953613, 19.215206146240234, 17.50328254699707, 10.7102632522583, 24.41199493408203, 288.84332275390625, 37.577327728271484, 534.7794189453125, 225.76348876953125, 128.96685791015625, 1795.451416015625, 183.06585693359375, 26.132522583007812, 70.35626220703125, 18.937232971191406, 433.0327453613281, 43.202938079833984, 672.6030883789062, 95.66364288330078, 131.35984802246094, 591.1741943359375, 190.9186553955078, 207.02940368652344, 113.17919921875, 133.93426513671875, 1952.585693359375, 115.11193084716797, 220.4490203857422, 281.6047668457031, 704.6797485351562, 239.108154296875, 165.22015380859375, 473.6394958496094, 390.883544921875, 297.50628662109375, 125.3963851928711, 408.2347717285156, 510.7388610839844, 473.7339172363281, 281.9196472167969, 184.45660400390625, 307.3547058105469, 154.48011779785156, 488.751220703125, 191.60609436035156, 189.29444885253906, 384.0596008300781, 237.40806579589844, 243.2107696533203, 329.9244689941406, 269.2502746582031, 213.5521697998047, 211.18948364257812, 209.89186096191406, 46.426979064941406, 39.54314422607422, 31.868669509887695, 22.372961044311523, 21.183977127075195, 21.13156509399414, 40.22566223144531, 18.736982345581055, 41.65443420410156, 17.216400146484375, 17.009695053100586, 16.68256950378418, 19.732206344604492, 21.42696762084961, 15.53553295135498, 16.953594207763672, 15.582022666931152, 15.46502685546875, 14.747912406921387, 14.032241821289062, 13.65091323852539, 18.593149185180664, 12.337080001831055, 21.60321044921875, 16.729604721069336, 14.16586685180664, 12.110727310180664, 11.177614212036133, 26.00421714782715, 10.519505500793457, 15.40621280670166, 21.851848602294922, 88.38401794433594, 40.69524002075195, 53.25246047973633, 29.427339553833008, 2659.47314453125, 185.957763671875, 55.15870666503906, 90.21473693847656, 39.62059020996094, 79.23143768310547, 48.968353271484375, 28.59605598449707, 116.41230773925781, 75.5606689453125, 37.852169036865234, 24.659269332885742, 137.7510528564453, 94.63379669189453, 34.7689208984375, 44.805301666259766, 213.62673950195312, 95.16900634765625, 346.3607482910156, 195.08187866210938, 154.38616943359375, 47.0, 1208.9598388671875, 222.4116973876953, 98.51319885253906, 757.9396362304688, 301.1435852050781, 116.55953216552734, 399.6559143066406, 196.0811004638672, 213.9503936767578, 300.86962890625, 475.22760009765625, 236.7703094482422, 122.71765899658203, 135.4335174560547, 471.19091796875, 282.2484436035156, 291.4993591308594, 293.17864990234375, 272.7632141113281, 206.515625, 279.7458801269531, 205.90916442871094, 167.79263305664062, 193.88694763183594, 138.30950927734375, 160.80589294433594, 155.9357452392578, 146.67987060546875, 180.14244079589844, 181.8246612548828, 88.66560363769531, 80.9790267944336, 42.097679138183594, 36.936153411865234, 32.35265350341797, 30.84187889099121, 30.02332878112793, 25.3973331451416, 1153.4874267578125, 44.259178161621094, 17.777685165405273, 16.40471649169922, 17.84270477294922, 15.460549354553223, 15.125186920166016, 14.54588508605957, 14.802437782287598, 13.45981502532959, 13.554522514343262, 12.983247756958008, 11.779152870178223, 16.089366912841797, 12.199260711669922, 11.247989654541016, 22.76634979248047, 10.90507698059082, 10.837294578552246, 11.441191673278809, 10.552116394042969, 10.326904296875, 17.013870239257812, 15.574540138244629, 61.963748931884766, 17.378873825073242, 139.6324462890625, 125.42477416992188, 73.16331481933594, 113.03805541992188, 25.018754959106445, 25.941131591796875, 32.97370910644531, 116.5558090209961, 30.492347717285156, 42.561912536621094, 113.23090362548828, 28.81809425354004, 19.13153839111328, 697.690673828125, 147.64939880371094, 730.2899169921875, 50.64854049682617, 147.82443237304688, 1087.37255859375, 158.40994262695312, 179.07347106933594, 145.25045776367188, 945.702880859375, 129.09442138671875, 77.62105560302734, 269.1663818359375, 304.9509582519531, 148.8665008544922, 350.9687194824219, 117.81861114501953, 293.6573791503906, 166.41885375976562, 412.7562561035156, 304.5288391113281, 139.1043243408203, 205.96327209472656, 212.8449249267578, 367.26202392578125, 228.62413024902344, 208.58880615234375, 163.7613067626953, 176.72030639648438, 147.57235717773438, 157.51470947265625, 140.6163330078125, 146.14491271972656, 142.66697692871094, 141.03855895996094, 159.21893310546875, 79.87188720703125, 44.413795471191406, 43.592979431152344, 45.57936096191406, 40.63455581665039, 38.2080078125, 38.01559066772461, 31.86353302001953, 29.2130069732666, 29.031484603881836, 26.9193172454834, 24.790199279785156, 40.49361038208008, 22.11156463623047, 33.57780075073242, 23.177684783935547, 18.898584365844727, 18.13337516784668, 16.46210479736328, 16.555164337158203, 15.425460815429688, 15.494803428649902, 15.819271087646484, 15.214069366455078, 15.022255897521973, 15.512578010559082, 14.345908164978027, 14.32080078125, 19.7148494720459, 38.5557861328125, 23.40445327758789, 22.01863670349121, 30.777559280395508, 981.8076171875, 52.12240219116211, 37.934303283691406, 38.768062591552734, 80.36885833740234, 175.64669799804688, 55.00481033325195, 105.90179443359375, 495.2593994140625, 71.0956039428711, 163.35025024414062, 202.30859375, 138.41110229492188, 134.63145446777344, 345.3128967285156, 769.9898071289062, 933.451171875, 712.0770263671875, 102.25352478027344, 207.046142578125, 71.49984741210938, 90.22399139404297, 165.4242401123047, 226.69482421875, 379.269775390625, 269.8346252441406, 306.1121826171875, 309.7115173339844, 101.92094421386719, 274.6998596191406, 263.073486328125, 360.1493225097656, 176.5697479248047, 201.34568786621094, 246.1377716064453, 157.49070739746094, 206.56617736816406, 171.21287536621094, 210.7135009765625, 177.34405517578125, 152.02806091308594, 152.03013610839844, 143.087646484375, 59.080177307128906, 45.40464782714844, 70.08812713623047, 285.3775634765625, 25.792865753173828, 22.814760208129883, 22.237470626831055, 36.50992202758789, 24.429061889648438, 21.380388259887695, 20.02284812927246, 18.406883239746094, 27.197307586669922, 333.634765625, 14.929473876953125, 14.540445327758789, 35.818389892578125, 21.646984100341797, 15.541642189025879, 15.192214965820312, 13.910993576049805, 63.77385330200195, 12.59243106842041, 24.779863357543945, 11.549667358398438, 13.906960487365723, 75.55010986328125, 10.839925765991211, 10.787870407104492, 47.8346061706543, 38.855892181396484, 80.63288116455078, 45.427215576171875, 26.312345504760742, 122.20123291015625, 475.1042175292969, 872.3886108398438, 202.6014862060547, 91.26392364501953, 282.95916748046875, 145.10264587402344, 253.4423370361328, 137.65097045898438, 133.75904846191406, 89.61932373046875, 58.32014083862305, 49.917179107666016, 172.9538116455078, 211.82896423339844, 131.42355346679688, 192.77584838867188, 182.27976989746094, 79.14934539794922, 224.2086944580078, 235.76979064941406, 158.6789093017578, 150.08267211914062, 130.93800354003906, 319.88604736328125, 175.07223510742188, 410.7483215332031, 217.1878204345703, 252.63006591796875, 280.1407775878906, 197.97396850585938, 302.9023742675781, 173.6128387451172, 197.7354278564453, 264.48779296875, 184.18014526367188, 196.02061462402344, 34.45377731323242, 16.90688705444336, 18.87063217163086, 15.054462432861328, 31.56192398071289, 26.550750732421875, 23.984127044677734, 11.480189323425293, 11.502668380737305, 11.913558006286621, 13.865771293640137, 10.499910354614258, 10.358851432800293, 10.542963981628418, 12.995862007141113, 9.421733856201172, 9.182559967041016, 14.9761962890625, 16.222938537597656, 8.569607734680176, 8.797175407409668, 8.05176830291748, 8.270740509033203, 16.085731506347656, 7.748997211456299, 7.503084182739258, 11.161749839782715, 7.794460296630859, 8.734910011291504, 14.483477592468262, 151.93638610839844, 17.19499969482422, 72.75843811035156, 24.30803680419922, 15.014762878417969, 12.724852561950684, 118.99468994140625, 29.297883987426758, 80.6724624633789, 26.705129623413086, 38.57636642456055, 78.27519226074219, 26.916175842285156, 23.236083984375, 251.16555786132812, 50.562747955322266, 19.30889320373535, 22.228925704956055, 128.9328155517578, 153.55963134765625, 32.80128479003906, 40.61968994140625, 49.89759063720703, 192.74160766601562, 104.41154479980469, 69.31623077392578, 84.14907836914062, 92.63609313964844, 41.107757568359375, 27.36311149597168, 79.10368347167969, 28.072662353515625, 56.10371017456055, 45.71499252319336, 72.92912292480469, 71.0079574584961, 49.84115982055664, 51.05170822143555, 36.89490509033203, 48.36026382446289, 41.93790054321289, 36.30669021606445, 37.948421478271484, 36.641998291015625, 36.778865814208984], \"Term\": [\"pedal\", \"string\", \"amp\", \"cable\", \"tuner\", \"pick\", \"guitar\", \"mic\", \"time\", \"strap\", \"microphone\", \"tone\", \"capo\", \"little\", \"tune\", \"usb\", \"tube\", \"distortion\", \"great\", \"effect\", \"case\", \"display\", \"price\", \"jam\", \"snark\", \"violin\", \"power\", \"quality\", \"joyo\", \"overdrive\", \"joyo\", \"reverb\", \"apogee\", \"ocd\", \"fiddle\", \"ditto\", \"marshall\", \"fulltone\", \"looper\", \"overdrive\", \"clock\", \"chorus\", \"modeling\", \"indicator\", \"bassman\", \"clone\", \"quieter\", \"carbon\", \"breakup\", \"delay\", \"fuzz\", \"bugera\", \"british\", \"analog\", \"fizzy\", \"headroom\", \"rat\", \"clipping\", \"ehx\", \"drive\", \"pedal\", \"crunch\", \"distortion\", \"boost\", \"mustang\", \"tube\", \"amp\", \"mxr\", \"muff\", \"bypass\", \"boss\", \"gain\", \"software\", \"compressor\", \"volume\", \"preset\", \"effect\", \"power\", \"knob\", \"supply\", \"channel\", \"tone\", \"setting\", \"speaker\", \"control\", \"clean\", \"battery\", \"sound\", \"board\", \"switch\", \"metal\", \"unit\", \"thing\", \"great\", \"good\", \"little\", \"use\", \"fender\", \"high\", \"ipad\", \"strip\", \"octave\", \"aquila\", \"podcast\", \"risk\", \"socket\", \"lemon\", \"convenience\", \"locking\", \"national\", \"narrow\", \"schubb\", \"rosewood\", \"mechanism\", \"cute\", \"view\", \"amplify\", \"annoyance\", \"nope\", \"accuracy\", \"detract\", \"confusing\", \"bed\", \"apparent\", \"bounce\", \"import\", \"residue\", \"writing\", \"aluminum\", \"uke\", \"schaller\", \"capo\", \"headstock\", \"capos\", \"tuner\", \"lock\", \"authentic\", \"kyser\", \"crate\", \"neck\", \"tenor\", \"strap\", \"metronome\", \"clamp\", \"tune\", \"screw\", \"fret\", \"install\", \"pitch\", \"guitar\", \"leather\", \"clip\", \"snark\", \"easy\", \"button\", \"hole\", \"instrument\", \"acoustic\", \"electric\", \"tuning\", \"work\", \"use\", \"little\", \"bass\", \"ukulele\", \"small\", \"design\", \"good\", \"fit\", \"fine\", \"great\", \"way\", \"well\", \"string\", \"time\", \"new\", \"low\", \"product\", \"mim\", \"pluck\", \"hercule\", \"cobalt\", \"newbie\", \"cordoba\", \"trem\", \"fear\", \"gigging\", \"fond\", \"scream\", \"cheesy\", \"warning\", \"elixer\", \"structure\", \"weld\", \"row\", \"satisfaction\", \"king\", \"checking\", \"floyd\", \"birthday\", \"fabulous\", \"garbage\", \"account\", \"code\", \"sore\", \"moisture\", \"image\", \"syndrome\", \"shoe\", \"silk\", \"nickel\", \"phosphor\", \"vibe\", \"longevity\", \"string\", \"addario\", \"bronze\", \"elixir\", \"truss\", \"wound\", \"coated\", \"wheel\", \"steel\", \"ernie\", \"defective\", \"cold\", \"gauge\", \"read\", \"slinky\", \"balanced\", \"bright\", \"martin\", \"light\", \"ukulele\", \"tension\", \"app\", \"guitar\", \"set\", \"ball\", \"good\", \"tune\", \"week\", \"time\", \"music\", \"play\", \"instrument\", \"sound\", \"new\", \"month\", \"finger\", \"great\", \"nice\", \"quality\", \"tone\", \"easy\", \"acoustic\", \"price\", \"year\", \"stand\", \"high\", \"difference\", \"electric\", \"long\", \"day\", \"thing\", \"little\", \"internal\", \"soprano\", \"register\", \"configuration\", \"cardboard\", \"trade\", \"controller\", \"silent\", \"cable\", \"warranty\", \"retro\", \"mixing\", \"pretty\", \"working\", \"switchcraft\", \"exceptional\", \"dyna\", \"jacket\", \"kill\", \"ugly\", \"synth\", \"quarter\", \"supple\", \"gloss\", \"gls\", \"lightning\", \"rubbery\", \"xenyx\", \"module\", \"impedance\", \"relief\", \"trial\", \"port\", \"min\", \"connector\", \"patch\", \"ukelele\", \"manual\", \"hosa\", \"camera\", \"tablet\", \"connection\", \"pod\", \"monster\", \"length\", \"concept\", \"apple\", \"quality\", \"foot\", \"price\", \"midi\", \"value\", \"great\", \"jack\", \"input\", \"cord\", \"good\", \"mixer\", \"xlr\", \"cheap\", \"product\", \"expensive\", \"nice\", \"item\", \"work\", \"money\", \"sound\", \"use\", \"amazon\", \"high\", \"strap\", \"guitar\", \"time\", \"easy\", \"problem\", \"thing\", \"right\", \"well\", \"end\", \"year\", \"instrument\", \"mic\", \"tascam\", \"yeti\", \"footprint\", \"iphone\", \"screamer\", \"plain\", \"practical\", \"curve\", \"voltage\", \"smart\", \"ipod\", \"sample\", \"piezo\", \"zipper\", \"latch\", \"select\", \"occasional\", \"fade\", \"fuller\", \"quantity\", \"unlimited\", \"effortless\", \"overhead\", \"platform\", \"puppy\", \"assortment\", \"creative\", \"coat\", \"desire\", \"applicator\", \"nail\", \"boogie\", \"lean\", \"terrific\", \"pick\", \"claim\", \"strum\", \"sensitivity\", \"thickness\", \"grip\", \"echo\", \"pocket\", \"case\", \"thumb\", \"finger\", \"bag\", \"planet\", \"wave\", \"product\", \"great\", \"guitar\", \"good\", \"material\", \"love\", \"medium\", \"tool\", \"size\", \"acoustic\", \"sound\", \"nice\", \"use\", \"price\", \"soft\", \"time\", \"tone\", \"string\", \"different\", \"small\", \"easy\", \"play\", \"thing\", \"lot\", \"little\", \"quality\", \"bit\", \"year\", \"recorder\", \"samson\", \"bone\", \"zoom\", \"display\", \"reproduction\", \"monitoring\", \"event\", \"twist\", \"converter\", \"uku\", \"compatible\", \"scarlett\", \"husband\", \"usb\", \"station\", \"wart\", \"playback\", \"cardioid\", \"snowflake\", \"headset\", \"cumbersome\", \"shock\", \"genius\", \"correction\", \"karaoke\", \"crystal\", \"laptop\", \"assemble\", \"alive\", \"focusrite\", \"daw\", \"phantom\", \"responsive\", \"uca\", \"monitor\", \"microphone\", \"mic\", \"interface\", \"condenser\", \"recording\", \"screen\", \"audio\", \"vocal\", \"voice\", \"window\", \"layer\", \"desktop\", \"computer\", \"record\", \"mount\", \"device\", \"studio\", \"card\", \"snark\", \"stand\", \"input\", \"accurate\", \"headphone\", \"use\", \"music\", \"good\", \"way\", \"little\", \"sound\", \"well\", \"great\", \"problem\", \"work\", \"guitar\", \"small\", \"price\", \"waste\", \"mechanic\", \"fire\", \"beast\", \"repeat\", \"act\", \"overdub\", \"share\", \"draw\", \"kala\", \"jame\", \"pricing\", \"utility\", \"shimmer\", \"messy\", \"cart\", \"fly\", \"skinny\", \"gizmo\", \"editor\", \"sounded\", \"hoping\", \"drag\", \"rigid\", \"liquid\", \"upset\", \"outdoor\", \"soooo\", \"nashville\", \"cushion\", \"violin\", \"snowball\", \"harp\", \"iii\", \"bundle\", \"bow\", \"jam\", \"lesson\", \"mandolin\", \"california\", \"shoulder\", \"wall\", \"stud\", \"mac\", \"time\", \"jazz\", \"dig\", \"leave\", \"pick\", \"little\", \"hanger\", \"edge\", \"thick\", \"guitar\", \"nice\", \"long\", \"strap\", \"thing\", \"order\", \"wear\", \"price\", \"mike\", \"case\", \"bag\", \"great\", \"good\", \"work\", \"easy\", \"item\", \"sound\", \"bit\", \"song\", \"one\", \"big\", \"string\"], \"Total\": [3415.0, 3557.0, 2029.0, 1199.0, 2176.0, 1241.0, 5128.0, 1109.0, 1754.0, 1042.0, 575.0, 1708.0, 601.0, 1754.0, 1043.0, 349.0, 565.0, 513.0, 3672.0, 834.0, 933.0, 292.0, 2059.0, 226.0, 530.0, 171.0, 734.0, 1634.0, 345.0, 369.0, 345.2192687988281, 273.79541015625, 58.07141876220703, 51.28047180175781, 37.300437927246094, 40.460113525390625, 150.53627014160156, 34.99688720703125, 106.77152252197266, 369.6922302246094, 52.44626998901367, 125.73067474365234, 33.240081787109375, 34.885650634765625, 26.261781692504883, 93.66844940185547, 24.640409469604492, 44.00755310058594, 28.352628707885742, 363.1303405761719, 82.60890197753906, 24.158092498779297, 32.359840393066406, 115.813720703125, 21.5286865234375, 25.59558868408203, 40.589630126953125, 20.96146583557129, 27.706096649169922, 164.57276916503906, 3415.843994140625, 123.69129180908203, 513.7008666992188, 158.0821533203125, 68.30462646484375, 565.3922119140625, 2029.6317138671875, 133.3076629638672, 61.00704574584961, 105.8651123046875, 317.8456726074219, 357.58953857421875, 255.74990844726562, 165.62889099121094, 592.8695068359375, 138.99844360351562, 834.7405395507812, 734.7055053710938, 540.9405517578125, 210.39662170410156, 265.9209899902344, 1708.050048828125, 304.530517578125, 435.9408874511719, 410.81622314453125, 594.0617065429688, 603.0675048828125, 2597.585693359375, 576.7841796875, 363.153076171875, 535.3040771484375, 567.6244506835938, 1412.8984375, 3672.65673828125, 3935.6689453125, 1754.0361328125, 1964.87744140625, 723.8547973632812, 965.4113159179688, 216.16981506347656, 50.739532470703125, 41.21550750732422, 39.73739242553711, 30.49860382080078, 24.645366668701172, 29.816387176513672, 19.69337272644043, 29.860004425048828, 18.03824234008789, 17.73345947265625, 38.22016143798828, 24.61769676208496, 29.717119216918945, 56.369686126708984, 14.964040756225586, 22.34421730041504, 13.124130249023438, 13.25477123260498, 12.693036079406738, 82.95695495605469, 12.690718650817871, 12.459521293640137, 19.636842727661133, 13.4146728515625, 12.145916938781738, 20.578868865966797, 18.76226234436035, 11.509321212768555, 26.2398681640625, 317.1590270996094, 40.62441635131836, 601.9203491210938, 250.1822509765625, 143.5487060546875, 2176.404541015625, 209.52658081054688, 28.364431381225586, 82.39479064941406, 20.399261474609375, 624.2501831054688, 50.0213623046875, 1042.566162109375, 120.46343994140625, 182.98912048339844, 1043.9354248046875, 291.02490234375, 327.6874084472656, 162.1578826904297, 201.1674346923828, 5128.50390625, 169.09417724609375, 388.1097717285156, 530.601318359375, 1714.532958984375, 437.23486328125, 279.665283203125, 1195.140625, 976.022216796875, 681.0197143554688, 205.80491638183594, 1289.201171875, 1964.87744140625, 1754.0361328125, 779.5113525390625, 395.8455505371094, 1079.7730712890625, 305.7380065917969, 3935.6689453125, 492.5920715332031, 504.2825622558594, 3672.65673828125, 983.2821655273438, 1065.7154541015625, 3557.9326171875, 1754.8079833984375, 849.4054565429688, 801.5557861328125, 1113.14453125, 47.17610168457031, 40.29701232910156, 32.61771011352539, 23.12435531616211, 21.9521427154541, 21.902448654174805, 41.76650619506836, 19.510690689086914, 43.478946685791016, 17.975112915039062, 17.76537322998047, 17.496610641479492, 20.696332931518555, 22.4743709564209, 16.299379348754883, 17.800491333007812, 16.375041961669922, 16.255155563354492, 15.50473690032959, 14.799912452697754, 14.400951385498047, 19.73016357421875, 13.115819931030273, 22.995580673217773, 17.821300506591797, 15.126557350158691, 12.971465110778809, 11.999360084533691, 27.925046920776367, 11.296736717224121, 16.561201095581055, 23.675739288330078, 99.06648254394531, 44.839176177978516, 59.55587387084961, 32.37962341308594, 3557.9326171875, 221.96029663085938, 62.578617095947266, 109.54499053955078, 45.037349700927734, 97.21142578125, 58.980587005615234, 32.3782844543457, 163.3643035888672, 99.70775604248047, 45.230159759521484, 27.405275344848633, 218.3543701171875, 139.79576110839844, 41.678958892822266, 58.24537658691406, 431.3891906738281, 154.710693359375, 831.4765014648438, 395.8455505371094, 304.03179931640625, 62.49629592895508, 5128.50390625, 520.8232421875, 173.5938720703125, 3935.6689453125, 1043.9354248046875, 251.2671661376953, 1754.8079833984375, 574.2574462890625, 669.509765625, 1195.140625, 2597.585693359375, 849.4054565429688, 295.24005126953125, 354.0852966308594, 3672.65673828125, 1480.6005859375, 1634.3446044921875, 1708.050048828125, 1714.532958984375, 976.022216796875, 2059.298828125, 1008.9996948242188, 614.4238891601562, 965.4113159179688, 386.37628173828125, 681.0197143554688, 611.8871459960938, 489.2777099609375, 1412.8984375, 1754.0361328125, 89.45803833007812, 81.7602767944336, 42.89460754394531, 37.70863723754883, 33.13985061645508, 31.620033264160156, 30.793764114379883, 26.21234130859375, 1199.96923828125, 46.0742301940918, 18.555137634277344, 17.195383071899414, 18.70997428894043, 16.239416122436523, 15.913679122924805, 15.316628456115723, 15.589035034179688, 14.228344917297363, 14.356365203857422, 13.763436317443848, 12.54946231842041, 17.158973693847656, 13.017946243286133, 12.035394668579102, 24.37379264831543, 11.677999496459961, 11.612974166870117, 12.274482727050781, 11.329133987426758, 11.09792423248291, 18.30195426940918, 16.740955352783203, 68.14253997802734, 18.81699562072754, 162.20030212402344, 145.07369995117188, 83.5802993774414, 134.32070922851562, 27.532808303833008, 28.779159545898438, 37.24443435668945, 145.87411499023438, 35.62413787841797, 52.27702713012695, 163.73048400878906, 33.95000457763672, 21.074935913085938, 1634.3446044921875, 268.4529113769531, 2059.298828125, 71.45865631103516, 278.7427978515625, 3672.65673828125, 313.2361755371094, 378.85284423828125, 295.7826232910156, 3935.6689453125, 260.3021545410156, 136.7236328125, 900.3610229492188, 1113.14453125, 378.3902893066406, 1480.6005859375, 265.95330810546875, 1289.201171875, 518.765869140625, 2597.585693359375, 1964.87744140625, 431.3011169433594, 965.4113159179688, 1042.566162109375, 5128.50390625, 1754.8079833984375, 1714.532958984375, 785.5094604492188, 1412.8984375, 630.4800415039062, 1065.7154541015625, 570.2017211914062, 1008.9996948242188, 1195.140625, 1109.0860595703125, 160.0230712890625, 80.65656280517578, 45.20680618286133, 44.37287139892578, 46.42154312133789, 41.411590576171875, 38.98317337036133, 38.79458236694336, 32.69671630859375, 29.98971176147461, 29.828718185424805, 27.700410842895508, 25.616619110107422, 41.88862609863281, 22.888334274291992, 34.82581329345703, 24.052242279052734, 19.678279876708984, 18.926773071289062, 17.233469009399414, 17.33873748779297, 16.198402404785156, 16.27653694152832, 16.626718521118164, 15.996264457702637, 15.796069145202637, 16.3135986328125, 15.119345664978027, 15.094127655029297, 20.7983455657959, 40.88495635986328, 24.710540771484375, 23.336734771728516, 33.064762115478516, 1241.7642822265625, 58.08882141113281, 41.84916305541992, 42.86341857910156, 94.93608856201172, 223.2423095703125, 63.41684341430664, 135.88705444335938, 933.9024658203125, 96.16146850585938, 354.0852966308594, 481.9822692871094, 290.8932189941406, 282.66680908203125, 1113.14453125, 3672.65673828125, 5128.50390625, 3935.6689453125, 206.52638244628906, 680.258544921875, 119.67952728271484, 183.83985900878906, 541.7767944335938, 976.022216796875, 2597.585693359375, 1480.6005859375, 1964.87744140625, 2059.298828125, 240.8328857421875, 1754.8079833984375, 1708.050048828125, 3557.9326171875, 780.7405395507812, 1079.7730712890625, 1714.532958984375, 669.509765625, 1412.8984375, 899.820068359375, 1754.0361328125, 1634.3446044921875, 882.3239135742188, 1008.9996948242188, 143.928955078125, 59.975730895996094, 46.192562103271484, 71.61953735351562, 292.9684753417969, 26.581518173217773, 23.593873977661133, 23.025651931762695, 37.816864013671875, 25.304595947265625, 22.174219131469727, 20.807809829711914, 19.25196647644043, 28.502695083618164, 349.8634338378906, 15.70970630645752, 15.322108268737793, 37.75725173950195, 22.82571029663086, 16.398273468017578, 16.042997360229492, 14.7144775390625, 67.5006103515625, 13.391265869140625, 26.35651206970215, 12.327210426330566, 14.875779151916504, 80.91399383544922, 11.619007110595703, 11.572811126708984, 51.48596954345703, 41.80693817138672, 88.70112609863281, 49.51799011230469, 28.39956283569336, 136.43536376953125, 575.7850341796875, 1109.0860595703125, 249.73214721679688, 108.93183898925781, 381.54840087890625, 183.4446258544922, 349.1136474609375, 177.5445098876953, 172.92507934570312, 110.82288360595703, 69.6428451538086, 58.46722412109375, 250.0682373046875, 327.19677734375, 212.45748901367188, 364.29241943359375, 357.975341796875, 113.68519592285156, 530.601318359375, 614.4238891601562, 378.85284423828125, 405.7323913574219, 320.72332763671875, 1964.87744140625, 574.2574462890625, 3935.6689453125, 983.2821655273438, 1754.0361328125, 2597.585693359375, 1065.7154541015625, 3672.65673828125, 785.5094604492188, 1289.201171875, 5128.50390625, 1079.7730712890625, 2059.298828125, 35.235130310058594, 17.695261001586914, 19.884571075439453, 15.870346069335938, 33.31809997558594, 28.164485931396484, 25.470613479614258, 12.258464813232422, 12.28660774230957, 12.775718688964844, 14.892388343811035, 11.277802467346191, 11.143560409545898, 11.36956787109375, 14.059046745300293, 10.213964462280273, 9.965689659118652, 16.30895233154297, 17.679847717285156, 9.3599271774292, 9.615724563598633, 8.828886985778809, 9.071733474731445, 17.665163040161133, 8.525430679321289, 8.279315948486328, 12.36092758178711, 8.661413192749023, 9.709915161132812, 16.137235641479492, 171.807861328125, 19.25568389892578, 86.64419555664062, 27.90846824645996, 17.601469039916992, 14.95524787902832, 226.18185424804688, 42.69834899902344, 174.1099853515625, 42.52014923095703, 76.24089813232422, 220.3738250732422, 45.66681671142578, 39.016822814941406, 1754.8079833984375, 148.58370971679688, 29.226890563964844, 40.260955810546875, 1241.7642822265625, 1754.0361328125, 85.60498046875, 139.34466552734375, 223.37466430664062, 5128.50390625, 1480.6005859375, 611.8871459960938, 1042.566162109375, 1412.8984375, 196.6715545654297, 70.76509094238281, 2059.298828125, 77.27896118164062, 933.9024658203125, 481.9822692871094, 3672.65673828125, 3935.6689453125, 1289.201171875, 1714.532958984375, 265.95330810546875, 2597.585693359375, 882.3239135742188, 250.53160095214844, 632.9140014648438, 569.486083984375, 3557.9326171875], \"loglift\": [30.0, 29.0, 28.0, 27.0, 26.0, 25.0, 24.0, 23.0, 22.0, 21.0, 20.0, 19.0, 18.0, 17.0, 16.0, 15.0, 14.0, 13.0, 12.0, 11.0, 10.0, 9.0, 8.0, 7.0, 6.0, 5.0, 4.0, 3.0, 2.0, 1.0, 1.5369999408721924, 1.5364999771118164, 1.5343999862670898, 1.5334999561309814, 1.5276999473571777, 1.5262999534606934, 1.5241999626159668, 1.5240999460220337, 1.523300051689148, 1.523300051689148, 1.5230000019073486, 1.5227999687194824, 1.5227999687194824, 1.5224000215530396, 1.5190999507904053, 1.517899990081787, 1.5168999433517456, 1.5161999464035034, 1.5159000158309937, 1.5156999826431274, 1.5133999586105347, 1.5130000114440918, 1.5130000114440918, 1.5113999843597412, 1.511299967765808, 1.511299967765808, 1.5104000568389893, 1.5104000568389893, 1.5087000131607056, 1.5068999528884888, 1.4974000453948975, 1.506100058555603, 1.4876999855041504, 1.4986000061035156, 1.50600004196167, 1.482699990272522, 1.4535000324249268, 1.4937000274658203, 1.5049999952316284, 1.4818999767303467, 1.4377000331878662, 1.4311000108718872, 1.4416999816894531, 1.4388999938964844, 1.3431999683380127, 1.4443999528884888, 1.3098000288009644, 1.3150999546051025, 1.3355000019073486, 1.3938000202178955, 1.3487999439239502, 1.0419000387191772, 1.3109999895095825, 1.1827000379562378, 1.1898000240325928, 1.0644999742507935, 1.0224000215530396, 0.5436000227928162, 1.0098999738693237, 1.1347999572753906, 0.960099995136261, 0.8927000164985657, 0.3192000091075897, -0.2890999913215637, -0.4196000099182129, 0.05979999899864197, -0.18469999730587006, 0.5741999745368958, 0.3206000030040741, 1.7085000276565552, 1.6966999769210815, 1.6930999755859375, 1.690600037574768, 1.6850999593734741, 1.6787999868392944, 1.6726000308990479, 1.6720000505447388, 1.6708999872207642, 1.6679999828338623, 1.6669000387191772, 1.6639000177383423, 1.6606999635696411, 1.6598999500274658, 1.659000039100647, 1.6584999561309814, 1.6511000394821167, 1.6510000228881836, 1.6485999822616577, 1.6477999687194824, 1.6469999551773071, 1.6468000411987305, 1.6466000080108643, 1.6455999612808228, 1.6454999446868896, 1.6454999446868896, 1.6435999870300293, 1.642699956893921, 1.6402000188827515, 1.6399999856948853, 1.6187000274658203, 1.6341999769210815, 1.5938999652862549, 1.6095000505447388, 1.6051000356674194, 1.5197999477386475, 1.5772000551223755, 1.6302000284194946, 1.5542000532150269, 1.6377999782562256, 1.346500039100647, 1.5657000541687012, 1.273900032043457, 1.4816999435424805, 1.3806999921798706, 1.1435999870300293, 1.2905999422073364, 1.253000020980835, 1.3525999784469604, 1.305400013923645, 0.7465000152587891, 1.3276000022888184, 1.1466000080108643, 1.0786999464035034, 0.8230000138282776, 1.1086000204086304, 1.1858999729156494, 0.7865999937057495, 0.7971000075340271, 0.8840000033378601, 1.2166999578475952, 0.5623000264167786, 0.36489999294281006, 0.4032000005245209, 0.6952000260353088, 0.9485999941825867, 0.45570001006126404, 1.0295000076293945, -0.37380000948905945, 0.7680000066757202, 0.7324000000953674, -0.5457000136375427, 0.29109999537467957, 0.23469999432563782, -0.6658999919891357, -0.1623000055551529, 0.33149999380111694, 0.3783999979496002, 0.043800000101327896, 1.9120999574661255, 1.9091999530792236, 1.9048000574111938, 1.8949999809265137, 1.8925000429153442, 1.892199993133545, 1.8904999494552612, 1.8875999450683594, 1.885200023651123, 1.8849999904632568, 1.884600043296814, 1.8803999423980713, 1.8803999423980713, 1.8803999423980713, 1.8801000118255615, 1.8792999982833862, 1.8783999681472778, 1.8782000541687012, 1.878000020980835, 1.8747999668121338, 1.8746000528335571, 1.8687000274658203, 1.8668999671936035, 1.8655999898910522, 1.86489999294281, 1.8624999523162842, 1.8594000339508057, 1.857100009918213, 1.8567999601364136, 1.8567999601364136, 1.8558000326156616, 1.8479000329971313, 1.8140000104904175, 1.8310999870300293, 1.8162000179290771, 1.8324999809265137, 1.6369999647140503, 1.751099944114685, 1.801900029182434, 1.7338999509811401, 1.7999000549316406, 1.7236000299453735, 1.7419999837875366, 1.8039000034332275, 1.5892000198364258, 1.6507999897003174, 1.75, 1.8224999904632568, 1.4673999547958374, 1.5378999710083008, 1.7467999458312988, 1.6656999588012695, 1.2252999544143677, 1.442199945449829, 1.05239999294281, 1.2204999923706055, 1.2503999471664429, 1.6431000232696533, 0.4830000102519989, 1.0772000551223755, 1.3615000247955322, 0.2808000147342682, 0.6848999857902527, 1.159999966621399, 0.44859999418258667, 0.8535000085830688, 0.7872999906539917, 0.5486999750137329, 0.22949999570846558, 0.650600016117096, 1.0501999855041504, 0.9670000076293945, -0.12530000507831573, 0.27070000767707825, 0.20409999787807465, 0.16580000519752502, 0.08980000019073486, 0.375, -0.0681999996304512, 0.33880001306533813, 0.6301000118255615, 0.32280001044273376, 0.9007999897003174, 0.4846999943256378, 0.5609999895095825, 0.7233999967575073, -0.1316000074148178, -0.3386000096797943, 1.9215999841690063, 1.9208999872207642, 1.9118000268936157, 1.9098000526428223, 1.906499981880188, 1.9055999517440796, 1.9052000045776367, 1.8990000486373901, 1.8910000324249268, 1.8904000520706177, 1.8876999616622925, 1.8834999799728394, 1.8831000328063965, 1.8813999891281128, 1.879699945449829, 1.8789000511169434, 1.8788000345230103, 1.875, 1.8731000423431396, 1.8722000122070312, 1.8672000169754028, 1.8661999702453613, 1.8655999898910522, 1.8629000186920166, 1.8623000383377075, 1.8621000051498413, 1.8614000082015991, 1.860200047492981, 1.8595000505447388, 1.8585000038146973, 1.8575999736785889, 1.858299970626831, 1.8355000019073486, 1.8509999513626099, 1.7806999683380127, 1.784999966621399, 1.7973999977111816, 1.7580000162124634, 1.8348000049591064, 1.82669997215271, 1.8087999820709229, 1.7062000036239624, 1.774999976158142, 1.7249000072479248, 1.5618000030517578, 1.766700029373169, 1.833799958229065, 1.079300045967102, 1.3327000141143799, 0.8938999772071838, 1.586300015449524, 1.2963000535964966, 0.7134000062942505, 1.2488000392913818, 1.1812000274658203, 1.2194000482559204, 0.5045999884605408, 1.229200005531311, 1.364400029182434, 0.7231000065803528, 0.6358000040054321, 0.9976999759674072, 0.4909999966621399, 1.1164000034332275, 0.451200008392334, 0.7936000227928162, 0.09109999984502792, 0.06610000133514404, 0.7990000247955322, 0.385699987411499, 0.3416999876499176, -0.7059000134468079, -0.10750000178813934, -0.17599999904632568, 0.3625999987125397, -0.14830000698566437, 0.47839999198913574, 0.018699999898672104, 0.5306000113487244, -0.0015999999595806003, -0.19499999284744263, -0.13169999420642853, 1.9452999830245972, 1.940600037574768, 1.9327000379562378, 1.9326000213623047, 1.9321000576019287, 1.931399941444397, 1.930299997329712, 1.9300999641418457, 1.9246000051498413, 1.9241000413894653, 1.92330002784729, 1.9218000173568726, 1.9176000356674194, 1.9164999723434448, 1.9157999753952026, 1.9139000177383423, 1.9133000373840332, 1.9098999500274658, 1.9075000286102295, 1.9046000242233276, 1.904099941253662, 1.9014999866485596, 1.9011000394821167, 1.9005999565124512, 1.9002000093460083, 1.9000999927520752, 1.899999976158142, 1.8978999853134155, 1.8977999687194824, 1.8969000577926636, 1.891700029373169, 1.8961000442504883, 1.892199993133545, 1.8787000179290771, 1.715499997138977, 1.8420000076293945, 1.8521000146865845, 1.8499000072479248, 1.7838000059127808, 1.7106000185012817, 1.8080999851226807, 1.7010999917984009, 1.316100001335144, 1.6483999490737915, 1.1766999959945679, 1.0822999477386475, 1.2075999975204468, 1.2086000442504883, 0.7799000144004822, 0.3880999982357025, 0.2467000037431717, 0.24070000648498535, 1.2474000453948975, 0.7608000040054321, 1.4351999759674072, 1.2386000156402588, 0.7639999985694885, 0.49050000309944153, 0.02630000002682209, 0.24799999594688416, 0.09109999984502792, 0.05590000003576279, 1.090499997138977, 0.09589999914169312, 0.07970000058412552, -0.3400999903678894, 0.46380001306533813, 0.27090001106262207, 0.009399999864399433, 0.5031999945640564, 0.02759999968111515, 0.29109999537467957, -0.1687999963760376, -0.2705000042915344, 0.19189999997615814, 0.05770000070333481, 2.0060999393463135, 1.996899962425232, 1.9947999715805054, 1.990399956703186, 1.985700011253357, 1.9818999767303467, 1.9783999919891357, 1.9772000312805176, 1.9767999649047852, 1.9767999649047852, 1.9754999876022339, 1.9735000133514404, 1.9671000242233276, 1.9651000499725342, 1.9644999504089355, 1.9609999656677246, 1.9595999717712402, 1.9593000411987305, 1.9589999914169312, 1.958299994468689, 1.9574999809265137, 1.9558000564575195, 1.955199956893921, 1.9505000114440918, 1.9502999782562256, 1.9467999935150146, 1.944599986076355, 1.9434000253677368, 1.9426000118255615, 1.9416999816894531, 1.9384000301361084, 1.9387999773025513, 1.916599988937378, 1.9257999658584595, 1.9356000423431396, 1.9018000364303589, 1.8198000192642212, 1.7719000577926636, 1.8028000593185425, 1.8350000381469727, 1.7130000591278076, 1.777500033378601, 1.6916999816894531, 1.7575000524520874, 1.7552000284194946, 1.7996000051498413, 1.8345999717712402, 1.8538999557495117, 1.6433000564575195, 1.5772000551223755, 1.5317000150680542, 1.375599980354309, 1.3371000289916992, 1.649899959564209, 1.1505000591278076, 1.0542000532150269, 1.141700029373169, 1.0175000429153442, 1.1160999536514282, 0.19679999351501465, 0.8241000175476074, -0.24789999425411224, 0.501800000667572, 0.07419999688863754, -0.2151000052690506, 0.3287000060081482, -0.48330000042915344, 0.5024999976158142, 0.1370999962091446, -0.9527999758720398, 0.2433999925851822, -0.3398999869823456, 3.17930006980896, 3.1561999320983887, 3.149399995803833, 3.1489999294281006, 3.147599935531616, 3.1428000926971436, 3.1415998935699463, 3.136199951171875, 3.1357998847961426, 3.1319000720977783, 3.1303000450134277, 3.1303000450134277, 3.128700017929077, 3.126300096511841, 3.1231000423431396, 3.121000051498413, 3.1198999881744385, 3.116499900817871, 3.115799903869629, 3.113600015640259, 3.112799882888794, 3.109600067138672, 3.109299898147583, 3.108099937438965, 3.106300115585327, 3.103300094604492, 3.0996999740600586, 3.096299886703491, 3.095900058746338, 3.093600034713745, 3.078900098800659, 3.088599920272827, 3.027100086212158, 3.0636000633239746, 3.042799949645996, 3.040299892425537, 2.559499979019165, 2.8250999450683594, 2.432499885559082, 2.736599922180176, 2.5204999446868896, 2.1666998863220215, 2.673099994659424, 2.683500051498413, 1.2577999830245972, 2.123800039291382, 2.7871999740600586, 2.607800006866455, 0.9368000030517578, 0.7662000060081482, 2.242500066757202, 1.969099998474121, 1.7029000520706177, -0.0794999971985817, 0.5498999953269958, 1.023900032043457, 0.6848999857902527, 0.47699999809265137, 1.6363999843597412, 2.2516000270843506, -0.0575999990105629, 2.1891000270843506, 0.38960000872612, 0.8463000059127808, -0.7174000144004822, -0.8133000135421753, -0.05119999870657921, -0.3122999966144562, 1.2265000343322754, -0.7818999886512756, 0.15539999306201935, 1.2702000141143799, 0.38769999146461487, 0.45820000767707825, -1.3702000379562378], \"logprob\": [30.0, 29.0, 28.0, 27.0, 26.0, 25.0, 24.0, 23.0, 22.0, 21.0, 20.0, 19.0, 18.0, 17.0, 16.0, 15.0, 14.0, 13.0, 12.0, 11.0, 10.0, 9.0, 8.0, 7.0, 6.0, 5.0, 4.0, 3.0, 2.0, 1.0, -5.087100028991699, -5.319399833679199, -6.872200012207031, -6.997499942779541, -7.321599960327148, -7.241700172424316, -5.929900169372559, -7.388899803161621, -6.2743000984191895, -5.032299995422363, -6.985599994659424, -6.111400127410889, -7.441800117492676, -7.393799781799316, -7.681099891662598, -6.410699844360352, -7.747000217437744, -7.167699813842773, -7.607699871063232, -5.057799816131592, -6.5406999588012695, -7.770699977874756, -7.478400230407715, -6.204999923706055, -7.887599945068359, -7.714600086212158, -7.25439977645874, -7.915200233459473, -7.637899875640869, -5.858099937438965, -2.834700107574463, -6.144499778747559, -4.738999843597412, -5.906599998474121, -6.73829984664917, -4.6479997634887695, -3.399199962615967, -6.081999778747559, -6.85230016708374, -6.32420015335083, -5.269000053405762, -5.157899856567383, -5.482399940490723, -5.9197001457214355, -4.740099906921387, -6.089399814605713, -4.431399822235107, -4.553699970245361, -4.8394999504089355, -5.725500106811523, -5.536300182342529, -3.983299970626831, -5.438499927520752, -5.208099842071533, -5.26039981842041, -5.0167999267578125, -5.043799877166748, -4.062300205230713, -5.100900173187256, -5.438700199127197, -5.225399971008301, -5.234099864959717, -4.895699977874756, -4.548699855804443, -4.610099792480469, -4.938899993896484, -5.069799900054932, -5.309500217437744, -5.275199890136719, -5.383800029754639, -6.844900131225586, -7.056399822235107, -7.095399856567383, -7.365499973297119, -7.58489990234375, -7.400700092315674, -7.815999984741211, -7.400899887084961, -7.907800197601318, -7.925899982452393, -7.160999774932861, -7.604100227355957, -7.4166998863220215, -6.777299880981445, -8.10420036315918, -7.710599899291992, -8.242899894714355, -8.235300064086914, -8.279399871826172, -6.4029998779296875, -8.280599594116211, -8.299200057983398, -7.845300197601318, -8.226499557495117, -8.325799942016602, -7.8003997802734375, -7.893700122833252, -8.384900093078613, -7.560999870300293, -5.090199947357178, -7.129700183868408, -4.4741997718811035, -5.336599826812744, -5.896500110626221, -3.2630999088287354, -5.546299934387207, -7.4928998947143555, -6.502500057220459, -7.815000057220459, -4.685299873352051, -6.990200042724609, -4.244900226593018, -6.195300102233887, -5.878200054168701, -4.374000072479248, -5.504300117492676, -5.4232001304626465, -6.027100086212158, -5.858799934387207, -3.1791999340057373, -6.010200023651123, -5.360400199890137, -5.115600109100342, -4.198400020599365, -5.279200077056885, -5.648799896240234, -4.595699787139893, -4.787700176239014, -5.060699939727783, -5.924600124359131, -4.74429988861084, -4.520199775695801, -4.5954999923706055, -5.114500045776367, -5.538700103759766, -5.02810001373291, -5.716000080108643, -4.564199924468994, -5.500699996948242, -5.512800216674805, -4.805300235748291, -5.286300182342529, -5.262199878692627, -4.957200050354004, -5.1605000495910645, -5.392199993133545, -5.403299808502197, -5.4095001220703125, -6.702300071716309, -6.862800121307373, -7.07859992980957, -7.432400226593018, -7.486999988555908, -7.489500045776367, -6.845699787139893, -7.6097002029418945, -6.810800075531006, -7.694399833679199, -7.706399917602539, -7.725900173187256, -7.558000087738037, -7.475599765777588, -7.797100067138672, -7.709700107574463, -7.794099807739258, -7.801599979400635, -7.849100112915039, -7.898900032043457, -7.926400184631348, -7.617400169372559, -8.027600288391113, -7.467400074005127, -7.7230000495910645, -7.889400005340576, -8.046099662780762, -8.126299858093262, -7.2820000648498535, -8.187000274658203, -7.805500030517578, -7.455900192260742, -6.058499813079834, -6.834099769592285, -6.565199851989746, -7.158299922943115, -2.6542999744415283, -5.314700126647949, -6.53000020980835, -6.038000106811523, -6.860899925231934, -6.167900085449219, -6.64900016784668, -7.186999797821045, -5.783100128173828, -6.2153000831604, -6.906499862670898, -7.335100173950195, -5.614799976348877, -5.990200042724609, -6.991499900817871, -6.7378997802734375, -5.176000118255615, -5.984600067138672, -4.692699909210205, -5.2667999267578125, -5.500800132751465, -6.690100193023682, -3.442699909210205, -5.135700225830078, -5.949999809265137, -3.909600019454956, -4.832600116729736, -5.781799793243408, -4.549600124359131, -5.26170015335083, -5.174499988555908, -4.833499908447266, -4.376399993896484, -5.0731000900268555, -5.730299949645996, -5.631700038909912, -4.385000228881836, -4.89739990234375, -4.865200042724609, -4.859399795532227, -4.931600093841553, -5.209799766540527, -4.906300067901611, -5.212800025939941, -5.417500019073486, -5.272900104522705, -5.6107001304626465, -5.460000038146973, -5.490799903869629, -5.552000045776367, -5.346499919891357, -5.337200164794922, -6.0528998374938965, -6.143599987030029, -6.797800064086914, -6.928599834442139, -7.061100006103516, -7.10890007019043, -7.135799884796143, -7.303100109100342, -3.4872000217437744, -6.747700214385986, -7.659800052642822, -7.740200042724609, -7.656199932098389, -7.799499988555908, -7.821400165557861, -7.860400199890137, -7.8429999351501465, -7.938000202178955, -7.931000232696533, -7.974100112915039, -8.071399688720703, -7.7596001625061035, -8.036399841308594, -8.117600440979004, -7.412499904632568, -8.148500442504883, -8.154800415039062, -8.100500106811523, -8.181400299072266, -8.20300006866455, -7.703700065612793, -7.792099952697754, -6.411200046539307, -7.682499885559082, -5.598700046539307, -5.705999851226807, -6.245100021362305, -5.809999942779541, -7.3180999755859375, -7.281899929046631, -7.041999816894531, -5.779399871826172, -7.120299816131592, -6.786799907684326, -5.808300018310547, -7.176799774169922, -7.586400032043457, -3.990000009536743, -5.542900085449219, -3.9442999362945557, -6.612800121307373, -5.5416998863220215, -3.5462000370025635, -5.472599983215332, -5.349999904632568, -5.559299945831299, -3.685800075531006, -5.677199840545654, -6.1859002113342285, -4.942399978637695, -4.817599773406982, -5.5346999168396, -4.67710018157959, -5.768599987030029, -4.855299949645996, -5.4232001304626465, -4.514900207519531, -4.818999767303467, -5.602499961853027, -5.210100173950195, -5.177199840545654, -4.631700038909912, -5.1057000160217285, -5.197400093078613, -5.439300060272217, -5.3632001876831055, -5.543399810791016, -5.4781999588012695, -5.591700077056885, -5.553199768066406, -5.577199935913086, -5.588699817657471, -5.447700023651123, -6.137499809265137, -6.724400043487549, -6.743000030517578, -6.698500156402588, -6.813300132751465, -6.874899864196777, -6.879899978637695, -7.05649995803833, -7.1433000564575195, -7.149600028991699, -7.225100040435791, -7.307499885559082, -6.816800117492676, -7.421800136566162, -7.0040998458862305, -7.37470006942749, -7.578800201416016, -7.620200157165527, -7.716899871826172, -7.71120023727417, -7.781899929046631, -7.777400016784668, -7.756700038909912, -7.7957000732421875, -7.8084001541137695, -7.776299953460693, -7.854499816894531, -7.856200218200684, -7.536600112915039, -6.865799903869629, -7.364999771118164, -7.426000118255615, -7.091100215911865, -3.628499984741211, -6.564300060272217, -6.8821001052856445, -6.860300064086914, -6.13129997253418, -5.3495001792907715, -6.510499954223633, -5.855400085449219, -4.312900066375732, -6.253900051116943, -5.421999931335449, -5.208099842071533, -5.587699890136719, -5.6153998374938965, -4.673500061035156, -3.8715999126434326, -3.678999900817871, -3.949700117111206, -5.890500068664551, -5.184999942779541, -6.248199939727783, -6.015600204467773, -5.40939998626709, -5.094299793243408, -4.579699993133545, -4.920100212097168, -4.794000148773193, -4.782299995422363, -5.893700122833252, -4.902299880981445, -4.945499897003174, -4.631400108337402, -5.344200134277344, -5.212900161743164, -5.01200008392334, -5.458600044250488, -5.187300205230713, -5.375, -5.167399883270264, -5.339799880981445, -5.493899822235107, -5.493899822235107, -5.4928998947143555, -6.377399921417236, -6.640699863433838, -6.206600189208984, -4.802499771118164, -7.206200122833252, -7.32889986038208, -7.354499816894531, -6.858699798583984, -7.260499954223633, -7.393799781799316, -7.459400177001953, -7.543600082397461, -7.153200149536133, -4.646299839019775, -7.752999782562256, -7.779399871826172, -6.877900123596191, -7.381400108337402, -7.712800025939941, -7.735499858856201, -7.823599815368652, -6.301000118255615, -7.9232001304626465, -7.246300220489502, -8.009699821472168, -7.82390022277832, -6.131499767303467, -8.073100090026855, -8.077899932861328, -6.588600158691406, -6.796500205993652, -6.066400051116943, -6.640200138092041, -7.186299800872803, -5.650599956512451, -4.292799949645996, -3.6851000785827637, -5.145100116729736, -5.942599773406982, -4.810999870300293, -5.478899955749512, -4.921199798583984, -5.531599998474121, -5.560299873352051, -5.960700035095215, -6.390399932861328, -6.546000003814697, -5.303299903869629, -5.100500106811523, -5.577899932861328, -5.194799900054932, -5.250800132751465, -6.085000038146973, -5.043700218200684, -4.993500232696533, -5.389400005340576, -5.445099830627441, -5.581600189208984, -4.688399791717529, -5.291100025177002, -4.438300132751465, -5.0756001472473145, -4.9243998527526855, -4.821000099182129, -5.1682000160217285, -4.7428998947143555, -5.299499988555908, -5.169400215148926, -4.878499984741211, -5.2403998374938965, -5.178100109100342, -5.726900100708008, -6.438799858093262, -6.32889986038208, -6.554900169372559, -5.814599990844727, -5.987500190734863, -6.089099884033203, -6.825900077819824, -6.823999881744385, -6.788899898529053, -6.6371002197265625, -6.915200233459473, -6.928699970245361, -6.911099910736084, -6.701900005340576, -7.023499965667725, -7.049200057983398, -6.560100078582764, -6.480100154876709, -7.118299961090088, -7.092100143432617, -7.180600166320801, -7.153800010681152, -6.48859977722168, -7.218999862670898, -7.251200199127197, -6.854000091552734, -7.213099956512451, -7.0991997718811035, -6.593500137329102, -4.243100166320801, -6.421899795532227, -4.979400157928467, -6.075699806213379, -6.557499885559082, -6.7230000495910645, -4.487500190734863, -5.888999938964844, -4.876100063323975, -5.9816999435424805, -5.613900184631348, -4.906300067901611, -5.973800182342529, -6.120800018310547, -3.7404000759124756, -5.343299865722656, -6.306000232696533, -6.16510009765625, -4.407199859619141, -4.232399940490723, -5.776100158691406, -5.562300205230713, -5.356599807739258, -4.005199909210205, -4.618199825286865, -5.027900218963623, -4.833899974822998, -4.7378997802734375, -5.550300121307373, -5.957300186157227, -4.8958001136779785, -5.931700229644775, -5.239299774169922, -5.4440999031066895, -4.9770002365112305, -5.003699779510498, -5.357699871063232, -5.333700180053711, -5.6585001945495605, -5.387899875640869, -5.530300140380859, -5.674499988555908, -5.630300045013428, -5.665299892425537, -5.661600112915039]}, \"token.table\": {\"Topic\": [3, 2, 3, 5, 7, 1, 2, 3, 4, 5, 6, 7, 1, 2, 3, 4, 5, 6, 7, 6, 7, 2, 3, 4, 5, 6, 6, 2, 3, 1, 2, 3, 4, 5, 6, 7, 1, 2, 3, 4, 5, 6, 7, 2, 1, 3, 4, 5, 6, 2, 1, 1, 3, 2, 2, 4, 5, 2, 6, 5, 1, 2, 3, 4, 5, 6, 7, 1, 2, 3, 1, 2, 3, 4, 5, 6, 7, 1, 3, 5, 6, 7, 1, 2, 3, 4, 5, 6, 1, 2, 3, 4, 5, 6, 7, 1, 1, 2, 3, 4, 5, 6, 7, 7, 2, 4, 1, 2, 3, 4, 5, 6, 7, 3, 1, 2, 3, 4, 5, 6, 7, 1, 2, 3, 4, 5, 6, 7, 6, 2, 5, 1, 4, 5, 6, 7, 1, 2, 3, 4, 5, 6, 7, 2, 1, 4, 7, 1, 1, 2, 3, 4, 5, 6, 7, 1, 3, 5, 6, 1, 4, 7, 1, 2, 3, 4, 5, 6, 7, 1, 5, 6, 1, 2, 3, 4, 5, 6, 7, 1, 3, 5, 6, 7, 3, 4, 6, 1, 2, 3, 4, 5, 6, 7, 2, 3, 4, 5, 6, 7, 1, 7, 1, 2, 5, 6, 7, 4, 6, 7, 1, 2, 3, 4, 5, 6, 7, 1, 3, 4, 5, 6, 1, 2, 3, 4, 5, 6, 7, 3, 3, 1, 3, 5, 5, 7, 2, 3, 4, 5, 6, 7, 1, 2, 3, 4, 5, 6, 7, 1, 2, 3, 4, 5, 6, 7, 1, 1, 5, 1, 5, 6, 5, 2, 3, 4, 5, 6, 3, 3, 1, 3, 5, 6, 1, 4, 5, 6, 1, 2, 3, 4, 5, 6, 2, 4, 6, 3, 4, 5, 6, 4, 2, 1, 2, 3, 4, 5, 6, 1, 3, 4, 6, 7, 1, 2, 3, 4, 5, 6, 7, 4, 2, 6, 1, 2, 3, 4, 5, 6, 7, 3, 1, 6, 2, 5, 5, 1, 4, 5, 6, 6, 5, 2, 7, 2, 3, 6, 1, 2, 3, 4, 5, 6, 7, 3, 6, 1, 2, 3, 4, 5, 6, 7, 1, 2, 3, 4, 5, 6, 7, 5, 2, 4, 6, 2, 1, 2, 3, 4, 5, 6, 7, 1, 2, 3, 4, 5, 6, 7, 1, 2, 3, 4, 5, 6, 7, 3, 5, 7, 3, 5, 6, 1, 2, 3, 4, 5, 6, 7, 1, 7, 7, 1, 2, 3, 5, 6, 7, 4, 1, 2, 3, 4, 5, 6, 7, 2, 5, 1, 2, 3, 4, 5, 6, 7, 7, 1, 2, 3, 4, 5, 6, 7, 5, 1, 1, 2, 3, 4, 5, 6, 7, 3, 2, 3, 4, 5, 6, 7, 1, 2, 3, 4, 5, 6, 7, 1, 2, 3, 4, 5, 6, 6, 4, 1, 2, 3, 4, 5, 6, 7, 3, 5, 3, 1, 2, 3, 4, 5, 6, 7, 1, 1, 2, 3, 4, 5, 6, 7, 1, 2, 3, 4, 5, 6, 7, 7, 1, 2, 3, 4, 5, 6, 7, 1, 3, 7, 4, 6, 3, 1, 2, 3, 4, 5, 6, 5, 2, 3, 4, 5, 6, 7, 5, 1, 1, 5, 1, 2, 3, 4, 5, 6, 7, 3, 1, 2, 3, 4, 5, 6, 7, 6, 3, 5, 3, 7, 4, 4, 6, 1, 2, 3, 4, 5, 6, 7, 1, 2, 3, 4, 5, 6, 7, 1, 2, 3, 4, 5, 6, 7, 1, 2, 3, 4, 5, 6, 7, 2, 3, 7, 2, 4, 5, 7, 1, 2, 3, 4, 5, 6, 7, 1, 6, 1, 2, 3, 4, 5, 6, 7, 3, 1, 2, 3, 4, 5, 6, 7, 1, 2, 3, 4, 5, 6, 7, 7, 4, 5, 6, 5, 6, 4, 5, 7, 1, 3, 4, 2, 6, 1, 1, 2, 3, 4, 5, 6, 1, 2, 3, 4, 5, 6, 7, 1, 2, 3, 4, 5, 6, 7, 1, 4, 5, 6, 4, 2, 5, 5, 1, 2, 3, 4, 5, 6, 7, 1, 2, 3, 4, 5, 6, 7, 4, 1, 2, 4, 5, 6, 7, 7, 1, 2, 3, 4, 5, 6, 7, 1, 3, 5, 6, 7, 6, 4, 3, 1, 2, 3, 4, 5, 6, 7, 2, 3, 4, 5, 6, 7, 1, 3, 5, 6, 5, 2, 3, 5, 6, 5, 6, 2, 3, 4, 5, 7, 3, 4, 6, 7, 2, 1, 2, 3, 4, 5, 6, 3, 5, 6, 7, 1, 2, 3, 4, 5, 6, 7, 4, 7, 1, 2, 3, 4, 5, 6, 7, 2, 3, 4, 5, 7, 2, 1, 2, 3, 4, 5, 6, 7, 2, 3, 5, 1, 4, 1, 2, 3, 4, 5, 6, 7, 1, 2, 3, 4, 5, 6, 7, 1, 2, 3, 4, 5, 6, 7, 2, 3, 5, 6, 7, 1, 2, 3, 4, 5, 6, 7, 4, 7, 1, 4, 2, 3, 4, 5, 6, 7, 1, 2, 3, 4, 5, 6, 7, 2, 6, 1, 2, 3, 4, 5, 6, 7, 7, 1, 2, 3, 4, 5, 6, 7, 2, 3, 6, 7, 1, 2, 3, 4, 5, 6, 7, 1, 2, 3, 4, 5, 6, 7, 2, 4, 6, 3, 4, 5, 6, 7, 3, 2, 4, 1, 2, 3, 4, 5, 6, 4, 1, 4, 3, 1, 2, 3, 4, 5, 6, 7, 1, 2, 4, 5, 6, 6, 1, 3, 4, 1, 2, 3, 4, 5, 6, 7, 1, 2, 3, 4, 5, 6, 7, 1, 5, 7, 1, 2, 3, 4, 5, 6, 7, 1, 2, 5, 1, 4, 5, 4, 5, 2, 4, 7, 2, 1, 2, 3, 4, 5, 6, 7, 1, 2, 3, 4, 5, 6, 7, 3, 1, 2, 3, 4, 5, 6, 7, 1, 2, 3, 4, 5, 6, 2, 5, 1, 2, 1, 2, 3, 4, 5, 6, 7, 1, 2, 3, 4, 5, 6, 7, 5, 7, 1, 2, 3, 4, 5, 6, 6, 7, 5, 1, 2, 3, 4, 5, 6, 7, 1, 2, 3, 4, 5, 6, 7, 1, 4, 6, 3, 5, 6, 1, 2, 3, 4, 5, 6, 7, 5, 1, 2, 3, 4, 5, 6, 7, 5, 1, 2, 3, 4, 5, 6, 7, 5, 1, 2, 3, 4, 5, 6, 7, 4, 6, 3, 1, 2, 3, 4, 5, 6, 7, 2, 4, 2, 4, 5, 6, 1, 2, 3, 4, 5, 6, 7, 5, 1, 2, 4, 7, 4, 1, 2, 3, 4, 5, 6, 7, 7, 1, 2, 3, 4, 5, 6, 7, 1, 2, 3, 4, 5, 6, 7, 5, 1, 2, 3, 4, 5, 6, 7, 5, 4, 1, 1, 1, 2, 3, 5, 1, 2, 3, 4, 5, 6, 7, 6, 1, 2, 3, 4, 5, 6, 7, 4, 4, 4, 7, 6, 2, 4, 6, 4, 1, 4, 5, 6, 7, 1, 2, 3, 4, 5, 6, 7, 6, 7, 2, 2, 3, 4, 5, 6, 3, 6, 2, 3, 4, 2, 3, 5, 2, 3, 4, 5, 6, 7, 1, 2, 3, 4, 5, 6, 7, 5, 6, 2, 5, 1, 2, 3, 4, 5, 6, 7, 1, 2, 3, 4, 5, 6, 7, 7, 7, 3, 4, 5, 6, 3, 2, 3, 4, 5, 7, 4, 3, 6, 1, 2, 3, 4, 5, 6, 7, 3, 7, 2, 3, 4, 6, 1, 2, 3, 4, 5, 6, 7, 5, 2, 5, 6, 7, 3, 7, 6, 2, 7, 1, 2, 3, 4, 5, 6, 7, 1, 2, 3, 5, 1, 2, 3, 4, 5, 6, 7, 7, 4, 3, 1, 2, 3, 4, 5, 6, 7, 7, 1, 2, 3, 4, 5, 6, 1, 2, 3, 4, 5, 6, 7, 6, 1, 2, 3, 4, 5, 6, 7, 1, 2, 3, 4, 5, 6, 7, 1, 2, 3, 4, 5, 6, 7, 2, 3, 1, 5, 6, 7, 2, 3, 7, 1, 2, 3, 4, 5, 6, 7, 4, 1, 2, 3, 4, 5, 6, 1, 2, 3, 4, 5, 6, 7, 4, 3, 4, 1, 4, 5, 2, 5, 6, 2, 3, 4, 5, 6, 7, 1, 4, 5, 1, 2, 3, 4, 5, 6, 7, 2, 3, 4, 5, 6, 7, 1, 2, 3, 4, 5, 6, 7, 2, 3, 4, 5, 6, 1, 2, 3, 4, 5, 6, 7, 1, 2, 3, 4, 5, 6, 7, 1, 2, 3, 4, 5, 6, 7, 4, 3, 4, 4, 3, 4, 5, 6, 1, 2, 3, 4, 5, 6, 7, 1, 2, 3, 4, 5, 6, 7, 1, 2, 3, 4, 5, 6, 7, 2, 3, 4, 5, 6, 5, 6, 4, 6, 7, 4, 2, 3, 4, 5, 6, 2, 4, 5, 6, 1, 2, 3, 4, 5, 6, 1, 2, 3, 4, 5, 6, 7, 5, 7, 1, 4, 5, 6, 7, 1, 2, 3, 4, 5, 6, 7, 7, 1, 2, 3, 4, 5, 6, 7, 3, 5, 6, 2, 6, 1, 2, 3, 4, 5, 6, 7, 1, 2, 3, 4, 5, 6, 7, 1, 2, 3, 4, 5, 6, 7, 5, 1, 2, 3, 4, 5, 6, 7, 1, 2, 3, 5, 6, 7, 3, 4, 7, 6, 7, 1, 2, 3, 4, 5, 6, 7, 1, 2, 3, 4, 5, 6, 7, 1, 2, 3, 4, 5, 6, 7, 1, 2, 3, 4, 5, 6, 7, 3, 1, 2, 3, 4, 5, 6, 7, 3, 4, 1, 3, 4, 6, 1, 2, 3, 4, 5, 6, 7, 4, 2, 3, 5, 2, 4, 1, 3, 4, 5, 6, 7, 1, 2, 3, 4, 5, 6, 7, 5, 3, 5, 5, 6], \"Freq\": [0.9539146423339844, 0.9402466416358948, 0.012054444290697575, 0.02410888858139515, 0.012054444290697575, 0.16020411252975464, 0.05175825208425522, 0.26618531346321106, 0.004929357673972845, 0.11091054230928421, 0.3697018027305603, 0.03943486139178276, 0.040982674807310104, 0.4006056487560272, 0.21208533644676208, 0.035859838128089905, 0.2325766682624817, 0.07171967625617981, 0.006147400941699743, 0.03550570830702782, 0.9586541056632996, 0.02703186124563217, 0.8379877209663391, 0.018021240830421448, 0.09010620415210724, 0.02703186124563217, 0.9505037069320679, 0.9146387577056885, 0.03810994699597359, 0.06955697387456894, 0.13215824961662292, 0.26199793815612793, 0.3222806453704834, 0.08810549974441528, 0.08578693121671677, 0.039415616542100906, 0.9085392355918884, 0.025620412081480026, 0.001478100661188364, 0.033503614366054535, 0.012317505665123463, 0.016751807183027267, 0.001970800803974271, 0.9143462777137756, 0.9670702219009399, 0.008634555153548717, 0.008634555153548717, 0.017269110307097435, 0.008634555153548717, 0.9053343534469604, 0.9815499782562256, 0.22401326894760132, 0.7520445585250854, 0.9690881371498108, 0.04744973033666611, 0.9015448689460754, 0.9616149663925171, 0.9814433455467224, 0.9467245936393738, 0.9496033191680908, 0.0601523332297802, 0.005728793330490589, 0.0028643966652452946, 0.19764336943626404, 0.005728793330490589, 0.7246924042701721, 0.0028643966652452946, 0.035255420953035355, 0.9166409969329834, 0.035255420953035355, 0.012448590248823166, 0.33818671107292175, 0.05394389480352402, 0.01867288537323475, 0.4191025495529175, 0.06224295496940613, 0.09543919563293457, 0.0686749815940857, 0.7725934982299805, 0.03433749079704285, 0.10301246494054794, 0.03433749079704285, 0.011521143838763237, 0.23042288422584534, 0.5702966451644897, 0.028802860528230667, 0.01728171668946743, 0.13825373351573944, 0.25913670659065247, 0.3617650866508484, 0.08081986010074615, 0.04874848946928978, 0.16933685541152954, 0.06542560458183289, 0.014111404307186604, 0.9519537091255188, 0.5903153419494629, 0.28189215064048767, 0.0016581891104578972, 0.034821972250938416, 0.041454728692770004, 0.03979653865098953, 0.01160732377320528, 0.9451589584350586, 0.916644275188446, 0.05092468485236168, 0.27041923999786377, 0.10184621065855026, 0.1510133445262909, 0.12116187065839767, 0.22652001678943634, 0.06497085839509964, 0.06497085839509964, 0.9629925489425659, 0.17227233946323395, 0.19833986461162567, 0.14847154915332794, 0.11107032001018524, 0.17227233946323395, 0.15073829889297485, 0.04760156571865082, 0.5825402736663818, 0.06761627644300461, 0.012136255390942097, 0.17164131999015808, 0.1161613017320633, 0.043343767523765564, 0.006935002747923136, 0.9741827845573425, 0.04046855866909027, 0.9307768940925598, 0.9488736987113953, 0.012651649303734303, 0.012651649303734303, 0.012651649303734303, 0.006325824651867151, 0.893515408039093, 0.009438542649149895, 0.003146180883049965, 0.01887708529829979, 0.03775417059659958, 0.015730904415249825, 0.022023266181349754, 0.9056541323661804, 0.06686615943908691, 0.06686615943908691, 0.8692600727081299, 0.9522926807403564, 0.12981317937374115, 0.07417895644903183, 0.49607178568840027, 0.03940756991505623, 0.1390855461359024, 0.09967797249555588, 0.02086283080279827, 0.9579775333404541, 0.8788944482803345, 0.07989949733018875, 0.01597989909350872, 0.9520619511604309, 0.05681344121694565, 0.8522015810012817, 0.1235034167766571, 0.5466169714927673, 0.004574200604110956, 0.2904617488384247, 0.011435501277446747, 0.016009701415896416, 0.006861301138997078, 0.9351522922515869, 0.047229912132024765, 0.009445982053875923, 0.015833739191293716, 0.0016667094314470887, 0.008333547040820122, 0.9608579874038696, 0.004166773520410061, 0.006666837725788355, 0.0016667094314470887, 0.023518262431025505, 0.3057374060153961, 0.023518262431025505, 0.023518262431025505, 0.6349930763244629, 0.03474736586213112, 0.9034315347671509, 0.03474736586213112, 0.001661349437199533, 0.8888218998908997, 0.03322698920965195, 0.01827484369277954, 0.04651778191328049, 0.004984048195183277, 0.006645397748798132, 0.8986496925354004, 0.0069662765599787235, 0.0069662765599787235, 0.041797660291194916, 0.020898830145597458, 0.020898830145597458, 0.9771050214767456, 0.022723371163010597, 0.079165980219841, 0.00879621971398592, 0.00879621971398592, 0.6949014067649841, 0.21110928058624268, 0.965604841709137, 0.9638254046440125, 0.8811466097831726, 0.0717419683933258, 0.12206842005252838, 0.04818490147590637, 0.10279446095228195, 0.5300339460372925, 0.0653173103928566, 0.05996343493461609, 0.8197923898696899, 0.0037605154793709517, 0.09777340292930603, 0.033844638615846634, 0.045126184821128845, 0.1599358469247818, 0.16437850892543793, 0.1599358469247818, 0.2987690269947052, 0.10884522646665573, 0.08441058546304703, 0.02332397736608982, 0.945951521396637, 0.9716167449951172, 0.9703280329704285, 0.007953508757054806, 0.01590701751410961, 0.8951808214187622, 0.0860750824213028, 0.715889573097229, 0.08743689209222794, 0.016394417732954025, 0.016394417732954025, 0.16394416987895966, 0.005464805755764246, 0.616097629070282, 0.12119953334331512, 0.05723311007022858, 0.05891643837094307, 0.07069972902536392, 0.06059976667165756, 0.016833268105983734, 0.020612724125385284, 0.566849946975708, 0.025765907019376755, 0.09791044145822525, 0.11594657599925995, 0.14944225549697876, 0.02318931557238102, 0.9541317224502563, 0.972423791885376, 0.019067132845520973, 0.9715117812156677, 0.010675953701138496, 0.010675953701138496, 0.9259660243988037, 0.016954731196165085, 0.8307818174362183, 0.016954731196165085, 0.10172838717699051, 0.016954731196165085, 0.9513778686523438, 0.9255245327949524, 0.036489326506853104, 0.9122331142425537, 0.036489326506853104, 0.9611775875091553, 0.8935639262199402, 0.030187970027327538, 0.04830075055360794, 0.02415037527680397, 0.08797598630189896, 0.003998908679932356, 0.003998908679932356, 0.2039443403482437, 0.007997817359864712, 0.6918111443519592, 0.11782030761241913, 0.8541972041130066, 0.029455076903104782, 0.01836010441184044, 0.119340680539608, 0.01836010441184044, 0.8353847861289978, 0.981207549571991, 0.963118851184845, 0.09597316384315491, 0.02056567743420601, 0.006855225656181574, 0.8020614385604858, 0.013710451312363148, 0.06169703230261803, 0.06165216490626335, 0.00616521667689085, 0.8631303310394287, 0.06165216490626335, 0.00616521667689085, 0.6986092329025269, 0.019473427906632423, 0.009736713953316212, 0.08032789081335068, 0.0778937116265297, 0.10223549604415894, 0.009736713953316212, 0.9742231965065002, 0.9711987972259521, 0.9484443068504333, 0.14875788986682892, 0.10480669885873795, 0.013523444533348083, 0.4902248680591583, 0.010142583400011063, 0.1927090883255005, 0.04057033360004425, 0.9587969183921814, 0.03794128820300102, 0.9485321640968323, 0.9314062595367432, 0.04902138188481331, 0.980776846408844, 0.9539879560470581, 0.016169287264347076, 0.016169287264347076, 0.9411271810531616, 0.9514439105987549, 0.9795182347297668, 0.06196848303079605, 0.8675587773323059, 0.9355762004852295, 0.04783894866704941, 0.9328595399856567, 0.15533101558685303, 0.08788464963436127, 0.3004428744316101, 0.08788464963436127, 0.18803226947784424, 0.12058591097593307, 0.06131487339735031, 0.8401473760604858, 0.15476399660110474, 0.9665950536727905, 0.002753832144662738, 0.002753832144662738, 0.002753832144662738, 0.013769160956144333, 0.005507664289325476, 0.002753832144662738, 0.026166193187236786, 0.5036992430686951, 0.0490616150200367, 0.13083097338676453, 0.12756019830703735, 0.1602679342031479, 0.0032707741484045982, 0.9275130033493042, 0.03420719876885414, 0.10262160003185272, 0.8551799654960632, 0.9455729126930237, 0.11254695057868958, 0.11803704500198364, 0.0027450474444776773, 0.11529199779033661, 0.041175711899995804, 0.5297941565513611, 0.08235142379999161, 0.11646677553653717, 0.03882225975394249, 0.35716477036476135, 0.1216430738568306, 0.09317342191934586, 0.2665795087814331, 0.0077644516713917255, 0.22926950454711914, 0.15370023250579834, 0.18187861144542694, 0.08837763220071793, 0.2267078310251236, 0.10887099802494049, 0.01152751687914133, 0.06843013316392899, 0.23950546979904175, 0.6500862836837769, 0.017066681757569313, 0.0068266731686890125, 0.9728009104728699, 0.9402359127998352, 0.0019466582452878356, 0.005839974619448185, 0.007786632981151342, 0.02919987216591835, 0.01167994923889637, 0.0019466582452878356, 0.9886279702186584, 0.8818601369857788, 0.9766731858253479, 0.9600616097450256, 0.006076339166611433, 0.006076339166611433, 0.024305356666445732, 0.006076339166611433, 0.006076339166611433, 0.9622147679328918, 0.05365892872214317, 0.4111906886100769, 0.15922702848911285, 0.1218990832567215, 0.14347930252552032, 0.081071637570858, 0.029745709151029587, 0.12614944577217102, 0.8672775030136108, 0.16505834460258484, 0.1363525539636612, 0.04305869713425636, 0.014352899976074696, 0.2870579957962036, 0.0645880475640297, 0.2942344546318054, 0.9615459442138672, 0.7870709300041199, 0.008385838940739632, 0.005989885423332453, 0.11021389067173004, 0.06469076126813889, 0.014375724829733372, 0.008385838940739632, 0.9260172247886658, 0.9745147824287415, 0.04111481457948685, 0.43757909536361694, 0.23641018569469452, 0.03964642807841301, 0.19089022278785706, 0.04551997408270836, 0.010278703644871712, 0.9343976974487305, 0.01825733855366707, 0.8215802311897278, 0.009128669276833534, 0.1186726987361908, 0.03651467710733414, 0.009128669276833534, 0.299893856048584, 0.15257757902145386, 0.12100980430841446, 0.24728091061115265, 0.10697968304157257, 0.05787425488233566, 0.0157838873565197, 0.01002931036055088, 0.09026379138231277, 0.7622275352478027, 0.04011724144220352, 0.01002931036055088, 0.1002930998802185, 0.9554561376571655, 0.9793277978897095, 0.10306818038225174, 0.17970862984657288, 0.0792832151055336, 0.39377331733703613, 0.1453525722026825, 0.06078379973769188, 0.03435606136918068, 0.9149256348609924, 0.9655315279960632, 0.9738250970840454, 0.37714746594429016, 0.2707725465297699, 0.2099868655204773, 0.0400632843375206, 0.06907462328672409, 0.012433432973921299, 0.020722387358546257, 0.9919454455375671, 0.0773375928401947, 0.37478986382484436, 0.11699789762496948, 0.20425057411193848, 0.0872526690363884, 0.11699789762496948, 0.01983015239238739, 0.008472534827888012, 0.08754952996969223, 0.3812640607357025, 0.008472534827888012, 0.46034106612205505, 0.028241783380508423, 0.019769247621297836, 0.9555147290229797, 0.030451159924268723, 0.3897748589515686, 0.09135348349809647, 0.1441354900598526, 0.25578975677490234, 0.07714293897151947, 0.010150386951863766, 0.9754427075386047, 0.9721580147743225, 0.9030985832214355, 0.05826830118894577, 0.9322928190231323, 0.9457520842552185, 0.30172890424728394, 0.029800385236740112, 0.03725048154592514, 0.5513071417808533, 0.011175144463777542, 0.07077591121196747, 0.9733047485351562, 0.6316995620727539, 0.2349800318479538, 0.009155066683888435, 0.07934390753507614, 0.03662026673555374, 0.006103377789258957, 0.9510337710380554, 0.9715149998664856, 0.9684186577796936, 0.02421046607196331, 0.8892877697944641, 0.005593004636466503, 0.005593004636466503, 0.022372018545866013, 0.013982512056827545, 0.06431955844163895, 0.0027965023182332516, 0.9567055702209473, 0.013739134185016155, 0.04121740162372589, 0.6320001482963562, 0.02747826837003231, 0.23814499378204346, 0.03663768991827965, 0.013739134185016155, 0.9707819819450378, 0.9659847617149353, 0.022999636828899384, 0.05656157433986664, 0.9049851894378662, 0.9139708876609802, 0.9436364769935608, 0.041027672588825226, 0.1394934356212616, 0.12424825876951218, 0.19259749352931976, 0.24036574363708496, 0.18090952932834625, 0.10442951321601868, 0.018040135502815247, 0.15901295840740204, 0.10455646365880966, 0.1282450407743454, 0.2959710359573364, 0.2096574902534485, 0.08250158280134201, 0.019876619800925255, 0.004479437600821257, 0.05375325307250023, 0.013438313268125057, 0.008958875201642513, 0.788381040096283, 0.04479437693953514, 0.08510931581258774, 0.040752626955509186, 0.3808128237724304, 0.2357412725687027, 0.0715608298778534, 0.18192440271377563, 0.05147700011730194, 0.03763280808925629, 0.046726252883672714, 0.5607150197029114, 0.38549157977104187, 0.011541454121470451, 0.11541453748941422, 0.023082908242940903, 0.8425261378288269, 0.5019903182983398, 0.02806156873703003, 0.006235904525965452, 0.01870771311223507, 0.012471809051930904, 0.40845173597335815, 0.02494361810386181, 0.9767308235168457, 0.9349873661994934, 0.007994172163307667, 0.9033414721488953, 0.01998542994260788, 0.007994172163307667, 0.05196211859583855, 0.007994172163307667, 0.003997086081653833, 0.981062114238739, 0.2931393086910248, 0.12326352298259735, 0.20095062255859375, 0.21338054537773132, 0.06214967370033264, 0.09736782312393188, 0.010358279570937157, 0.025029921904206276, 0.5899909734725952, 0.05005984380841255, 0.19308796525001526, 0.1144225001335144, 0.0143028125166893, 0.010727109387516975, 0.9061164855957031, 0.9080076217651367, 0.03632030636072159, 0.03632030636072159, 0.035084400326013565, 0.9472788572311401, 0.03583141788840294, 0.07166283577680588, 0.8599540591239929, 0.03581014648079872, 0.9310637712478638, 0.9010694026947021, 0.9232771992683411, 0.048593536019325256, 0.9746127724647522, 0.07126777619123459, 0.031674567610025406, 0.002639547223225236, 0.4724789559841156, 0.005279094446450472, 0.41968801617622375, 0.043167807161808014, 0.6968517303466797, 0.11100292950868607, 0.024667317047715187, 0.018500488251447678, 0.06783512234687805, 0.043167807161808014, 0.01255082432180643, 0.39660605788230896, 0.25185319781303406, 0.1196511909365654, 0.10793709009885788, 0.10542692244052887, 0.0066937729716300964, 0.07608151435852051, 0.10811583697795868, 0.004004290327429771, 0.8128709197044373, 0.9948798418045044, 0.9945884346961975, 0.9915968775749207, 0.9722174406051636, 0.05640087649226189, 0.13160204887390137, 0.11656181514263153, 0.44368690252304077, 0.04888075962662697, 0.0639209970831871, 0.1391221582889557, 0.35436519980430603, 0.031924791634082794, 0.022347355261445045, 0.5044116973876953, 0.025539834052324295, 0.05427214875817299, 0.003192479256540537, 0.9136691689491272, 0.01768488436937332, 0.00884244218468666, 0.3625401258468628, 0.057475876063108444, 0.026527326554059982, 0.5261253118515015, 0.940077543258667, 0.08749276399612427, 0.07403234392404556, 0.026920851320028305, 0.026920851320028305, 0.4172731935977936, 0.020190639421343803, 0.3432408571243286, 0.9877780079841614, 0.0028967096004635096, 0.005793419200927019, 0.0028967096004635096, 0.9392818212509155, 0.9734562635421753, 0.9751771688461304, 0.9674462676048279, 0.8078521490097046, 0.10537201911211014, 0.005545896012336016, 0.029578112065792084, 0.022183584049344063, 0.029578112065792084, 0.0018486320041120052, 0.849568247795105, 0.012136689387261868, 0.012136689387261868, 0.012136689387261868, 0.03641006723046303, 0.07282013446092606, 0.012358801439404488, 0.024717602878808975, 0.024717602878808975, 0.939268946647644, 0.9611883163452148, 0.014358976855874062, 0.057435907423496246, 0.08615385740995407, 0.8328206539154053, 0.9427196979522705, 0.04285089671611786, 0.6800943613052368, 0.005913864355534315, 0.2247268408536911, 0.035483185201883316, 0.04731091484427452, 0.049675919115543365, 0.2980555295944214, 0.09935183823108673, 0.5464351177215576, 0.9647915959358215, 0.030537990853190422, 0.1649051457643509, 0.0427531860768795, 0.6901586055755615, 0.030537990853190422, 0.03664558753371239, 0.02342010848224163, 0.18736086785793304, 0.09368043392896652, 0.6791831851005554, 0.06735006719827652, 0.16476713120937347, 0.41612720489501953, 0.08659294992685318, 0.15274032950401306, 0.10583582520484924, 0.007216078694909811, 0.9419421553611755, 0.9383690357208252, 0.22576501965522766, 0.2702338993549347, 0.10376068949699402, 0.04902977496385574, 0.120293989777565, 0.14423875510692596, 0.08779750764369965, 0.8733975291252136, 0.01909065619111061, 0.009545328095555305, 0.06204463541507721, 0.028635984286665916, 0.9424421787261963, 0.07354297488927841, 0.15689167380332947, 0.2549489736557007, 0.1781374216079712, 0.16342882812023163, 0.06046866625547409, 0.11276589334011078, 0.03088361956179142, 0.8956249952316284, 0.03088361956179142, 0.9740424752235413, 0.018731586635112762, 0.26783132553100586, 0.1933719962835312, 0.11002199351787567, 0.13113732635974884, 0.19003799557685852, 0.08334999531507492, 0.024449331685900688, 0.23226463794708252, 0.11907237768173218, 0.07938158512115479, 0.1293625831604004, 0.30429607629776, 0.1220124363899231, 0.01470029354095459, 0.29567497968673706, 0.2632380723953247, 0.12475737929344177, 0.1546991467475891, 0.05738839507102966, 0.0885777398943901, 0.016218459233641624, 0.07688990980386734, 0.02562996931374073, 0.17940978705883026, 0.1281498521566391, 0.5894893407821655, 0.011486992239952087, 0.2642008066177368, 0.16081789135932922, 0.040204472839832306, 0.04594796895980835, 0.01723048835992813, 0.46522316336631775, 0.8412701487541199, 0.14889736473560333, 0.9765088558197021, 0.013285834342241287, 0.20037399232387543, 0.6140493750572205, 0.02585470862686634, 0.09695515781641006, 0.04524574056267738, 0.01292735431343317, 0.009683992713689804, 0.24694181978702545, 0.04841996356844902, 0.17915385961532593, 0.4938836395740509, 0.019367985427379608, 0.9607092142105103, 0.9402216672897339, 0.035480063408613205, 0.05013388767838478, 0.008355648256838322, 0.29244768619537354, 0.016711296513676643, 0.5932509899139404, 0.03342259302735329, 0.016711296513676643, 0.9246715307235718, 0.5548248291015625, 0.08966866135597229, 0.06911959499120712, 0.07659198343753815, 0.1531839668750763, 0.04857052490115166, 0.00934048555791378, 0.7969222664833069, 0.016602547839283943, 0.13282038271427155, 0.058108918368816376, 0.016229579225182533, 0.008114789612591267, 0.025246012955904007, 0.12713170051574707, 0.036065731197595596, 0.7862329483032227, 0.0009016433032229543, 0.0017367593245580792, 0.008683796040713787, 0.0034735186491161585, 0.14241425693035126, 0.01563083380460739, 0.8249606490135193, 0.0017367593245580792, 0.013994106091558933, 0.7136994004249573, 0.2658880054950714, 0.03882039710879326, 0.43996450304985046, 0.02588026598095894, 0.11646119505167007, 0.36232370138168335, 0.9750699400901794, 0.053143445402383804, 0.9034385681152344, 0.08835885673761368, 0.003841689322143793, 0.003841689322143793, 0.49557793140411377, 0.003841689322143793, 0.40337738394737244, 0.9304823279380798, 0.9626931548118591, 0.9709479808807373, 0.9167155623435974, 0.19276519119739532, 0.16963335871696472, 0.1465015411376953, 0.31999021768569946, 0.10602085292339325, 0.025059474632143974, 0.038553036749362946, 0.0513063445687294, 0.029317911714315414, 0.007329477928578854, 0.007329477928578854, 0.8941963315010071, 0.9748293161392212, 0.11477316915988922, 0.05738658457994461, 0.8225410580635071, 0.05080611631274223, 0.11177345365285873, 0.41661015152931213, 0.1896761655807495, 0.08467686176300049, 0.11177345365285873, 0.03387074172496796, 0.004706823732703924, 0.24946166574954987, 0.01412047166377306, 0.05648188665509224, 0.042361415922641754, 0.6165939569473267, 0.009413647465407848, 0.950709879398346, 0.01639154925942421, 0.01639154925942421, 0.08010344207286835, 0.06791379302740097, 0.3413103222846985, 0.12363792955875397, 0.055724136531353, 0.30474138259887695, 0.026120688766241074, 0.9516192674636841, 0.014640296809375286, 0.014640296809375286, 0.9451819658279419, 0.01500288862735033, 0.03750722110271454, 0.0489177480340004, 0.9538961052894592, 0.9419112205505371, 0.026164202019572258, 0.9268876314163208, 0.9586398005485535, 0.0016019218601286411, 0.6936321258544922, 0.09771723300218582, 0.05606726557016373, 0.11533837020397186, 0.03043651580810547, 0.0064076874405145645, 0.17070764303207397, 0.25194093585014343, 0.27901870012283325, 0.06828305870294571, 0.13774339854717255, 0.06828305870294571, 0.024723175913095474, 0.9566264152526855, 0.15601776540279388, 0.10941506177186966, 0.19046324491500854, 0.23706595599651337, 0.18235842883586884, 0.05470753088593483, 0.0702417641878128, 0.040376923978328705, 0.040376923978328705, 0.8882923722267151, 0.010094230994582176, 0.010094230994582176, 0.010094230994582176, 0.9454002976417542, 0.9562518000602722, 0.9750300049781799, 0.9705085158348083, 0.10269957780838013, 0.3080987334251404, 0.15483936667442322, 0.13429944217205048, 0.16115933656692505, 0.07899967581033707, 0.06003975123167038, 0.10169238597154617, 0.15253858268260956, 0.19830015301704407, 0.14745396375656128, 0.13728472590446472, 0.05084619298577309, 0.20846939086914062, 0.08090008050203323, 0.8899008631706238, 0.9737829566001892, 0.002704952610656619, 0.002704952610656619, 0.005409905221313238, 0.005409905221313238, 0.008114858530461788, 0.03926093131303787, 0.9422623515129089, 0.9215719699859619, 0.02757219225168228, 0.01378609612584114, 0.00689304806292057, 0.8616310358047485, 0.034465242177248, 0.00689304806292057, 0.04825133830308914, 0.9493993520736694, 0.0011710136895999312, 0.002927534282207489, 0.012881150469183922, 0.02956809476017952, 0.0032202876172959805, 0.000878260238096118, 0.03382144123315811, 0.05636906996369362, 0.9131789207458496, 0.9143790006637573, 0.06690578162670135, 0.022301925346255302, 0.01610611565411091, 0.012884893454611301, 0.036238763481378555, 0.0032212233636528254, 0.7908102869987488, 0.036238763481378555, 0.10388445109128952, 0.9759289622306824, 0.009941967204213142, 0.6661117672920227, 0.1391875445842743, 0.05468081682920456, 0.019883934408426285, 0.06462278217077255, 0.044738851487636566, 0.9900609850883484, 0.0034376876428723335, 0.10656831413507462, 0.055003002285957336, 0.24407581984996796, 0.4744008779525757, 0.017188437283039093, 0.09625525027513504, 0.962306559085846, 0.13592034578323364, 0.055264316499233246, 0.31963685154914856, 0.052277058362960815, 0.2344999462366104, 0.1508566439151764, 0.0507834255695343, 0.026484979316592216, 0.9534592032432556, 0.9926294088363647, 0.03679526224732399, 0.051513370126485825, 0.0073590525425970554, 0.09566768258810043, 0.7800595760345459, 0.0073590525425970554, 0.022077158093452454, 0.11228341609239578, 0.842125654220581, 0.9836515784263611, 0.9098575115203857, 0.07337560504674911, 0.014675120823085308, 0.7907930612564087, 0.01769416406750679, 0.0040832688100636005, 0.020416343584656715, 0.08030428737401962, 0.0830264613032341, 0.002722179051488638, 0.9747795462608337, 0.8992906212806702, 0.01438865065574646, 0.07913757860660553, 0.00719432532787323, 0.9620537161827087, 0.12917017936706543, 0.09614922851324081, 0.13596861064434052, 0.35448959469795227, 0.1505366712808609, 0.0951780304312706, 0.03836257383227348, 0.8866975903511047, 0.11584838479757309, 0.2075086385011673, 0.08784107863903046, 0.20878170430660248, 0.12857897579669952, 0.22151228785514832, 0.030553419142961502, 0.07725860923528671, 0.18865475058555603, 0.07725860923528671, 0.27399855852127075, 0.30993279814720154, 0.06468162685632706, 0.008085203357040882, 0.93771892786026, 0.11441895365715027, 0.08627311140298843, 0.17805302143096924, 0.42708250880241394, 0.10830029100179672, 0.07831885665655136, 0.0073423925787210464, 0.9284259676933289, 0.9324566721916199, 0.9740098118782043, 0.9608365297317505, 0.21459877490997314, 0.08583950996398926, 0.6795628070831299, 0.021459877490997314, 0.10696926712989807, 0.003056264715269208, 0.018337588757276535, 0.17726336419582367, 0.021393854171037674, 0.6479281187057495, 0.027506383135914803, 0.9935457110404968, 0.0629015862941742, 0.00262089935131371, 0.026208994910120964, 0.13890767097473145, 0.026208994910120964, 0.7417145371437073, 0.00262089935131371, 0.9791440367698669, 0.9288625717163086, 0.030013715848326683, 0.9604389071464539, 0.9781231880187988, 0.9593725800514221, 0.060584042221307755, 0.9087606072425842, 0.9700817465782166, 0.9861378073692322, 0.0036523621529340744, 0.0036523621529340744, 0.0036523621529340744, 0.0036523621529340744, 0.15702320635318756, 0.1348179131746292, 0.1427483707666397, 0.23474176228046417, 0.1792285144329071, 0.1300596296787262, 0.022205302491784096, 0.056608591228723526, 0.9057374596595764, 0.9738138914108276, 0.9422178268432617, 0.9770967364311218, 0.9472164511680603, 0.9747147560119629, 0.983731210231781, 0.922784149646759, 0.934969425201416, 0.9353980422019958, 0.024615738540887833, 0.024615738540887833, 0.9342872500419617, 0.9569177031517029, 0.9909192323684692, 0.08176854252815247, 0.05451236292719841, 0.0054512363858520985, 0.05451236292719841, 0.7904292345046997, 0.016353709623217583, 0.030925188213586807, 0.6563012003898621, 0.12713688611984253, 0.09277556836605072, 0.017180660739541054, 0.027489056810736656, 0.04810585081577301, 0.976287305355072, 0.028714332729578018, 0.06998974829912186, 0.9098667502403259, 0.05184100568294525, 0.1728033423423767, 0.4262482523918152, 0.06528126448392868, 0.1036820113658905, 0.16704323887825012, 0.013440260663628578, 0.7880983352661133, 0.016418715938925743, 0.009851229377090931, 0.04268866032361984, 0.04268866032361984, 0.09194480627775192, 0.006567486096173525, 0.8973391056060791, 0.9674949645996094, 0.014814680442214012, 0.014814680442214012, 0.014814680442214012, 0.9481395483016968, 0.9057313799858093, 0.11804687976837158, 0.013116319663822651, 0.1573958396911621, 0.19674479961395264, 0.5115364789962769, 0.9537492394447327, 0.9292212724685669, 0.042237330228090286, 0.088597372174263, 0.29532456398010254, 0.13658761978149414, 0.08306003361940384, 0.30455347895622253, 0.07013958692550659, 0.01845778524875641, 0.06131601706147194, 0.9197402596473694, 0.02399292215704918, 0.8397522568702698, 0.04798584431409836, 0.07197876274585724, 0.2148599624633789, 0.2843190133571625, 0.0351925790309906, 0.09075981378555298, 0.1861502230167389, 0.17040617763996124, 0.0175962895154953, 0.966998279094696, 0.5314725041389465, 0.03957773745059967, 0.4221625328063965, 0.00565396249294281, 0.051932718604803085, 0.8828561902046204, 0.9757124781608582, 0.9726195335388184, 0.03353860229253769, 0.045674826949834824, 0.20346058905124664, 0.12456770241260529, 0.17439478635787964, 0.4235301911830902, 0.008304513990879059, 0.024913541972637177, 0.8993160724639893, 0.02737048827111721, 0.07038125395774841, 0.003910069819539785, 0.21554167568683624, 0.07184722274541855, 0.09579630196094513, 0.035923611372709274, 0.24348226189613342, 0.19558410346508026, 0.1436944454908371, 0.923636794090271, 0.9907011389732361, 0.9251075387001038, 0.36572420597076416, 0.02001858875155449, 0.18286210298538208, 0.15899379551410675, 0.14590471982955933, 0.10779239982366562, 0.018478697165846825, 0.9359669089317322, 0.6927544474601746, 0.1055188924074173, 0.004587777890264988, 0.055053334683179855, 0.004587777890264988, 0.13533945381641388, 0.009765245020389557, 0.13508589565753937, 0.2734268605709076, 0.13345834612846375, 0.05533638969063759, 0.38409966230392456, 0.00813770480453968, 0.9548237323760986, 0.012242577038705349, 0.018363865092396736, 0.7100694179534912, 0.012242577038705349, 0.20200251042842865, 0.03672773018479347, 0.0061212885193526745, 0.002877515275031328, 0.6455225944519043, 0.0076733739115297794, 0.204303577542305, 0.058509476482868195, 0.0009591717389412224, 0.08057042956352234, 0.0016863725613802671, 0.09275048971176147, 0.7473441362380981, 0.008712925016880035, 0.10118235647678375, 0.0376623198390007, 0.010399297811090946, 0.9854249358177185, 0.9816324710845947, 0.02389534004032612, 0.908022940158844, 0.02389534004032612, 0.04779068008065224, 0.02189773879945278, 0.37226155400276184, 0.5912389159202576, 0.07263070344924927, 0.022347908467054367, 0.022347908467054367, 0.3100772202014923, 0.053076282143592834, 0.5084149241447449, 0.0083804652094841, 0.9218043684959412, 0.8555270433425903, 0.009505855850875378, 0.004752927925437689, 0.02376464009284973, 0.0903056338429451, 0.009505855850875378, 0.6608783602714539, 0.030290257185697556, 0.055073194205760956, 0.0743488147854805, 0.0247829370200634, 0.148697629570961, 0.005507319234311581, 0.942585289478302, 0.9737325310707092, 0.9562162756919861, 0.08054894953966141, 0.8860384225845337, 0.9936067461967468, 0.8596327304840088, 0.01999145932495594, 0.09995729476213455, 0.4242977201938629, 0.5065259337425232, 0.013156518340110779, 0.03618042543530464, 0.006578259170055389, 0.009867388755083084, 0.030243678018450737, 0.030243678018450737, 0.9375540018081665, 0.0671517550945282, 0.18802490830421448, 0.0671517550945282, 0.16564099490642548, 0.20593203604221344, 0.08058210462331772, 0.2238391786813736, 0.03160020709037781, 0.05266701057553291, 0.021066803485155106, 0.8426721692085266, 0.03160020709037781, 0.021066803485155106, 0.29230692982673645, 0.14509181678295135, 0.12739768624305725, 0.1252743899822235, 0.1465073525905609, 0.09837932884693146, 0.06582213938236237, 0.041596703231334686, 0.08319340646266937, 0.10399175435304642, 0.7383414506912231, 0.020798351615667343, 0.12081094086170197, 0.15329311788082123, 0.22794516384601593, 0.13049860298633575, 0.15671230852603912, 0.0678136870265007, 0.14303559064865112, 0.6018558740615845, 0.013465647585690022, 0.17154064774513245, 0.020491203293204308, 0.15397675335407257, 0.031615000218153, 0.006440092343837023, 0.07071372121572495, 0.08159275352954865, 0.0761532336473465, 0.03807661682367325, 0.48955652117729187, 0.14686694741249084, 0.09247178584337234, 0.9803911447525024, 0.9577051997184753, 0.023942630738019943, 0.9557399749755859, 0.8881517052650452, 0.0666113793849945, 0.04440758749842644, 0.02220379374921322, 0.935633659362793, 0.00530605111271143, 0.008843418210744858, 0.007074734661728144, 0.015918154269456863, 0.02122420445084572, 0.007074734661728144, 0.0028737408574670553, 0.5661269426345825, 0.2883320152759552, 0.010537050664424896, 0.05076942220330238, 0.05747481808066368, 0.023947840556502342, 0.029865771532058716, 0.8247547745704651, 0.029406297951936722, 0.022973669692873955, 0.05513680726289749, 0.03583892434835434, 0.0022973669692873955, 0.6073713302612305, 0.26238441467285156, 0.034012794494628906, 0.06316661834716797, 0.029153821989893913, 0.026443229988217354, 0.9783994555473328, 0.03521180897951126, 0.9155070781707764, 0.03521180897951126, 0.9445315599441528, 0.9112148284912109, 0.009458976797759533, 0.018917953595519066, 0.05675386264920235, 0.006305984687060118, 0.08375179022550583, 0.8734115362167358, 0.023929083719849586, 0.9470457434654236, 0.0025262378621846437, 0.4648277461528778, 0.4926163852214813, 0.010104951448738575, 0.017683664336800575, 0.010104951448738575, 0.5179480910301208, 0.06694567203521729, 0.017617281526327133, 0.22550120949745178, 0.03875802084803581, 0.11627405881881714, 0.01585555449128151, 0.9804635643959045, 0.9662634134292603, 0.0028582580853253603, 0.03144083917140961, 0.008574774488806725, 0.9546582102775574, 0.0028582580853253603, 0.1766013503074646, 0.2600671052932739, 0.0748138278722763, 0.1552259624004364, 0.15573491156101227, 0.16286003589630127, 0.014759190380573273, 0.8973792791366577, 0.08968841284513474, 0.13273885846138, 0.12556378543376923, 0.53095543384552, 0.05381305143237114, 0.05740058794617653, 0.007175073493272066, 0.8899205923080444, 0.05037286505103111, 0.05037286505103111, 0.9398404955863953, 0.044754307717084885, 0.023281821981072426, 0.017461366951465607, 0.011640910990536213, 0.04656364396214485, 0.011640910990536213, 0.0058204554952681065, 0.8847092390060425, 0.011264780536293983, 0.005632390268146992, 0.022529561072587967, 0.14080975949764252, 0.03942673280835152, 0.7772698998451233, 0.005632390268146992, 0.07517706602811813, 0.017348553985357285, 0.017348553985357285, 0.09252561628818512, 0.02313140407204628, 0.7749020457267761, 0.00578285101801157, 0.978691577911377, 0.8129950761795044, 0.02024054154753685, 0.026987388730049133, 0.04722793027758598, 0.03204752504825592, 0.04554121941328049, 0.013493694365024567, 0.05899067223072052, 0.30402883887290955, 0.24503818154335022, 0.009075487963855267, 0.022688720375299454, 0.3539440333843231, 0.9663547873497009, 0.9549806714057922, 0.02170410566031933, 0.9789775609970093, 0.9649460315704346, 0.0035377340391278267, 0.06367921084165573, 0.04952827841043472, 0.2688677906990051, 0.4775941073894501, 0.02476413920521736, 0.1096697524189949, 0.22780846059322357, 0.24102948606014252, 0.09559819847345352, 0.10170020908117294, 0.08644517511129379, 0.22068944573402405, 0.025425052270293236, 0.04239378497004509, 0.12718135118484497, 0.12718135118484497, 0.04239378497004509, 0.25436270236968994, 0.01413126103579998, 0.3815440535545349, 0.08755620568990707, 0.09551586210727692, 0.4656398296356201, 0.13531413674354553, 0.10745534300804138, 0.09949568659067154, 0.007959655486047268, 0.9550298452377319, 0.19142070412635803, 0.22801584005355835, 0.13699716329574585, 0.14825721085071564, 0.09852536022663116, 0.18579068779945374, 0.011260041035711765, 0.8956620097160339, 0.09265469014644623, 0.05414044111967087, 0.009023407474160194, 0.11730429530143738, 0.8121066689491272, 0.12100516259670258, 0.3164750337600708, 0.041110727936029434, 0.2280481904745102, 0.10083764046430588, 0.15358348190784454, 0.03878370672464371, 0.9236785173416138, 0.010286856442689896, 0.8126616477966309, 0.16458970308303833, 0.9557470679283142, 0.8961681127548218, 0.007314024493098259, 0.014628048986196518, 0.5704939365386963, 0.014628048986196518, 0.38764330744743347, 0.007314024493098259, 0.16154614090919495, 0.19623395800590515, 0.20416259765625, 0.14469777047634125, 0.1506442427635193, 0.12685830891132355, 0.0168483704328537, 0.9918597936630249, 0.023872828111052513, 0.9549131393432617, 0.013962670229375362, 0.9773869514465332], \"Term\": [\"account\", \"accuracy\", \"accuracy\", \"accuracy\", \"accuracy\", \"accurate\", \"accurate\", \"accurate\", \"accurate\", \"accurate\", \"accurate\", \"accurate\", \"acoustic\", \"acoustic\", \"acoustic\", \"acoustic\", \"acoustic\", \"acoustic\", \"acoustic\", \"act\", \"act\", \"addario\", \"addario\", \"addario\", \"addario\", \"addario\", \"alive\", \"aluminum\", \"aluminum\", \"amazon\", \"amazon\", \"amazon\", \"amazon\", \"amazon\", \"amazon\", \"amazon\", \"amp\", \"amp\", \"amp\", \"amp\", \"amp\", \"amp\", \"amp\", \"amplify\", \"analog\", \"analog\", \"analog\", \"analog\", \"analog\", \"annoyance\", \"apogee\", \"app\", \"app\", \"apparent\", \"apple\", \"apple\", \"applicator\", \"aquila\", \"assemble\", \"assortment\", \"audio\", \"audio\", \"audio\", \"audio\", \"audio\", \"audio\", \"audio\", \"authentic\", \"authentic\", \"authentic\", \"bag\", \"bag\", \"bag\", \"bag\", \"bag\", \"bag\", \"bag\", \"balanced\", \"balanced\", \"balanced\", \"balanced\", \"balanced\", \"ball\", \"ball\", \"ball\", \"ball\", \"ball\", \"ball\", \"bass\", \"bass\", \"bass\", \"bass\", \"bass\", \"bass\", \"bass\", \"bassman\", \"battery\", \"battery\", \"battery\", \"battery\", \"battery\", \"battery\", \"battery\", \"beast\", \"bed\", \"bed\", \"big\", \"big\", \"big\", \"big\", \"big\", \"big\", \"big\", \"birthday\", \"bit\", \"bit\", \"bit\", \"bit\", \"bit\", \"bit\", \"bit\", \"board\", \"board\", \"board\", \"board\", \"board\", \"board\", \"board\", \"bone\", \"boogie\", \"boogie\", \"boost\", \"boost\", \"boost\", \"boost\", \"boost\", \"boss\", \"boss\", \"boss\", \"boss\", \"boss\", \"boss\", \"boss\", \"bounce\", \"bow\", \"bow\", \"bow\", \"breakup\", \"bright\", \"bright\", \"bright\", \"bright\", \"bright\", \"bright\", \"bright\", \"british\", \"bronze\", \"bronze\", \"bronze\", \"bugera\", \"bundle\", \"bundle\", \"button\", \"button\", \"button\", \"button\", \"button\", \"button\", \"button\", \"bypass\", \"bypass\", \"bypass\", \"cable\", \"cable\", \"cable\", \"cable\", \"cable\", \"cable\", \"cable\", \"california\", \"california\", \"california\", \"california\", \"california\", \"camera\", \"camera\", \"camera\", \"capo\", \"capo\", \"capo\", \"capo\", \"capo\", \"capo\", \"capo\", \"capos\", \"capos\", \"capos\", \"capos\", \"capos\", \"capos\", \"carbon\", \"carbon\", \"card\", \"card\", \"card\", \"card\", \"card\", \"cardboard\", \"cardioid\", \"cart\", \"case\", \"case\", \"case\", \"case\", \"case\", \"case\", \"case\", \"channel\", \"channel\", \"channel\", \"channel\", \"channel\", \"cheap\", \"cheap\", \"cheap\", \"cheap\", \"cheap\", \"cheap\", \"cheap\", \"checking\", \"cheesy\", \"chorus\", \"chorus\", \"chorus\", \"claim\", \"claim\", \"clamp\", \"clamp\", \"clamp\", \"clamp\", \"clamp\", \"clamp\", \"clean\", \"clean\", \"clean\", \"clean\", \"clean\", \"clean\", \"clean\", \"clip\", \"clip\", \"clip\", \"clip\", \"clip\", \"clip\", \"clip\", \"clipping\", \"clock\", \"clock\", \"clone\", \"clone\", \"clone\", \"coat\", \"coated\", \"coated\", \"coated\", \"coated\", \"coated\", \"cobalt\", \"code\", \"cold\", \"cold\", \"cold\", \"compatible\", \"compressor\", \"compressor\", \"compressor\", \"compressor\", \"computer\", \"computer\", \"computer\", \"computer\", \"computer\", \"computer\", \"concept\", \"concept\", \"concept\", \"condenser\", \"condenser\", \"condenser\", \"condenser\", \"configuration\", \"confusing\", \"connection\", \"connection\", \"connection\", \"connection\", \"connection\", \"connection\", \"connector\", \"connector\", \"connector\", \"connector\", \"connector\", \"control\", \"control\", \"control\", \"control\", \"control\", \"control\", \"control\", \"controller\", \"convenience\", \"converter\", \"cord\", \"cord\", \"cord\", \"cord\", \"cord\", \"cord\", \"cord\", \"cordoba\", \"correction\", \"correction\", \"crate\", \"crate\", \"creative\", \"crunch\", \"crunch\", \"crunch\", \"crystal\", \"cumbersome\", \"curve\", \"cushion\", \"cushion\", \"cute\", \"daw\", \"daw\", \"day\", \"day\", \"day\", \"day\", \"day\", \"day\", \"day\", \"defective\", \"defective\", \"delay\", \"delay\", \"delay\", \"delay\", \"delay\", \"delay\", \"delay\", \"design\", \"design\", \"design\", \"design\", \"design\", \"design\", \"design\", \"desire\", \"desktop\", \"desktop\", \"desktop\", \"detract\", \"device\", \"device\", \"device\", \"device\", \"device\", \"device\", \"device\", \"difference\", \"difference\", \"difference\", \"difference\", \"difference\", \"difference\", \"difference\", \"different\", \"different\", \"different\", \"different\", \"different\", \"different\", \"different\", \"dig\", \"dig\", \"dig\", \"display\", \"display\", \"display\", \"distortion\", \"distortion\", \"distortion\", \"distortion\", \"distortion\", \"distortion\", \"distortion\", \"ditto\", \"drag\", \"draw\", \"drive\", \"drive\", \"drive\", \"drive\", \"drive\", \"drive\", \"dyna\", \"easy\", \"easy\", \"easy\", \"easy\", \"easy\", \"easy\", \"easy\", \"echo\", \"echo\", \"edge\", \"edge\", \"edge\", \"edge\", \"edge\", \"edge\", \"edge\", \"editor\", \"effect\", \"effect\", \"effect\", \"effect\", \"effect\", \"effect\", \"effect\", \"effortless\", \"ehx\", \"electric\", \"electric\", \"electric\", \"electric\", \"electric\", \"electric\", \"electric\", \"elixer\", \"elixir\", \"elixir\", \"elixir\", \"elixir\", \"elixir\", \"elixir\", \"end\", \"end\", \"end\", \"end\", \"end\", \"end\", \"end\", \"ernie\", \"ernie\", \"ernie\", \"ernie\", \"ernie\", \"ernie\", \"event\", \"exceptional\", \"expensive\", \"expensive\", \"expensive\", \"expensive\", \"expensive\", \"expensive\", \"expensive\", \"fabulous\", \"fade\", \"fear\", \"fender\", \"fender\", \"fender\", \"fender\", \"fender\", \"fender\", \"fender\", \"fiddle\", \"fine\", \"fine\", \"fine\", \"fine\", \"fine\", \"fine\", \"fine\", \"finger\", \"finger\", \"finger\", \"finger\", \"finger\", \"finger\", \"finger\", \"fire\", \"fit\", \"fit\", \"fit\", \"fit\", \"fit\", \"fit\", \"fit\", \"fizzy\", \"floyd\", \"fly\", \"focusrite\", \"focusrite\", \"fond\", \"foot\", \"foot\", \"foot\", \"foot\", \"foot\", \"foot\", \"footprint\", \"fret\", \"fret\", \"fret\", \"fret\", \"fret\", \"fret\", \"fuller\", \"fulltone\", \"fuzz\", \"fuzz\", \"gain\", \"gain\", \"gain\", \"gain\", \"gain\", \"gain\", \"gain\", \"garbage\", \"gauge\", \"gauge\", \"gauge\", \"gauge\", \"gauge\", \"gauge\", \"gauge\", \"genius\", \"gigging\", \"gigging\", \"gizmo\", \"gizmo\", \"gloss\", \"gls\", \"gls\", \"good\", \"good\", \"good\", \"good\", \"good\", \"good\", \"good\", \"great\", \"great\", \"great\", \"great\", \"great\", \"great\", \"great\", \"grip\", \"grip\", \"grip\", \"grip\", \"grip\", \"grip\", \"grip\", \"guitar\", \"guitar\", \"guitar\", \"guitar\", \"guitar\", \"guitar\", \"guitar\", \"hanger\", \"hanger\", \"hanger\", \"harp\", \"harp\", \"harp\", \"harp\", \"headphone\", \"headphone\", \"headphone\", \"headphone\", \"headphone\", \"headphone\", \"headphone\", \"headroom\", \"headset\", \"headstock\", \"headstock\", \"headstock\", \"headstock\", \"headstock\", \"headstock\", \"headstock\", \"hercule\", \"high\", \"high\", \"high\", \"high\", \"high\", \"high\", \"high\", \"hole\", \"hole\", \"hole\", \"hole\", \"hole\", \"hole\", \"hole\", \"hoping\", \"hosa\", \"hosa\", \"hosa\", \"husband\", \"husband\", \"iii\", \"iii\", \"iii\", \"image\", \"image\", \"impedance\", \"import\", \"import\", \"indicator\", \"input\", \"input\", \"input\", \"input\", \"input\", \"input\", \"install\", \"install\", \"install\", \"install\", \"install\", \"install\", \"install\", \"instrument\", \"instrument\", \"instrument\", \"instrument\", \"instrument\", \"instrument\", \"instrument\", \"interface\", \"interface\", \"interface\", \"interface\", \"internal\", \"ipad\", \"iphone\", \"ipod\", \"item\", \"item\", \"item\", \"item\", \"item\", \"item\", \"item\", \"jack\", \"jack\", \"jack\", \"jack\", \"jack\", \"jack\", \"jack\", \"jacket\", \"jam\", \"jam\", \"jam\", \"jam\", \"jam\", \"jam\", \"jame\", \"jazz\", \"jazz\", \"jazz\", \"jazz\", \"jazz\", \"jazz\", \"jazz\", \"joyo\", \"joyo\", \"joyo\", \"joyo\", \"kala\", \"karaoke\", \"kill\", \"king\", \"knob\", \"knob\", \"knob\", \"knob\", \"knob\", \"knob\", \"knob\", \"kyser\", \"kyser\", \"kyser\", \"kyser\", \"kyser\", \"kyser\", \"laptop\", \"laptop\", \"laptop\", \"laptop\", \"latch\", \"layer\", \"layer\", \"layer\", \"layer\", \"lean\", \"lean\", \"leather\", \"leather\", \"leather\", \"leather\", \"leather\", \"leave\", \"leave\", \"leave\", \"leave\", \"lemon\", \"length\", \"length\", \"length\", \"length\", \"length\", \"length\", \"lesson\", \"lesson\", \"lesson\", \"lesson\", \"light\", \"light\", \"light\", \"light\", \"light\", \"light\", \"light\", \"lightning\", \"liquid\", \"little\", \"little\", \"little\", \"little\", \"little\", \"little\", \"little\", \"lock\", \"lock\", \"lock\", \"lock\", \"lock\", \"locking\", \"long\", \"long\", \"long\", \"long\", \"long\", \"long\", \"long\", \"longevity\", \"longevity\", \"longevity\", \"looper\", \"looper\", \"lot\", \"lot\", \"lot\", \"lot\", \"lot\", \"lot\", \"lot\", \"love\", \"love\", \"love\", \"love\", \"love\", \"love\", \"love\", \"low\", \"low\", \"low\", \"low\", \"low\", \"low\", \"low\", \"mac\", \"mac\", \"mac\", \"mac\", \"mac\", \"mandolin\", \"mandolin\", \"mandolin\", \"mandolin\", \"mandolin\", \"mandolin\", \"mandolin\", \"manual\", \"manual\", \"marshall\", \"marshall\", \"martin\", \"martin\", \"martin\", \"martin\", \"martin\", \"martin\", \"material\", \"material\", \"material\", \"material\", \"material\", \"material\", \"mechanic\", \"mechanism\", \"mechanism\", \"medium\", \"medium\", \"medium\", \"medium\", \"medium\", \"medium\", \"medium\", \"messy\", \"metal\", \"metal\", \"metal\", \"metal\", \"metal\", \"metal\", \"metal\", \"metronome\", \"metronome\", \"metronome\", \"metronome\", \"mic\", \"mic\", \"mic\", \"mic\", \"mic\", \"mic\", \"mic\", \"microphone\", \"microphone\", \"microphone\", \"microphone\", \"microphone\", \"microphone\", \"microphone\", \"midi\", \"midi\", \"midi\", \"mike\", \"mike\", \"mike\", \"mike\", \"mike\", \"mim\", \"min\", \"min\", \"mixer\", \"mixer\", \"mixer\", \"mixer\", \"mixer\", \"mixer\", \"mixing\", \"modeling\", \"module\", \"moisture\", \"money\", \"money\", \"money\", \"money\", \"money\", \"money\", \"money\", \"monitor\", \"monitor\", \"monitor\", \"monitor\", \"monitor\", \"monitoring\", \"monster\", \"monster\", \"monster\", \"month\", \"month\", \"month\", \"month\", \"month\", \"month\", \"month\", \"mount\", \"mount\", \"mount\", \"mount\", \"mount\", \"mount\", \"mount\", \"muff\", \"muff\", \"muff\", \"music\", \"music\", \"music\", \"music\", \"music\", \"music\", \"music\", \"mustang\", \"mustang\", \"mustang\", \"mxr\", \"mxr\", \"mxr\", \"nail\", \"nail\", \"narrow\", \"narrow\", \"nashville\", \"national\", \"neck\", \"neck\", \"neck\", \"neck\", \"neck\", \"neck\", \"neck\", \"new\", \"new\", \"new\", \"new\", \"new\", \"new\", \"new\", \"newbie\", \"nice\", \"nice\", \"nice\", \"nice\", \"nice\", \"nice\", \"nice\", \"nickel\", \"nickel\", \"nickel\", \"nickel\", \"nickel\", \"nickel\", \"nope\", \"occasional\", \"ocd\", \"octave\", \"one\", \"one\", \"one\", \"one\", \"one\", \"one\", \"one\", \"order\", \"order\", \"order\", \"order\", \"order\", \"order\", \"order\", \"outdoor\", \"outdoor\", \"overdrive\", \"overdrive\", \"overdrive\", \"overdrive\", \"overdrive\", \"overdrive\", \"overdub\", \"overdub\", \"overhead\", \"patch\", \"patch\", \"patch\", \"patch\", \"patch\", \"patch\", \"patch\", \"pedal\", \"pedal\", \"pedal\", \"pedal\", \"pedal\", \"pedal\", \"pedal\", \"phantom\", \"phantom\", \"phantom\", \"phosphor\", \"phosphor\", \"phosphor\", \"pick\", \"pick\", \"pick\", \"pick\", \"pick\", \"pick\", \"pick\", \"piezo\", \"pitch\", \"pitch\", \"pitch\", \"pitch\", \"pitch\", \"pitch\", \"pitch\", \"plain\", \"planet\", \"planet\", \"planet\", \"planet\", \"planet\", \"planet\", \"planet\", \"platform\", \"play\", \"play\", \"play\", \"play\", \"play\", \"play\", \"play\", \"playback\", \"playback\", \"pluck\", \"pocket\", \"pocket\", \"pocket\", \"pocket\", \"pocket\", \"pocket\", \"pocket\", \"pod\", \"pod\", \"podcast\", \"port\", \"port\", \"port\", \"power\", \"power\", \"power\", \"power\", \"power\", \"power\", \"power\", \"practical\", \"preset\", \"preset\", \"preset\", \"preset\", \"pretty\", \"price\", \"price\", \"price\", \"price\", \"price\", \"price\", \"price\", \"pricing\", \"problem\", \"problem\", \"problem\", \"problem\", \"problem\", \"problem\", \"problem\", \"product\", \"product\", \"product\", \"product\", \"product\", \"product\", \"product\", \"puppy\", \"quality\", \"quality\", \"quality\", \"quality\", \"quality\", \"quality\", \"quality\", \"quantity\", \"quarter\", \"quieter\", \"rat\", \"read\", \"read\", \"read\", \"read\", \"record\", \"record\", \"record\", \"record\", \"record\", \"record\", \"record\", \"recorder\", \"recording\", \"recording\", \"recording\", \"recording\", \"recording\", \"recording\", \"recording\", \"register\", \"relief\", \"repeat\", \"repeat\", \"reproduction\", \"residue\", \"responsive\", \"responsive\", \"retro\", \"reverb\", \"reverb\", \"reverb\", \"reverb\", \"reverb\", \"right\", \"right\", \"right\", \"right\", \"right\", \"right\", \"right\", \"rigid\", \"rigid\", \"risk\", \"rosewood\", \"row\", \"rubbery\", \"sample\", \"samson\", \"satisfaction\", \"scarlett\", \"schaller\", \"schaller\", \"schaller\", \"schubb\", \"scream\", \"screamer\", \"screen\", \"screen\", \"screen\", \"screen\", \"screen\", \"screen\", \"screw\", \"screw\", \"screw\", \"screw\", \"screw\", \"screw\", \"screw\", \"select\", \"select\", \"sensitivity\", \"sensitivity\", \"set\", \"set\", \"set\", \"set\", \"set\", \"set\", \"set\", \"setting\", \"setting\", \"setting\", \"setting\", \"setting\", \"setting\", \"setting\", \"share\", \"shimmer\", \"shock\", \"shock\", \"shock\", \"shock\", \"shoe\", \"shoulder\", \"shoulder\", \"shoulder\", \"shoulder\", \"shoulder\", \"silent\", \"silk\", \"silk\", \"size\", \"size\", \"size\", \"size\", \"size\", \"size\", \"size\", \"skinny\", \"skinny\", \"slinky\", \"slinky\", \"slinky\", \"slinky\", \"small\", \"small\", \"small\", \"small\", \"small\", \"small\", \"small\", \"smart\", \"snark\", \"snark\", \"snark\", \"snark\", \"snowball\", \"snowball\", \"snowflake\", \"socket\", \"socket\", \"soft\", \"soft\", \"soft\", \"soft\", \"soft\", \"soft\", \"soft\", \"software\", \"software\", \"software\", \"software\", \"song\", \"song\", \"song\", \"song\", \"song\", \"song\", \"song\", \"soooo\", \"soprano\", \"sore\", \"sound\", \"sound\", \"sound\", \"sound\", \"sound\", \"sound\", \"sound\", \"sounded\", \"speaker\", \"speaker\", \"speaker\", \"speaker\", \"speaker\", \"speaker\", \"stand\", \"stand\", \"stand\", \"stand\", \"stand\", \"stand\", \"stand\", \"station\", \"steel\", \"steel\", \"steel\", \"steel\", \"steel\", \"steel\", \"steel\", \"strap\", \"strap\", \"strap\", \"strap\", \"strap\", \"strap\", \"strap\", \"string\", \"string\", \"string\", \"string\", \"string\", \"string\", \"string\", \"strip\", \"structure\", \"strum\", \"strum\", \"strum\", \"strum\", \"stud\", \"stud\", \"stud\", \"studio\", \"studio\", \"studio\", \"studio\", \"studio\", \"studio\", \"studio\", \"supple\", \"supply\", \"supply\", \"supply\", \"supply\", \"supply\", \"supply\", \"switch\", \"switch\", \"switch\", \"switch\", \"switch\", \"switch\", \"switch\", \"switchcraft\", \"syndrome\", \"synth\", \"tablet\", \"tablet\", \"tascam\", \"tenor\", \"tenor\", \"tenor\", \"tension\", \"tension\", \"tension\", \"tension\", \"tension\", \"tension\", \"terrific\", \"terrific\", \"terrific\", \"thick\", \"thick\", \"thick\", \"thick\", \"thick\", \"thick\", \"thick\", \"thickness\", \"thickness\", \"thickness\", \"thickness\", \"thickness\", \"thickness\", \"thing\", \"thing\", \"thing\", \"thing\", \"thing\", \"thing\", \"thing\", \"thumb\", \"thumb\", \"thumb\", \"thumb\", \"thumb\", \"time\", \"time\", \"time\", \"time\", \"time\", \"time\", \"time\", \"tone\", \"tone\", \"tone\", \"tone\", \"tone\", \"tone\", \"tone\", \"tool\", \"tool\", \"tool\", \"tool\", \"tool\", \"tool\", \"tool\", \"trade\", \"trem\", \"trem\", \"trial\", \"truss\", \"truss\", \"truss\", \"truss\", \"tube\", \"tube\", \"tube\", \"tube\", \"tube\", \"tube\", \"tube\", \"tune\", \"tune\", \"tune\", \"tune\", \"tune\", \"tune\", \"tune\", \"tuner\", \"tuner\", \"tuner\", \"tuner\", \"tuner\", \"tuner\", \"tuner\", \"tuning\", \"tuning\", \"tuning\", \"tuning\", \"tuning\", \"twist\", \"twist\", \"uca\", \"uca\", \"uca\", \"ugly\", \"uke\", \"uke\", \"uke\", \"uke\", \"uke\", \"ukelele\", \"ukelele\", \"ukelele\", \"uku\", \"ukulele\", \"ukulele\", \"ukulele\", \"ukulele\", \"ukulele\", \"ukulele\", \"unit\", \"unit\", \"unit\", \"unit\", \"unit\", \"unit\", \"unit\", \"unlimited\", \"upset\", \"usb\", \"usb\", \"usb\", \"usb\", \"usb\", \"use\", \"use\", \"use\", \"use\", \"use\", \"use\", \"use\", \"utility\", \"value\", \"value\", \"value\", \"value\", \"value\", \"value\", \"value\", \"vibe\", \"vibe\", \"vibe\", \"view\", \"view\", \"violin\", \"violin\", \"violin\", \"violin\", \"violin\", \"violin\", \"violin\", \"vocal\", \"vocal\", \"vocal\", \"vocal\", \"vocal\", \"vocal\", \"vocal\", \"voice\", \"voice\", \"voice\", \"voice\", \"voice\", \"voice\", \"voice\", \"voltage\", \"volume\", \"volume\", \"volume\", \"volume\", \"volume\", \"volume\", \"volume\", \"wall\", \"wall\", \"wall\", \"wall\", \"wall\", \"wall\", \"warning\", \"warranty\", \"warranty\", \"wart\", \"waste\", \"wave\", \"wave\", \"wave\", \"wave\", \"wave\", \"wave\", \"wave\", \"way\", \"way\", \"way\", \"way\", \"way\", \"way\", \"way\", \"wear\", \"wear\", \"wear\", \"wear\", \"wear\", \"wear\", \"wear\", \"week\", \"week\", \"week\", \"week\", \"week\", \"week\", \"week\", \"weld\", \"well\", \"well\", \"well\", \"well\", \"well\", \"well\", \"well\", \"wheel\", \"wheel\", \"window\", \"window\", \"window\", \"window\", \"work\", \"work\", \"work\", \"work\", \"work\", \"work\", \"work\", \"working\", \"wound\", \"wound\", \"wound\", \"writing\", \"xenyx\", \"xlr\", \"xlr\", \"xlr\", \"xlr\", \"xlr\", \"xlr\", \"year\", \"year\", \"year\", \"year\", \"year\", \"year\", \"year\", \"yeti\", \"zipper\", \"zipper\", \"zoom\", \"zoom\"]}, \"R\": 30, \"lambda.step\": 0.01, \"plot.opts\": {\"xlab\": \"PC1\", \"ylab\": \"PC2\"}, \"topic.order\": [1, 4, 7, 3, 2, 5, 6]};\n",
       "\n",
       "function LDAvis_load_lib(url, callback){\n",
       "  var s = document.createElement('script');\n",
       "  s.src = url;\n",
       "  s.async = true;\n",
       "  s.onreadystatechange = s.onload = callback;\n",
       "  s.onerror = function(){console.warn(\"failed to load library \" + url);};\n",
       "  document.getElementsByTagName(\"head\")[0].appendChild(s);\n",
       "}\n",
       "\n",
       "if(typeof(LDAvis) !== \"undefined\"){\n",
       "   // already loaded: just create the visualization\n",
       "   !function(LDAvis){\n",
       "       new LDAvis(\"#\" + \"ldavis_el2332020546156407281033393815\", ldavis_el2332020546156407281033393815_data);\n",
       "   }(LDAvis);\n",
       "}else if(typeof define === \"function\" && define.amd){\n",
       "   // require.js is available: use it to load d3/LDAvis\n",
       "   require.config({paths: {d3: \"https://cdnjs.cloudflare.com/ajax/libs/d3/3.5.5/d3.min\"}});\n",
       "   require([\"d3\"], function(d3){\n",
       "      window.d3 = d3;\n",
       "      LDAvis_load_lib(\"https://cdn.rawgit.com/bmabey/pyLDAvis/files/ldavis.v1.0.0.js\", function(){\n",
       "        new LDAvis(\"#\" + \"ldavis_el2332020546156407281033393815\", ldavis_el2332020546156407281033393815_data);\n",
       "      });\n",
       "    });\n",
       "}else{\n",
       "    // require.js not available: dynamically load d3 & LDAvis\n",
       "    LDAvis_load_lib(\"https://cdnjs.cloudflare.com/ajax/libs/d3/3.5.5/d3.min.js\", function(){\n",
       "         LDAvis_load_lib(\"https://cdn.rawgit.com/bmabey/pyLDAvis/files/ldavis.v1.0.0.js\", function(){\n",
       "                 new LDAvis(\"#\" + \"ldavis_el2332020546156407281033393815\", ldavis_el2332020546156407281033393815_data);\n",
       "            })\n",
       "         });\n",
       "}\n",
       "</script>"
      ],
      "text/plain": [
       "PreparedData(topic_coordinates=              x         y  topics  cluster       Freq\n",
       "topic                                                \n",
       "0      0.204591 -0.071306       1        1  21.239887\n",
       "3     -0.079015  0.044670       2        1  18.046869\n",
       "6     -0.066025  0.022875       3        1  14.542779\n",
       "2      0.031158  0.046946       4        1  14.506902\n",
       "1     -0.024693 -0.031772       5        1  14.222222\n",
       "4      0.040957  0.109242       6        1  13.372315\n",
       "5     -0.106974 -0.120655       7        1   4.069026, topic_info=     Category         Freq        Term        Total  loglift  logprob\n",
       "term                                                                 \n",
       "158   Default  3415.000000       pedal  3415.000000  30.0000  30.0000\n",
       "519   Default  3557.000000      string  3557.000000  29.0000  29.0000\n",
       "108   Default  2029.000000         amp  2029.000000  28.0000  28.0000\n",
       "82    Default  1199.000000       cable  1199.000000  27.0000  27.0000\n",
       "1668  Default  2176.000000       tuner  2176.000000  26.0000  26.0000\n",
       "972   Default  1241.000000        pick  1241.000000  25.0000  25.0000\n",
       "101   Default  5128.000000      guitar  5128.000000  24.0000  24.0000\n",
       "59    Default  1109.000000         mic  1109.000000  23.0000  23.0000\n",
       "105   Default  1754.000000        time  1754.000000  22.0000  22.0000\n",
       "1642  Default  1042.000000       strap  1042.000000  21.0000  21.0000\n",
       "341   Default   575.000000  microphone   575.000000  20.0000  20.0000\n",
       "722   Default  1708.000000        tone  1708.000000  19.0000  19.0000\n",
       "1469  Default   601.000000        capo   601.000000  18.0000  18.0000\n",
       "41    Default  1754.000000      little  1754.000000  17.0000  17.0000\n",
       "950   Default  1043.000000        tune  1043.000000  16.0000  16.0000\n",
       "2783  Default   349.000000         usb   349.000000  15.0000  15.0000\n",
       "351   Default   565.000000        tube   565.000000  14.0000  14.0000\n",
       "749   Default   513.000000  distortion   513.000000  13.0000  13.0000\n",
       "66    Default  3672.000000       great  3672.000000  12.0000  12.0000\n",
       "383   Default   834.000000      effect   834.000000  11.0000  11.0000\n",
       "559   Default   933.000000        case   933.000000  10.0000  10.0000\n",
       "1004  Default   292.000000     display   292.000000   9.0000   9.0000\n",
       "4     Default  2059.000000       price  2059.000000   8.0000   8.0000\n",
       "441   Default   226.000000         jam   226.000000   7.0000   7.0000\n",
       "2507  Default   530.000000       snark   530.000000   6.0000   6.0000\n",
       "2633  Default   171.000000      violin   171.000000   5.0000   5.0000\n",
       "801   Default   734.000000       power   734.000000   4.0000   4.0000\n",
       "174   Default  1634.000000     quality  1634.000000   3.0000   3.0000\n",
       "2200  Default   345.000000        joyo   345.000000   2.0000   2.0000\n",
       "2111  Default   369.000000   overdrive   369.000000   1.0000   1.0000\n",
       "...       ...          ...         ...          ...      ...      ...\n",
       "1732   Topic7    50.562748        jazz   148.583710   2.1238  -5.3433\n",
       "1957   Topic7    19.308893         dig    29.226891   2.7872  -6.3060\n",
       "2020   Topic7    22.228926       leave    40.260956   2.6078  -6.1651\n",
       "972    Topic7   128.932816        pick  1241.764282   0.9368  -4.4072\n",
       "41     Topic7   153.559631      little  1754.036133   0.7662  -4.2324\n",
       "4884   Topic7    32.801285      hanger    85.604980   2.2425  -5.7761\n",
       "1783   Topic7    40.619690        edge   139.344666   1.9691  -5.5623\n",
       "399    Topic7    49.897591       thick   223.374664   1.7029  -5.3566\n",
       "101    Topic7   192.741608      guitar  5128.503906  -0.0795  -4.0052\n",
       "60     Topic7   104.411545        nice  1480.600586   0.5499  -4.6182\n",
       "172    Topic7    69.316231        long   611.887146   1.0239  -5.0279\n",
       "1642   Topic7    84.149078       strap  1042.566162   0.6849  -4.8339\n",
       "64     Topic7    92.636093       thing  1412.898438   0.4770  -4.7379\n",
       "754    Topic7    41.107758       order   196.671555   1.6364  -5.5503\n",
       "742    Topic7    27.363111        wear    70.765091   2.2516  -5.9573\n",
       "4      Topic7    79.103683       price  2059.298828  -0.0576  -4.8958\n",
       "43     Topic7    28.072662        mike    77.278961   2.1891  -5.9317\n",
       "559    Topic7    56.103710        case   933.902466   0.3896  -5.2393\n",
       "700    Topic7    45.714993         bag   481.982269   0.8463  -5.4441\n",
       "66     Topic7    72.929123       great  3672.656738  -0.7174  -4.9770\n",
       "74     Topic7    71.007957        good  3935.668945  -0.8133  -5.0037\n",
       "8      Topic7    49.841160        work  1289.201172  -0.0512  -5.3577\n",
       "914    Topic7    51.051708        easy  1714.532959  -0.3123  -5.3337\n",
       "423    Topic7    36.894905        item   265.953308   1.2265  -5.6585\n",
       "7      Topic7    48.360264       sound  2597.585693  -0.7819  -5.3879\n",
       "165    Topic7    41.937901         bit   882.323914   0.1554  -5.5303\n",
       "1202   Topic7    36.306690        song   250.531601   1.2702  -5.6745\n",
       "21     Topic7    37.948421         one   632.914001   0.3877  -5.6303\n",
       "623    Topic7    36.641998         big   569.486084   0.4582  -5.6653\n",
       "519    Topic7    36.778866      string  3557.932617  -1.3702  -5.6616\n",
       "\n",
       "[571 rows x 6 columns], token_table=      Topic      Freq      Term\n",
       "term                           \n",
       "4109      3  0.953915   account\n",
       "2826      2  0.940247  accuracy\n",
       "2826      3  0.012054  accuracy\n",
       "2826      5  0.024109  accuracy\n",
       "2826      7  0.012054  accuracy\n",
       "3032      1  0.160204  accurate\n",
       "3032      2  0.051758  accurate\n",
       "3032      3  0.266185  accurate\n",
       "3032      4  0.004929  accurate\n",
       "3032      5  0.110911  accurate\n",
       "3032      6  0.369702  accurate\n",
       "3032      7  0.039435  accurate\n",
       "146       1  0.040983  acoustic\n",
       "146       2  0.400606  acoustic\n",
       "146       3  0.212085  acoustic\n",
       "146       4  0.035860  acoustic\n",
       "146       5  0.232577  acoustic\n",
       "146       6  0.071720  acoustic\n",
       "146       7  0.006147  acoustic\n",
       "2923      6  0.035506       act\n",
       "2923      7  0.958654       act\n",
       "1931      2  0.027032   addario\n",
       "1931      3  0.837988   addario\n",
       "1931      4  0.018021   addario\n",
       "1931      5  0.090106   addario\n",
       "1931      6  0.027032   addario\n",
       "3624      6  0.950504     alive\n",
       "1471      2  0.914639  aluminum\n",
       "1471      3  0.038110  aluminum\n",
       "0         1  0.069557    amazon\n",
       "...     ...       ...       ...\n",
       "8         2  0.316475      work\n",
       "8         3  0.041111      work\n",
       "8         4  0.228048      work\n",
       "8         5  0.100838      work\n",
       "8         6  0.153583      work\n",
       "8         7  0.038784      work\n",
       "472       4  0.923679   working\n",
       "1956      2  0.010287     wound\n",
       "1956      3  0.812662     wound\n",
       "1956      5  0.164590     wound\n",
       "3111      2  0.955747   writing\n",
       "348       4  0.896168     xenyx\n",
       "286       1  0.007314       xlr\n",
       "286       3  0.014628       xlr\n",
       "286       4  0.570494       xlr\n",
       "286       5  0.014628       xlr\n",
       "286       6  0.387643       xlr\n",
       "286       7  0.007314       xlr\n",
       "92        1  0.161546      year\n",
       "92        2  0.196234      year\n",
       "92        3  0.204163      year\n",
       "92        4  0.144698      year\n",
       "92        5  0.150644      year\n",
       "92        6  0.126858      year\n",
       "92        7  0.016848      year\n",
       "2784      5  0.991860      yeti\n",
       "2907      3  0.023873    zipper\n",
       "2907      5  0.954913    zipper\n",
       "627       5  0.013963      zoom\n",
       "627       6  0.977387      zoom\n",
       "\n",
       "[1596 rows x 3 columns], R=30, lambda_step=0.01, plot_opts={'xlab': 'PC1', 'ylab': 'PC2'}, topic_order=[1, 4, 7, 3, 2, 5, 6])"
      ]
     },
     "execution_count": 34,
     "metadata": {},
     "output_type": "execute_result"
    }
   ],
   "source": [
    "# Visualize the topics\n",
    "pyLDAvis.enable_notebook()\n",
    "vis = pyLDAvis.gensim.prepare(lda_model, doc_term_matrix, dictionary)\n",
    "vis\n"
   ]
  },
  {
   "cell_type": "markdown",
   "metadata": {},
   "source": [
    "Topic modeling is one of the most popular NLP techniques with several real-world applications such as dimensionality reduction, text summarization, recommendation engine, etc"
   ]
  },
  {
   "cell_type": "markdown",
   "metadata": {},
   "source": [
    "## Sentiment Analysis\n",
    "\n",
    "Sentiment analysis is part of the Natural Language Processing (NLP) techniques that consists in extracting emotions related to some raw texts.\n",
    "This is usually used on customer reviews in order to automatically understand if some users are positive or negative and why. The goal of this project is to show how sentiment analysis can be performed using python. Here are some of the main libraries we will use:\n"
   ]
  },
  {
   "cell_type": "code",
   "execution_count": 65,
   "metadata": {},
   "outputs": [],
   "source": [
    "\n",
    "# add sentiment anaylsis columns\n",
    "from nltk.sentiment.vader import SentimentIntensityAnalyzer\n",
    "\n",
    "sid = SentimentIntensityAnalyzer()\n",
    "df['sentiments'] = df['reviewText'].apply(lambda x: sid.polarity_scores(x))\n",
    "df = pd.concat([df.drop(['sentiments'], axis=1), df['sentiments'].apply(pd.Series)], axis=1)\n"
   ]
  },
  {
   "cell_type": "code",
   "execution_count": 66,
   "metadata": {},
   "outputs": [],
   "source": [
    "# add number of characters column\n",
    "df['nb_chars'] = df['reviewText'].apply(lambda x: len(x))\n",
    "\n",
    "# add number of words column\n",
    "df['nb_words'] = df['reviewText'].apply(lambda x: len(x.split(\" \")))"
   ]
  },
  {
   "cell_type": "markdown",
   "metadata": {},
   "source": [
    "#### Create doc2vec vector columns"
   ]
  },
  {
   "cell_type": "code",
   "execution_count": 67,
   "metadata": {},
   "outputs": [],
   "source": [
    "from gensim.test.utils import common_texts\n",
    "from gensim.models.doc2vec import Doc2Vec, TaggedDocument\n",
    "\n",
    "documents = [TaggedDocument(doc, [i]) for i, doc in enumerate(df['reviews'].apply(lambda x: x.split(\" \")))]\n",
    "\n",
    "# Lets train a Doc2Vec model with our text data\n",
    "model = Doc2Vec(documents, vector_size=5, window=2, min_count=1, workers=4)\n",
    "\n",
    "# transform each document into a vector data\n",
    "doc2vec_df = df['reviews'].apply(lambda x: model.infer_vector(x.split(\" \"))).apply(pd.Series)\n",
    "doc2vec_df.columns = ['doc2vec_vector_' + str(x) for x in doc2vec_df.columns]\n",
    "df = pd.concat([df, doc2vec_df], axis=1)\n"
   ]
  },
  {
   "cell_type": "code",
   "execution_count": 68,
   "metadata": {},
   "outputs": [],
   "source": [
    "# add tf-idfs columns\n",
    "from sklearn.feature_extraction.text import TfidfVectorizer\n",
    "tfidf = TfidfVectorizer(min_df = 10)\n",
    "tfidf_result = tfidf.fit_transform(df['reviews']).toarray()\n",
    "tfidf_df = pd.DataFrame(tfidf_result, columns = tfidf.get_feature_names())\n",
    "tfidf_df.columns = ['word_' + str(x) for x in tfidf_df.columns]\n",
    "tfidf_df.index = df.index\n",
    "df = pd.concat([df, tfidf_df], axis=1)"
   ]
  },
  {
   "cell_type": "code",
   "execution_count": 69,
   "metadata": {},
   "outputs": [
    {
     "data": {
      "text/plain": [
       "1    0.950861\n",
       "0    0.049139\n",
       "Name: rating, dtype: float64"
      ]
     },
     "execution_count": 69,
     "metadata": {},
     "output_type": "execute_result"
    }
   ],
   "source": [
    "# Show Ratings distribution\n",
    "df['rating'].value_counts(normalize = True)"
   ]
  },
  {
   "cell_type": "markdown",
   "metadata": {},
   "source": [
    "As we already know, Our dataset is highly imbalanced because less than 5% of our reviews are considered as negative ones. This information will be very useful for the modelling part."
   ]
  },
  {
   "cell_type": "code",
   "execution_count": 71,
   "metadata": {},
   "outputs": [
    {
     "data": {
      "text/html": [
       "<div>\n",
       "<style scoped>\n",
       "    .dataframe tbody tr th:only-of-type {\n",
       "        vertical-align: middle;\n",
       "    }\n",
       "\n",
       "    .dataframe tbody tr th {\n",
       "        vertical-align: top;\n",
       "    }\n",
       "\n",
       "    .dataframe thead th {\n",
       "        text-align: right;\n",
       "    }\n",
       "</style>\n",
       "<table border=\"1\" class=\"dataframe\">\n",
       "  <thead>\n",
       "    <tr style=\"text-align: right;\">\n",
       "      <th></th>\n",
       "      <th>reviews</th>\n",
       "      <th>pos</th>\n",
       "    </tr>\n",
       "  </thead>\n",
       "  <tbody>\n",
       "    <tr>\n",
       "      <th>5945</th>\n",
       "      <td>nice good fine great fantastic love nice good ...</td>\n",
       "      <td>0.956</td>\n",
       "    </tr>\n",
       "    <tr>\n",
       "      <th>7509</th>\n",
       "      <td>nice awesome cool ido love</td>\n",
       "      <td>0.755</td>\n",
       "    </tr>\n",
       "    <tr>\n",
       "      <th>1481</th>\n",
       "      <td>great great great great great great great grea...</td>\n",
       "      <td>0.746</td>\n",
       "    </tr>\n",
       "    <tr>\n",
       "      <th>7605</th>\n",
       "      <td>great strap nice comfort nice pricefit nice fe...</td>\n",
       "      <td>0.717</td>\n",
       "    </tr>\n",
       "    <tr>\n",
       "      <th>666</th>\n",
       "      <td>love thing action great sound good easy play r...</td>\n",
       "      <td>0.716</td>\n",
       "    </tr>\n",
       "    <tr>\n",
       "      <th>7934</th>\n",
       "      <td>great microphone good rice</td>\n",
       "      <td>0.709</td>\n",
       "    </tr>\n",
       "    <tr>\n",
       "      <th>2519</th>\n",
       "      <td>excellent product strong work excellent condit...</td>\n",
       "      <td>0.703</td>\n",
       "    </tr>\n",
       "    <tr>\n",
       "      <th>2854</th>\n",
       "      <td>excellent string beautiful solid tone buzzing</td>\n",
       "      <td>0.697</td>\n",
       "    </tr>\n",
       "    <tr>\n",
       "      <th>10256</th>\n",
       "      <td>great thank</td>\n",
       "      <td>0.688</td>\n",
       "    </tr>\n",
       "    <tr>\n",
       "      <th>1192</th>\n",
       "      <td>easy pack easy instrument light weight sturdy ...</td>\n",
       "      <td>0.683</td>\n",
       "    </tr>\n",
       "  </tbody>\n",
       "</table>\n",
       "</div>"
      ],
      "text/plain": [
       "                                                 reviews    pos\n",
       "5945   nice good fine great fantastic love nice good ...  0.956\n",
       "7509                          nice awesome cool ido love  0.755\n",
       "1481   great great great great great great great grea...  0.746\n",
       "7605   great strap nice comfort nice pricefit nice fe...  0.717\n",
       "666    love thing action great sound good easy play r...  0.716\n",
       "7934                          great microphone good rice  0.709\n",
       "2519   excellent product strong work excellent condit...  0.703\n",
       "2854       excellent string beautiful solid tone buzzing  0.697\n",
       "10256                                        great thank  0.688\n",
       "1192   easy pack easy instrument light weight sturdy ...  0.683"
      ]
     },
     "execution_count": 71,
     "metadata": {},
     "output_type": "execute_result"
    }
   ],
   "source": [
    "# highest positive sentiment reviews (with more than 5 words)\n",
    "df[df['nb_words'] >= 5].sort_values('pos', ascending = False)[['reviews', 'pos']].head(10)\n"
   ]
  },
  {
   "cell_type": "markdown",
   "metadata": {},
   "source": [
    "The most positive reviews indeed correspond to some good feedbacks.\n",
    "\n"
   ]
  },
  {
   "cell_type": "code",
   "execution_count": 77,
   "metadata": {},
   "outputs": [
    {
     "data": {
      "text/html": [
       "<div>\n",
       "<style scoped>\n",
       "    .dataframe tbody tr th:only-of-type {\n",
       "        vertical-align: middle;\n",
       "    }\n",
       "\n",
       "    .dataframe tbody tr th {\n",
       "        vertical-align: top;\n",
       "    }\n",
       "\n",
       "    .dataframe thead th {\n",
       "        text-align: right;\n",
       "    }\n",
       "</style>\n",
       "<table border=\"1\" class=\"dataframe\">\n",
       "  <thead>\n",
       "    <tr style=\"text-align: right;\">\n",
       "      <th></th>\n",
       "      <th>reviews</th>\n",
       "      <th>neg</th>\n",
       "    </tr>\n",
       "  </thead>\n",
       "  <tbody>\n",
       "    <tr>\n",
       "      <th>2424</th>\n",
       "      <td>cable less month disappointed quality</td>\n",
       "      <td>0.466</td>\n",
       "    </tr>\n",
       "    <tr>\n",
       "      <th>1781</th>\n",
       "      <td>problem able use abuse</td>\n",
       "      <td>0.433</td>\n",
       "    </tr>\n",
       "    <tr>\n",
       "      <th>8802</th>\n",
       "      <td>tank couple week time trouble shoot sure compo...</td>\n",
       "      <td>0.433</td>\n",
       "    </tr>\n",
       "    <tr>\n",
       "      <th>8553</th>\n",
       "      <td>dull inept version tubescreamer flat</td>\n",
       "      <td>0.397</td>\n",
       "    </tr>\n",
       "    <tr>\n",
       "      <th>7165</th>\n",
       "      <td>gig frustrating guess pay</td>\n",
       "      <td>0.387</td>\n",
       "    </tr>\n",
       "    <tr>\n",
       "      <th>3697</th>\n",
       "      <td>good nothing special couple review bad smell b...</td>\n",
       "      <td>0.365</td>\n",
       "    </tr>\n",
       "    <tr>\n",
       "      <th>9101</th>\n",
       "      <td>cool large inconvenient blue yeti</td>\n",
       "      <td>0.364</td>\n",
       "    </tr>\n",
       "    <tr>\n",
       "      <th>5441</th>\n",
       "      <td>good ideal big problem tube amp twin reverb fe...</td>\n",
       "      <td>0.362</td>\n",
       "    </tr>\n",
       "    <tr>\n",
       "      <th>9697</th>\n",
       "      <td>dull uninspiring pedal don waste time boss dig...</td>\n",
       "      <td>0.362</td>\n",
       "    </tr>\n",
       "    <tr>\n",
       "      <th>3664</th>\n",
       "      <td>bad brother guitar year</td>\n",
       "      <td>0.355</td>\n",
       "    </tr>\n",
       "  </tbody>\n",
       "</table>\n",
       "</div>"
      ],
      "text/plain": [
       "                                                reviews    neg\n",
       "2424              cable less month disappointed quality  0.466\n",
       "1781                             problem able use abuse  0.433\n",
       "8802  tank couple week time trouble shoot sure compo...  0.433\n",
       "8553               dull inept version tubescreamer flat  0.397\n",
       "7165                          gig frustrating guess pay  0.387\n",
       "3697  good nothing special couple review bad smell b...  0.365\n",
       "9101                  cool large inconvenient blue yeti  0.364\n",
       "5441  good ideal big problem tube amp twin reverb fe...  0.362\n",
       "9697  dull uninspiring pedal don waste time boss dig...  0.362\n",
       "3664                            bad brother guitar year  0.355"
      ]
     },
     "execution_count": 77,
     "metadata": {},
     "output_type": "execute_result"
    }
   ],
   "source": [
    "# lowest negative sentiment reviews (with more than 5 words)\n",
    "df[df['nb_words'] >= 5].sort_values('neg', ascending = False)[['reviews', 'neg']].head(10)\n"
   ]
  },
  {
   "cell_type": "markdown",
   "metadata": {},
   "source": [
    "#### Lets plot sentiment distribution for positive and negative reviews"
   ]
  },
  {
   "cell_type": "code",
   "execution_count": 76,
   "metadata": {},
   "outputs": [
    {
     "data": {
      "image/png": "[encoded data removed]",
      "text/plain": [
       "<Figure size 864x432 with 1 Axes>"
      ]
     },
     "metadata": {
      "needs_background": "light"
     },
     "output_type": "display_data"
    }
   ],
   "source": [
    "import seaborn as sns\n",
    "\n",
    "for x in [0, 1]:\n",
    "    subset = df[df['rating'] == x]\n",
    "    \n",
    "    # Draw the density plot\n",
    "    if x == 1:\n",
    "        label = 'Positive reviews'\n",
    "    else:\n",
    "        label = 'Negative reviews'\n",
    "    sns.distplot(subset['compound'], hist = False, label = label)"
   ]
  },
  {
   "cell_type": "markdown",
   "metadata": {},
   "source": [
    "The above graph shows the distribution of the reviews sentiments among good reviews and bad ones. We can see that good reviews are for most of them considered as very positive by Vader."
   ]
  },
  {
   "cell_type": "markdown",
   "metadata": {},
   "source": [
    "## Oversampling to eliminate bias\n",
    "\n",
    "Despite the advantage of balancing classes, these techniques also have their weaknesses (there is no free lunch). The simplest implementation of over-sampling is to duplicate random records from the minority class, which can cause overfitting.\n",
    "\n",
    "In this case, we would over-sample because under-sampling can cause loss of information because we have so few reviews with negative rating."
   ]
  },
  {
   "cell_type": "code",
   "execution_count": 78,
   "metadata": {},
   "outputs": [],
   "source": [
    "# Determine the max size of the larger rating group\n",
    "max_size = df['rating'].value_counts().max()"
   ]
  },
  {
   "cell_type": "code",
   "execution_count": 79,
   "metadata": {},
   "outputs": [
    {
     "name": "stdout",
     "output_type": "stream",
     "text": [
      "Max size of the rating: 8998\n"
     ]
    }
   ],
   "source": [
    "max_size\n",
    "print('Max size of the rating:', max_size)"
   ]
  },
  {
   "cell_type": "code",
   "execution_count": 89,
   "metadata": {},
   "outputs": [
    {
     "data": {
      "text/html": [
       "<div>\n",
       "<style scoped>\n",
       "    .dataframe tbody tr th:only-of-type {\n",
       "        vertical-align: middle;\n",
       "    }\n",
       "\n",
       "    .dataframe tbody tr th {\n",
       "        vertical-align: top;\n",
       "    }\n",
       "\n",
       "    .dataframe thead th {\n",
       "        text-align: right;\n",
       "    }\n",
       "</style>\n",
       "<table border=\"1\" class=\"dataframe\">\n",
       "  <thead>\n",
       "    <tr style=\"text-align: right;\">\n",
       "      <th></th>\n",
       "      <th>asin</th>\n",
       "      <th>helpful</th>\n",
       "      <th>overall</th>\n",
       "      <th>reviewText</th>\n",
       "      <th>reviewTime</th>\n",
       "      <th>reviewerID</th>\n",
       "      <th>reviewerName</th>\n",
       "      <th>summary</th>\n",
       "      <th>unixReviewTime</th>\n",
       "      <th>rating</th>\n",
       "      <th>...</th>\n",
       "      <th>word_yamaha</th>\n",
       "      <th>word_year</th>\n",
       "      <th>word_yellow</th>\n",
       "      <th>word_yesterday</th>\n",
       "      <th>word_yeti</th>\n",
       "      <th>word_young</th>\n",
       "      <th>word_youtube</th>\n",
       "      <th>word_zipper</th>\n",
       "      <th>word_zone</th>\n",
       "      <th>word_zoom</th>\n",
       "    </tr>\n",
       "  </thead>\n",
       "  <tbody>\n",
       "    <tr>\n",
       "      <th>0</th>\n",
       "      <td>1384719342</td>\n",
       "      <td>[0, 0]</td>\n",
       "      <td>5</td>\n",
       "      <td>Not much write about here but does exactly wha...</td>\n",
       "      <td>02 28, 2014</td>\n",
       "      <td>A2IBPI20UZIR0U</td>\n",
       "      <td>cassandra tu \"Yeah, well, that's just like, u...</td>\n",
       "      <td>good</td>\n",
       "      <td>1393545600</td>\n",
       "      <td>1</td>\n",
       "      <td>...</td>\n",
       "      <td>0.0</td>\n",
       "      <td>0.0</td>\n",
       "      <td>0.0</td>\n",
       "      <td>0.0</td>\n",
       "      <td>0.0</td>\n",
       "      <td>0.0</td>\n",
       "      <td>0.0</td>\n",
       "      <td>0.0</td>\n",
       "      <td>0.0</td>\n",
       "      <td>0.0</td>\n",
       "    </tr>\n",
       "    <tr>\n",
       "      <th>1</th>\n",
       "      <td>1384719342</td>\n",
       "      <td>[13, 14]</td>\n",
       "      <td>5</td>\n",
       "      <td>The product does exactly should and quite affo...</td>\n",
       "      <td>03 16, 2013</td>\n",
       "      <td>A14VAT5EAX3D9S</td>\n",
       "      <td>Jake</td>\n",
       "      <td>Jake</td>\n",
       "      <td>1363392000</td>\n",
       "      <td>1</td>\n",
       "      <td>...</td>\n",
       "      <td>0.0</td>\n",
       "      <td>0.0</td>\n",
       "      <td>0.0</td>\n",
       "      <td>0.0</td>\n",
       "      <td>0.0</td>\n",
       "      <td>0.0</td>\n",
       "      <td>0.0</td>\n",
       "      <td>0.0</td>\n",
       "      <td>0.0</td>\n",
       "      <td>0.0</td>\n",
       "    </tr>\n",
       "    <tr>\n",
       "      <th>2</th>\n",
       "      <td>1384719342</td>\n",
       "      <td>[1, 1]</td>\n",
       "      <td>5</td>\n",
       "      <td>The primary job this device block the breath t...</td>\n",
       "      <td>08 28, 2013</td>\n",
       "      <td>A195EZSQDW3E21</td>\n",
       "      <td>Rick Bennette \"Rick Bennette\"</td>\n",
       "      <td>It Does The Job Well</td>\n",
       "      <td>1377648000</td>\n",
       "      <td>1</td>\n",
       "      <td>...</td>\n",
       "      <td>0.0</td>\n",
       "      <td>0.0</td>\n",
       "      <td>0.0</td>\n",
       "      <td>0.0</td>\n",
       "      <td>0.0</td>\n",
       "      <td>0.0</td>\n",
       "      <td>0.0</td>\n",
       "      <td>0.0</td>\n",
       "      <td>0.0</td>\n",
       "      <td>0.0</td>\n",
       "    </tr>\n",
       "    <tr>\n",
       "      <th>3</th>\n",
       "      <td>1384719342</td>\n",
       "      <td>[0, 0]</td>\n",
       "      <td>5</td>\n",
       "      <td>Nice windscreen protects MXL mic and prevents ...</td>\n",
       "      <td>02 14, 2014</td>\n",
       "      <td>A2C00NNG1ZQQG2</td>\n",
       "      <td>RustyBill \"Sunday Rocker\"</td>\n",
       "      <td>GOOD WINDSCREEN FOR THE MONEY</td>\n",
       "      <td>1392336000</td>\n",
       "      <td>1</td>\n",
       "      <td>...</td>\n",
       "      <td>0.0</td>\n",
       "      <td>0.0</td>\n",
       "      <td>0.0</td>\n",
       "      <td>0.0</td>\n",
       "      <td>0.0</td>\n",
       "      <td>0.0</td>\n",
       "      <td>0.0</td>\n",
       "      <td>0.0</td>\n",
       "      <td>0.0</td>\n",
       "      <td>0.0</td>\n",
       "    </tr>\n",
       "    <tr>\n",
       "      <th>4</th>\n",
       "      <td>1384719342</td>\n",
       "      <td>[0, 0]</td>\n",
       "      <td>5</td>\n",
       "      <td>This pop filter great looks and performs like ...</td>\n",
       "      <td>02 21, 2014</td>\n",
       "      <td>A94QU4C90B1AX</td>\n",
       "      <td>SEAN MASLANKA</td>\n",
       "      <td>No more pops when I record my vocals.</td>\n",
       "      <td>1392940800</td>\n",
       "      <td>1</td>\n",
       "      <td>...</td>\n",
       "      <td>0.0</td>\n",
       "      <td>0.0</td>\n",
       "      <td>0.0</td>\n",
       "      <td>0.0</td>\n",
       "      <td>0.0</td>\n",
       "      <td>0.0</td>\n",
       "      <td>0.0</td>\n",
       "      <td>0.0</td>\n",
       "      <td>0.0</td>\n",
       "      <td>0.0</td>\n",
       "    </tr>\n",
       "  </tbody>\n",
       "</table>\n",
       "<p>5 rows × 2274 columns</p>\n",
       "</div>"
      ],
      "text/plain": [
       "         asin   helpful  overall  \\\n",
       "0  1384719342    [0, 0]        5   \n",
       "1  1384719342  [13, 14]        5   \n",
       "2  1384719342    [1, 1]        5   \n",
       "3  1384719342    [0, 0]        5   \n",
       "4  1384719342    [0, 0]        5   \n",
       "\n",
       "                                          reviewText   reviewTime  \\\n",
       "0  Not much write about here but does exactly wha...  02 28, 2014   \n",
       "1  The product does exactly should and quite affo...  03 16, 2013   \n",
       "2  The primary job this device block the breath t...  08 28, 2013   \n",
       "3  Nice windscreen protects MXL mic and prevents ...  02 14, 2014   \n",
       "4  This pop filter great looks and performs like ...  02 21, 2014   \n",
       "\n",
       "       reviewerID                                      reviewerName  \\\n",
       "0  A2IBPI20UZIR0U  cassandra tu \"Yeah, well, that's just like, u...   \n",
       "1  A14VAT5EAX3D9S                                              Jake   \n",
       "2  A195EZSQDW3E21                     Rick Bennette \"Rick Bennette\"   \n",
       "3  A2C00NNG1ZQQG2                         RustyBill \"Sunday Rocker\"   \n",
       "4   A94QU4C90B1AX                                     SEAN MASLANKA   \n",
       "\n",
       "                                 summary  unixReviewTime  rating    ...      \\\n",
       "0                                   good      1393545600       1    ...       \n",
       "1                                   Jake      1363392000       1    ...       \n",
       "2                   It Does The Job Well      1377648000       1    ...       \n",
       "3          GOOD WINDSCREEN FOR THE MONEY      1392336000       1    ...       \n",
       "4  No more pops when I record my vocals.      1392940800       1    ...       \n",
       "\n",
       "   word_yamaha word_year  word_yellow  word_yesterday  word_yeti  word_young  \\\n",
       "0          0.0       0.0          0.0             0.0        0.0         0.0   \n",
       "1          0.0       0.0          0.0             0.0        0.0         0.0   \n",
       "2          0.0       0.0          0.0             0.0        0.0         0.0   \n",
       "3          0.0       0.0          0.0             0.0        0.0         0.0   \n",
       "4          0.0       0.0          0.0             0.0        0.0         0.0   \n",
       "\n",
       "   word_youtube  word_zipper  word_zone  word_zoom  \n",
       "0           0.0          0.0        0.0        0.0  \n",
       "1           0.0          0.0        0.0        0.0  \n",
       "2           0.0          0.0        0.0        0.0  \n",
       "3           0.0          0.0        0.0        0.0  \n",
       "4           0.0          0.0        0.0        0.0  \n",
       "\n",
       "[5 rows x 2274 columns]"
      ]
     },
     "execution_count": 89,
     "metadata": {},
     "output_type": "execute_result"
    }
   ],
   "source": [
    "# Lets do some oversampling to take care of the clas imbalance and create a subset.\n",
    "lst = [df]\n",
    "for class_index, group in df.groupby('rating'):\n",
    "    lst.append(group.sample(max_size-len(group), replace=True))\n",
    "df_subset = pd.concat(lst)\n",
    "df_subset.head()"
   ]
  },
  {
   "cell_type": "code",
   "execution_count": 81,
   "metadata": {},
   "outputs": [
    {
     "data": {
      "text/plain": [
       "1    8998\n",
       "0    8998\n",
       "Name: rating, dtype: int64"
      ]
     },
     "execution_count": 81,
     "metadata": {},
     "output_type": "execute_result"
    }
   ],
   "source": [
    "# Number of positive and neative reviews after the oversampling\n",
    "df_subset['rating'].value_counts()"
   ]
  },
  {
   "cell_type": "code",
   "execution_count": 90,
   "metadata": {},
   "outputs": [
    {
     "name": "stdout",
     "output_type": "stream",
     "text": [
      "Negative Rating: 8998\n",
      "Positive Rating: 8998\n",
      "Proportion: 1.0 : 1\n"
     ]
    },
    {
     "data": {
      "image/png": "[encoded data removed]",
      "text/plain": [
       "<Figure size 864x432 with 1 Axes>"
      ]
     },
     "metadata": {
      "needs_background": "light"
     },
     "output_type": "display_data"
    }
   ],
   "source": [
    "# Lets plot the ratings after the oversampling\n",
    "\n",
    "rating_count = df_subset.rating.value_counts()\n",
    "\n",
    "print('Negative Rating:', rating_count[0])\n",
    "print('Positive Rating:', rating_count[1])\n",
    "print('Proportion:', round(rating_count[0] / rating_count[1], 2), ': 1')\n",
    "\n",
    "rating_count.plot(kind='bar', title='Count (rating)');"
   ]
  },
  {
   "cell_type": "code",
   "execution_count": 93,
   "metadata": {},
   "outputs": [
    {
     "data": {
      "text/html": [
       "<div>\n",
       "<style scoped>\n",
       "    .dataframe tbody tr th:only-of-type {\n",
       "        vertical-align: middle;\n",
       "    }\n",
       "\n",
       "    .dataframe tbody tr th {\n",
       "        vertical-align: top;\n",
       "    }\n",
       "\n",
       "    .dataframe thead th {\n",
       "        text-align: right;\n",
       "    }\n",
       "</style>\n",
       "<table border=\"1\" class=\"dataframe\">\n",
       "  <thead>\n",
       "    <tr style=\"text-align: right;\">\n",
       "      <th></th>\n",
       "      <th>reviewText</th>\n",
       "      <th>rating</th>\n",
       "    </tr>\n",
       "  </thead>\n",
       "  <tbody>\n",
       "    <tr>\n",
       "      <th>0</th>\n",
       "      <td>Not much write about here but does exactly wha...</td>\n",
       "      <td>1</td>\n",
       "    </tr>\n",
       "    <tr>\n",
       "      <th>1</th>\n",
       "      <td>The product does exactly should and quite affo...</td>\n",
       "      <td>1</td>\n",
       "    </tr>\n",
       "    <tr>\n",
       "      <th>2</th>\n",
       "      <td>The primary job this device block the breath t...</td>\n",
       "      <td>1</td>\n",
       "    </tr>\n",
       "    <tr>\n",
       "      <th>3</th>\n",
       "      <td>Nice windscreen protects MXL mic and prevents ...</td>\n",
       "      <td>1</td>\n",
       "    </tr>\n",
       "    <tr>\n",
       "      <th>4</th>\n",
       "      <td>This pop filter great looks and performs like ...</td>\n",
       "      <td>1</td>\n",
       "    </tr>\n",
       "  </tbody>\n",
       "</table>\n",
       "</div>"
      ],
      "text/plain": [
       "                                          reviewText  rating\n",
       "0  Not much write about here but does exactly wha...       1\n",
       "1  The product does exactly should and quite affo...       1\n",
       "2  The primary job this device block the breath t...       1\n",
       "3  Nice windscreen protects MXL mic and prevents ...       1\n",
       "4  This pop filter great looks and performs like ...       1"
      ]
     },
     "execution_count": 93,
     "metadata": {},
     "output_type": "execute_result"
    }
   ],
   "source": [
    "# Lets trim down the subset to the values we would focus on. The review and ratings\n",
    "df_subset = df_subset[['reviewText','rating']]\n",
    "df_subset.head()"
   ]
  },
  {
   "cell_type": "markdown",
   "metadata": {},
   "source": [
    "## Modeling \n",
    "\n",
    "Several modeling techniques would be used to determine which model produces the best results\n",
    "\n",
    "#### Multinomial Naive Bayes \n",
    "\n",
    "In this model we will create a feature using CountVectorizer"
   ]
  },
  {
   "cell_type": "code",
   "execution_count": 94,
   "metadata": {},
   "outputs": [],
   "source": [
    "# generate document term matrix by using scikit-learn's CountVectorizer\n",
    "\n",
    "from sklearn.feature_extraction.text import CountVectorizer\n",
    "from nltk.tokenize import RegexpTokenizer\n",
    "\n",
    "#tokenizer to remove unwanted elements from out data like symbols and numbers\n",
    "token = RegexpTokenizer(r'[a-zA-Z0-9]+')\n",
    "vect = CountVectorizer(lowercase=True,stop_words='english',ngram_range = (1,1),tokenizer = token.tokenize)\n",
    "text_counts= vect.fit_transform(df_subset['reviewText'])"
   ]
  },
  {
   "cell_type": "code",
   "execution_count": 95,
   "metadata": {},
   "outputs": [],
   "source": [
    "from sklearn.model_selection import train_test_split\n",
    "# Split data into training and test sets\n",
    "\n",
    "X_train, X_test, y_train, y_test = train_test_split(text_counts,\n",
    "                                                    df_subset['rating'], test_size=0.3, random_state=1)"
   ]
  },
  {
   "cell_type": "code",
   "execution_count": 96,
   "metadata": {},
   "outputs": [
    {
     "name": "stdout",
     "output_type": "stream",
     "text": [
      "MultinomialNB Accuracy: 0.9525838118170031\n"
     ]
    }
   ],
   "source": [
    "# fit your model on a train set using fit() and perform prediction on the test set using predict().\n",
    "\n",
    "from sklearn.naive_bayes import MultinomialNB\n",
    "\n",
    "#Import scikit-learn metrics module for accuracy calculation\n",
    "from sklearn import metrics\n",
    "\n",
    "# Model Generation Using Multinomial Naive Bayes\n",
    "clf = MultinomialNB().fit(X_train, y_train)\n",
    "predicted= clf.predict(X_test)\n",
    "print(\"MultinomialNB Accuracy:\",metrics.accuracy_score(y_test, predicted))"
   ]
  },
  {
   "cell_type": "markdown",
   "metadata": {},
   "source": [
    "We got a classification rate of 95% using CountVector(or BoW), which is considered as pretty good accuracy."
   ]
  },
  {
   "cell_type": "markdown",
   "metadata": {},
   "source": [
    "#### Multinomial Naive Bayes\n",
    "\n",
    "In this model we will create a feature using TF-IDF"
   ]
  },
  {
   "cell_type": "code",
   "execution_count": 97,
   "metadata": {},
   "outputs": [],
   "source": [
    "from sklearn.feature_extraction.text import TfidfVectorizer\n",
    "tf=TfidfVectorizer()\n",
    "text_tf= tf.fit_transform(df_subset['reviewText'])"
   ]
  },
  {
   "cell_type": "code",
   "execution_count": 98,
   "metadata": {},
   "outputs": [],
   "source": [
    "# Split data into training and test sets\n",
    "\n",
    "X_train, X_test, y_train, y_test = train_test_split(text_tf,\n",
    "                                                    df_subset['rating'], test_size=0.3, random_state=1)"
   ]
  },
  {
   "cell_type": "code",
   "execution_count": 99,
   "metadata": {},
   "outputs": [
    {
     "name": "stdout",
     "output_type": "stream",
     "text": [
      "MultinomialNB Accuracy: 0.9511020559362845\n"
     ]
    }
   ],
   "source": [
    "# Model Building and Evaluation (TF-IDF)\n",
    "clf = MultinomialNB().fit(X_train, y_train)\n",
    "predicted= clf.predict(X_test)\n",
    "print(\"MultinomialNB Accuracy:\",metrics.accuracy_score(y_test, predicted))"
   ]
  },
  {
   "cell_type": "markdown",
   "metadata": {},
   "source": [
    "We got a classification rate of 95% usingTF-IDF, which is considered as pretty good accuracy."
   ]
  },
  {
   "cell_type": "markdown",
   "metadata": {},
   "source": [
    "#### Conducting a Logistic Regression\n",
    "\n",
    "We are going to train test and split the newly created over-sampled dataset"
   ]
  },
  {
   "cell_type": "code",
   "execution_count": 100,
   "metadata": {},
   "outputs": [
    {
     "name": "stdout",
     "output_type": "stream",
     "text": [
      "Length of X_train is: 12597\n",
      "Length of X_test is: 5399\n",
      "Length of y_train is: 12597\n",
      "Length of y_test is: 5399\n"
     ]
    }
   ],
   "source": [
    "from sklearn.model_selection import train_test_split\n",
    "\n",
    "X_train, X_test, y_train, y_test = train_test_split(df_subset['reviewText'],\n",
    "                                                    df_subset['rating'], test_size=0.3, random_state=1)\n",
    "\n",
    "print(\"Length of X_train is: {X_train}\".format(X_train = len(X_train)))\n",
    "print(\"Length of X_test is: {X_test}\".format(X_test = len(X_test)))\n",
    "print(\"Length of y_train is: {y_train}\".format(y_train = len(y_train)))\n",
    "print(\"Length of y_test is: {y_test}\".format(y_test = len(y_test)))"
   ]
  },
  {
   "cell_type": "code",
   "execution_count": 101,
   "metadata": {},
   "outputs": [
    {
     "data": {
      "text/plain": [
       "38792"
      ]
     },
     "execution_count": 101,
     "metadata": {},
     "output_type": "execute_result"
    }
   ],
   "source": [
    "vect = CountVectorizer(min_df=5, ngram_range=(1,2)).fit(X_train)\n",
    "\n",
    "X_train_vectorized = vect.transform(X_train)\n",
    "\n",
    "len(vect.get_feature_names())"
   ]
  },
  {
   "cell_type": "code",
   "execution_count": 102,
   "metadata": {},
   "outputs": [
    {
     "name": "stdout",
     "output_type": "stream",
     "text": [
      "ROC_AUC:  0.9957720588235295\n"
     ]
    }
   ],
   "source": [
    "from sklearn.linear_model import LogisticRegression\n",
    "from sklearn.metrics import roc_auc_score\n",
    "\n",
    "model = LogisticRegression()\n",
    "model.fit(X_train_vectorized, y_train)\n",
    "\n",
    "predictions = model.predict(vect.transform(X_test))\n",
    "\n",
    "print('ROC_AUC: ', roc_auc_score(y_test, predictions))"
   ]
  },
  {
   "cell_type": "markdown",
   "metadata": {},
   "source": [
    "We have a receiver operating characteristic score of 99.6%"
   ]
  },
  {
   "cell_type": "code",
   "execution_count": 103,
   "metadata": {},
   "outputs": [
    {
     "name": "stdout",
     "output_type": "stream",
     "text": [
      "Sensitivity/Recall for Logistic Regression Model 1 : 0.99\n",
      "F1 Score for Logistic Regression Model 1 : 1.0\n"
     ]
    }
   ],
   "source": [
    "# Lets get the F1 score and the recall score\n",
    "from sklearn.metrics import f1_score, recall_score\n",
    "f1_score = round(f1_score(y_test, predictions), 2)\n",
    "recall_score = round(recall_score(y_test, predictions), 2)\n",
    "print(\"Sensitivity/Recall for Logistic Regression Model 1 : {recall_score}\".format(recall_score = recall_score))\n",
    "print(\"F1 Score for Logistic Regression Model 1 : {f1_score}\".format(f1_score = f1_score))"
   ]
  },
  {
   "cell_type": "markdown",
   "metadata": {},
   "source": [
    "## Confusion matrix\n",
    "\n",
    "An interesting way to evaluate the results is by means of a confusion matrix, which shows the correct and incorrect predictions for each class. In the first row, the first column indicates how many classes 0 were predicted correctly, and the second column, how many classes 0 were predicted as 1. In the second row, we note that all class 1 entries were erroneously predicted as class 0.\n",
    "\n",
    "Therefore, the higher the diagonal values of the confusion matrix the better, indicating many correct predictions"
   ]
  },
  {
   "cell_type": "code",
   "execution_count": 104,
   "metadata": {},
   "outputs": [
    {
     "name": "stdout",
     "output_type": "stream",
     "text": [
      "Confusion matrix:\n",
      " [[2679    0]\n",
      " [  23 2697]]\n"
     ]
    },
    {
     "data": {
      "image/png": "[encoded data removed]",
      "text/plain": [
       "<Figure size 864x432 with 2 Axes>"
      ]
     },
     "metadata": {
      "needs_background": "light"
     },
     "output_type": "display_data"
    }
   ],
   "source": [
    "from sklearn.metrics import confusion_matrix\n",
    "from matplotlib import pyplot as plt\n",
    "\n",
    "conf_mat = confusion_matrix(y_true=y_test, y_pred=predictions)\n",
    "print('Confusion matrix:\\n', conf_mat)\n",
    "\n",
    "labels = ['Rating 0', 'Rating 1']\n",
    "fig = plt.figure()\n",
    "ax = fig.add_subplot(111)\n",
    "cax = ax.matshow(conf_mat, cmap=plt.cm.Blues)\n",
    "fig.colorbar(cax)\n",
    "ax.set_xticklabels([''] + labels)\n",
    "ax.set_yticklabels([''] + labels)\n",
    "plt.xlabel('Predicted')\n",
    "plt.ylabel('Expected')\n",
    "plt.show()"
   ]
  },
  {
   "cell_type": "markdown",
   "metadata": {},
   "source": [
    "There are 5379 reviews that are accurately classified and 23 reviews that are shown as False Negatives "
   ]
  },
  {
   "cell_type": "markdown",
   "metadata": {},
   "source": [
    "## Using Undersampling for comparison"
   ]
  },
  {
   "cell_type": "code",
   "execution_count": 57,
   "metadata": {},
   "outputs": [
    {
     "data": {
      "text/html": [
       "<div>\n",
       "<style scoped>\n",
       "    .dataframe tbody tr th:only-of-type {\n",
       "        vertical-align: middle;\n",
       "    }\n",
       "\n",
       "    .dataframe tbody tr th {\n",
       "        vertical-align: top;\n",
       "    }\n",
       "\n",
       "    .dataframe thead th {\n",
       "        text-align: right;\n",
       "    }\n",
       "</style>\n",
       "<table border=\"1\" class=\"dataframe\">\n",
       "  <thead>\n",
       "    <tr style=\"text-align: right;\">\n",
       "      <th></th>\n",
       "      <th>asin</th>\n",
       "      <th>helpful</th>\n",
       "      <th>overall</th>\n",
       "      <th>reviewText</th>\n",
       "      <th>reviewTime</th>\n",
       "      <th>reviewerID</th>\n",
       "      <th>reviewerName</th>\n",
       "      <th>summary</th>\n",
       "      <th>unixReviewTime</th>\n",
       "      <th>rating</th>\n",
       "      <th>length</th>\n",
       "      <th>reviews</th>\n",
       "    </tr>\n",
       "  </thead>\n",
       "  <tbody>\n",
       "    <tr>\n",
       "      <th>15</th>\n",
       "      <td>B00005ML71</td>\n",
       "      <td>[0, 0]</td>\n",
       "      <td>2</td>\n",
       "      <td>bought this use with keyboard wasn really awar...</td>\n",
       "      <td>08 17, 2013</td>\n",
       "      <td>A2PD27UKAD3Q00</td>\n",
       "      <td>Wilhelmina Zeitgeist \"coolartsybabe\"</td>\n",
       "      <td>Definitely Not For The Seasoned Piano Player</td>\n",
       "      <td>1376697600</td>\n",
       "      <td>0</td>\n",
       "      <td>623</td>\n",
       "      <td>use keyboard aware option pedal acoustic piano...</td>\n",
       "    </tr>\n",
       "    <tr>\n",
       "      <th>50</th>\n",
       "      <td>B000068NW5</td>\n",
       "      <td>[2, 2]</td>\n",
       "      <td>2</td>\n",
       "      <td>didn expect this cable thin easily the thickne...</td>\n",
       "      <td>07 6, 2011</td>\n",
       "      <td>A12ABV9NU02O29</td>\n",
       "      <td>C. Longo</td>\n",
       "      <td>Cannot recommend</td>\n",
       "      <td>1309910400</td>\n",
       "      <td>0</td>\n",
       "      <td>387</td>\n",
       "      <td>cable thin thickness guitar cable sure long te...</td>\n",
       "    </tr>\n",
       "    <tr>\n",
       "      <th>52</th>\n",
       "      <td>B000068NW5</td>\n",
       "      <td>[0, 0]</td>\n",
       "      <td>1</td>\n",
       "      <td>hums crackles and think having problems with e...</td>\n",
       "      <td>02 9, 2014</td>\n",
       "      <td>A1L7M2JXN4EZCR</td>\n",
       "      <td>David G</td>\n",
       "      <td>I have bought many cables and this one is the ...</td>\n",
       "      <td>1391904000</td>\n",
       "      <td>0</td>\n",
       "      <td>245</td>\n",
       "      <td>hum crackle problem equipment cord problem hos...</td>\n",
       "    </tr>\n",
       "    <tr>\n",
       "      <th>89</th>\n",
       "      <td>B000068NW5</td>\n",
       "      <td>[0, 0]</td>\n",
       "      <td>1</td>\n",
       "      <td>pro cheapo and hated this thing They noisy and...</td>\n",
       "      <td>03 14, 2014</td>\n",
       "      <td>A3UD50M7M72150</td>\n",
       "      <td>synthezatory</td>\n",
       "      <td>Crap</td>\n",
       "      <td>1394755200</td>\n",
       "      <td>0</td>\n",
       "      <td>145</td>\n",
       "      <td>pro cheapo thing cable cheap gummy drop buck s...</td>\n",
       "    </tr>\n",
       "    <tr>\n",
       "      <th>98</th>\n",
       "      <td>B000068NZC</td>\n",
       "      <td>[0, 0]</td>\n",
       "      <td>2</td>\n",
       "      <td>bought this for Canon Vixia Video Camera and S...</td>\n",
       "      <td>09 16, 2013</td>\n",
       "      <td>A1W3CEEQBJ4GTN</td>\n",
       "      <td>S. Marchuk</td>\n",
       "      <td>Measure your damned wires before sending them...</td>\n",
       "      <td>1379289600</td>\n",
       "      <td>0</td>\n",
       "      <td>974</td>\n",
       "      <td>canon vixia video camera shotgun mic wire perf...</td>\n",
       "    </tr>\n",
       "  </tbody>\n",
       "</table>\n",
       "</div>"
      ],
      "text/plain": [
       "          asin helpful  overall  \\\n",
       "15  B00005ML71  [0, 0]        2   \n",
       "50  B000068NW5  [2, 2]        2   \n",
       "52  B000068NW5  [0, 0]        1   \n",
       "89  B000068NW5  [0, 0]        1   \n",
       "98  B000068NZC  [0, 0]        2   \n",
       "\n",
       "                                           reviewText   reviewTime  \\\n",
       "15  bought this use with keyboard wasn really awar...  08 17, 2013   \n",
       "50  didn expect this cable thin easily the thickne...   07 6, 2011   \n",
       "52  hums crackles and think having problems with e...   02 9, 2014   \n",
       "89  pro cheapo and hated this thing They noisy and...  03 14, 2014   \n",
       "98  bought this for Canon Vixia Video Camera and S...  09 16, 2013   \n",
       "\n",
       "        reviewerID                          reviewerName  \\\n",
       "15  A2PD27UKAD3Q00  Wilhelmina Zeitgeist \"coolartsybabe\"   \n",
       "50  A12ABV9NU02O29                              C. Longo   \n",
       "52  A1L7M2JXN4EZCR                               David G   \n",
       "89  A3UD50M7M72150                          synthezatory   \n",
       "98  A1W3CEEQBJ4GTN                            S. Marchuk   \n",
       "\n",
       "                                              summary  unixReviewTime  rating  \\\n",
       "15       Definitely Not For The Seasoned Piano Player      1376697600       0   \n",
       "50                                   Cannot recommend      1309910400       0   \n",
       "52  I have bought many cables and this one is the ...      1391904000       0   \n",
       "89                                               Crap      1394755200       0   \n",
       "98   Measure your damned wires before sending them...      1379289600       0   \n",
       "\n",
       "    length                                            reviews  \n",
       "15     623  use keyboard aware option pedal acoustic piano...  \n",
       "50     387  cable thin thickness guitar cable sure long te...  \n",
       "52     245  hum crackle problem equipment cord problem hos...  \n",
       "89     145  pro cheapo thing cable cheap gummy drop buck s...  \n",
       "98     974  canon vixia video camera shotgun mic wire perf...  "
      ]
     },
     "execution_count": 57,
     "metadata": {},
     "output_type": "execute_result"
    }
   ],
   "source": [
    "# Find Number of samples which are Fraud\n",
    "p_rating = len(df[df['rating'] == 0])\n",
    "# Get indices of non fraud samples\n",
    "p_rating_indices = df[df.rating == 1].index\n",
    "# Random sample non fraud indices\n",
    "random_indices = np.random.choice(p_rating_indices,p_rating, replace=False)\n",
    "#Find the indices of fraud samples\n",
    "n_rating_indices = df[df.rating == 0].index\n",
    "# Concat fraud indices with sample non-fraud ones\n",
    "under_sample_indices = np.concatenate([n_rating_indices,random_indices])\n",
    "#Get Balance Dataframe\n",
    "under_sample = df.loc[under_sample_indices]\n",
    "under_sample.head()"
   ]
  },
  {
   "cell_type": "code",
   "execution_count": 58,
   "metadata": {},
   "outputs": [
    {
     "name": "stdout",
     "output_type": "stream",
     "text": [
      "Negative Rating : 465\n",
      "Positive Rating : 465\n",
      "Proportion: 1.0 : 1\n"
     ]
    },
    {
     "data": {
      "image/png": "[encoded data removed]",
      "text/plain": [
       "<Figure size 864x432 with 1 Axes>"
      ]
     },
     "metadata": {
      "needs_background": "light"
     },
     "output_type": "display_data"
    }
   ],
   "source": [
    "rating_count_under = under_sample.rating.value_counts()\n",
    "\n",
    "print('Negative Rating :', rating_count_under[0])\n",
    "print('Positive Rating :', rating_count_under[1])\n",
    "print('Proportion:', round(rating_count_under[0] / rating_count_under[1], 2), ': 1')\n",
    "\n",
    "rating_count_under.plot(kind='bar', title='Count (rating)');"
   ]
  },
  {
   "cell_type": "code",
   "execution_count": 59,
   "metadata": {},
   "outputs": [
    {
     "name": "stdout",
     "output_type": "stream",
     "text": [
      "Length of X_train is: 651\n",
      "Length of X_test is: 279\n",
      "Length of y_train is: 651\n",
      "Length of y_test is: 279\n"
     ]
    }
   ],
   "source": [
    "from sklearn.model_selection import train_test_split\n",
    "\n",
    "X_train_under, X_test_under, y_train_under, y_test_under = train_test_split(under_sample['reviewText'],\n",
    "                                                    under_sample['rating'], test_size=0.3, random_state=1)\n",
    "\n",
    "print(\"Length of X_train is: {X_train_under}\".format(X_train_under = len(X_train_under)))\n",
    "print(\"Length of X_test is: {X_test_under}\".format(X_test_under = len(X_test_under)))\n",
    "print(\"Length of y_train is: {y_train_under}\".format(y_train_under = len(y_train_under)))\n",
    "print(\"Length of y_test is: {y_test_under}\".format(y_test_under = len(y_test_under)))"
   ]
  },
  {
   "cell_type": "code",
   "execution_count": 60,
   "metadata": {},
   "outputs": [
    {
     "data": {
      "text/plain": [
       "38787"
      ]
     },
     "execution_count": 60,
     "metadata": {},
     "output_type": "execute_result"
    }
   ],
   "source": [
    "vect = CountVectorizer(min_df=5, ngram_range=(1,2)).fit(X_train)\n",
    "\n",
    "X_train_vectorized_under= vect.transform(X_train_under)\n",
    "\n",
    "len(vect.get_feature_names())"
   ]
  },
  {
   "cell_type": "code",
   "execution_count": 61,
   "metadata": {},
   "outputs": [
    {
     "name": "stdout",
     "output_type": "stream",
     "text": [
      "ROC_AUC:  0.7997214772023933\n"
     ]
    }
   ],
   "source": [
    "from sklearn.linear_model import LogisticRegression\n",
    "from sklearn.metrics import roc_auc_score\n",
    "\n",
    "model_under = LogisticRegression()\n",
    "model_under.fit(X_train_vectorized_under, y_train_under)\n",
    "\n",
    "predictions_under = model_under.predict(vect.transform(X_test_under))\n",
    "\n",
    "print('ROC_AUC: ', roc_auc_score(y_test_under, predictions_under))"
   ]
  },
  {
   "cell_type": "code",
   "execution_count": 62,
   "metadata": {},
   "outputs": [
    {
     "name": "stdout",
     "output_type": "stream",
     "text": [
      "Sensitivity/Recall for Logistic Regression Model 1 : 0.85\n",
      "F1 Score for Logistic Regression Model 1 : 0.82\n"
     ]
    }
   ],
   "source": [
    "from sklearn.metrics import f1_score, recall_score\n",
    "f1_score_under = round(f1_score(y_test_under, predictions_under), 2)\n",
    "recall_score_under = round(recall_score(y_test_under, predictions_under), 2)\n",
    "print(\"Sensitivity/Recall for Logistic Regression Model 1 : {recall_score_under}\".format(recall_score_under = recall_score_under))\n",
    "print(\"F1 Score for Logistic Regression Model 1 : {f1_score_under}\".format(f1_score_under = f1_score_under))"
   ]
  },
  {
   "cell_type": "markdown",
   "metadata": {},
   "source": [
    "As anticipated, under sampling causes loss of information because we have so few reviews with negative rating. This is reflected in the ROC score is 80%, and a Recall and F1 score of 0.85 and 0.82 respectively. "
   ]
  },
  {
   "cell_type": "markdown",
   "metadata": {},
   "source": [
    "### Confusion Matrix for the Undersampled Dataset"
   ]
  },
  {
   "cell_type": "code",
   "execution_count": 63,
   "metadata": {},
   "outputs": [
    {
     "name": "stdout",
     "output_type": "stream",
     "text": [
      "Confusion matrix:\n",
      " [[ 98  33]\n",
      " [ 22 126]]\n"
     ]
    },
    {
     "data": {
      "image/png": "[encoded data removed]",
      "text/plain": [
       "<Figure size 864x432 with 2 Axes>"
      ]
     },
     "metadata": {
      "needs_background": "light"
     },
     "output_type": "display_data"
    }
   ],
   "source": [
    "from sklearn.metrics import confusion_matrix\n",
    "from matplotlib import pyplot as plt\n",
    "\n",
    "conf_mat = confusion_matrix(y_true=y_test_under, y_pred=predictions_under)\n",
    "print('Confusion matrix:\\n', conf_mat)\n",
    "\n",
    "labels = ['Rating 0', 'Rating 1']\n",
    "fig = plt.figure()\n",
    "ax = fig.add_subplot(111)\n",
    "cax = ax.matshow(conf_mat, cmap=plt.cm.Blues)\n",
    "fig.colorbar(cax)\n",
    "ax.set_xticklabels([''] + labels)\n",
    "ax.set_yticklabels([''] + labels)\n",
    "plt.xlabel('Predicted')\n",
    "plt.ylabel('Expected')\n",
    "plt.show()"
   ]
  },
  {
   "cell_type": "markdown",
   "metadata": {},
   "source": [
    "There are 224 reviews that are accurately classified and 55 reviews are improperly classified. About a third of the prediction is incorrect."
   ]
  },
  {
   "cell_type": "markdown",
   "metadata": {},
   "source": [
    "## Conclusion\n",
    "\n",
    "Online product reviews are a great source of information. From the business/sellers’ point of view. Online reviews can be used to gauge the consumers’ feedback on the products or services they are selling. However, since these online reviews are quite often overwhelming in terms of numbers and information, an intelligent system, capable of finding key insights (topics) from these reviews, will be of great help for both the consumers and the sellers.\n",
    "\n",
    "We explored the use of data visualization techniques common in data science, such as histograms and pyPlots, to gain a better understanding of the underlying distribution of data in our data set.\n",
    "\n",
    "As demonstrated above, the dataset had reviews of a musical euipment which included a guitar, microphone and possibly an amp. The sentiment of the the reviews were mostly possitive, and the positive reviews were longer in text than negative reviews.\n",
    "\n",
    "When modeling a dataset with highly unbalanced classes such as this, the classifier always \"predicts\" the most common class without performing any analysis of the features, which will have a high accuracy rate, which is obviously inaccurate. Oversampling and undersampling was done to determine which would produce a more reliable accuracy rate. As one would predict, oversampling produced the better scores using metrics suchs as precision, recall, and F1-scores, as well as confusion matrix."
   ]
  },
  {
   "cell_type": "code",
   "execution_count": null,
   "metadata": {},
   "outputs": [],
   "source": []
  }
 ],
 "metadata": {
  "kernelspec": {
   "display_name": "Python 3",
   "language": "python",
   "name": "python3"
  },
  "language_info": {
   "codemirror_mode": {
    "name": "ipython",
    "version": 3
   },
   "file_extension": ".py",
   "mimetype": "text/x-python",
   "name": "python",
   "nbconvert_exporter": "python",
   "pygments_lexer": "ipython3",
   "version": "3.7.1"
  }
 },
 "nbformat": 4,
 "nbformat_minor": 2
}
